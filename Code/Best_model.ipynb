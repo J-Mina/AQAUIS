{
 "cells": [
  {
   "attachments": {},
   "cell_type": "markdown",
   "metadata": {},
   "source": [
    "# Best Model, train for 100 epoch, NAdam, larger dataset.\n"
   ]
  },
  {
   "cell_type": "code",
   "execution_count": 1,
   "metadata": {},
   "outputs": [],
   "source": [
    "from pathlib import Path\n",
    "import pandas as pd\n",
    "\n",
    "from utils import *\n",
    "from dataloaders import *\n",
    "from data_preparation import *\n",
    "from allResNets import *\n",
    "from VGGs import *\n",
    "from MobileNetV3 import *\n",
    "from engine import *\n",
    "from efficientNet import *\n",
    "\n",
    "change_to_disk()\n",
    "data_dir = Path(\"clean_split_5k/\")\n",
    "models_path = Path('Models/')\n",
    "saves = Path('Trainning_results_saves/')"
   ]
  },
  {
   "cell_type": "code",
   "execution_count": 2,
   "metadata": {},
   "outputs": [],
   "source": [
    "data_transform = transforms.Compose([\n",
    "    # Resize our images to 224x224\n",
    "    transforms.Resize(size=(224, 224)),\n",
    "    \n",
    "    # Rotate the images randomly (just to make it as independent from the position of the pipeline)\n",
    "    transforms.RandomRotation(180),\n",
    "\n",
    "    # Random crop\n",
    "    #transforms.RandomCrop(140),\n",
    "\n",
    "    #Random horizontal flip\n",
    "    transforms.RandomHorizontalFlip(p=0.5),\n",
    "\n",
    "    # Turn the image into a torch.Tensor\n",
    "    transforms.ToTensor(),\n",
    "\n",
    "    # Normalize\n",
    "    transforms.Normalize(mean=(0.5, 0.5, 0.5), std=(0.5, 0.5, 0.5))\n",
    "])\n",
    "\n",
    "BATCH_SIZE = 64\n",
    "train_dl, validation_dl, test_dl, train_data, validation_data, test_data, class_names = create_dataloaders(data_dir, data_transform, batch_size = BATCH_SIZE)"
   ]
  },
  {
   "cell_type": "code",
   "execution_count": 3,
   "metadata": {},
   "outputs": [],
   "source": [
    "# Things to play with\n",
    "# Hyperparameters -> NUM_EPOCHS - 100 | Learning_rate - 0.001 \n",
    "# Functions -> Optimizer - Rprop | Loss Function - Cross Entropy Loss\n",
    "\n",
    "NUM_EPOCHS = 150\n",
    "lr = 0.001\n",
    "device = get_device()\n",
    "\n",
    "mobnet_sml = MobileNetV3(\"small\")\n",
    "\n",
    "loss_fn = nn.CrossEntropyLoss()\n",
    "nadam_optim = torch.optim.NAdam(params=mobnet_sml.parameters(), lr=lr)"
   ]
  },
  {
   "cell_type": "code",
   "execution_count": 4,
   "metadata": {},
   "outputs": [
    {
     "ename": "SyntaxError",
     "evalue": "positional argument follows keyword argument (4277160769.py, line 3)",
     "output_type": "error",
     "traceback": [
      "\u001b[1;36m  File \u001b[1;32m\"C:\\Users\\joaor\\AppData\\Local\\Temp\\ipykernel_17028\\4277160769.py\"\u001b[1;36m, line \u001b[1;32m3\u001b[0m\n\u001b[1;33m    train_mobnet_sml_results, train_time_mobnet_sml = train(mobnet_sml, train_dl, validation_dl, optimizer=nadam_optim, loss_fn=loss_fn, epochs=NUM_EPOCHS, save_name, device=device)\u001b[0m\n\u001b[1;37m                                                                                                                                                                                    ^\u001b[0m\n\u001b[1;31mSyntaxError\u001b[0m\u001b[1;31m:\u001b[0m positional argument follows keyword argument\n"
     ]
    }
   ],
   "source": [
    "mobnet_sml.to(device)\n",
    "save_name = \"mobnet_sml\"\n",
    "train_mobnet_sml_results, train_time_mobnet_sml = train(mobnet_sml, train_dl, validation_dl, optimizer=nadam_optim, loss_fn=loss_fn, epochs=NUM_EPOCHS, name_save=save_name, device=device)"
   ]
  },
  {
   "cell_type": "code",
   "execution_count": null,
   "metadata": {},
   "outputs": [],
   "source": [
    "eval_mobnet_sml_results = eval_model(mobnet_sml, test_dl, loss_fn = loss_fn, accuracy_fn=accuracy_fn, device = device, dummy_input= torch.rand(32,3,224,224).to(device))"
   ]
  },
  {
   "cell_type": "code",
   "execution_count": null,
   "metadata": {},
   "outputs": [],
   "source": [
    "plot_loss_curves(train_mobnet_sml_results,\"MobileNet V3 Small\")"
   ]
  },
  {
   "cell_type": "code",
   "execution_count": null,
   "metadata": {},
   "outputs": [],
   "source": [
    "plot_confusion_matrix(mobnet_sml, test_dl, device, class_names, \"MobileNetV3 Small\")"
   ]
  }
 ],
 "metadata": {
  "kernelspec": {
   "display_name": "base",
   "language": "python",
   "name": "python3"
  },
  "language_info": {
   "codemirror_mode": {
    "name": "ipython",
    "version": 3
   },
   "file_extension": ".py",
   "mimetype": "text/x-python",
   "name": "python",
   "nbconvert_exporter": "python",
   "pygments_lexer": "ipython3",
   "version": "3.9.13"
  },
  "orig_nbformat": 4
 },
 "nbformat": 4,
 "nbformat_minor": 2
}
