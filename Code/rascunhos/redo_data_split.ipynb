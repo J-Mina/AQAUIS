{
 "cells": [
  {
   "cell_type": "code",
   "execution_count": 1,
   "metadata": {},
   "outputs": [],
   "source": [
    "import cv2\n",
    "from pathlib import Path\n",
    "from data_preparation import *\n",
    "from utils import *\n",
    "from shutil import copy"
   ]
  },
  {
   "cell_type": "code",
   "execution_count": 2,
   "metadata": {},
   "outputs": [
    {
     "name": "stdout",
     "output_type": "stream",
     "text": [
      "There are 5 directories and 0 frames in 'dataset'.\n",
      "There are 0 directories and 22440 frames in 'dataset\\1_Very_Good'.\n",
      "There are 0 directories and 22486 frames in 'dataset\\2_Good'.\n",
      "There are 0 directories and 44942 frames in 'dataset\\3_Moderate'.\n",
      "There are 0 directories and 44930 frames in 'dataset\\4_Poor'.\n",
      "There are 0 directories and 22450 frames in 'dataset\\5_Very_Poor'.\n"
     ]
    }
   ],
   "source": [
    "change_to_disk()\n",
    "\n",
    "dataset_frames = Path(\"dataset/\")\n",
    "\n",
    "walk_through_dir(dataset_frames)"
   ]
  },
  {
   "cell_type": "code",
   "execution_count": 3,
   "metadata": {},
   "outputs": [],
   "source": [
    "# dir_val_test = Path(\"split_train_val_test_1/val_test/\")\n",
    "# dir_train = Path(\"split_train_val_test_1/train/\")\n",
    "\n",
    "# for dir in dataset_frames.iterdir():\n",
    "#     vis = Path(dir.parts[1] + \"/\")\n",
    "#     dir = str(dir)\n",
    "    \n",
    "    \n",
    "#     frames_1k_100_999 = glob.glob(dir + \"/*frame[0-9][0-9][0-9].png\")\n",
    "#     frames_1k_10_99 = glob.glob(dir + \"/*frame[0-9][0-9].png\")\n",
    "#     frames_1k_0_9 = glob.glob(dir + \"/*frame[0-9].png\")\n",
    "#     frames_val_test = frames_1k_0_9 + frames_1k_10_99 + frames_1k_100_999\n",
    "#     frames_train = glob.glob(dir + \"/*frame[2-9][0-9][0-9][0-9].png\")\n",
    "\n",
    "#     inp = dir_train / vis\n",
    "\n",
    "#     inp = str(inp)\n",
    "#     for frame in frames_train:\n",
    "#         copy(frame, inp)\n",
    "\n",
    "#     inp = dir_val_test / vis\n",
    "\n",
    "#     inp = str(inp)\n",
    "#     for frame in frames_val_test:\n",
    "#         copy(frame, inp)\n",
    "\n",
    "    "
   ]
  },
  {
   "cell_type": "code",
   "execution_count": 4,
   "metadata": {},
   "outputs": [
    {
     "name": "stdout",
     "output_type": "stream",
     "text": [
      "new_split_1k\\train does not exist, creating one...\n",
      "new_split_1k\\validation does not exist, creating one...\n",
      "new_split_1k\\test does not exist, creating one...\n",
      "new_split_1k\\train\\1_Very_Good does not exist, creating one...\n",
      "Split trainning data\n",
      "new_split_1k\\train\\2_Good does not exist, creating one...\n",
      "Split trainning data\n",
      "new_split_1k\\train\\3_Moderate does not exist, creating one...\n",
      "Split trainning data\n",
      "new_split_1k\\train\\4_Poor does not exist, creating one...\n",
      "Split trainning data\n",
      "new_split_1k\\train\\5_Very_Poor does not exist, creating one...\n",
      "Split trainning data\n",
      "new_split_1k\\test\\5_Very_Poor does not exist, creating one...\n",
      "new_split_1k\\validation\\5_Very_Poor does not exist, creating one...\n",
      "Split Validation/testing data\n",
      "new_split_1k\\test\\1_Very_Good does not exist, creating one...\n",
      "new_split_1k\\validation\\1_Very_Good does not exist, creating one...\n",
      "Split Validation/testing data\n",
      "new_split_1k\\test\\2_Good does not exist, creating one...\n",
      "new_split_1k\\validation\\2_Good does not exist, creating one...\n",
      "Split Validation/testing data\n",
      "new_split_1k\\test\\3_Moderate does not exist, creating one...\n",
      "new_split_1k\\validation\\3_Moderate does not exist, creating one...\n",
      "Split Validation/testing data\n",
      "new_split_1k\\test\\4_Poor does not exist, creating one...\n",
      "new_split_1k\\validation\\4_Poor does not exist, creating one...\n",
      "Split Validation/testing data\n"
     ]
    }
   ],
   "source": [
    "data_folder = Path(\"new_split_1k\")\n",
    "check_dir(data_folder)\n",
    "\n",
    "data_source_train = Path(\"split_train_val_test_1/train/\")\n",
    "data_source_val_test = Path(\"split_train_val_test_1/val_test/\")\n",
    "split_size = [0.8,0.1,0.1]\n",
    "\n",
    "#split_data_dif(data_source_train, data_source_val_test, data_folder,split_size,num_img_class = 1000)"
   ]
  },
  {
   "cell_type": "code",
   "execution_count": 5,
   "metadata": {},
   "outputs": [
    {
     "name": "stdout",
     "output_type": "stream",
     "text": [
      "There are 3 directories and 0 frames in 'new_split_1k'.\n",
      "There are 5 directories and 0 frames in 'new_split_1k\\train'.\n",
      "There are 0 directories and 800 frames in 'new_split_1k\\train\\1_Very_Good'.\n",
      "There are 0 directories and 800 frames in 'new_split_1k\\train\\2_Good'.\n",
      "There are 0 directories and 800 frames in 'new_split_1k\\train\\3_Moderate'.\n",
      "There are 0 directories and 800 frames in 'new_split_1k\\train\\4_Poor'.\n",
      "There are 0 directories and 800 frames in 'new_split_1k\\train\\5_Very_Poor'.\n",
      "There are 5 directories and 0 frames in 'new_split_1k\\validation'.\n",
      "There are 0 directories and 100 frames in 'new_split_1k\\validation\\5_Very_Poor'.\n",
      "There are 0 directories and 100 frames in 'new_split_1k\\validation\\1_Very_Good'.\n",
      "There are 0 directories and 100 frames in 'new_split_1k\\validation\\2_Good'.\n",
      "There are 0 directories and 100 frames in 'new_split_1k\\validation\\3_Moderate'.\n",
      "There are 0 directories and 100 frames in 'new_split_1k\\validation\\4_Poor'.\n",
      "There are 5 directories and 0 frames in 'new_split_1k\\test'.\n",
      "There are 0 directories and 100 frames in 'new_split_1k\\test\\5_Very_Poor'.\n",
      "There are 0 directories and 100 frames in 'new_split_1k\\test\\1_Very_Good'.\n",
      "There are 0 directories and 100 frames in 'new_split_1k\\test\\2_Good'.\n",
      "There are 0 directories and 100 frames in 'new_split_1k\\test\\3_Moderate'.\n",
      "There are 0 directories and 100 frames in 'new_split_1k\\test\\4_Poor'.\n"
     ]
    }
   ],
   "source": [
    "walk_through_dir(\"new_split_1k\")"
   ]
  }
 ],
 "metadata": {
  "kernelspec": {
   "display_name": "base",
   "language": "python",
   "name": "python3"
  },
  "language_info": {
   "codemirror_mode": {
    "name": "ipython",
    "version": 3
   },
   "file_extension": ".py",
   "mimetype": "text/x-python",
   "name": "python",
   "nbconvert_exporter": "python",
   "pygments_lexer": "ipython3",
   "version": "3.9.13"
  },
  "orig_nbformat": 4,
  "vscode": {
   "interpreter": {
    "hash": "15b211d7ad94b52292045efb4f8f9084eab8b035832c108b93ce5f33d27f5980"
   }
  }
 },
 "nbformat": 4,
 "nbformat_minor": 2
}
