{
 "cells": [
  {
   "cell_type": "code",
   "execution_count": 1,
   "metadata": {},
   "outputs": [],
   "source": [
    "from pathlib import Path\n",
    "import pandas as pd\n",
    "\n",
    "from utils import *\n",
    "from dataloaders import *\n",
    "from data_preparation import *\n",
    "from allResNets import *\n",
    "from MobileNetV3 import *\n",
    "from engine import *\n",
    "from efficientNet import *\n",
    "from data_transforms import *\n",
    "\n",
    "change_to_disk()\n",
    "data_dir = Path(\"clean_split_1k/\")\n",
    "models_path = Path('Models_1/')\n",
    "check_dir(models_path)"
   ]
  },
  {
   "cell_type": "code",
   "execution_count": 2,
   "metadata": {},
   "outputs": [],
   "source": [
    "image_shape = (1080, 1920)\n",
    "resize_factor = 0.3\n",
    "resize = np.multiply(image_shape,resize_factor)\n",
    "resize = [int(resize[0]), int(resize[1])]\n",
    "\n",
    "data_transform = create_transform(resize=resize, rotate=10, flip_h = True, color_dev=True, transf_tensor=True, normalize=True, sp_noise=True, gauss_noise=True)\n",
    "\n",
    "BATCH_SIZE = 16\n",
    "train_dl, validation_dl, test_dl, train_data, validation_data, test_data, class_names = create_dataloaders(data_dir, data_transform, batch_size = BATCH_SIZE)"
   ]
  },
  {
   "cell_type": "code",
   "execution_count": 3,
   "metadata": {},
   "outputs": [],
   "source": [
    "NUM_EPOCHS = 100\n",
    "lr = 0.001\n",
    "device = get_device()\n",
    "\n",
    "resnet18 = ResNet18()\n",
    "resnet50 = ResNet50()\n",
    "mobnet_sml = MobileNetSmall()\n",
    "mobnet_lrg = MobileNetLarge()\n",
    "effnetb0 = EfficientNetB0()\n",
    "\n",
    "loss_fn = nn.CrossEntropyLoss()"
   ]
  },
  {
   "cell_type": "code",
   "execution_count": 8,
   "metadata": {},
   "outputs": [
    {
     "data": {
      "application/vnd.jupyter.widget-view+json": {
       "model_id": "341801f6822c43038486adb5cf17323f",
       "version_major": 2,
       "version_minor": 0
      },
      "text/plain": [
       "  0%|          | 0/100 [00:00<?, ?it/s]"
      ]
     },
     "metadata": {},
     "output_type": "display_data"
    },
    {
     "name": "stdout",
     "output_type": "stream",
     "text": [
      "Epoch: 1 | train_loss: 1.0144 | train_acc: 0.5623 | validation_loss: 0.7825 | validation_acc: 0.6543\n",
      "Epoch: 2 | train_loss: 0.6989 | train_acc: 0.6873 | validation_loss: 0.7271 | validation_acc: 0.6836\n",
      "Epoch: 3 | train_loss: 0.6328 | train_acc: 0.7225 | validation_loss: 1.9663 | validation_acc: 0.4609\n",
      "Epoch: 4 | train_loss: 0.5559 | train_acc: 0.7585 | validation_loss: 3.1090 | validation_acc: 0.4551\n",
      "Epoch: 5 | train_loss: 0.4731 | train_acc: 0.7985 | validation_loss: 0.8597 | validation_acc: 0.6523\n",
      "Epoch: 6 | train_loss: 0.4698 | train_acc: 0.7957 | validation_loss: 0.6161 | validation_acc: 0.7305\n",
      "Epoch: 7 | train_loss: 0.3937 | train_acc: 0.8375 | validation_loss: 1.9131 | validation_acc: 0.5703\n",
      "Epoch: 8 | train_loss: 0.3703 | train_acc: 0.8485 | validation_loss: 0.7428 | validation_acc: 0.7422\n",
      "Epoch: 9 | train_loss: 0.3264 | train_acc: 0.8702 | validation_loss: 21.4177 | validation_acc: 0.3516\n",
      "Epoch: 10 | train_loss: 0.3325 | train_acc: 0.8695 | validation_loss: 0.5615 | validation_acc: 0.7715\n",
      "Epoch: 11 | train_loss: 0.2921 | train_acc: 0.8845 | validation_loss: 0.8651 | validation_acc: 0.7578\n",
      "Epoch: 12 | train_loss: 0.2683 | train_acc: 0.8968 | validation_loss: 2.8010 | validation_acc: 0.5781\n",
      "Epoch: 13 | train_loss: 0.2685 | train_acc: 0.8952 | validation_loss: 0.4613 | validation_acc: 0.7891\n",
      "Epoch: 14 | train_loss: 0.2354 | train_acc: 0.9103 | validation_loss: 0.8504 | validation_acc: 0.7520\n",
      "Epoch: 15 | train_loss: 0.2259 | train_acc: 0.9157 | validation_loss: 0.6747 | validation_acc: 0.7715\n",
      "Epoch: 16 | train_loss: 0.1965 | train_acc: 0.9250 | validation_loss: 0.6380 | validation_acc: 0.7891\n",
      "Epoch: 17 | train_loss: 0.2165 | train_acc: 0.9130 | validation_loss: 0.9744 | validation_acc: 0.6895\n",
      "Epoch: 18 | train_loss: 0.2009 | train_acc: 0.9177 | validation_loss: 2.2441 | validation_acc: 0.7051\n",
      "Epoch: 19 | train_loss: 0.2006 | train_acc: 0.9280 | validation_loss: 4.8067 | validation_acc: 0.5410\n",
      "Epoch: 20 | train_loss: 0.1999 | train_acc: 0.9265 | validation_loss: 0.8854 | validation_acc: 0.7441\n",
      "Epoch: 21 | train_loss: 0.1648 | train_acc: 0.9370 | validation_loss: 0.6456 | validation_acc: 0.8027\n",
      "Epoch: 22 | train_loss: 0.1671 | train_acc: 0.9357 | validation_loss: 0.6069 | validation_acc: 0.7734\n",
      "Epoch: 23 | train_loss: 0.1731 | train_acc: 0.9310 | validation_loss: 0.9880 | validation_acc: 0.7715\n",
      "Epoch: 24 | train_loss: 0.1745 | train_acc: 0.9353 | validation_loss: 0.7663 | validation_acc: 0.7441\n",
      "Epoch: 25 | train_loss: 0.1545 | train_acc: 0.9380 | validation_loss: 0.5579 | validation_acc: 0.7812\n",
      "Epoch: 26 | train_loss: 0.1799 | train_acc: 0.9307 | validation_loss: 0.6880 | validation_acc: 0.7734\n",
      "Epoch: 27 | train_loss: 0.1550 | train_acc: 0.9405 | validation_loss: 1.0819 | validation_acc: 0.7168\n",
      "Epoch: 28 | train_loss: 0.1441 | train_acc: 0.9485 | validation_loss: 0.4752 | validation_acc: 0.8281\n",
      "Epoch: 29 | train_loss: 0.1432 | train_acc: 0.9500 | validation_loss: 0.7687 | validation_acc: 0.7734\n",
      "Epoch: 30 | train_loss: 0.1429 | train_acc: 0.9455 | validation_loss: 0.7680 | validation_acc: 0.7500\n",
      "Epoch: 31 | train_loss: 0.1329 | train_acc: 0.9503 | validation_loss: 0.7183 | validation_acc: 0.7637\n",
      "Epoch: 32 | train_loss: 0.1406 | train_acc: 0.9495 | validation_loss: 0.5431 | validation_acc: 0.8086\n",
      "Epoch: 33 | train_loss: 0.1314 | train_acc: 0.9520 | validation_loss: 0.7831 | validation_acc: 0.7676\n",
      "Epoch: 34 | train_loss: 0.1384 | train_acc: 0.9473 | validation_loss: 0.4231 | validation_acc: 0.8535\n",
      "Epoch: 35 | train_loss: 0.1248 | train_acc: 0.9560 | validation_loss: 0.7380 | validation_acc: 0.7500\n",
      "Epoch: 36 | train_loss: 0.1221 | train_acc: 0.9547 | validation_loss: 0.5723 | validation_acc: 0.8223\n",
      "Epoch: 37 | train_loss: 0.1192 | train_acc: 0.9553 | validation_loss: 1.5315 | validation_acc: 0.7441\n",
      "Epoch: 38 | train_loss: 0.1384 | train_acc: 0.9443 | validation_loss: 0.5164 | validation_acc: 0.8633\n",
      "Epoch: 39 | train_loss: 0.1191 | train_acc: 0.9557 | validation_loss: 0.5129 | validation_acc: 0.8262\n",
      "Epoch: 40 | train_loss: 0.1173 | train_acc: 0.9577 | validation_loss: 0.4833 | validation_acc: 0.8516\n",
      "Epoch: 41 | train_loss: 0.1156 | train_acc: 0.9587 | validation_loss: 0.5574 | validation_acc: 0.8301\n",
      "Epoch: 42 | train_loss: 0.1068 | train_acc: 0.9610 | validation_loss: 0.8714 | validation_acc: 0.7988\n",
      "Epoch: 43 | train_loss: 0.1067 | train_acc: 0.9643 | validation_loss: 0.7117 | validation_acc: 0.8008\n",
      "Epoch: 44 | train_loss: 0.1008 | train_acc: 0.9633 | validation_loss: 0.5531 | validation_acc: 0.8359\n",
      "Epoch: 45 | train_loss: 0.1003 | train_acc: 0.9627 | validation_loss: 0.5600 | validation_acc: 0.8398\n",
      "Epoch: 46 | train_loss: 0.1014 | train_acc: 0.9627 | validation_loss: 0.8703 | validation_acc: 0.7910\n",
      "Epoch: 47 | train_loss: 0.1094 | train_acc: 0.9615 | validation_loss: 0.4060 | validation_acc: 0.8965\n",
      "Epoch: 48 | train_loss: 0.0861 | train_acc: 0.9698 | validation_loss: 0.6556 | validation_acc: 0.8379\n",
      "Epoch: 49 | train_loss: 0.1403 | train_acc: 0.9503 | validation_loss: 0.4534 | validation_acc: 0.8613\n",
      "Epoch: 50 | train_loss: 0.0950 | train_acc: 0.9670 | validation_loss: 0.4181 | validation_acc: 0.8672\n",
      "Epoch: 51 | train_loss: 0.0841 | train_acc: 0.9698 | validation_loss: 0.7684 | validation_acc: 0.7910\n",
      "Epoch: 52 | train_loss: 0.0906 | train_acc: 0.9683 | validation_loss: 1.0730 | validation_acc: 0.7949\n",
      "Epoch: 53 | train_loss: 0.0874 | train_acc: 0.9685 | validation_loss: 0.7511 | validation_acc: 0.7949\n",
      "Epoch: 54 | train_loss: 0.0855 | train_acc: 0.9665 | validation_loss: 0.3437 | validation_acc: 0.8633\n",
      "Epoch: 55 | train_loss: 0.0842 | train_acc: 0.9695 | validation_loss: 0.6682 | validation_acc: 0.8359\n",
      "Epoch: 56 | train_loss: 0.0919 | train_acc: 0.9680 | validation_loss: 0.3628 | validation_acc: 0.8770\n",
      "Epoch: 57 | train_loss: 0.0760 | train_acc: 0.9722 | validation_loss: 0.9313 | validation_acc: 0.7891\n",
      "Epoch: 58 | train_loss: 0.0869 | train_acc: 0.9685 | validation_loss: 1.9056 | validation_acc: 0.7246\n",
      "Epoch: 59 | train_loss: 0.0844 | train_acc: 0.9710 | validation_loss: 0.4628 | validation_acc: 0.8594\n",
      "Epoch: 60 | train_loss: 0.0863 | train_acc: 0.9665 | validation_loss: 0.4963 | validation_acc: 0.8398\n",
      "Epoch: 61 | train_loss: 0.0775 | train_acc: 0.9720 | validation_loss: 0.7419 | validation_acc: 0.8301\n",
      "Epoch: 62 | train_loss: 0.0809 | train_acc: 0.9698 | validation_loss: 0.5003 | validation_acc: 0.8633\n",
      "Epoch: 63 | train_loss: 0.0732 | train_acc: 0.9715 | validation_loss: 0.8154 | validation_acc: 0.7930\n",
      "Epoch: 64 | train_loss: 0.0767 | train_acc: 0.9728 | validation_loss: 0.4460 | validation_acc: 0.8672\n",
      "Epoch: 65 | train_loss: 0.0789 | train_acc: 0.9735 | validation_loss: 1.6007 | validation_acc: 0.7109\n",
      "Epoch: 66 | train_loss: 0.0729 | train_acc: 0.9718 | validation_loss: 0.4839 | validation_acc: 0.8672\n",
      "Epoch: 67 | train_loss: 0.0654 | train_acc: 0.9758 | validation_loss: 0.3886 | validation_acc: 0.8906\n",
      "Epoch: 68 | train_loss: 0.0641 | train_acc: 0.9742 | validation_loss: 0.3937 | validation_acc: 0.8789\n",
      "Epoch: 69 | train_loss: 0.0738 | train_acc: 0.9720 | validation_loss: 0.5565 | validation_acc: 0.8477\n",
      "Epoch: 70 | train_loss: 0.0739 | train_acc: 0.9745 | validation_loss: 0.3751 | validation_acc: 0.8828\n",
      "Epoch: 71 | train_loss: 0.0696 | train_acc: 0.9745 | validation_loss: 0.2804 | validation_acc: 0.9121\n",
      "Epoch: 72 | train_loss: 0.0667 | train_acc: 0.9745 | validation_loss: 0.6359 | validation_acc: 0.8418\n",
      "Epoch: 73 | train_loss: 0.0645 | train_acc: 0.9755 | validation_loss: 0.4613 | validation_acc: 0.8711\n",
      "Epoch: 74 | train_loss: 0.0592 | train_acc: 0.9780 | validation_loss: 0.9551 | validation_acc: 0.7656\n",
      "Epoch: 75 | train_loss: 0.0663 | train_acc: 0.9772 | validation_loss: 0.5786 | validation_acc: 0.8359\n",
      "Epoch: 76 | train_loss: 0.0546 | train_acc: 0.9810 | validation_loss: 0.6494 | validation_acc: 0.8105\n",
      "Epoch: 77 | train_loss: 0.0556 | train_acc: 0.9798 | validation_loss: 0.3178 | validation_acc: 0.8945\n",
      "Epoch: 78 | train_loss: 0.0605 | train_acc: 0.9785 | validation_loss: 0.4030 | validation_acc: 0.9023\n",
      "Epoch: 79 | train_loss: 0.0608 | train_acc: 0.9768 | validation_loss: 0.2480 | validation_acc: 0.9238\n",
      "Epoch: 80 | train_loss: 0.0666 | train_acc: 0.9758 | validation_loss: 1.1231 | validation_acc: 0.7441\n",
      "Epoch: 81 | train_loss: 0.0597 | train_acc: 0.9812 | validation_loss: 0.6183 | validation_acc: 0.8496\n",
      "Epoch: 82 | train_loss: 0.0485 | train_acc: 0.9830 | validation_loss: 1.1966 | validation_acc: 0.7734\n",
      "Epoch: 83 | train_loss: 0.0619 | train_acc: 0.9792 | validation_loss: 1.2857 | validation_acc: 0.7734\n",
      "Epoch: 84 | train_loss: 0.0559 | train_acc: 0.9808 | validation_loss: 0.3982 | validation_acc: 0.8887\n",
      "Epoch: 85 | train_loss: 0.0533 | train_acc: 0.9802 | validation_loss: 0.4032 | validation_acc: 0.8887\n",
      "Epoch: 86 | train_loss: 0.0614 | train_acc: 0.9790 | validation_loss: 0.8034 | validation_acc: 0.8184\n",
      "Epoch: 87 | train_loss: 0.0552 | train_acc: 0.9790 | validation_loss: 0.4286 | validation_acc: 0.8711\n",
      "Epoch: 88 | train_loss: 0.0597 | train_acc: 0.9810 | validation_loss: 0.2981 | validation_acc: 0.9180\n",
      "Epoch: 89 | train_loss: 0.0478 | train_acc: 0.9815 | validation_loss: 1.1467 | validation_acc: 0.8066\n",
      "Epoch: 90 | train_loss: 0.0540 | train_acc: 0.9828 | validation_loss: 0.8984 | validation_acc: 0.8223\n",
      "Epoch: 91 | train_loss: 0.0455 | train_acc: 0.9845 | validation_loss: 0.3307 | validation_acc: 0.9062\n",
      "Epoch: 92 | train_loss: 0.0626 | train_acc: 0.9782 | validation_loss: 4.7146 | validation_acc: 0.6855\n",
      "Epoch: 93 | train_loss: 0.0631 | train_acc: 0.9762 | validation_loss: 0.5192 | validation_acc: 0.8691\n",
      "Epoch: 94 | train_loss: 0.0395 | train_acc: 0.9848 | validation_loss: 1.0517 | validation_acc: 0.7676\n",
      "Epoch: 95 | train_loss: 0.0458 | train_acc: 0.9832 | validation_loss: 0.4067 | validation_acc: 0.8770\n",
      "Epoch: 96 | train_loss: 0.0458 | train_acc: 0.9845 | validation_loss: 0.6220 | validation_acc: 0.8379\n",
      "Epoch: 97 | train_loss: 0.0376 | train_acc: 0.9865 | validation_loss: 0.6644 | validation_acc: 0.8223\n",
      "Epoch: 98 | train_loss: 0.0428 | train_acc: 0.9860 | validation_loss: 0.6874 | validation_acc: 0.8535\n",
      "Epoch: 99 | train_loss: 0.0478 | train_acc: 0.9832 | validation_loss: 0.6183 | validation_acc: 0.8750\n",
      "Epoch: 100 | train_loss: 0.0452 | train_acc: 0.9842 | validation_loss: 0.7021 | validation_acc: 0.8320\n"
     ]
    }
   ],
   "source": [
    "model_name = \"ResNet18\"\n",
    "model_folder_path = models_path / model_name\n",
    "check_dir(model_folder_path)\n",
    "model_name_folder_path = model_folder_path / model_name\n",
    "\n",
    "#Train ResNet18\n",
    "resnet18.to(device)\n",
    "nadam_optim = torch.optim.NAdam(params=resnet18.parameters(), lr=lr)\n",
    "train_resnet18_results, train_time_resnet18 = train(resnet18, train_dl, validation_dl, optimizer=nadam_optim, loss_fn=loss_fn, epochs=NUM_EPOCHS, name_save=model_name_folder_path, device=device)"
   ]
  },
  {
   "cell_type": "code",
   "execution_count": 9,
   "metadata": {},
   "outputs": [
    {
     "data": {
      "application/vnd.jupyter.widget-view+json": {
       "model_id": "4eeaaf40f4f1436d9d59af1304bd66c6",
       "version_major": 2,
       "version_minor": 0
      },
      "text/plain": [
       "  0%|          | 0/32 [00:02<?, ?it/s]"
      ]
     },
     "metadata": {},
     "output_type": "display_data"
    }
   ],
   "source": [
    "eval_resnet18_results = eval_model(resnet18, test_dl, loss_fn = loss_fn, accuracy_fn=accuracy_fn, device = device, dummy_input= torch.rand(32,3,224,224).to(device))\n",
    "resnet18_results = [train_resnet18_results, train_time_resnet18, eval_resnet18_results]\n",
    "final_save(model_folder_path,model_name, NUM_EPOCHS, resnet18, resnet18_results)"
   ]
  },
  {
   "cell_type": "code",
   "execution_count": 5,
   "metadata": {},
   "outputs": [
    {
     "name": "stdout",
     "output_type": "stream",
     "text": [
      "Models_1\\ResNet50 does not exist, creating one...\n"
     ]
    },
    {
     "data": {
      "application/vnd.jupyter.widget-view+json": {
       "model_id": "b2153ce233f5402f96ac8faa63ca4010",
       "version_major": 2,
       "version_minor": 0
      },
      "text/plain": [
       "  0%|          | 0/100 [00:00<?, ?it/s]"
      ]
     },
     "metadata": {},
     "output_type": "display_data"
    },
    {
     "name": "stdout",
     "output_type": "stream",
     "text": [
      "Epoch: 1 | train_loss: 1.5097 | train_acc: 0.3332 | validation_loss: 1.9258 | validation_acc: 0.3730\n",
      "Epoch: 2 | train_loss: 1.1713 | train_acc: 0.4778 | validation_loss: 2.5119 | validation_acc: 0.3125\n",
      "Epoch: 3 | train_loss: 1.0093 | train_acc: 0.5567 | validation_loss: 7.7010 | validation_acc: 0.3320\n",
      "Epoch: 4 | train_loss: 0.8853 | train_acc: 0.5905 | validation_loss: 8.5414 | validation_acc: 0.1973\n",
      "Epoch: 5 | train_loss: 0.8283 | train_acc: 0.6252 | validation_loss: 7.2213 | validation_acc: 0.3125\n",
      "Epoch: 6 | train_loss: 0.8092 | train_acc: 0.6295 | validation_loss: 9.0424 | validation_acc: 0.2480\n",
      "Epoch: 7 | train_loss: 0.7898 | train_acc: 0.6388 | validation_loss: 1.4425 | validation_acc: 0.5488\n",
      "Epoch: 8 | train_loss: 0.7186 | train_acc: 0.6750 | validation_loss: 13.0369 | validation_acc: 0.3594\n",
      "Epoch: 9 | train_loss: 0.7510 | train_acc: 0.6667 | validation_loss: 1.7984 | validation_acc: 0.5293\n",
      "Epoch: 10 | train_loss: 0.6823 | train_acc: 0.6890 | validation_loss: 1.6425 | validation_acc: 0.5957\n",
      "Epoch: 11 | train_loss: 0.6669 | train_acc: 0.7073 | validation_loss: 12.9101 | validation_acc: 0.3516\n",
      "Epoch: 12 | train_loss: 0.6420 | train_acc: 0.7240 | validation_loss: 0.9135 | validation_acc: 0.6855\n",
      "Epoch: 13 | train_loss: 0.6142 | train_acc: 0.7320 | validation_loss: 16.1753 | validation_acc: 0.2676\n",
      "Epoch: 14 | train_loss: 0.6620 | train_acc: 0.7248 | validation_loss: 13.5335 | validation_acc: 0.3418\n",
      "Epoch: 15 | train_loss: 0.5810 | train_acc: 0.7402 | validation_loss: 1.2098 | validation_acc: 0.5977\n",
      "Epoch: 16 | train_loss: 0.5797 | train_acc: 0.7448 | validation_loss: 0.6369 | validation_acc: 0.7344\n",
      "Epoch: 17 | train_loss: 0.5396 | train_acc: 0.7705 | validation_loss: 3.5716 | validation_acc: 0.4941\n",
      "Epoch: 18 | train_loss: 0.5497 | train_acc: 0.7618 | validation_loss: 2.0174 | validation_acc: 0.5879\n",
      "Epoch: 19 | train_loss: 0.4997 | train_acc: 0.7865 | validation_loss: 1.4548 | validation_acc: 0.6465\n",
      "Epoch: 20 | train_loss: 0.4901 | train_acc: 0.7903 | validation_loss: 6.1603 | validation_acc: 0.4629\n",
      "Epoch: 21 | train_loss: 0.4695 | train_acc: 0.7980 | validation_loss: 7.0960 | validation_acc: 0.3887\n",
      "Epoch: 22 | train_loss: 0.4224 | train_acc: 0.8257 | validation_loss: 0.5684 | validation_acc: 0.7656\n",
      "Epoch: 23 | train_loss: 0.4099 | train_acc: 0.8330 | validation_loss: 11.8756 | validation_acc: 0.2988\n",
      "Epoch: 24 | train_loss: 0.4476 | train_acc: 0.8203 | validation_loss: 10.8263 | validation_acc: 0.2832\n",
      "Epoch: 25 | train_loss: 0.4207 | train_acc: 0.8230 | validation_loss: 4.9352 | validation_acc: 0.4570\n",
      "Epoch: 26 | train_loss: 0.3545 | train_acc: 0.8552 | validation_loss: 0.8173 | validation_acc: 0.6426\n",
      "Epoch: 27 | train_loss: 0.3455 | train_acc: 0.8598 | validation_loss: 3.7792 | validation_acc: 0.5508\n",
      "Epoch: 28 | train_loss: 0.3491 | train_acc: 0.8578 | validation_loss: 5.2927 | validation_acc: 0.4844\n",
      "Epoch: 29 | train_loss: 0.3518 | train_acc: 0.8552 | validation_loss: 6.2262 | validation_acc: 0.4707\n",
      "Epoch: 30 | train_loss: 0.3386 | train_acc: 0.8630 | validation_loss: 5.4917 | validation_acc: 0.5352\n",
      "Epoch: 31 | train_loss: 0.3360 | train_acc: 0.8638 | validation_loss: 0.8998 | validation_acc: 0.7441\n",
      "Epoch: 32 | train_loss: 0.3418 | train_acc: 0.8680 | validation_loss: 1.6459 | validation_acc: 0.6465\n",
      "Epoch: 33 | train_loss: 0.3035 | train_acc: 0.8725 | validation_loss: 2.9847 | validation_acc: 0.5723\n",
      "Epoch: 34 | train_loss: 0.3015 | train_acc: 0.8802 | validation_loss: 2.8497 | validation_acc: 0.5723\n",
      "Epoch: 35 | train_loss: 0.2919 | train_acc: 0.8845 | validation_loss: 1.0748 | validation_acc: 0.6055\n",
      "Epoch: 36 | train_loss: 0.2763 | train_acc: 0.8878 | validation_loss: 0.6832 | validation_acc: 0.7402\n",
      "Epoch: 37 | train_loss: 0.2585 | train_acc: 0.8972 | validation_loss: 14.7703 | validation_acc: 0.3691\n",
      "Epoch: 38 | train_loss: 0.2626 | train_acc: 0.8928 | validation_loss: 3.8213 | validation_acc: 0.5977\n",
      "Epoch: 39 | train_loss: 0.2823 | train_acc: 0.8898 | validation_loss: 0.6450 | validation_acc: 0.7578\n",
      "Epoch: 40 | train_loss: 0.2485 | train_acc: 0.9075 | validation_loss: 1.6184 | validation_acc: 0.6133\n",
      "Epoch: 41 | train_loss: 0.2507 | train_acc: 0.8975 | validation_loss: 0.7582 | validation_acc: 0.7539\n",
      "Epoch: 42 | train_loss: 0.2473 | train_acc: 0.9038 | validation_loss: 17.1444 | validation_acc: 0.3711\n",
      "Epoch: 43 | train_loss: 0.2534 | train_acc: 0.8995 | validation_loss: 8.1751 | validation_acc: 0.4766\n",
      "Epoch: 44 | train_loss: 0.2524 | train_acc: 0.8992 | validation_loss: 1.8377 | validation_acc: 0.6582\n",
      "Epoch: 45 | train_loss: 0.2540 | train_acc: 0.9022 | validation_loss: 6.1156 | validation_acc: 0.5234\n",
      "Epoch: 46 | train_loss: 0.2329 | train_acc: 0.9090 | validation_loss: 0.6995 | validation_acc: 0.7285\n",
      "Epoch: 47 | train_loss: 0.2345 | train_acc: 0.9087 | validation_loss: 0.8038 | validation_acc: 0.7305\n",
      "Epoch: 48 | train_loss: 0.2304 | train_acc: 0.9135 | validation_loss: 1.4819 | validation_acc: 0.6816\n",
      "Epoch: 49 | train_loss: 0.2405 | train_acc: 0.9052 | validation_loss: 23.3962 | validation_acc: 0.4160\n",
      "Epoch: 50 | train_loss: 0.2315 | train_acc: 0.9117 | validation_loss: 1.1288 | validation_acc: 0.6523\n",
      "Epoch: 51 | train_loss: 0.2113 | train_acc: 0.9167 | validation_loss: 7.3753 | validation_acc: 0.4492\n",
      "Epoch: 52 | train_loss: 0.2151 | train_acc: 0.9177 | validation_loss: 4.3887 | validation_acc: 0.5547\n",
      "Epoch: 53 | train_loss: 0.2045 | train_acc: 0.9247 | validation_loss: 8.7190 | validation_acc: 0.4512\n",
      "Epoch: 54 | train_loss: 0.2217 | train_acc: 0.9160 | validation_loss: 4.0337 | validation_acc: 0.6328\n",
      "Epoch: 55 | train_loss: 0.2129 | train_acc: 0.9157 | validation_loss: 0.8955 | validation_acc: 0.7539\n",
      "Epoch: 56 | train_loss: 0.2069 | train_acc: 0.9165 | validation_loss: 4.2381 | validation_acc: 0.5059\n",
      "Epoch: 57 | train_loss: 0.2400 | train_acc: 0.9123 | validation_loss: 1.1301 | validation_acc: 0.6719\n",
      "Epoch: 58 | train_loss: 0.2160 | train_acc: 0.9190 | validation_loss: 0.8357 | validation_acc: 0.7422\n",
      "Epoch: 59 | train_loss: 0.2049 | train_acc: 0.9180 | validation_loss: 1.5303 | validation_acc: 0.6543\n",
      "Epoch: 60 | train_loss: 0.1942 | train_acc: 0.9303 | validation_loss: 1.7150 | validation_acc: 0.6562\n",
      "Epoch: 61 | train_loss: 0.2164 | train_acc: 0.9175 | validation_loss: 2.3937 | validation_acc: 0.6582\n",
      "Epoch: 62 | train_loss: 0.2017 | train_acc: 0.9233 | validation_loss: 3.3215 | validation_acc: 0.5703\n",
      "Epoch: 63 | train_loss: 0.2009 | train_acc: 0.9270 | validation_loss: 2.0199 | validation_acc: 0.6348\n",
      "Epoch: 64 | train_loss: 0.1835 | train_acc: 0.9305 | validation_loss: 3.3520 | validation_acc: 0.6328\n",
      "Epoch: 65 | train_loss: 0.1865 | train_acc: 0.9315 | validation_loss: 3.3817 | validation_acc: 0.5957\n",
      "Epoch: 66 | train_loss: 0.1848 | train_acc: 0.9280 | validation_loss: 7.2215 | validation_acc: 0.4590\n",
      "Epoch: 67 | train_loss: 0.1934 | train_acc: 0.9327 | validation_loss: 14.4314 | validation_acc: 0.3828\n",
      "Epoch: 68 | train_loss: 0.1818 | train_acc: 0.9347 | validation_loss: 5.4685 | validation_acc: 0.4863\n",
      "Epoch: 69 | train_loss: 0.2128 | train_acc: 0.9197 | validation_loss: 1.3798 | validation_acc: 0.6074\n",
      "Epoch: 70 | train_loss: 0.1725 | train_acc: 0.9360 | validation_loss: 0.7918 | validation_acc: 0.7695\n",
      "Epoch: 71 | train_loss: 0.1915 | train_acc: 0.9293 | validation_loss: 0.9782 | validation_acc: 0.7441\n",
      "Epoch: 72 | train_loss: 0.1899 | train_acc: 0.9263 | validation_loss: 1.0509 | validation_acc: 0.6797\n",
      "Epoch: 73 | train_loss: 0.1671 | train_acc: 0.9403 | validation_loss: 1.1102 | validation_acc: 0.7012\n",
      "Epoch: 74 | train_loss: 0.1678 | train_acc: 0.9417 | validation_loss: 19.9770 | validation_acc: 0.3965\n",
      "Epoch: 75 | train_loss: 0.1676 | train_acc: 0.9373 | validation_loss: 2.7516 | validation_acc: 0.6641\n",
      "Epoch: 76 | train_loss: 0.1681 | train_acc: 0.9350 | validation_loss: 4.4792 | validation_acc: 0.6016\n",
      "Epoch: 77 | train_loss: 0.1739 | train_acc: 0.9347 | validation_loss: 3.0514 | validation_acc: 0.5957\n",
      "Epoch: 78 | train_loss: 0.1685 | train_acc: 0.9390 | validation_loss: 9.4664 | validation_acc: 0.5215\n",
      "Epoch: 79 | train_loss: 0.1771 | train_acc: 0.9313 | validation_loss: 29.7701 | validation_acc: 0.4277\n",
      "Epoch: 80 | train_loss: 0.1650 | train_acc: 0.9380 | validation_loss: 1.2155 | validation_acc: 0.7051\n",
      "Epoch: 81 | train_loss: 0.1625 | train_acc: 0.9413 | validation_loss: 1.2389 | validation_acc: 0.7207\n",
      "Epoch: 82 | train_loss: 0.1574 | train_acc: 0.9390 | validation_loss: 1.9075 | validation_acc: 0.6660\n",
      "Epoch: 83 | train_loss: 0.1652 | train_acc: 0.9335 | validation_loss: 1.6811 | validation_acc: 0.6543\n",
      "Epoch: 84 | train_loss: 0.1570 | train_acc: 0.9393 | validation_loss: 0.6466 | validation_acc: 0.7754\n",
      "Epoch: 85 | train_loss: 0.1521 | train_acc: 0.9417 | validation_loss: 1.7273 | validation_acc: 0.6660\n",
      "Epoch: 86 | train_loss: 0.1329 | train_acc: 0.9465 | validation_loss: 1.4796 | validation_acc: 0.7246\n",
      "Epoch: 87 | train_loss: 0.1566 | train_acc: 0.9370 | validation_loss: 3.0867 | validation_acc: 0.6133\n",
      "Epoch: 88 | train_loss: 0.1922 | train_acc: 0.9253 | validation_loss: 1.9595 | validation_acc: 0.6992\n",
      "Epoch: 89 | train_loss: 0.1450 | train_acc: 0.9455 | validation_loss: 0.9552 | validation_acc: 0.7441\n",
      "Epoch: 90 | train_loss: 0.1375 | train_acc: 0.9507 | validation_loss: 1.6850 | validation_acc: 0.6816\n",
      "Epoch: 91 | train_loss: 0.1394 | train_acc: 0.9533 | validation_loss: 3.0073 | validation_acc: 0.6172\n",
      "Epoch: 92 | train_loss: 0.1460 | train_acc: 0.9450 | validation_loss: 4.3688 | validation_acc: 0.5879\n",
      "Epoch: 93 | train_loss: 0.1324 | train_acc: 0.9473 | validation_loss: 1.0392 | validation_acc: 0.7422\n",
      "Epoch: 94 | train_loss: 0.1667 | train_acc: 0.9400 | validation_loss: 4.9575 | validation_acc: 0.5410\n",
      "Epoch: 95 | train_loss: 0.1407 | train_acc: 0.9445 | validation_loss: 11.4659 | validation_acc: 0.4902\n",
      "Epoch: 96 | train_loss: 0.1358 | train_acc: 0.9497 | validation_loss: 13.2936 | validation_acc: 0.4609\n",
      "Epoch: 97 | train_loss: 0.1400 | train_acc: 0.9473 | validation_loss: 1.2076 | validation_acc: 0.7207\n",
      "Epoch: 98 | train_loss: 0.1308 | train_acc: 0.9517 | validation_loss: 6.2268 | validation_acc: 0.5742\n",
      "Epoch: 99 | train_loss: 0.1352 | train_acc: 0.9470 | validation_loss: 1.3279 | validation_acc: 0.7383\n",
      "Epoch: 100 | train_loss: 0.1184 | train_acc: 0.9530 | validation_loss: 1.8537 | validation_acc: 0.6504\n"
     ]
    }
   ],
   "source": [
    "model_name = \"ResNet50\"\n",
    "model_folder_path = models_path / model_name\n",
    "check_dir(model_folder_path)\n",
    "model_name_folder_path = model_folder_path / model_name\n",
    "\n",
    "#Train ResNet50\n",
    "resnet50.to(device)\n",
    "nadam_optim = torch.optim.NAdam(params=resnet50.parameters(), lr=lr)\n",
    "train_resnet50_results, train_time_resnet50 = train(resnet50, train_dl, validation_dl, optimizer=nadam_optim, loss_fn=loss_fn, epochs=NUM_EPOCHS, name_save=model_name_folder_path, device=device)"
   ]
  },
  {
   "cell_type": "code",
   "execution_count": 6,
   "metadata": {},
   "outputs": [
    {
     "data": {
      "application/vnd.jupyter.widget-view+json": {
       "model_id": "774c399b87fe42269e656bc71f0418b6",
       "version_major": 2,
       "version_minor": 0
      },
      "text/plain": [
       "  0%|          | 0/32 [00:02<?, ?it/s]"
      ]
     },
     "metadata": {},
     "output_type": "display_data"
    }
   ],
   "source": [
    "eval_resnet50_results = eval_model(resnet50, test_dl, loss_fn = loss_fn, accuracy_fn=accuracy_fn, device = device, dummy_input= torch.rand(32,3,224,224).to(device))\n",
    "resnet50_results = [train_resnet50_results, train_time_resnet50, eval_resnet50_results]\n",
    "final_save(model_folder_path,model_name, NUM_EPOCHS, resnet50, resnet50_results)"
   ]
  },
  {
   "cell_type": "code",
   "execution_count": 7,
   "metadata": {},
   "outputs": [
    {
     "data": {
      "application/vnd.jupyter.widget-view+json": {
       "model_id": "1bad1f1e40cc4f71b6fd6aae9076d175",
       "version_major": 2,
       "version_minor": 0
      },
      "text/plain": [
       "  0%|          | 0/100 [00:00<?, ?it/s]"
      ]
     },
     "metadata": {},
     "output_type": "display_data"
    },
    {
     "name": "stdout",
     "output_type": "stream",
     "text": [
      "Epoch: 1 | train_loss: 1.2775 | train_acc: 0.4170 | validation_loss: 0.9305 | validation_acc: 0.5703\n",
      "Epoch: 2 | train_loss: 0.9190 | train_acc: 0.5793 | validation_loss: 0.6777 | validation_acc: 0.6387\n",
      "Epoch: 3 | train_loss: 0.6605 | train_acc: 0.7147 | validation_loss: 0.7538 | validation_acc: 0.6816\n",
      "Epoch: 4 | train_loss: 0.5553 | train_acc: 0.7688 | validation_loss: 0.8607 | validation_acc: 0.6602\n",
      "Epoch: 5 | train_loss: 0.4412 | train_acc: 0.8193 | validation_loss: 0.9628 | validation_acc: 0.6504\n",
      "Epoch: 6 | train_loss: 0.3497 | train_acc: 0.8640 | validation_loss: 0.6014 | validation_acc: 0.7930\n",
      "Epoch: 7 | train_loss: 0.3202 | train_acc: 0.8722 | validation_loss: 0.4549 | validation_acc: 0.8398\n",
      "Epoch: 8 | train_loss: 0.2179 | train_acc: 0.9243 | validation_loss: 0.8328 | validation_acc: 0.7793\n",
      "Epoch: 9 | train_loss: 0.2017 | train_acc: 0.9303 | validation_loss: 0.6922 | validation_acc: 0.7891\n",
      "Epoch: 10 | train_loss: 0.1843 | train_acc: 0.9365 | validation_loss: 0.6192 | validation_acc: 0.8359\n",
      "Epoch: 11 | train_loss: 0.1524 | train_acc: 0.9440 | validation_loss: 0.7340 | validation_acc: 0.8086\n",
      "Epoch: 12 | train_loss: 0.1589 | train_acc: 0.9453 | validation_loss: 0.3888 | validation_acc: 0.8730\n",
      "Epoch: 13 | train_loss: 0.1439 | train_acc: 0.9530 | validation_loss: 0.6109 | validation_acc: 0.8223\n",
      "Epoch: 14 | train_loss: 0.1149 | train_acc: 0.9577 | validation_loss: 0.7428 | validation_acc: 0.8418\n",
      "Epoch: 15 | train_loss: 0.1291 | train_acc: 0.9585 | validation_loss: 0.7225 | validation_acc: 0.7812\n",
      "Epoch: 16 | train_loss: 0.1204 | train_acc: 0.9590 | validation_loss: 0.6096 | validation_acc: 0.8457\n",
      "Epoch: 17 | train_loss: 0.1038 | train_acc: 0.9653 | validation_loss: 0.6036 | validation_acc: 0.8457\n",
      "Epoch: 18 | train_loss: 0.1281 | train_acc: 0.9555 | validation_loss: 1.1476 | validation_acc: 0.8066\n",
      "Epoch: 19 | train_loss: 0.1062 | train_acc: 0.9653 | validation_loss: 0.5273 | validation_acc: 0.8438\n",
      "Epoch: 20 | train_loss: 0.0878 | train_acc: 0.9688 | validation_loss: 0.6666 | validation_acc: 0.8105\n",
      "Epoch: 21 | train_loss: 0.1011 | train_acc: 0.9660 | validation_loss: 0.6870 | validation_acc: 0.8281\n",
      "Epoch: 22 | train_loss: 0.0977 | train_acc: 0.9643 | validation_loss: 0.7895 | validation_acc: 0.8672\n",
      "Epoch: 23 | train_loss: 0.0920 | train_acc: 0.9692 | validation_loss: 0.5397 | validation_acc: 0.8672\n",
      "Epoch: 24 | train_loss: 0.0803 | train_acc: 0.9740 | validation_loss: 0.7909 | validation_acc: 0.8086\n",
      "Epoch: 25 | train_loss: 0.0877 | train_acc: 0.9722 | validation_loss: 0.6269 | validation_acc: 0.8516\n",
      "Epoch: 26 | train_loss: 0.0720 | train_acc: 0.9778 | validation_loss: 1.0937 | validation_acc: 0.8359\n",
      "Epoch: 27 | train_loss: 0.0816 | train_acc: 0.9720 | validation_loss: 0.4164 | validation_acc: 0.9004\n",
      "Epoch: 28 | train_loss: 0.0777 | train_acc: 0.9750 | validation_loss: 0.5311 | validation_acc: 0.8828\n",
      "Epoch: 29 | train_loss: 0.0710 | train_acc: 0.9790 | validation_loss: 0.6220 | validation_acc: 0.8809\n",
      "Epoch: 30 | train_loss: 0.0540 | train_acc: 0.9848 | validation_loss: 0.5085 | validation_acc: 0.8789\n",
      "Epoch: 31 | train_loss: 0.0877 | train_acc: 0.9742 | validation_loss: 0.6659 | validation_acc: 0.8535\n",
      "Epoch: 32 | train_loss: 0.0758 | train_acc: 0.9752 | validation_loss: 0.6382 | validation_acc: 0.8809\n",
      "Epoch: 33 | train_loss: 0.0653 | train_acc: 0.9780 | validation_loss: 1.6842 | validation_acc: 0.7578\n",
      "Epoch: 34 | train_loss: 0.0619 | train_acc: 0.9788 | validation_loss: 0.7851 | validation_acc: 0.8672\n",
      "Epoch: 35 | train_loss: 0.0652 | train_acc: 0.9788 | validation_loss: 0.6772 | validation_acc: 0.8633\n",
      "Epoch: 36 | train_loss: 0.0568 | train_acc: 0.9828 | validation_loss: 0.5497 | validation_acc: 0.8926\n",
      "Epoch: 37 | train_loss: 0.0677 | train_acc: 0.9785 | validation_loss: 0.6711 | validation_acc: 0.8828\n",
      "Epoch: 38 | train_loss: 0.0526 | train_acc: 0.9825 | validation_loss: 1.0820 | validation_acc: 0.8574\n",
      "Epoch: 39 | train_loss: 0.0572 | train_acc: 0.9830 | validation_loss: 0.9362 | validation_acc: 0.8457\n",
      "Epoch: 40 | train_loss: 0.0564 | train_acc: 0.9792 | validation_loss: 1.3687 | validation_acc: 0.8516\n",
      "Epoch: 41 | train_loss: 0.0474 | train_acc: 0.9828 | validation_loss: 0.7403 | validation_acc: 0.8789\n",
      "Epoch: 42 | train_loss: 0.0500 | train_acc: 0.9850 | validation_loss: 0.5817 | validation_acc: 0.8691\n",
      "Epoch: 43 | train_loss: 0.0604 | train_acc: 0.9812 | validation_loss: 0.5248 | validation_acc: 0.8750\n",
      "Epoch: 44 | train_loss: 0.0545 | train_acc: 0.9812 | validation_loss: 0.6442 | validation_acc: 0.8691\n",
      "Epoch: 45 | train_loss: 0.0487 | train_acc: 0.9842 | validation_loss: 0.6284 | validation_acc: 0.8945\n",
      "Epoch: 46 | train_loss: 0.0440 | train_acc: 0.9875 | validation_loss: 0.6981 | validation_acc: 0.8594\n",
      "Epoch: 47 | train_loss: 0.0605 | train_acc: 0.9802 | validation_loss: 0.9084 | validation_acc: 0.8496\n",
      "Epoch: 48 | train_loss: 0.0387 | train_acc: 0.9875 | validation_loss: 0.7810 | validation_acc: 0.8633\n",
      "Epoch: 49 | train_loss: 0.0631 | train_acc: 0.9765 | validation_loss: 0.5505 | validation_acc: 0.8789\n",
      "Epoch: 50 | train_loss: 0.0565 | train_acc: 0.9830 | validation_loss: 0.4606 | validation_acc: 0.8965\n",
      "Epoch: 51 | train_loss: 0.0430 | train_acc: 0.9862 | validation_loss: 0.7382 | validation_acc: 0.8652\n",
      "Epoch: 52 | train_loss: 0.0441 | train_acc: 0.9852 | validation_loss: 0.7125 | validation_acc: 0.8711\n",
      "Epoch: 53 | train_loss: 0.0341 | train_acc: 0.9885 | validation_loss: 0.5573 | validation_acc: 0.8906\n",
      "Epoch: 54 | train_loss: 0.0436 | train_acc: 0.9860 | validation_loss: 0.7872 | validation_acc: 0.8691\n",
      "Epoch: 55 | train_loss: 0.0432 | train_acc: 0.9840 | validation_loss: 0.8353 | validation_acc: 0.8574\n",
      "Epoch: 56 | train_loss: 0.0668 | train_acc: 0.9780 | validation_loss: 1.0390 | validation_acc: 0.8281\n",
      "Epoch: 57 | train_loss: 0.0456 | train_acc: 0.9858 | validation_loss: 0.4421 | validation_acc: 0.8926\n",
      "Epoch: 58 | train_loss: 0.0378 | train_acc: 0.9882 | validation_loss: 1.0555 | validation_acc: 0.8418\n",
      "Epoch: 59 | train_loss: 0.0469 | train_acc: 0.9868 | validation_loss: 0.5724 | validation_acc: 0.8770\n",
      "Epoch: 60 | train_loss: 0.0434 | train_acc: 0.9862 | validation_loss: 0.6321 | validation_acc: 0.8926\n",
      "Epoch: 61 | train_loss: 0.0425 | train_acc: 0.9868 | validation_loss: 0.5753 | validation_acc: 0.8926\n",
      "Epoch: 62 | train_loss: 0.0482 | train_acc: 0.9845 | validation_loss: 1.0875 | validation_acc: 0.8711\n",
      "Epoch: 63 | train_loss: 0.0433 | train_acc: 0.9860 | validation_loss: 0.8502 | validation_acc: 0.8594\n",
      "Epoch: 64 | train_loss: 0.0267 | train_acc: 0.9920 | validation_loss: 0.5779 | validation_acc: 0.8906\n",
      "Epoch: 65 | train_loss: 0.0348 | train_acc: 0.9880 | validation_loss: 1.0767 | validation_acc: 0.7793\n",
      "Epoch: 66 | train_loss: 0.0331 | train_acc: 0.9900 | validation_loss: 0.6185 | validation_acc: 0.8984\n",
      "Epoch: 67 | train_loss: 0.0331 | train_acc: 0.9888 | validation_loss: 0.9813 | validation_acc: 0.8828\n",
      "Epoch: 68 | train_loss: 0.0407 | train_acc: 0.9868 | validation_loss: 0.4537 | validation_acc: 0.8984\n",
      "Epoch: 69 | train_loss: 0.0348 | train_acc: 0.9898 | validation_loss: 0.8974 | validation_acc: 0.8789\n",
      "Epoch: 70 | train_loss: 0.0309 | train_acc: 0.9885 | validation_loss: 0.6241 | validation_acc: 0.9043\n",
      "Epoch: 71 | train_loss: 0.0398 | train_acc: 0.9885 | validation_loss: 0.6803 | validation_acc: 0.8594\n",
      "Epoch: 72 | train_loss: 0.0263 | train_acc: 0.9910 | validation_loss: 0.6682 | validation_acc: 0.8945\n",
      "Epoch: 73 | train_loss: 0.0285 | train_acc: 0.9900 | validation_loss: 0.8382 | validation_acc: 0.8555\n",
      "Epoch: 74 | train_loss: 0.0523 | train_acc: 0.9855 | validation_loss: 0.4256 | validation_acc: 0.8809\n",
      "Epoch: 75 | train_loss: 0.0487 | train_acc: 0.9850 | validation_loss: 0.5333 | validation_acc: 0.9004\n",
      "Epoch: 76 | train_loss: 0.0372 | train_acc: 0.9880 | validation_loss: 0.9158 | validation_acc: 0.8516\n",
      "Epoch: 77 | train_loss: 0.0416 | train_acc: 0.9858 | validation_loss: 1.0136 | validation_acc: 0.8379\n",
      "Epoch: 78 | train_loss: 0.0327 | train_acc: 0.9898 | validation_loss: 0.6744 | validation_acc: 0.8496\n",
      "Epoch: 79 | train_loss: 0.0393 | train_acc: 0.9880 | validation_loss: 0.6940 | validation_acc: 0.8945\n",
      "Epoch: 80 | train_loss: 0.0309 | train_acc: 0.9895 | validation_loss: 1.0833 | validation_acc: 0.8477\n",
      "Epoch: 81 | train_loss: 0.0343 | train_acc: 0.9885 | validation_loss: 0.7668 | validation_acc: 0.8828\n",
      "Epoch: 82 | train_loss: 0.0288 | train_acc: 0.9918 | validation_loss: 0.7843 | validation_acc: 0.8730\n",
      "Epoch: 83 | train_loss: 0.0169 | train_acc: 0.9942 | validation_loss: 0.6298 | validation_acc: 0.9102\n",
      "Epoch: 84 | train_loss: 0.0401 | train_acc: 0.9905 | validation_loss: 0.7668 | validation_acc: 0.8496\n",
      "Epoch: 85 | train_loss: 0.0281 | train_acc: 0.9920 | validation_loss: 1.0505 | validation_acc: 0.8750\n",
      "Epoch: 86 | train_loss: 0.0330 | train_acc: 0.9890 | validation_loss: 0.6604 | validation_acc: 0.8965\n",
      "Epoch: 87 | train_loss: 0.0291 | train_acc: 0.9895 | validation_loss: 0.9237 | validation_acc: 0.8691\n",
      "Epoch: 88 | train_loss: 0.0416 | train_acc: 0.9868 | validation_loss: 0.5662 | validation_acc: 0.8984\n",
      "Epoch: 89 | train_loss: 0.0217 | train_acc: 0.9935 | validation_loss: 1.1845 | validation_acc: 0.8164\n",
      "Epoch: 90 | train_loss: 0.0257 | train_acc: 0.9930 | validation_loss: 1.1874 | validation_acc: 0.8574\n",
      "Epoch: 91 | train_loss: 0.0323 | train_acc: 0.9888 | validation_loss: 0.8962 | validation_acc: 0.8867\n",
      "Epoch: 92 | train_loss: 0.0282 | train_acc: 0.9915 | validation_loss: 0.7766 | validation_acc: 0.8750\n",
      "Epoch: 93 | train_loss: 0.0288 | train_acc: 0.9910 | validation_loss: 0.9897 | validation_acc: 0.8730\n",
      "Epoch: 94 | train_loss: 0.0217 | train_acc: 0.9950 | validation_loss: 0.7949 | validation_acc: 0.8750\n",
      "Epoch: 95 | train_loss: 0.0327 | train_acc: 0.9908 | validation_loss: 0.6616 | validation_acc: 0.8906\n",
      "Epoch: 96 | train_loss: 0.0254 | train_acc: 0.9928 | validation_loss: 1.2080 | validation_acc: 0.8535\n",
      "Epoch: 97 | train_loss: 0.0392 | train_acc: 0.9878 | validation_loss: 0.8813 | validation_acc: 0.8730\n",
      "Epoch: 98 | train_loss: 0.0412 | train_acc: 0.9882 | validation_loss: 0.8499 | validation_acc: 0.8711\n",
      "Epoch: 99 | train_loss: 0.0198 | train_acc: 0.9925 | validation_loss: 0.9457 | validation_acc: 0.8887\n",
      "Epoch: 100 | train_loss: 0.0218 | train_acc: 0.9930 | validation_loss: 0.9548 | validation_acc: 0.8770\n"
     ]
    }
   ],
   "source": [
    "model_name = \"MobileNetSmall\"\n",
    "model_folder_path = models_path / model_name\n",
    "check_dir(model_folder_path)\n",
    "model_name_folder_path = model_folder_path / model_name\n",
    "\n",
    "#Train MobileNetV3 Small\n",
    "mobnet_sml.to(device)\n",
    "nadam_optim = torch.optim.NAdam(params=mobnet_sml.parameters(), lr=lr)\n",
    "train_mobnet_sml_results, train_time_mobnet_sml = train(mobnet_sml, train_dl, validation_dl, optimizer=nadam_optim, loss_fn=loss_fn, epochs=NUM_EPOCHS, name_save=model_name_folder_path, device=device)"
   ]
  },
  {
   "cell_type": "code",
   "execution_count": 8,
   "metadata": {},
   "outputs": [
    {
     "data": {
      "application/vnd.jupyter.widget-view+json": {
       "model_id": "78fdd487b39143a2a45a31f76a68bd98",
       "version_major": 2,
       "version_minor": 0
      },
      "text/plain": [
       "  0%|          | 0/32 [00:02<?, ?it/s]"
      ]
     },
     "metadata": {},
     "output_type": "display_data"
    }
   ],
   "source": [
    "eval_mobnet_sml_results = eval_model(mobnet_sml, test_dl, loss_fn = loss_fn, accuracy_fn=accuracy_fn, device = device, dummy_input= torch.rand(32,3,224,224).to(device))\n",
    "mobnet_sml_results = [train_mobnet_sml_results, train_time_mobnet_sml, eval_mobnet_sml_results]\n",
    "final_save(model_folder_path,model_name, NUM_EPOCHS, mobnet_sml, mobnet_sml_results)"
   ]
  },
  {
   "cell_type": "code",
   "execution_count": 4,
   "metadata": {},
   "outputs": [
    {
     "data": {
      "application/vnd.jupyter.widget-view+json": {
       "model_id": "28435d44c65843939cb00b4b4e06f007",
       "version_major": 2,
       "version_minor": 0
      },
      "text/plain": [
       "  0%|          | 0/100 [00:00<?, ?it/s]"
      ]
     },
     "metadata": {},
     "output_type": "display_data"
    },
    {
     "name": "stdout",
     "output_type": "stream",
     "text": [
      "Epoch: 1 | train_loss: 1.0643 | train_acc: 0.5210 | validation_loss: 0.6741 | validation_acc: 0.7012\n",
      "Epoch: 2 | train_loss: 0.7024 | train_acc: 0.6797 | validation_loss: 0.7943 | validation_acc: 0.6758\n",
      "Epoch: 3 | train_loss: 0.5379 | train_acc: 0.7860 | validation_loss: 0.9604 | validation_acc: 0.5918\n",
      "Epoch: 4 | train_loss: 0.4308 | train_acc: 0.8270 | validation_loss: 1.0418 | validation_acc: 0.6777\n",
      "Epoch: 5 | train_loss: 0.3389 | train_acc: 0.8675 | validation_loss: 1.2787 | validation_acc: 0.6484\n",
      "Epoch: 6 | train_loss: 0.3037 | train_acc: 0.8915 | validation_loss: 1.1228 | validation_acc: 0.6875\n",
      "Epoch: 7 | train_loss: 0.2537 | train_acc: 0.9100 | validation_loss: 1.1446 | validation_acc: 0.6797\n",
      "Epoch: 8 | train_loss: 0.2398 | train_acc: 0.9107 | validation_loss: 0.7272 | validation_acc: 0.7734\n",
      "Epoch: 9 | train_loss: 0.2124 | train_acc: 0.9195 | validation_loss: 1.4009 | validation_acc: 0.7129\n",
      "Epoch: 10 | train_loss: 0.2002 | train_acc: 0.9285 | validation_loss: 0.8661 | validation_acc: 0.7207\n",
      "Epoch: 11 | train_loss: 0.1777 | train_acc: 0.9387 | validation_loss: 0.8470 | validation_acc: 0.7480\n",
      "Epoch: 12 | train_loss: 0.1929 | train_acc: 0.9303 | validation_loss: 1.1380 | validation_acc: 0.7109\n",
      "Epoch: 13 | train_loss: 0.1870 | train_acc: 0.9347 | validation_loss: 0.9544 | validation_acc: 0.7598\n",
      "Epoch: 14 | train_loss: 0.1538 | train_acc: 0.9475 | validation_loss: 0.7645 | validation_acc: 0.7617\n",
      "Epoch: 15 | train_loss: 0.1677 | train_acc: 0.9393 | validation_loss: 0.8153 | validation_acc: 0.7754\n",
      "Epoch: 16 | train_loss: 0.1632 | train_acc: 0.9415 | validation_loss: 0.9508 | validation_acc: 0.7617\n",
      "Epoch: 17 | train_loss: 0.1479 | train_acc: 0.9465 | validation_loss: 1.0521 | validation_acc: 0.7656\n",
      "Epoch: 18 | train_loss: 0.1105 | train_acc: 0.9590 | validation_loss: 0.7532 | validation_acc: 0.8203\n",
      "Epoch: 19 | train_loss: 0.1237 | train_acc: 0.9575 | validation_loss: 0.8975 | validation_acc: 0.7891\n",
      "Epoch: 20 | train_loss: 0.1183 | train_acc: 0.9617 | validation_loss: 1.1756 | validation_acc: 0.7871\n",
      "Epoch: 21 | train_loss: 0.1215 | train_acc: 0.9610 | validation_loss: 1.0665 | validation_acc: 0.7617\n",
      "Epoch: 22 | train_loss: 0.0984 | train_acc: 0.9645 | validation_loss: 0.6925 | validation_acc: 0.8594\n",
      "Epoch: 23 | train_loss: 0.0977 | train_acc: 0.9660 | validation_loss: 1.2166 | validation_acc: 0.7773\n",
      "Epoch: 24 | train_loss: 0.0992 | train_acc: 0.9667 | validation_loss: 0.6500 | validation_acc: 0.8438\n",
      "Epoch: 25 | train_loss: 0.0881 | train_acc: 0.9700 | validation_loss: 1.3117 | validation_acc: 0.7715\n",
      "Epoch: 26 | train_loss: 0.0826 | train_acc: 0.9720 | validation_loss: 0.5788 | validation_acc: 0.8438\n",
      "Epoch: 27 | train_loss: 0.1050 | train_acc: 0.9688 | validation_loss: 0.9019 | validation_acc: 0.8027\n",
      "Epoch: 28 | train_loss: 0.0745 | train_acc: 0.9745 | validation_loss: 1.2711 | validation_acc: 0.7656\n",
      "Epoch: 29 | train_loss: 0.0884 | train_acc: 0.9708 | validation_loss: 1.5061 | validation_acc: 0.7988\n",
      "Epoch: 30 | train_loss: 0.0745 | train_acc: 0.9755 | validation_loss: 0.8688 | validation_acc: 0.8379\n",
      "Epoch: 31 | train_loss: 0.0734 | train_acc: 0.9775 | validation_loss: 0.6781 | validation_acc: 0.8281\n",
      "Epoch: 32 | train_loss: 0.0731 | train_acc: 0.9765 | validation_loss: 0.8250 | validation_acc: 0.8242\n",
      "Epoch: 33 | train_loss: 0.0533 | train_acc: 0.9820 | validation_loss: 1.0164 | validation_acc: 0.8223\n",
      "Epoch: 34 | train_loss: 0.0715 | train_acc: 0.9780 | validation_loss: 0.8155 | validation_acc: 0.8398\n",
      "Epoch: 35 | train_loss: 0.0688 | train_acc: 0.9758 | validation_loss: 0.7965 | validation_acc: 0.8652\n",
      "Epoch: 36 | train_loss: 0.0627 | train_acc: 0.9818 | validation_loss: 0.8749 | validation_acc: 0.8359\n",
      "Epoch: 37 | train_loss: 0.0731 | train_acc: 0.9782 | validation_loss: 0.6925 | validation_acc: 0.8672\n",
      "Epoch: 38 | train_loss: 0.0901 | train_acc: 0.9715 | validation_loss: 0.7427 | validation_acc: 0.8438\n",
      "Epoch: 39 | train_loss: 0.0615 | train_acc: 0.9798 | validation_loss: 1.2337 | validation_acc: 0.8008\n",
      "Epoch: 40 | train_loss: 0.0561 | train_acc: 0.9828 | validation_loss: 0.6907 | validation_acc: 0.8574\n",
      "Epoch: 41 | train_loss: 0.0542 | train_acc: 0.9830 | validation_loss: 0.8256 | validation_acc: 0.8691\n",
      "Epoch: 42 | train_loss: 0.0383 | train_acc: 0.9845 | validation_loss: 1.5695 | validation_acc: 0.8145\n",
      "Epoch: 43 | train_loss: 0.0765 | train_acc: 0.9785 | validation_loss: 1.2278 | validation_acc: 0.8047\n",
      "Epoch: 44 | train_loss: 0.0435 | train_acc: 0.9850 | validation_loss: 1.7479 | validation_acc: 0.8145\n",
      "Epoch: 45 | train_loss: 0.0540 | train_acc: 0.9790 | validation_loss: 0.8619 | validation_acc: 0.8535\n",
      "Epoch: 46 | train_loss: 0.0663 | train_acc: 0.9800 | validation_loss: 1.0565 | validation_acc: 0.8320\n",
      "Epoch: 47 | train_loss: 0.0413 | train_acc: 0.9878 | validation_loss: 0.8798 | validation_acc: 0.8555\n",
      "Epoch: 48 | train_loss: 0.0327 | train_acc: 0.9910 | validation_loss: 1.1434 | validation_acc: 0.8438\n",
      "Epoch: 49 | train_loss: 0.0582 | train_acc: 0.9805 | validation_loss: 1.1384 | validation_acc: 0.8242\n",
      "Epoch: 50 | train_loss: 0.0480 | train_acc: 0.9842 | validation_loss: 0.6272 | validation_acc: 0.8828\n",
      "Epoch: 51 | train_loss: 0.0464 | train_acc: 0.9852 | validation_loss: 0.8508 | validation_acc: 0.8711\n",
      "Epoch: 52 | train_loss: 0.0538 | train_acc: 0.9840 | validation_loss: 1.2967 | validation_acc: 0.7988\n",
      "Epoch: 53 | train_loss: 0.0452 | train_acc: 0.9860 | validation_loss: 0.8161 | validation_acc: 0.8398\n",
      "Epoch: 54 | train_loss: 0.0324 | train_acc: 0.9915 | validation_loss: 0.9202 | validation_acc: 0.8594\n",
      "Epoch: 55 | train_loss: 0.0492 | train_acc: 0.9848 | validation_loss: 1.0698 | validation_acc: 0.8203\n",
      "Epoch: 56 | train_loss: 0.0546 | train_acc: 0.9818 | validation_loss: 0.9788 | validation_acc: 0.8496\n",
      "Epoch: 57 | train_loss: 0.0509 | train_acc: 0.9862 | validation_loss: 1.0498 | validation_acc: 0.8652\n",
      "Epoch: 58 | train_loss: 0.0303 | train_acc: 0.9902 | validation_loss: 1.0313 | validation_acc: 0.8574\n",
      "Epoch: 59 | train_loss: 0.0486 | train_acc: 0.9862 | validation_loss: 1.4000 | validation_acc: 0.8457\n",
      "Epoch: 60 | train_loss: 0.0304 | train_acc: 0.9902 | validation_loss: 0.9581 | validation_acc: 0.8789\n",
      "Epoch: 61 | train_loss: 0.0493 | train_acc: 0.9850 | validation_loss: 0.7625 | validation_acc: 0.8711\n",
      "Epoch: 62 | train_loss: 0.0418 | train_acc: 0.9855 | validation_loss: 0.8720 | validation_acc: 0.8516\n",
      "Epoch: 63 | train_loss: 0.0374 | train_acc: 0.9875 | validation_loss: 1.0935 | validation_acc: 0.8281\n",
      "Epoch: 64 | train_loss: 0.0379 | train_acc: 0.9868 | validation_loss: 1.0414 | validation_acc: 0.8730\n",
      "Epoch: 65 | train_loss: 0.0252 | train_acc: 0.9918 | validation_loss: 1.1836 | validation_acc: 0.8496\n",
      "Epoch: 66 | train_loss: 0.0364 | train_acc: 0.9882 | validation_loss: 0.7418 | validation_acc: 0.8965\n",
      "Epoch: 67 | train_loss: 0.0483 | train_acc: 0.9850 | validation_loss: 0.7581 | validation_acc: 0.8945\n",
      "Epoch: 68 | train_loss: 0.0420 | train_acc: 0.9875 | validation_loss: 0.6441 | validation_acc: 0.8691\n",
      "Epoch: 69 | train_loss: 0.0363 | train_acc: 0.9872 | validation_loss: 0.7234 | validation_acc: 0.8652\n",
      "Epoch: 70 | train_loss: 0.0266 | train_acc: 0.9902 | validation_loss: 0.7938 | validation_acc: 0.8926\n",
      "Epoch: 71 | train_loss: 0.0303 | train_acc: 0.9910 | validation_loss: 1.1935 | validation_acc: 0.8184\n",
      "Epoch: 72 | train_loss: 0.0331 | train_acc: 0.9898 | validation_loss: 0.7555 | validation_acc: 0.8906\n",
      "Epoch: 73 | train_loss: 0.0397 | train_acc: 0.9858 | validation_loss: 0.7025 | validation_acc: 0.8926\n",
      "Epoch: 74 | train_loss: 0.0434 | train_acc: 0.9868 | validation_loss: 0.8413 | validation_acc: 0.8750\n",
      "Epoch: 75 | train_loss: 0.0180 | train_acc: 0.9932 | validation_loss: 0.6710 | validation_acc: 0.8750\n",
      "Epoch: 76 | train_loss: 0.0369 | train_acc: 0.9865 | validation_loss: 1.2143 | validation_acc: 0.8340\n",
      "Epoch: 77 | train_loss: 0.0435 | train_acc: 0.9875 | validation_loss: 0.8334 | validation_acc: 0.8809\n",
      "Epoch: 78 | train_loss: 0.0288 | train_acc: 0.9895 | validation_loss: 1.1588 | validation_acc: 0.8594\n",
      "Epoch: 79 | train_loss: 0.0191 | train_acc: 0.9930 | validation_loss: 1.3230 | validation_acc: 0.8750\n",
      "Epoch: 80 | train_loss: 0.0507 | train_acc: 0.9852 | validation_loss: 1.2782 | validation_acc: 0.8555\n",
      "Epoch: 81 | train_loss: 0.0273 | train_acc: 0.9900 | validation_loss: 1.0875 | validation_acc: 0.8516\n",
      "Epoch: 82 | train_loss: 0.0301 | train_acc: 0.9892 | validation_loss: 1.4972 | validation_acc: 0.8203\n",
      "Epoch: 83 | train_loss: 0.0167 | train_acc: 0.9945 | validation_loss: 0.9566 | validation_acc: 0.8809\n",
      "Epoch: 84 | train_loss: 0.0423 | train_acc: 0.9882 | validation_loss: 0.6637 | validation_acc: 0.8730\n",
      "Epoch: 85 | train_loss: 0.0239 | train_acc: 0.9935 | validation_loss: 0.8148 | validation_acc: 0.8906\n",
      "Epoch: 86 | train_loss: 0.0159 | train_acc: 0.9952 | validation_loss: 1.0539 | validation_acc: 0.8770\n",
      "Epoch: 87 | train_loss: 0.0297 | train_acc: 0.9912 | validation_loss: 0.7760 | validation_acc: 0.8945\n",
      "Epoch: 88 | train_loss: 0.0400 | train_acc: 0.9892 | validation_loss: 1.1170 | validation_acc: 0.8418\n",
      "Epoch: 89 | train_loss: 0.0288 | train_acc: 0.9905 | validation_loss: 0.8909 | validation_acc: 0.8633\n",
      "Epoch: 90 | train_loss: 0.0336 | train_acc: 0.9882 | validation_loss: 0.9641 | validation_acc: 0.8750\n",
      "Epoch: 91 | train_loss: 0.0304 | train_acc: 0.9908 | validation_loss: 1.4890 | validation_acc: 0.8516\n",
      "Epoch: 92 | train_loss: 0.0288 | train_acc: 0.9915 | validation_loss: 2.1506 | validation_acc: 0.7930\n",
      "Epoch: 93 | train_loss: 0.0261 | train_acc: 0.9918 | validation_loss: 1.1897 | validation_acc: 0.8613\n",
      "Epoch: 94 | train_loss: 0.0381 | train_acc: 0.9890 | validation_loss: 1.4512 | validation_acc: 0.8457\n",
      "Epoch: 95 | train_loss: 0.0369 | train_acc: 0.9888 | validation_loss: 0.8959 | validation_acc: 0.8828\n",
      "Epoch: 96 | train_loss: 0.0341 | train_acc: 0.9892 | validation_loss: 0.5446 | validation_acc: 0.9141\n",
      "Epoch: 97 | train_loss: 0.0117 | train_acc: 0.9960 | validation_loss: 0.9580 | validation_acc: 0.8984\n",
      "Epoch: 98 | train_loss: 0.0280 | train_acc: 0.9905 | validation_loss: 0.9495 | validation_acc: 0.8516\n",
      "Epoch: 99 | train_loss: 0.0178 | train_acc: 0.9938 | validation_loss: 0.8669 | validation_acc: 0.8887\n",
      "Epoch: 100 | train_loss: 0.0390 | train_acc: 0.9900 | validation_loss: 1.0705 | validation_acc: 0.8652\n"
     ]
    }
   ],
   "source": [
    "model_name = \"MobileNetLarge\"\n",
    "model_folder_path = models_path / model_name\n",
    "check_dir(model_folder_path)\n",
    "model_name_folder_path = model_folder_path / model_name\n",
    "\n",
    "#Train MobileNetV3 Large\n",
    "mobnet_lrg.to(device)\n",
    "nadam_optim = torch.optim.NAdam(params=mobnet_lrg.parameters(), lr=lr)\n",
    "train_mobnet_lrg_results, train_time_mobnet_lrg = train(mobnet_lrg, train_dl, validation_dl, optimizer=nadam_optim, loss_fn=loss_fn, epochs=NUM_EPOCHS, name_save=model_name_folder_path, device=device)"
   ]
  },
  {
   "cell_type": "code",
   "execution_count": 5,
   "metadata": {},
   "outputs": [
    {
     "data": {
      "application/vnd.jupyter.widget-view+json": {
       "model_id": "759a169d713e469f84508453de675334",
       "version_major": 2,
       "version_minor": 0
      },
      "text/plain": [
       "  0%|          | 0/32 [00:01<?, ?it/s]"
      ]
     },
     "metadata": {},
     "output_type": "display_data"
    }
   ],
   "source": [
    "eval_mobnet_lrg_results = eval_model(mobnet_lrg, test_dl, loss_fn = loss_fn, accuracy_fn=accuracy_fn, device = device, dummy_input= torch.rand(32,3,224,224).to(device))\n",
    "mobnet_lrg_results = [train_mobnet_lrg_results, train_time_mobnet_lrg, eval_mobnet_lrg_results]\n",
    "final_save(model_folder_path, model_name, NUM_EPOCHS, mobnet_lrg, mobnet_lrg_results)"
   ]
  },
  {
   "cell_type": "code",
   "execution_count": 6,
   "metadata": {},
   "outputs": [
    {
     "name": "stdout",
     "output_type": "stream",
     "text": [
      "Models_1\\EfficientNetB0 does not exist, creating one...\n"
     ]
    },
    {
     "data": {
      "application/vnd.jupyter.widget-view+json": {
       "model_id": "56c970f6173d477fa4bb344f9cc7e889",
       "version_major": 2,
       "version_minor": 0
      },
      "text/plain": [
       "  0%|          | 0/100 [00:00<?, ?it/s]"
      ]
     },
     "metadata": {},
     "output_type": "display_data"
    },
    {
     "name": "stdout",
     "output_type": "stream",
     "text": [
      "Epoch: 1 | train_loss: 1.1400 | train_acc: 0.4928 | validation_loss: 0.6974 | validation_acc: 0.7070\n",
      "Epoch: 2 | train_loss: 0.4597 | train_acc: 0.8137 | validation_loss: 0.5444 | validation_acc: 0.7656\n",
      "Epoch: 3 | train_loss: 0.2851 | train_acc: 0.8925 | validation_loss: 0.4863 | validation_acc: 0.8242\n",
      "Epoch: 4 | train_loss: 0.2174 | train_acc: 0.9243 | validation_loss: 0.4243 | validation_acc: 0.8496\n",
      "Epoch: 5 | train_loss: 0.1798 | train_acc: 0.9347 | validation_loss: 0.7281 | validation_acc: 0.7891\n",
      "Epoch: 6 | train_loss: 0.1499 | train_acc: 0.9500 | validation_loss: 0.5425 | validation_acc: 0.8652\n",
      "Epoch: 7 | train_loss: 0.1421 | train_acc: 0.9457 | validation_loss: 0.6720 | validation_acc: 0.8535\n",
      "Epoch: 8 | train_loss: 0.1270 | train_acc: 0.9557 | validation_loss: 0.6613 | validation_acc: 0.8633\n",
      "Epoch: 9 | train_loss: 0.1168 | train_acc: 0.9607 | validation_loss: 0.4938 | validation_acc: 0.8750\n",
      "Epoch: 10 | train_loss: 0.1034 | train_acc: 0.9645 | validation_loss: 0.6537 | validation_acc: 0.8672\n",
      "Epoch: 11 | train_loss: 0.0799 | train_acc: 0.9742 | validation_loss: 0.4213 | validation_acc: 0.8887\n",
      "Epoch: 12 | train_loss: 0.0825 | train_acc: 0.9728 | validation_loss: 0.6429 | validation_acc: 0.8789\n",
      "Epoch: 13 | train_loss: 0.0768 | train_acc: 0.9765 | validation_loss: 0.7010 | validation_acc: 0.8438\n",
      "Epoch: 14 | train_loss: 0.0667 | train_acc: 0.9772 | validation_loss: 0.4383 | validation_acc: 0.8691\n",
      "Epoch: 15 | train_loss: 0.0683 | train_acc: 0.9780 | validation_loss: 0.9573 | validation_acc: 0.8750\n",
      "Epoch: 16 | train_loss: 0.0692 | train_acc: 0.9770 | validation_loss: 0.4094 | validation_acc: 0.8809\n",
      "Epoch: 17 | train_loss: 0.0616 | train_acc: 0.9792 | validation_loss: 0.6236 | validation_acc: 0.8906\n",
      "Epoch: 18 | train_loss: 0.0595 | train_acc: 0.9802 | validation_loss: 0.9811 | validation_acc: 0.8457\n",
      "Epoch: 19 | train_loss: 0.0490 | train_acc: 0.9855 | validation_loss: 0.5901 | validation_acc: 0.8750\n",
      "Epoch: 20 | train_loss: 0.0450 | train_acc: 0.9828 | validation_loss: 0.7362 | validation_acc: 0.8867\n",
      "Epoch: 21 | train_loss: 0.0557 | train_acc: 0.9818 | validation_loss: 0.4814 | validation_acc: 0.9004\n",
      "Epoch: 22 | train_loss: 0.0593 | train_acc: 0.9792 | validation_loss: 0.5357 | validation_acc: 0.8828\n",
      "Epoch: 23 | train_loss: 0.0517 | train_acc: 0.9822 | validation_loss: 0.6757 | validation_acc: 0.8926\n",
      "Epoch: 24 | train_loss: 0.0533 | train_acc: 0.9802 | validation_loss: 0.7371 | validation_acc: 0.8359\n",
      "Epoch: 25 | train_loss: 0.0447 | train_acc: 0.9858 | validation_loss: 0.5721 | validation_acc: 0.8926\n",
      "Epoch: 26 | train_loss: 0.0397 | train_acc: 0.9848 | validation_loss: 0.8327 | validation_acc: 0.8809\n",
      "Epoch: 27 | train_loss: 0.0409 | train_acc: 0.9862 | validation_loss: 0.5840 | validation_acc: 0.8906\n",
      "Epoch: 28 | train_loss: 0.0258 | train_acc: 0.9910 | validation_loss: 0.8969 | validation_acc: 0.8633\n",
      "Epoch: 29 | train_loss: 0.0434 | train_acc: 0.9852 | validation_loss: 0.7512 | validation_acc: 0.8809\n",
      "Epoch: 30 | train_loss: 0.0430 | train_acc: 0.9842 | validation_loss: 0.5889 | validation_acc: 0.8867\n",
      "Epoch: 31 | train_loss: 0.0442 | train_acc: 0.9872 | validation_loss: 1.0374 | validation_acc: 0.8652\n",
      "Epoch: 32 | train_loss: 0.0290 | train_acc: 0.9902 | validation_loss: 0.7944 | validation_acc: 0.8516\n",
      "Epoch: 33 | train_loss: 0.0319 | train_acc: 0.9890 | validation_loss: 0.9492 | validation_acc: 0.8574\n",
      "Epoch: 34 | train_loss: 0.0360 | train_acc: 0.9888 | validation_loss: 0.7903 | validation_acc: 0.8750\n",
      "Epoch: 35 | train_loss: 0.0325 | train_acc: 0.9885 | validation_loss: 0.7496 | validation_acc: 0.8945\n",
      "Epoch: 36 | train_loss: 0.0301 | train_acc: 0.9908 | validation_loss: 0.6519 | validation_acc: 0.8848\n",
      "Epoch: 37 | train_loss: 0.0225 | train_acc: 0.9920 | validation_loss: 0.9584 | validation_acc: 0.8652\n",
      "Epoch: 38 | train_loss: 0.0293 | train_acc: 0.9905 | validation_loss: 0.7918 | validation_acc: 0.8770\n",
      "Epoch: 39 | train_loss: 0.0239 | train_acc: 0.9920 | validation_loss: 0.5447 | validation_acc: 0.8906\n",
      "Epoch: 40 | train_loss: 0.0268 | train_acc: 0.9908 | validation_loss: 0.8914 | validation_acc: 0.8789\n",
      "Epoch: 41 | train_loss: 0.0191 | train_acc: 0.9935 | validation_loss: 0.7172 | validation_acc: 0.8887\n",
      "Epoch: 42 | train_loss: 0.0175 | train_acc: 0.9948 | validation_loss: 0.9836 | validation_acc: 0.8984\n",
      "Epoch: 43 | train_loss: 0.0274 | train_acc: 0.9908 | validation_loss: 0.8147 | validation_acc: 0.8672\n",
      "Epoch: 44 | train_loss: 0.0344 | train_acc: 0.9905 | validation_loss: 0.4091 | validation_acc: 0.8984\n",
      "Epoch: 45 | train_loss: 0.0172 | train_acc: 0.9942 | validation_loss: 0.7517 | validation_acc: 0.9043\n",
      "Epoch: 46 | train_loss: 0.0180 | train_acc: 0.9955 | validation_loss: 0.6224 | validation_acc: 0.9082\n",
      "Epoch: 47 | train_loss: 0.0269 | train_acc: 0.9912 | validation_loss: 1.0843 | validation_acc: 0.8867\n",
      "Epoch: 48 | train_loss: 0.0224 | train_acc: 0.9928 | validation_loss: 0.7032 | validation_acc: 0.8750\n",
      "Epoch: 49 | train_loss: 0.0264 | train_acc: 0.9915 | validation_loss: 0.9371 | validation_acc: 0.8594\n",
      "Epoch: 50 | train_loss: 0.0239 | train_acc: 0.9930 | validation_loss: 0.5814 | validation_acc: 0.8730\n",
      "Epoch: 51 | train_loss: 0.0205 | train_acc: 0.9918 | validation_loss: 0.7860 | validation_acc: 0.8809\n",
      "Epoch: 52 | train_loss: 0.0373 | train_acc: 0.9875 | validation_loss: 1.1264 | validation_acc: 0.8711\n",
      "Epoch: 53 | train_loss: 0.0168 | train_acc: 0.9928 | validation_loss: 1.1602 | validation_acc: 0.8750\n",
      "Epoch: 54 | train_loss: 0.0139 | train_acc: 0.9960 | validation_loss: 0.8368 | validation_acc: 0.8945\n",
      "Epoch: 55 | train_loss: 0.0057 | train_acc: 0.9985 | validation_loss: 1.2389 | validation_acc: 0.8477\n",
      "Epoch: 56 | train_loss: 0.0320 | train_acc: 0.9890 | validation_loss: 0.7010 | validation_acc: 0.8809\n",
      "Epoch: 57 | train_loss: 0.0191 | train_acc: 0.9938 | validation_loss: 0.6816 | validation_acc: 0.9199\n",
      "Epoch: 58 | train_loss: 0.0146 | train_acc: 0.9945 | validation_loss: 0.8571 | validation_acc: 0.8867\n",
      "Epoch: 59 | train_loss: 0.0113 | train_acc: 0.9960 | validation_loss: 0.9246 | validation_acc: 0.9121\n",
      "Epoch: 60 | train_loss: 0.0297 | train_acc: 0.9900 | validation_loss: 0.9087 | validation_acc: 0.8848\n",
      "Epoch: 61 | train_loss: 0.0136 | train_acc: 0.9958 | validation_loss: 0.7340 | validation_acc: 0.9082\n",
      "Epoch: 62 | train_loss: 0.0178 | train_acc: 0.9948 | validation_loss: 1.0572 | validation_acc: 0.8887\n",
      "Epoch: 63 | train_loss: 0.0139 | train_acc: 0.9945 | validation_loss: 0.8884 | validation_acc: 0.8828\n",
      "Epoch: 64 | train_loss: 0.0142 | train_acc: 0.9952 | validation_loss: 0.8066 | validation_acc: 0.8984\n",
      "Epoch: 65 | train_loss: 0.0097 | train_acc: 0.9972 | validation_loss: 0.9373 | validation_acc: 0.8867\n",
      "Epoch: 66 | train_loss: 0.0243 | train_acc: 0.9920 | validation_loss: 0.9578 | validation_acc: 0.8945\n",
      "Epoch: 67 | train_loss: 0.0157 | train_acc: 0.9938 | validation_loss: 0.8702 | validation_acc: 0.9004\n",
      "Epoch: 68 | train_loss: 0.0289 | train_acc: 0.9900 | validation_loss: 0.7836 | validation_acc: 0.8828\n",
      "Epoch: 69 | train_loss: 0.0056 | train_acc: 0.9972 | validation_loss: 0.8663 | validation_acc: 0.8965\n",
      "Epoch: 70 | train_loss: 0.0129 | train_acc: 0.9965 | validation_loss: 0.7216 | validation_acc: 0.9023\n",
      "Epoch: 71 | train_loss: 0.0108 | train_acc: 0.9972 | validation_loss: 0.8371 | validation_acc: 0.9004\n",
      "Epoch: 72 | train_loss: 0.0062 | train_acc: 0.9975 | validation_loss: 0.9908 | validation_acc: 0.9023\n",
      "Epoch: 73 | train_loss: 0.0109 | train_acc: 0.9970 | validation_loss: 1.5488 | validation_acc: 0.8965\n",
      "Epoch: 74 | train_loss: 0.0158 | train_acc: 0.9948 | validation_loss: 0.5723 | validation_acc: 0.9141\n",
      "Epoch: 75 | train_loss: 0.0183 | train_acc: 0.9948 | validation_loss: 0.9843 | validation_acc: 0.8945\n",
      "Epoch: 76 | train_loss: 0.0110 | train_acc: 0.9958 | validation_loss: 0.8569 | validation_acc: 0.8887\n",
      "Epoch: 77 | train_loss: 0.0188 | train_acc: 0.9940 | validation_loss: 0.9241 | validation_acc: 0.8809\n",
      "Epoch: 78 | train_loss: 0.0141 | train_acc: 0.9952 | validation_loss: 0.7120 | validation_acc: 0.9062\n",
      "Epoch: 79 | train_loss: 0.0068 | train_acc: 0.9982 | validation_loss: 0.9652 | validation_acc: 0.9121\n",
      "Epoch: 80 | train_loss: 0.0038 | train_acc: 0.9988 | validation_loss: 1.1242 | validation_acc: 0.8926\n",
      "Epoch: 81 | train_loss: 0.0169 | train_acc: 0.9945 | validation_loss: 0.9718 | validation_acc: 0.8926\n",
      "Epoch: 82 | train_loss: 0.0185 | train_acc: 0.9928 | validation_loss: 0.9281 | validation_acc: 0.8848\n",
      "Epoch: 83 | train_loss: 0.0130 | train_acc: 0.9960 | validation_loss: 1.4751 | validation_acc: 0.8906\n",
      "Epoch: 84 | train_loss: 0.0103 | train_acc: 0.9970 | validation_loss: 0.8825 | validation_acc: 0.8906\n",
      "Epoch: 85 | train_loss: 0.0093 | train_acc: 0.9970 | validation_loss: 0.9799 | validation_acc: 0.9004\n",
      "Epoch: 86 | train_loss: 0.0110 | train_acc: 0.9958 | validation_loss: 0.6627 | validation_acc: 0.9180\n",
      "Epoch: 87 | train_loss: 0.0141 | train_acc: 0.9942 | validation_loss: 0.9515 | validation_acc: 0.8887\n",
      "Epoch: 88 | train_loss: 0.0059 | train_acc: 0.9978 | validation_loss: 1.1753 | validation_acc: 0.8750\n",
      "Epoch: 89 | train_loss: 0.0170 | train_acc: 0.9940 | validation_loss: 0.9645 | validation_acc: 0.8926\n",
      "Epoch: 90 | train_loss: 0.0241 | train_acc: 0.9938 | validation_loss: 1.1027 | validation_acc: 0.9062\n",
      "Epoch: 91 | train_loss: 0.0081 | train_acc: 0.9972 | validation_loss: 1.1105 | validation_acc: 0.8965\n",
      "Epoch: 92 | train_loss: 0.0138 | train_acc: 0.9950 | validation_loss: 0.7154 | validation_acc: 0.8926\n",
      "Epoch: 93 | train_loss: 0.0095 | train_acc: 0.9962 | validation_loss: 1.1805 | validation_acc: 0.8945\n",
      "Epoch: 94 | train_loss: 0.0097 | train_acc: 0.9970 | validation_loss: 1.1247 | validation_acc: 0.9043\n",
      "Epoch: 95 | train_loss: 0.0075 | train_acc: 0.9968 | validation_loss: 1.1212 | validation_acc: 0.8965\n",
      "Epoch: 96 | train_loss: 0.0030 | train_acc: 0.9990 | validation_loss: 0.9764 | validation_acc: 0.9180\n",
      "Epoch: 97 | train_loss: 0.0035 | train_acc: 0.9990 | validation_loss: 1.0318 | validation_acc: 0.9102\n",
      "Epoch: 98 | train_loss: 0.0076 | train_acc: 0.9982 | validation_loss: 0.6989 | validation_acc: 0.9062\n",
      "Epoch: 99 | train_loss: 0.0101 | train_acc: 0.9952 | validation_loss: 0.9843 | validation_acc: 0.8926\n",
      "Epoch: 100 | train_loss: 0.0195 | train_acc: 0.9932 | validation_loss: 1.1701 | validation_acc: 0.8809\n"
     ]
    }
   ],
   "source": [
    "model_name = \"EfficientNetB0\"\n",
    "model_folder_path = models_path / model_name\n",
    "check_dir(model_folder_path)\n",
    "model_name_folder_path = model_folder_path / model_name\n",
    "\n",
    "#Train EfficientNet B0\n",
    "effnetb0.to(device)\n",
    "nadam_optim = torch.optim.NAdam(params=effnetb0.parameters(), lr=lr)\n",
    "train_effnetb0_results, train_time_effnetb0 = train(effnetb0, train_dl, validation_dl, optimizer=nadam_optim, loss_fn=loss_fn, epochs=NUM_EPOCHS, name_save=model_name_folder_path, device=device)"
   ]
  },
  {
   "cell_type": "code",
   "execution_count": 7,
   "metadata": {},
   "outputs": [
    {
     "data": {
      "application/vnd.jupyter.widget-view+json": {
       "model_id": "fd2b604e777245d090abdedf598df48b",
       "version_major": 2,
       "version_minor": 0
      },
      "text/plain": [
       "  0%|          | 0/32 [00:01<?, ?it/s]"
      ]
     },
     "metadata": {},
     "output_type": "display_data"
    }
   ],
   "source": [
    "eval_effnetb0_results = eval_model(effnetb0, test_dl, loss_fn = loss_fn, accuracy_fn=accuracy_fn, device = device, dummy_input= torch.rand(32,3,224,224).to(device))\n",
    "effnetb0_results = [train_effnetb0_results, train_time_effnetb0, eval_effnetb0_results]\n",
    "final_save(model_folder_path, model_name, NUM_EPOCHS, effnetb0, effnetb0_results)"
   ]
  }
 ],
 "metadata": {
  "kernelspec": {
   "display_name": "base",
   "language": "python",
   "name": "python3"
  },
  "language_info": {
   "codemirror_mode": {
    "name": "ipython",
    "version": 3
   },
   "file_extension": ".py",
   "mimetype": "text/x-python",
   "name": "python",
   "nbconvert_exporter": "python",
   "pygments_lexer": "ipython3",
   "version": "3.9.13"
  },
  "orig_nbformat": 4
 },
 "nbformat": 4,
 "nbformat_minor": 2
}
