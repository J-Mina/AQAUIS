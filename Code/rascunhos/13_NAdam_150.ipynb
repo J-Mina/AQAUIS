{
 "cells": [
  {
   "cell_type": "code",
   "execution_count": 1,
   "metadata": {},
   "outputs": [],
   "source": [
    "from pathlib import Path\n",
    "import pandas as pd\n",
    "\n",
    "from utils import *\n",
    "from dataloaders import *\n",
    "from data_preparation import *\n",
    "from allResNets import *\n",
    "from MobileNetV3 import *\n",
    "from engine import *\n",
    "from efficientNet import *\n",
    "from data_transforms import *\n",
    "\n",
    "change_to_disk()\n",
    "data_dir = Path(\"new_split_100/\")\n",
    "models_path = Path('Models_150/')\n",
    "check_dir(models_path)"
   ]
  },
  {
   "cell_type": "code",
   "execution_count": 2,
   "metadata": {},
   "outputs": [],
   "source": [
    "image_shape = (1080, 1920)\n",
    "resize_factor = 0.3\n",
    "resize = np.multiply(image_shape,resize_factor)\n",
    "resize = [int(resize[0]), int(resize[1])]\n",
    "\n",
    "data_transform = create_transform(resize=resize, rotate=10, flip_h = True, color_dev=True, transf_tensor=True, normalize=True, sp_noise=True, gauss_noise=True)\n",
    "\n",
    "BATCH_SIZE = 16\n",
    "train_dl, validation_dl, test_dl, train_data, validation_data, test_data, class_names = create_dataloaders(data_dir, data_transform, batch_size = BATCH_SIZE)"
   ]
  },
  {
   "cell_type": "code",
   "execution_count": 3,
   "metadata": {},
   "outputs": [],
   "source": [
    "NUM_EPOCHS = 150\n",
    "lr = 0.001\n",
    "device = get_device()\n",
    "\n",
    "resnet18 = ResNet18()\n",
    "resnet50 = ResNet50()\n",
    "mobnet_sml = MobileNetSmall()\n",
    "mobnet_lrg = MobileNetLarge()\n",
    "effnetb0 = EfficientNetB0()\n",
    "effnetb5 = EfficientNetB5()\n",
    "\n",
    "loss_fn = nn.CrossEntropyLoss()"
   ]
  },
  {
   "cell_type": "code",
   "execution_count": null,
   "metadata": {},
   "outputs": [],
   "source": [
    "model_name = \"ResNet18\"\n",
    "model_folder_path = models_path / model_name\n",
    "check_dir(model_folder_path)\n",
    "model_name_folder_path = model_folder_path / model_name\n",
    "\n",
    "#Train ResNet18\n",
    "resnet18.to(device)\n",
    "nadam_optim = torch.optim.NAdam(params=resnet18.parameters(), lr=lr)\n",
    "train_resnet18_results, train_time_resnet18 = train(resnet18, train_dl, validation_dl, optimizer=nadam_optim, loss_fn=loss_fn, epochs=NUM_EPOCHS, name_save=model_name_folder_path, device=device)"
   ]
  },
  {
   "cell_type": "code",
   "execution_count": null,
   "metadata": {},
   "outputs": [],
   "source": [
    "eval_resnet18_results = eval_model(resnet18, test_dl, loss_fn = loss_fn, accuracy_fn=accuracy_fn, device = device, dummy_input= torch.rand(32,3,224,224).to(device))\n",
    "resnet18_results = [train_resnet18_results, train_time_resnet18, eval_resnet18_results]\n",
    "final_save(model_folder_path,model_name, NUM_EPOCHS, resnet18, resnet18_results)"
   ]
  },
  {
   "cell_type": "code",
   "execution_count": null,
   "metadata": {},
   "outputs": [],
   "source": [
    "model_name = \"ResNet50\"\n",
    "model_folder_path = models_path / model_name\n",
    "check_dir(model_folder_path)\n",
    "model_name_folder_path = model_folder_path / model_name\n",
    "\n",
    "#Train ResNet50\n",
    "resnet50.to(device)\n",
    "nadam_optim = torch.optim.NAdam(params=resnet50.parameters(), lr=lr)\n",
    "train_resnet50_results, train_time_resnet50 = train(resnet50, train_dl, validation_dl, optimizer=nadam_optim, loss_fn=loss_fn, epochs=NUM_EPOCHS, name_save=model_name_folder_path, device=device)"
   ]
  },
  {
   "cell_type": "code",
   "execution_count": null,
   "metadata": {},
   "outputs": [],
   "source": [
    "eval_resnet50_results = eval_model(resnet50, test_dl, loss_fn = loss_fn, accuracy_fn=accuracy_fn, device = device, dummy_input= torch.rand(32,3,224,224).to(device))\n",
    "resnet50_results = [train_resnet50_results, train_time_resnet50, eval_resnet50_results]\n",
    "final_save(model_folder_path,model_name, NUM_EPOCHS, resnet50, resnet50_results)"
   ]
  },
  {
   "cell_type": "code",
   "execution_count": null,
   "metadata": {},
   "outputs": [],
   "source": [
    "model_name = \"MobileNetSmall\"\n",
    "model_folder_path = models_path / model_name\n",
    "check_dir(model_folder_path)\n",
    "model_name_folder_path = model_folder_path / model_name\n",
    "\n",
    "#Train MobileNetV3 Small\n",
    "mobnet_sml.to(device)\n",
    "nadam_optim = torch.optim.NAdam(params=mobnet_sml.parameters(), lr=lr)\n",
    "train_mobnet_sml_results, train_time_mobnet_sml = train(mobnet_sml, train_dl, validation_dl, optimizer=nadam_optim, loss_fn=loss_fn, epochs=NUM_EPOCHS, name_save=model_name_folder_path, device=device)"
   ]
  },
  {
   "cell_type": "code",
   "execution_count": null,
   "metadata": {},
   "outputs": [],
   "source": [
    "eval_mobnet_sml_results = eval_model(mobnet_sml, test_dl, loss_fn = loss_fn, accuracy_fn=accuracy_fn, device = device, dummy_input= torch.rand(32,3,224,224).to(device))\n",
    "mobnet_sml_results = [train_mobnet_sml_results, train_time_mobnet_sml, eval_mobnet_sml_results]\n",
    "final_save(model_folder_path,model_name, NUM_EPOCHS, mobnet_sml, mobnet_sml_results)"
   ]
  },
  {
   "cell_type": "code",
   "execution_count": null,
   "metadata": {},
   "outputs": [],
   "source": [
    "model_name = \"MobileNetLarge\"\n",
    "model_folder_path = models_path / model_name\n",
    "check_dir(model_folder_path)\n",
    "model_name_folder_path = model_folder_path / model_name\n",
    "\n",
    "#Train MobileNetV3 Large\n",
    "mobnet_lrg.to(device)\n",
    "nadam_optim = torch.optim.NAdam(params=mobnet_lrg.parameters(), lr=lr)\n",
    "train_mobnet_lrg_results, train_time_mobnet_lrg = train(mobnet_lrg, train_dl, validation_dl, optimizer=nadam_optim, loss_fn=loss_fn, epochs=NUM_EPOCHS, name_save=model_name_folder_path, device=device)"
   ]
  },
  {
   "cell_type": "code",
   "execution_count": null,
   "metadata": {},
   "outputs": [],
   "source": [
    "eval_mobnet_lrg_results = eval_model(mobnet_lrg, test_dl, loss_fn = loss_fn, accuracy_fn=accuracy_fn, device = device, dummy_input= torch.rand(32,3,224,224).to(device))\n",
    "mobnet_lrg_results = [train_mobnet_lrg_results, train_time_mobnet_lrg, eval_mobnet_lrg_results]\n",
    "final_save(model_folder_path, model_name, NUM_EPOCHS, mobnet_lrg, mobnet_lrg_results)"
   ]
  },
  {
   "cell_type": "code",
   "execution_count": 4,
   "metadata": {},
   "outputs": [
    {
     "data": {
      "application/vnd.jupyter.widget-view+json": {
       "model_id": "e7c038ac1c8145d4a30ea9a0d1662721",
       "version_major": 2,
       "version_minor": 0
      },
      "text/plain": [
       "  0%|          | 0/150 [00:00<?, ?it/s]"
      ]
     },
     "metadata": {},
     "output_type": "display_data"
    },
    {
     "name": "stdout",
     "output_type": "stream",
     "text": [
      "Epoch: 1 | train_loss: 1.4579 | train_acc: 0.2812 | validation_loss: 1.3655 | validation_acc: 0.3750\n",
      "Epoch: 2 | train_loss: 1.1333 | train_acc: 0.4313 | validation_loss: 1.1962 | validation_acc: 0.3750\n",
      "Epoch: 3 | train_loss: 0.9738 | train_acc: 0.5000 | validation_loss: 0.8904 | validation_acc: 0.4583\n",
      "Epoch: 4 | train_loss: 0.9822 | train_acc: 0.4719 | validation_loss: 1.4178 | validation_acc: 0.4167\n",
      "Epoch: 5 | train_loss: 0.9202 | train_acc: 0.5375 | validation_loss: 0.7834 | validation_acc: 0.6875\n",
      "Epoch: 6 | train_loss: 0.9179 | train_acc: 0.5188 | validation_loss: 0.9857 | validation_acc: 0.5208\n",
      "Epoch: 7 | train_loss: 0.8717 | train_acc: 0.4813 | validation_loss: 0.7469 | validation_acc: 0.3958\n",
      "Epoch: 8 | train_loss: 0.8572 | train_acc: 0.5531 | validation_loss: 0.7243 | validation_acc: 0.6875\n",
      "Epoch: 9 | train_loss: 0.8276 | train_acc: 0.5563 | validation_loss: 0.9702 | validation_acc: 0.4792\n",
      "Epoch: 10 | train_loss: 0.7598 | train_acc: 0.5875 | validation_loss: 0.8684 | validation_acc: 0.3750\n",
      "Epoch: 11 | train_loss: 0.8008 | train_acc: 0.5375 | validation_loss: 1.1287 | validation_acc: 0.5833\n",
      "Epoch: 12 | train_loss: 0.8148 | train_acc: 0.5656 | validation_loss: 0.6696 | validation_acc: 0.6458\n",
      "Epoch: 13 | train_loss: 0.8153 | train_acc: 0.5594 | validation_loss: 0.7305 | validation_acc: 0.7083\n",
      "Epoch: 14 | train_loss: 0.7443 | train_acc: 0.6406 | validation_loss: 0.7842 | validation_acc: 0.5208\n",
      "Epoch: 15 | train_loss: 0.7476 | train_acc: 0.6406 | validation_loss: 0.6869 | validation_acc: 0.7083\n",
      "Epoch: 16 | train_loss: 0.7275 | train_acc: 0.6406 | validation_loss: 0.6190 | validation_acc: 0.7500\n",
      "Epoch: 17 | train_loss: 0.6728 | train_acc: 0.7125 | validation_loss: 1.1353 | validation_acc: 0.4167\n",
      "Epoch: 18 | train_loss: 0.7135 | train_acc: 0.7156 | validation_loss: 1.0133 | validation_acc: 0.5000\n",
      "Epoch: 19 | train_loss: 0.5790 | train_acc: 0.7656 | validation_loss: 0.6235 | validation_acc: 0.7500\n",
      "Epoch: 20 | train_loss: 0.6109 | train_acc: 0.7375 | validation_loss: 0.6658 | validation_acc: 0.7292\n",
      "Epoch: 21 | train_loss: 0.6320 | train_acc: 0.7469 | validation_loss: 0.7459 | validation_acc: 0.7083\n",
      "Epoch: 22 | train_loss: 0.5293 | train_acc: 0.7937 | validation_loss: 0.6720 | validation_acc: 0.7083\n",
      "Epoch: 23 | train_loss: 0.5833 | train_acc: 0.7500 | validation_loss: 0.7845 | validation_acc: 0.7083\n",
      "Epoch: 24 | train_loss: 0.5949 | train_acc: 0.7188 | validation_loss: 0.7134 | validation_acc: 0.6875\n",
      "Epoch: 25 | train_loss: 0.5146 | train_acc: 0.7906 | validation_loss: 0.5047 | validation_acc: 0.7292\n",
      "Epoch: 26 | train_loss: 0.5833 | train_acc: 0.7625 | validation_loss: 0.5310 | validation_acc: 0.7292\n",
      "Epoch: 27 | train_loss: 0.5170 | train_acc: 0.7594 | validation_loss: 0.9805 | validation_acc: 0.6875\n",
      "Epoch: 28 | train_loss: 0.4942 | train_acc: 0.8125 | validation_loss: 0.7559 | validation_acc: 0.7292\n",
      "Epoch: 29 | train_loss: 0.4604 | train_acc: 0.8250 | validation_loss: 0.7985 | validation_acc: 0.7500\n",
      "Epoch: 30 | train_loss: 0.4845 | train_acc: 0.8094 | validation_loss: 0.6832 | validation_acc: 0.7500\n",
      "Epoch: 31 | train_loss: 0.3971 | train_acc: 0.8500 | validation_loss: 0.5707 | validation_acc: 0.7292\n",
      "Epoch: 32 | train_loss: 0.4261 | train_acc: 0.8187 | validation_loss: 0.6935 | validation_acc: 0.8333\n",
      "Epoch: 33 | train_loss: 0.4480 | train_acc: 0.8156 | validation_loss: 0.7808 | validation_acc: 0.6875\n",
      "Epoch: 34 | train_loss: 0.3926 | train_acc: 0.8375 | validation_loss: 0.8268 | validation_acc: 0.7292\n",
      "Epoch: 35 | train_loss: 0.3475 | train_acc: 0.8500 | validation_loss: 0.5349 | validation_acc: 0.7708\n",
      "Epoch: 36 | train_loss: 0.4479 | train_acc: 0.8125 | validation_loss: 0.6473 | validation_acc: 0.7083\n",
      "Epoch: 37 | train_loss: 0.3918 | train_acc: 0.8313 | validation_loss: 0.5510 | validation_acc: 0.7292\n",
      "Epoch: 38 | train_loss: 0.4311 | train_acc: 0.8281 | validation_loss: 0.7645 | validation_acc: 0.7083\n",
      "Epoch: 39 | train_loss: 0.3329 | train_acc: 0.8531 | validation_loss: 0.5036 | validation_acc: 0.8125\n",
      "Epoch: 40 | train_loss: 0.3385 | train_acc: 0.8719 | validation_loss: 0.7532 | validation_acc: 0.7292\n",
      "Epoch: 41 | train_loss: 0.3676 | train_acc: 0.8656 | validation_loss: 0.6364 | validation_acc: 0.7083\n",
      "Epoch: 42 | train_loss: 0.3176 | train_acc: 0.8688 | validation_loss: 0.8523 | validation_acc: 0.7708\n",
      "Epoch: 43 | train_loss: 0.3274 | train_acc: 0.8844 | validation_loss: 0.7237 | validation_acc: 0.7292\n",
      "Epoch: 44 | train_loss: 0.3242 | train_acc: 0.8938 | validation_loss: 0.5766 | validation_acc: 0.7500\n",
      "Epoch: 45 | train_loss: 0.4267 | train_acc: 0.8375 | validation_loss: 0.3917 | validation_acc: 0.8750\n",
      "Epoch: 46 | train_loss: 0.3489 | train_acc: 0.8531 | validation_loss: 0.8692 | validation_acc: 0.7708\n",
      "Epoch: 47 | train_loss: 0.3280 | train_acc: 0.8656 | validation_loss: 0.8481 | validation_acc: 0.7708\n",
      "Epoch: 48 | train_loss: 0.2951 | train_acc: 0.8906 | validation_loss: 0.4043 | validation_acc: 0.8333\n",
      "Epoch: 49 | train_loss: 0.3170 | train_acc: 0.8938 | validation_loss: 0.6017 | validation_acc: 0.7500\n",
      "Epoch: 50 | train_loss: 0.3848 | train_acc: 0.8562 | validation_loss: 0.5604 | validation_acc: 0.7708\n",
      "Epoch: 51 | train_loss: 0.2500 | train_acc: 0.9094 | validation_loss: 0.7172 | validation_acc: 0.8125\n",
      "Epoch: 52 | train_loss: 0.3493 | train_acc: 0.8594 | validation_loss: 0.8020 | validation_acc: 0.7083\n",
      "Epoch: 53 | train_loss: 0.3395 | train_acc: 0.8750 | validation_loss: 0.4597 | validation_acc: 0.8125\n",
      "Epoch: 54 | train_loss: 0.3665 | train_acc: 0.8375 | validation_loss: 0.5524 | validation_acc: 0.8333\n",
      "Epoch: 55 | train_loss: 0.2176 | train_acc: 0.9281 | validation_loss: 0.4518 | validation_acc: 0.8542\n",
      "Epoch: 56 | train_loss: 0.3747 | train_acc: 0.8625 | validation_loss: 0.4970 | validation_acc: 0.8125\n",
      "Epoch: 57 | train_loss: 0.3704 | train_acc: 0.8250 | validation_loss: 0.4997 | validation_acc: 0.8333\n",
      "Epoch: 58 | train_loss: 0.3026 | train_acc: 0.8719 | validation_loss: 0.7859 | validation_acc: 0.7292\n",
      "Epoch: 59 | train_loss: 0.3179 | train_acc: 0.8875 | validation_loss: 0.6616 | validation_acc: 0.7917\n",
      "Epoch: 60 | train_loss: 0.2660 | train_acc: 0.9125 | validation_loss: 0.7591 | validation_acc: 0.7917\n",
      "Epoch: 61 | train_loss: 0.2108 | train_acc: 0.9250 | validation_loss: 0.8954 | validation_acc: 0.7708\n",
      "Epoch: 62 | train_loss: 0.2936 | train_acc: 0.8875 | validation_loss: 0.4162 | validation_acc: 0.8333\n",
      "Epoch: 63 | train_loss: 0.2177 | train_acc: 0.9187 | validation_loss: 0.6087 | validation_acc: 0.8125\n",
      "Epoch: 64 | train_loss: 0.2864 | train_acc: 0.8844 | validation_loss: 0.4363 | validation_acc: 0.8125\n",
      "Epoch: 65 | train_loss: 0.2700 | train_acc: 0.8781 | validation_loss: 0.5994 | validation_acc: 0.8125\n",
      "Epoch: 66 | train_loss: 0.3208 | train_acc: 0.8812 | validation_loss: 1.0554 | validation_acc: 0.6875\n",
      "Epoch: 67 | train_loss: 0.2204 | train_acc: 0.9281 | validation_loss: 0.6097 | validation_acc: 0.8333\n",
      "Epoch: 68 | train_loss: 0.2731 | train_acc: 0.9000 | validation_loss: 0.5807 | validation_acc: 0.8542\n",
      "Epoch: 69 | train_loss: 0.2471 | train_acc: 0.9031 | validation_loss: 0.8554 | validation_acc: 0.7917\n",
      "Epoch: 70 | train_loss: 0.2993 | train_acc: 0.8875 | validation_loss: 0.8891 | validation_acc: 0.8125\n",
      "Epoch: 71 | train_loss: 0.2751 | train_acc: 0.8906 | validation_loss: 0.7502 | validation_acc: 0.7917\n",
      "Epoch: 72 | train_loss: 0.2448 | train_acc: 0.9156 | validation_loss: 0.4930 | validation_acc: 0.7708\n",
      "Epoch: 73 | train_loss: 0.2271 | train_acc: 0.9250 | validation_loss: 0.7698 | validation_acc: 0.8125\n",
      "Epoch: 74 | train_loss: 0.1827 | train_acc: 0.9344 | validation_loss: 0.6099 | validation_acc: 0.8542\n",
      "Epoch: 75 | train_loss: 0.2277 | train_acc: 0.9094 | validation_loss: 0.8210 | validation_acc: 0.7917\n",
      "Epoch: 76 | train_loss: 0.2430 | train_acc: 0.9187 | validation_loss: 0.7436 | validation_acc: 0.7500\n",
      "Epoch: 77 | train_loss: 0.1720 | train_acc: 0.9375 | validation_loss: 0.5066 | validation_acc: 0.8333\n",
      "Epoch: 78 | train_loss: 0.3520 | train_acc: 0.8781 | validation_loss: 0.5485 | validation_acc: 0.7708\n",
      "Epoch: 79 | train_loss: 0.2081 | train_acc: 0.9125 | validation_loss: 0.7127 | validation_acc: 0.7708\n",
      "Epoch: 80 | train_loss: 0.2563 | train_acc: 0.9250 | validation_loss: 0.5367 | validation_acc: 0.8333\n",
      "Epoch: 81 | train_loss: 0.2233 | train_acc: 0.9250 | validation_loss: 0.6168 | validation_acc: 0.7917\n",
      "Epoch: 82 | train_loss: 0.1398 | train_acc: 0.9375 | validation_loss: 0.8175 | validation_acc: 0.7917\n",
      "Epoch: 83 | train_loss: 0.3041 | train_acc: 0.8906 | validation_loss: 0.4949 | validation_acc: 0.8542\n",
      "Epoch: 84 | train_loss: 0.2309 | train_acc: 0.9062 | validation_loss: 0.5497 | validation_acc: 0.8125\n",
      "Epoch: 85 | train_loss: 0.2881 | train_acc: 0.8844 | validation_loss: 0.4724 | validation_acc: 0.8750\n",
      "Epoch: 86 | train_loss: 0.2127 | train_acc: 0.8938 | validation_loss: 0.5613 | validation_acc: 0.8542\n",
      "Epoch: 87 | train_loss: 0.1834 | train_acc: 0.9219 | validation_loss: 0.9088 | validation_acc: 0.8333\n",
      "Epoch: 88 | train_loss: 0.2357 | train_acc: 0.9250 | validation_loss: 0.9882 | validation_acc: 0.7500\n",
      "Epoch: 89 | train_loss: 0.1556 | train_acc: 0.9313 | validation_loss: 0.4656 | validation_acc: 0.9167\n",
      "Epoch: 90 | train_loss: 0.1653 | train_acc: 0.9406 | validation_loss: 0.6826 | validation_acc: 0.8333\n",
      "Epoch: 91 | train_loss: 0.1755 | train_acc: 0.9281 | validation_loss: 0.4551 | validation_acc: 0.8542\n",
      "Epoch: 92 | train_loss: 0.2089 | train_acc: 0.9187 | validation_loss: 0.7761 | validation_acc: 0.7500\n",
      "Epoch: 93 | train_loss: 0.1656 | train_acc: 0.9281 | validation_loss: 0.9072 | validation_acc: 0.7708\n",
      "Epoch: 94 | train_loss: 0.2045 | train_acc: 0.9125 | validation_loss: 1.0260 | validation_acc: 0.7292\n",
      "Epoch: 95 | train_loss: 0.2477 | train_acc: 0.8875 | validation_loss: 0.5833 | validation_acc: 0.8333\n",
      "Epoch: 96 | train_loss: 0.1731 | train_acc: 0.9281 | validation_loss: 0.8378 | validation_acc: 0.7917\n",
      "Epoch: 97 | train_loss: 0.2919 | train_acc: 0.8906 | validation_loss: 0.8808 | validation_acc: 0.8125\n",
      "Epoch: 98 | train_loss: 0.1311 | train_acc: 0.9531 | validation_loss: 0.7085 | validation_acc: 0.7917\n",
      "Epoch: 99 | train_loss: 0.1468 | train_acc: 0.9500 | validation_loss: 0.6008 | validation_acc: 0.8333\n",
      "Epoch: 100 | train_loss: 0.1879 | train_acc: 0.9281 | validation_loss: 0.8003 | validation_acc: 0.8333\n",
      "Epoch: 101 | train_loss: 0.2099 | train_acc: 0.9187 | validation_loss: 0.6492 | validation_acc: 0.7917\n",
      "Epoch: 102 | train_loss: 0.2030 | train_acc: 0.9094 | validation_loss: 0.5870 | validation_acc: 0.8333\n",
      "Epoch: 103 | train_loss: 0.1647 | train_acc: 0.9375 | validation_loss: 0.7234 | validation_acc: 0.7917\n",
      "Epoch: 104 | train_loss: 0.1439 | train_acc: 0.9406 | validation_loss: 0.5711 | validation_acc: 0.8542\n",
      "Epoch: 105 | train_loss: 0.1759 | train_acc: 0.9281 | validation_loss: 0.6503 | validation_acc: 0.7917\n",
      "Epoch: 106 | train_loss: 0.1605 | train_acc: 0.9281 | validation_loss: 0.7727 | validation_acc: 0.7500\n",
      "Epoch: 107 | train_loss: 0.2119 | train_acc: 0.9094 | validation_loss: 0.9377 | validation_acc: 0.7500\n",
      "Epoch: 108 | train_loss: 0.1997 | train_acc: 0.9344 | validation_loss: 0.8787 | validation_acc: 0.8333\n",
      "Epoch: 109 | train_loss: 0.1656 | train_acc: 0.9469 | validation_loss: 0.4625 | validation_acc: 0.8333\n",
      "Epoch: 110 | train_loss: 0.1518 | train_acc: 0.9313 | validation_loss: 0.6331 | validation_acc: 0.7500\n",
      "Epoch: 111 | train_loss: 0.1764 | train_acc: 0.9219 | validation_loss: 0.7084 | validation_acc: 0.7500\n",
      "Epoch: 112 | train_loss: 0.1803 | train_acc: 0.9375 | validation_loss: 0.7833 | validation_acc: 0.8333\n",
      "Epoch: 113 | train_loss: 0.1631 | train_acc: 0.9469 | validation_loss: 0.6578 | validation_acc: 0.8333\n",
      "Epoch: 114 | train_loss: 0.1133 | train_acc: 0.9594 | validation_loss: 0.9446 | validation_acc: 0.7708\n",
      "Epoch: 115 | train_loss: 0.1188 | train_acc: 0.9531 | validation_loss: 0.8441 | validation_acc: 0.8542\n",
      "Epoch: 116 | train_loss: 0.2308 | train_acc: 0.9187 | validation_loss: 0.7804 | validation_acc: 0.8333\n",
      "Epoch: 117 | train_loss: 0.1908 | train_acc: 0.9187 | validation_loss: 0.3823 | validation_acc: 0.8750\n",
      "Epoch: 118 | train_loss: 0.1458 | train_acc: 0.9437 | validation_loss: 0.8478 | validation_acc: 0.7917\n",
      "Epoch: 119 | train_loss: 0.1025 | train_acc: 0.9563 | validation_loss: 0.5493 | validation_acc: 0.8333\n",
      "Epoch: 120 | train_loss: 0.1219 | train_acc: 0.9563 | validation_loss: 0.7491 | validation_acc: 0.8542\n",
      "Epoch: 121 | train_loss: 0.1354 | train_acc: 0.9406 | validation_loss: 0.4563 | validation_acc: 0.9375\n",
      "Epoch: 122 | train_loss: 0.1302 | train_acc: 0.9437 | validation_loss: 0.8378 | validation_acc: 0.8542\n",
      "Epoch: 123 | train_loss: 0.2193 | train_acc: 0.9250 | validation_loss: 0.7340 | validation_acc: 0.7917\n",
      "Epoch: 124 | train_loss: 0.2411 | train_acc: 0.9156 | validation_loss: 0.6176 | validation_acc: 0.8333\n",
      "Epoch: 125 | train_loss: 0.1782 | train_acc: 0.9500 | validation_loss: 0.6656 | validation_acc: 0.8125\n",
      "Epoch: 126 | train_loss: 0.1281 | train_acc: 0.9625 | validation_loss: 0.7394 | validation_acc: 0.8125\n",
      "Epoch: 127 | train_loss: 0.1586 | train_acc: 0.9406 | validation_loss: 0.8086 | validation_acc: 0.7708\n",
      "Epoch: 128 | train_loss: 0.1955 | train_acc: 0.9250 | validation_loss: 0.4324 | validation_acc: 0.8958\n",
      "Epoch: 129 | train_loss: 0.1484 | train_acc: 0.9313 | validation_loss: 0.6314 | validation_acc: 0.8125\n",
      "Epoch: 130 | train_loss: 0.1193 | train_acc: 0.9594 | validation_loss: 0.6990 | validation_acc: 0.7917\n",
      "Epoch: 131 | train_loss: 0.1568 | train_acc: 0.9375 | validation_loss: 0.6677 | validation_acc: 0.8333\n",
      "Epoch: 132 | train_loss: 0.1312 | train_acc: 0.9437 | validation_loss: 0.5936 | validation_acc: 0.8542\n",
      "Epoch: 133 | train_loss: 0.1656 | train_acc: 0.9500 | validation_loss: 0.3967 | validation_acc: 0.9167\n",
      "Epoch: 134 | train_loss: 0.1225 | train_acc: 0.9469 | validation_loss: 0.5599 | validation_acc: 0.8333\n",
      "Epoch: 135 | train_loss: 0.1047 | train_acc: 0.9594 | validation_loss: 0.4864 | validation_acc: 0.7917\n",
      "Epoch: 136 | train_loss: 0.0900 | train_acc: 0.9688 | validation_loss: 0.5292 | validation_acc: 0.8125\n",
      "Epoch: 137 | train_loss: 0.1484 | train_acc: 0.9344 | validation_loss: 0.6671 | validation_acc: 0.8125\n",
      "Epoch: 138 | train_loss: 0.2300 | train_acc: 0.9031 | validation_loss: 0.6961 | validation_acc: 0.8333\n",
      "Epoch: 139 | train_loss: 0.1772 | train_acc: 0.9344 | validation_loss: 0.5444 | validation_acc: 0.7917\n",
      "Epoch: 140 | train_loss: 0.1060 | train_acc: 0.9531 | validation_loss: 0.5995 | validation_acc: 0.7708\n",
      "Epoch: 141 | train_loss: 0.1190 | train_acc: 0.9500 | validation_loss: 0.7921 | validation_acc: 0.7917\n",
      "Epoch: 142 | train_loss: 0.1187 | train_acc: 0.9594 | validation_loss: 0.4676 | validation_acc: 0.8750\n",
      "Epoch: 143 | train_loss: 0.1327 | train_acc: 0.9469 | validation_loss: 0.3130 | validation_acc: 0.8958\n",
      "Epoch: 144 | train_loss: 0.1470 | train_acc: 0.9500 | validation_loss: 0.6259 | validation_acc: 0.8542\n",
      "Epoch: 145 | train_loss: 0.1128 | train_acc: 0.9594 | validation_loss: 0.5376 | validation_acc: 0.8750\n",
      "Epoch: 146 | train_loss: 0.1252 | train_acc: 0.9375 | validation_loss: 0.5137 | validation_acc: 0.8125\n",
      "Epoch: 147 | train_loss: 0.0849 | train_acc: 0.9750 | validation_loss: 0.3119 | validation_acc: 0.9167\n",
      "Epoch: 148 | train_loss: 0.1407 | train_acc: 0.9625 | validation_loss: 0.5365 | validation_acc: 0.8750\n",
      "Epoch: 149 | train_loss: 0.1038 | train_acc: 0.9656 | validation_loss: 0.7937 | validation_acc: 0.8333\n",
      "Epoch: 150 | train_loss: 0.2669 | train_acc: 0.9094 | validation_loss: 0.6422 | validation_acc: 0.8750\n"
     ]
    }
   ],
   "source": [
    "model_name = \"EfficientNetB0_1\"\n",
    "model_folder_path = models_path / model_name\n",
    "check_dir(model_folder_path)\n",
    "model_name_folder_path = model_folder_path / model_name\n",
    "\n",
    "#Train EfficientNet B0\n",
    "effnetb0.to(device)\n",
    "nadam_optim = torch.optim.NAdam(params=effnetb0.parameters(), lr=lr)\n",
    "train_effnetb0_results, train_time_effnetb0 = train(effnetb0, train_dl, validation_dl, optimizer=nadam_optim, loss_fn=loss_fn, epochs=NUM_EPOCHS, name_save=model_name_folder_path, device=device)"
   ]
  },
  {
   "cell_type": "code",
   "execution_count": 9,
   "metadata": {},
   "outputs": [
    {
     "data": {
      "application/vnd.jupyter.widget-view+json": {
       "model_id": "8d0a4752bfe242679b9053abfdd5f27e",
       "version_major": 2,
       "version_minor": 0
      },
      "text/plain": [
       "  0%|          | 0/3 [00:02<?, ?it/s]"
      ]
     },
     "metadata": {},
     "output_type": "display_data"
    }
   ],
   "source": [
    "eval_effnetb0_results = eval_model(effnetb0, test_dl, loss_fn = loss_fn, accuracy_fn=accuracy_fn, device = device, dummy_input= torch.rand(32,3,224,224).to(device))\n",
    "effnetb0_results = [train_effnetb0_results, train_time_effnetb0, eval_effnetb0_results]\n",
    "final_save(model_folder_path, model_name, NUM_EPOCHS, effnetb0, effnetb0_results)"
   ]
  },
  {
   "cell_type": "code",
   "execution_count": 7,
   "metadata": {},
   "outputs": [],
   "source": [
    "torch.cuda.empty_cache()"
   ]
  },
  {
   "cell_type": "code",
   "execution_count": 8,
   "metadata": {},
   "outputs": [
    {
     "name": "stdout",
     "output_type": "stream",
     "text": [
      "Tue Jun 20 20:37:37 2023       \n",
      "+-----------------------------------------------------------------------------+\n",
      "| NVIDIA-SMI 516.01       Driver Version: 516.01       CUDA Version: 11.7     |\n",
      "|-------------------------------+----------------------+----------------------+\n",
      "| GPU  Name            TCC/WDDM | Bus-Id        Disp.A | Volatile Uncorr. ECC |\n",
      "| Fan  Temp  Perf  Pwr:Usage/Cap|         Memory-Usage | GPU-Util  Compute M. |\n",
      "|                               |                      |               MIG M. |\n",
      "|===============================+======================+======================|\n",
      "|   0  NVIDIA GeForce ... WDDM  | 00000000:01:00.0  On |                  N/A |\n",
      "| N/A   52C    P8     6W /  N/A |   5620MiB /  8192MiB |     16%      Default |\n",
      "|                               |                      |                  N/A |\n",
      "+-------------------------------+----------------------+----------------------+\n",
      "                                                                               \n",
      "+-----------------------------------------------------------------------------+\n",
      "| Processes:                                                                  |\n",
      "|  GPU   GI   CI        PID   Type   Process name                  GPU Memory |\n",
      "|        ID   ID                                                   Usage      |\n",
      "|=============================================================================|\n",
      "|    0   N/A  N/A      1760    C+G   ...wekyb3d8bbwe\\Video.UI.exe    N/A      |\n",
      "|    0   N/A  N/A      4808    C+G   ...2txyewy\\TextInputHost.exe    N/A      |\n",
      "|    0   N/A  N/A      7544    C+G   C:\\Windows\\explorer.exe         N/A      |\n",
      "|    0   N/A  N/A      9124    C+G   ...n1h2txyewy\\SearchHost.exe    N/A      |\n",
      "|    0   N/A  N/A      9188    C+G   ...artMenuExperienceHost.exe    N/A      |\n",
      "|    0   N/A  N/A      9604    C+G   ...y\\ShellExperienceHost.exe    N/A      |\n",
      "|    0   N/A  N/A     10208      C   ...oaor\\anaconda3\\python.exe    N/A      |\n",
      "|    0   N/A  N/A     11408    C+G   ...perience\\NVIDIA Share.exe    N/A      |\n",
      "|    0   N/A  N/A     11848    C+G   ...e\\PhoneExperienceHost.exe    N/A      |\n",
      "|    0   N/A  N/A     12696    C+G   ...oft OneDrive\\OneDrive.exe    N/A      |\n",
      "|    0   N/A  N/A     12800    C+G   ...oft OneDrive\\OneDrive.exe    N/A      |\n",
      "|    0   N/A  N/A     13392    C+G   ...ge\\Application\\msedge.exe    N/A      |\n",
      "|    0   N/A  N/A     14292    C+G   ...icrosoft VS Code\\Code.exe    N/A      |\n",
      "|    0   N/A  N/A     14652    C+G   ...me\\Application\\chrome.exe    N/A      |\n",
      "|    0   N/A  N/A     15044    C+G   ...823.51\\msedgewebview2.exe    N/A      |\n",
      "|    0   N/A  N/A     16616    C+G   ...4__8j3eq9eme6ctt\\IGCC.exe    N/A      |\n",
      "|    0   N/A  N/A     17720    C+G   ...8wekyb3d8bbwe\\GameBar.exe    N/A      |\n",
      "+-----------------------------------------------------------------------------+\n"
     ]
    }
   ],
   "source": [
    "!nvidia-smi"
   ]
  }
 ],
 "metadata": {
  "kernelspec": {
   "display_name": "base",
   "language": "python",
   "name": "python3"
  },
  "language_info": {
   "codemirror_mode": {
    "name": "ipython",
    "version": 3
   },
   "file_extension": ".py",
   "mimetype": "text/x-python",
   "name": "python",
   "nbconvert_exporter": "python",
   "pygments_lexer": "ipython3",
   "version": "3.9.13"
  },
  "orig_nbformat": 4
 },
 "nbformat": 4,
 "nbformat_minor": 2
}
