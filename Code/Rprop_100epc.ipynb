{
 "cells": [
  {
   "attachments": {},
   "cell_type": "markdown",
   "metadata": {},
   "source": [
    "# Compare the performance of models (loss/accuracy, latency)\n",
    "\n",
    "The models to compare will  be:\n",
    "* ResNet18\n",
    "* ResNet50\n",
    "* VGG16 - Takes a long time to train\n",
    "* MobileNetV3 - small\n",
    "* MobileNetV3 - large\n",
    "* EfficientNet"
   ]
  },
  {
   "cell_type": "code",
   "execution_count": 1,
   "metadata": {},
   "outputs": [],
   "source": [
    "from pathlib import Path\n",
    "import pandas as pd\n",
    "\n",
    "from utils import *\n",
    "from dataloaders import *\n",
    "from data_preparation import *\n",
    "from allResNets import *\n",
    "from VGGs import *\n",
    "from MobileNetV3 import *\n",
    "from engine import *\n",
    "\n",
    "change_to_disk()\n",
    "data_dir = Path(\"new_split_1k/\")"
   ]
  },
  {
   "cell_type": "code",
   "execution_count": 2,
   "metadata": {},
   "outputs": [],
   "source": [
    "data_transform = transforms.Compose([\n",
    "    # Resize our images to 224x224\n",
    "    transforms.Resize(size=(224, 224)),\n",
    "    # Rotate the images randomly (just to make it as independent from the position of the pipeline)\n",
    "    transforms.RandomRotation(180),\n",
    "    # Random crop\n",
    "    transforms.RandomCrop(140),\n",
    "\n",
    "    #Random horizontal flip\n",
    "    transforms.RandomHorizontalFlip(p=0.5),\n",
    "    # Turn the image into a torch.Tensor\n",
    "    transforms.ToTensor(),\n",
    "    # Normalize\n",
    "    transforms.Normalize(mean=(0.5, 0.5, 0.5), std=(0.5, 0.5, 0.5))\n",
    "])\n",
    "\n",
    "BATCH_SIZE = 32\n",
    "train_dl, validation_dl, test_dl, train_data, validation_data, test_data, class_names = create_dataloaders(data_dir, data_transform, batch_size = BATCH_SIZE)"
   ]
  },
  {
   "cell_type": "code",
   "execution_count": 3,
   "metadata": {},
   "outputs": [],
   "source": [
    "# Things to play with\n",
    "# Hyperparameters -> NUM_EPOCHS - 100 | Learning_rate - 0.001 \n",
    "# Functions -> Optimizer - Rprop | Loss Function - Cross Entropy Loss\n",
    "\n",
    "NUM_EPOCHS = 100\n",
    "lr = 0.001\n",
    "device = get_device()\n",
    "\n",
    "resnet18 = ResNet18()\n",
    "resnet50 = ResNet50()\n",
    "vgg13 = VGG13()\n",
    "mobnet_sml = MobileNetV3(\"small\")\n",
    "mobnet_lrg = MobileNetV3(\"large\")\n",
    "\n",
    "loss_fn = nn.CrossEntropyLoss()"
   ]
  },
  {
   "cell_type": "code",
   "execution_count": 4,
   "metadata": {},
   "outputs": [
    {
     "data": {
      "application/vnd.jupyter.widget-view+json": {
       "model_id": "5c73f367629e43c3804c170668663523",
       "version_major": 2,
       "version_minor": 0
      },
      "text/plain": [
       "  0%|          | 0/100 [00:00<?, ?it/s]"
      ]
     },
     "metadata": {},
     "output_type": "display_data"
    },
    {
     "name": "stdout",
     "output_type": "stream",
     "text": [
      "Epoch: 1 | train_loss: 0.7605 | train_acc: 0.6518 | validation_loss: 3.5535 | validation_acc: 0.3242\n",
      "Epoch: 2 | train_loss: 0.5156 | train_acc: 0.7518 | validation_loss: 2.2950 | validation_acc: 0.4688\n",
      "Epoch: 3 | train_loss: 0.4659 | train_acc: 0.7893 | validation_loss: 2.4184 | validation_acc: 0.5160\n",
      "Epoch: 4 | train_loss: 0.4817 | train_acc: 0.7840 | validation_loss: 2.8484 | validation_acc: 0.4785\n",
      "Epoch: 5 | train_loss: 0.4356 | train_acc: 0.8055 | validation_loss: 1.7864 | validation_acc: 0.5730\n",
      "Epoch: 6 | train_loss: 0.4190 | train_acc: 0.8140 | validation_loss: 0.4511 | validation_acc: 0.8234\n",
      "Epoch: 7 | train_loss: 0.3800 | train_acc: 0.8297 | validation_loss: 6.8229 | validation_acc: 0.4238\n",
      "Epoch: 8 | train_loss: 0.3775 | train_acc: 0.8303 | validation_loss: 14.1183 | validation_acc: 0.3652\n",
      "Epoch: 9 | train_loss: 0.4028 | train_acc: 0.8213 | validation_loss: 0.5431 | validation_acc: 0.7566\n",
      "Epoch: 10 | train_loss: 0.3409 | train_acc: 0.8403 | validation_loss: 0.5424 | validation_acc: 0.7977\n",
      "Epoch: 11 | train_loss: 0.3522 | train_acc: 0.8397 | validation_loss: 7.3549 | validation_acc: 0.5332\n",
      "Epoch: 12 | train_loss: 0.3451 | train_acc: 0.8425 | validation_loss: 0.6999 | validation_acc: 0.7176\n",
      "Epoch: 13 | train_loss: 0.3314 | train_acc: 0.8542 | validation_loss: 0.4050 | validation_acc: 0.8309\n",
      "Epoch: 14 | train_loss: 0.3288 | train_acc: 0.8522 | validation_loss: 1.8426 | validation_acc: 0.5922\n",
      "Epoch: 15 | train_loss: 0.3031 | train_acc: 0.8620 | validation_loss: 0.5937 | validation_acc: 0.7859\n",
      "Epoch: 16 | train_loss: 0.2973 | train_acc: 0.8632 | validation_loss: 0.5552 | validation_acc: 0.7625\n",
      "Epoch: 17 | train_loss: 0.3125 | train_acc: 0.8622 | validation_loss: 0.8664 | validation_acc: 0.7188\n",
      "Epoch: 18 | train_loss: 0.2973 | train_acc: 0.8692 | validation_loss: 1.4873 | validation_acc: 0.6707\n",
      "Epoch: 19 | train_loss: 0.3108 | train_acc: 0.8570 | validation_loss: 0.5112 | validation_acc: 0.8211\n",
      "Epoch: 20 | train_loss: 0.2856 | train_acc: 0.8692 | validation_loss: 1.3574 | validation_acc: 0.6555\n",
      "Epoch: 21 | train_loss: 0.3269 | train_acc: 0.8588 | validation_loss: 1.5543 | validation_acc: 0.6238\n",
      "Epoch: 22 | train_loss: 0.3264 | train_acc: 0.8548 | validation_loss: 2.1017 | validation_acc: 0.5773\n",
      "Epoch: 23 | train_loss: 0.2907 | train_acc: 0.8690 | validation_loss: 1.5086 | validation_acc: 0.7262\n",
      "Epoch: 24 | train_loss: 0.2874 | train_acc: 0.8660 | validation_loss: 0.6025 | validation_acc: 0.8160\n",
      "Epoch: 25 | train_loss: 0.2916 | train_acc: 0.8658 | validation_loss: 0.6854 | validation_acc: 0.7848\n",
      "Epoch: 26 | train_loss: 0.3011 | train_acc: 0.8640 | validation_loss: 0.5666 | validation_acc: 0.7820\n",
      "Epoch: 27 | train_loss: 0.2761 | train_acc: 0.8745 | validation_loss: 0.8210 | validation_acc: 0.7914\n",
      "Epoch: 28 | train_loss: 0.2916 | train_acc: 0.8672 | validation_loss: 0.5085 | validation_acc: 0.8445\n",
      "Epoch: 29 | train_loss: 0.2819 | train_acc: 0.8780 | validation_loss: 1.6734 | validation_acc: 0.6441\n",
      "Epoch: 30 | train_loss: 0.2795 | train_acc: 0.8720 | validation_loss: 1.2223 | validation_acc: 0.6539\n",
      "Epoch: 31 | train_loss: 0.2799 | train_acc: 0.8750 | validation_loss: 0.5210 | validation_acc: 0.8176\n",
      "Epoch: 32 | train_loss: 0.2796 | train_acc: 0.8768 | validation_loss: 0.6774 | validation_acc: 0.7621\n",
      "Epoch: 33 | train_loss: 0.2719 | train_acc: 0.8780 | validation_loss: 2.8758 | validation_acc: 0.5578\n",
      "Epoch: 34 | train_loss: 0.2739 | train_acc: 0.8758 | validation_loss: 0.5419 | validation_acc: 0.8367\n",
      "Epoch: 35 | train_loss: 0.2808 | train_acc: 0.8730 | validation_loss: 3.6078 | validation_acc: 0.5844\n",
      "Epoch: 36 | train_loss: 0.2791 | train_acc: 0.8705 | validation_loss: 0.3810 | validation_acc: 0.8512\n",
      "Epoch: 37 | train_loss: 0.2635 | train_acc: 0.8835 | validation_loss: 1.0950 | validation_acc: 0.7207\n",
      "Epoch: 38 | train_loss: 0.2693 | train_acc: 0.8755 | validation_loss: 0.6934 | validation_acc: 0.8094\n",
      "Epoch: 39 | train_loss: 0.2663 | train_acc: 0.8795 | validation_loss: 0.5723 | validation_acc: 0.8090\n",
      "Epoch: 40 | train_loss: 0.2575 | train_acc: 0.8792 | validation_loss: 2.2169 | validation_acc: 0.6258\n",
      "Epoch: 41 | train_loss: 0.2719 | train_acc: 0.8738 | validation_loss: 0.6958 | validation_acc: 0.7879\n",
      "Epoch: 42 | train_loss: 0.2515 | train_acc: 0.8912 | validation_loss: 0.4102 | validation_acc: 0.8367\n",
      "Epoch: 43 | train_loss: 0.2582 | train_acc: 0.8830 | validation_loss: 0.6263 | validation_acc: 0.8094\n",
      "Epoch: 44 | train_loss: 0.2529 | train_acc: 0.8838 | validation_loss: 0.6751 | validation_acc: 0.7703\n",
      "Epoch: 45 | train_loss: 0.2646 | train_acc: 0.8825 | validation_loss: 0.5940 | validation_acc: 0.8113\n",
      "Epoch: 46 | train_loss: 0.2650 | train_acc: 0.8858 | validation_loss: 0.6390 | validation_acc: 0.8035\n",
      "Epoch: 47 | train_loss: 0.2543 | train_acc: 0.8905 | validation_loss: 2.4959 | validation_acc: 0.5840\n",
      "Epoch: 48 | train_loss: 0.2602 | train_acc: 0.8822 | validation_loss: 4.8318 | validation_acc: 0.5645\n",
      "Epoch: 49 | train_loss: 0.2471 | train_acc: 0.8868 | validation_loss: 0.7971 | validation_acc: 0.7523\n",
      "Epoch: 50 | train_loss: 0.2460 | train_acc: 0.8895 | validation_loss: 0.4279 | validation_acc: 0.8445\n",
      "Epoch: 51 | train_loss: 0.2506 | train_acc: 0.8862 | validation_loss: 1.6692 | validation_acc: 0.6316\n",
      "Epoch: 52 | train_loss: 0.2477 | train_acc: 0.8872 | validation_loss: 0.4433 | validation_acc: 0.8387\n",
      "Epoch: 53 | train_loss: 0.2350 | train_acc: 0.8942 | validation_loss: 0.6802 | validation_acc: 0.8199\n",
      "Epoch: 54 | train_loss: 0.2421 | train_acc: 0.8895 | validation_loss: 0.4493 | validation_acc: 0.8426\n",
      "Epoch: 55 | train_loss: 0.2505 | train_acc: 0.8920 | validation_loss: 0.4193 | validation_acc: 0.8406\n",
      "Epoch: 56 | train_loss: 0.2343 | train_acc: 0.8960 | validation_loss: 1.2914 | validation_acc: 0.7309\n",
      "Epoch: 57 | train_loss: 0.2349 | train_acc: 0.8988 | validation_loss: 0.6699 | validation_acc: 0.8402\n",
      "Epoch: 58 | train_loss: 0.2407 | train_acc: 0.8950 | validation_loss: 0.7143 | validation_acc: 0.8102\n",
      "Epoch: 59 | train_loss: 0.2438 | train_acc: 0.8938 | validation_loss: 0.9071 | validation_acc: 0.7926\n",
      "Epoch: 60 | train_loss: 0.2594 | train_acc: 0.8895 | validation_loss: 0.4404 | validation_acc: 0.8465\n",
      "Epoch: 61 | train_loss: 0.2498 | train_acc: 0.8940 | validation_loss: 0.5825 | validation_acc: 0.8375\n",
      "Epoch: 62 | train_loss: 0.2352 | train_acc: 0.8935 | validation_loss: 0.5595 | validation_acc: 0.8141\n",
      "Epoch: 63 | train_loss: 0.2341 | train_acc: 0.8972 | validation_loss: 1.2985 | validation_acc: 0.7562\n",
      "Epoch: 64 | train_loss: 0.2266 | train_acc: 0.9020 | validation_loss: 0.4533 | validation_acc: 0.8141\n",
      "Epoch: 65 | train_loss: 0.2287 | train_acc: 0.8990 | validation_loss: 0.6139 | validation_acc: 0.8207\n",
      "Epoch: 66 | train_loss: 0.2290 | train_acc: 0.8990 | validation_loss: 0.5171 | validation_acc: 0.8270\n",
      "Epoch: 67 | train_loss: 0.2380 | train_acc: 0.8928 | validation_loss: 1.3537 | validation_acc: 0.7277\n",
      "Epoch: 68 | train_loss: 0.2291 | train_acc: 0.9008 | validation_loss: 0.4791 | validation_acc: 0.8289\n",
      "Epoch: 69 | train_loss: 0.2355 | train_acc: 0.8960 | validation_loss: 0.5571 | validation_acc: 0.8152\n",
      "Epoch: 70 | train_loss: 0.2246 | train_acc: 0.8998 | validation_loss: 0.6165 | validation_acc: 0.8082\n",
      "Epoch: 71 | train_loss: 0.2396 | train_acc: 0.8968 | validation_loss: 1.2232 | validation_acc: 0.6430\n",
      "Epoch: 72 | train_loss: 0.2217 | train_acc: 0.8988 | validation_loss: 0.5923 | validation_acc: 0.7996\n",
      "Epoch: 73 | train_loss: 0.2276 | train_acc: 0.8982 | validation_loss: 0.9130 | validation_acc: 0.7785\n",
      "Epoch: 74 | train_loss: 0.2344 | train_acc: 0.8948 | validation_loss: 1.3895 | validation_acc: 0.7098\n",
      "Epoch: 75 | train_loss: 0.2185 | train_acc: 0.9020 | validation_loss: 2.0156 | validation_acc: 0.6930\n",
      "Epoch: 76 | train_loss: 0.2091 | train_acc: 0.9070 | validation_loss: 1.1295 | validation_acc: 0.7445\n",
      "Epoch: 77 | train_loss: 0.2177 | train_acc: 0.9028 | validation_loss: 0.3848 | validation_acc: 0.8492\n",
      "Epoch: 78 | train_loss: 0.2284 | train_acc: 0.9028 | validation_loss: 0.6401 | validation_acc: 0.7879\n",
      "Epoch: 79 | train_loss: 0.2142 | train_acc: 0.9005 | validation_loss: 3.4169 | validation_acc: 0.6188\n",
      "Epoch: 80 | train_loss: 0.2127 | train_acc: 0.9040 | validation_loss: 1.3891 | validation_acc: 0.6539\n",
      "Epoch: 81 | train_loss: 0.2353 | train_acc: 0.9005 | validation_loss: 0.5987 | validation_acc: 0.8148\n",
      "Epoch: 82 | train_loss: 0.2128 | train_acc: 0.9095 | validation_loss: 0.9369 | validation_acc: 0.7875\n",
      "Epoch: 83 | train_loss: 0.2287 | train_acc: 0.9022 | validation_loss: 0.4447 | validation_acc: 0.8445\n",
      "Epoch: 84 | train_loss: 0.2124 | train_acc: 0.9030 | validation_loss: 0.8848 | validation_acc: 0.7836\n",
      "Epoch: 85 | train_loss: 0.2104 | train_acc: 0.9025 | validation_loss: 1.5063 | validation_acc: 0.6523\n",
      "Epoch: 86 | train_loss: 0.2098 | train_acc: 0.9097 | validation_loss: 0.7810 | validation_acc: 0.8074\n",
      "Epoch: 87 | train_loss: 0.2173 | train_acc: 0.9025 | validation_loss: 0.6869 | validation_acc: 0.8250\n",
      "Epoch: 88 | train_loss: 0.2160 | train_acc: 0.9038 | validation_loss: 0.4662 | validation_acc: 0.8562\n",
      "Epoch: 89 | train_loss: 0.2010 | train_acc: 0.9095 | validation_loss: 0.6852 | validation_acc: 0.8137\n",
      "Epoch: 90 | train_loss: 0.2198 | train_acc: 0.8975 | validation_loss: 0.7062 | validation_acc: 0.8289\n",
      "Epoch: 91 | train_loss: 0.2098 | train_acc: 0.9095 | validation_loss: 0.3375 | validation_acc: 0.8953\n",
      "Epoch: 92 | train_loss: 0.2129 | train_acc: 0.9055 | validation_loss: 0.7000 | validation_acc: 0.8094\n",
      "Epoch: 93 | train_loss: 0.2086 | train_acc: 0.9105 | validation_loss: 0.6358 | validation_acc: 0.8129\n",
      "Epoch: 94 | train_loss: 0.2032 | train_acc: 0.9105 | validation_loss: 3.4182 | validation_acc: 0.6055\n",
      "Epoch: 95 | train_loss: 0.1990 | train_acc: 0.9105 | validation_loss: 0.4322 | validation_acc: 0.8680\n",
      "Epoch: 96 | train_loss: 0.1973 | train_acc: 0.9115 | validation_loss: 1.6527 | validation_acc: 0.7332\n",
      "Epoch: 97 | train_loss: 0.2003 | train_acc: 0.9120 | validation_loss: 2.0708 | validation_acc: 0.6469\n",
      "Epoch: 98 | train_loss: 0.1984 | train_acc: 0.9127 | validation_loss: 0.7899 | validation_acc: 0.8422\n",
      "Epoch: 99 | train_loss: 0.2009 | train_acc: 0.9115 | validation_loss: 0.5142 | validation_acc: 0.8500\n",
      "Epoch: 100 | train_loss: 0.1995 | train_acc: 0.9157 | validation_loss: 0.8708 | validation_acc: 0.7316\n"
     ]
    }
   ],
   "source": [
    "#Train ResNet18\n",
    "resnet18.to(device)\n",
    "nadam_optim = torch.optim.NAdam(params=resnet18.parameters(), lr=lr)\n",
    "train_resnet18_results, train_time_resnet18 = train(resnet18, train_dl, validation_dl, optimizer=nadam_optim, loss_fn=loss_fn, epochs=NUM_EPOCHS, device=device)"
   ]
  },
  {
   "cell_type": "code",
   "execution_count": 5,
   "metadata": {},
   "outputs": [
    {
     "data": {
      "application/vnd.jupyter.widget-view+json": {
       "model_id": "74ef08295fd2449881465a496c39235b",
       "version_major": 2,
       "version_minor": 0
      },
      "text/plain": [
       "  0%|          | 0/100 [00:00<?, ?it/s]"
      ]
     },
     "metadata": {},
     "output_type": "display_data"
    },
    {
     "name": "stdout",
     "output_type": "stream",
     "text": [
      "Epoch: 1 | train_loss: 0.8892 | train_acc: 0.6105 | validation_loss: 1.3158 | validation_acc: 0.5297\n",
      "Epoch: 2 | train_loss: 0.6695 | train_acc: 0.6950 | validation_loss: 2.0694 | validation_acc: 0.5352\n",
      "Epoch: 3 | train_loss: 0.5735 | train_acc: 0.7382 | validation_loss: 0.8242 | validation_acc: 0.6941\n",
      "Epoch: 4 | train_loss: 0.4950 | train_acc: 0.7702 | validation_loss: 0.5174 | validation_acc: 0.7742\n",
      "Epoch: 5 | train_loss: 0.4604 | train_acc: 0.7920 | validation_loss: 0.5441 | validation_acc: 0.7457\n",
      "Epoch: 6 | train_loss: 0.4597 | train_acc: 0.7945 | validation_loss: 0.6581 | validation_acc: 0.7289\n",
      "Epoch: 7 | train_loss: 0.4249 | train_acc: 0.8045 | validation_loss: 2.1358 | validation_acc: 0.5531\n",
      "Epoch: 8 | train_loss: 0.4100 | train_acc: 0.8103 | validation_loss: 0.5904 | validation_acc: 0.7820\n",
      "Epoch: 9 | train_loss: 0.3810 | train_acc: 0.8327 | validation_loss: 0.4765 | validation_acc: 0.8172\n",
      "Epoch: 10 | train_loss: 0.4038 | train_acc: 0.8195 | validation_loss: 0.8258 | validation_acc: 0.7273\n",
      "Epoch: 11 | train_loss: 0.4107 | train_acc: 0.8233 | validation_loss: 0.6097 | validation_acc: 0.7406\n",
      "Epoch: 12 | train_loss: 0.3880 | train_acc: 0.8205 | validation_loss: 1.9565 | validation_acc: 0.5449\n",
      "Epoch: 13 | train_loss: 0.3881 | train_acc: 0.8253 | validation_loss: 1.6815 | validation_acc: 0.6441\n",
      "Epoch: 14 | train_loss: 0.3663 | train_acc: 0.8280 | validation_loss: 1.2404 | validation_acc: 0.7293\n",
      "Epoch: 15 | train_loss: 0.3636 | train_acc: 0.8360 | validation_loss: 0.8158 | validation_acc: 0.6785\n",
      "Epoch: 16 | train_loss: 0.3369 | train_acc: 0.8370 | validation_loss: 0.5977 | validation_acc: 0.7523\n"
     ]
    }
   ],
   "source": [
    "#Train ResNet50\n",
    "resnet50.to(device)\n",
    "nadam_optim = torch.optim.NAdam(params=resnet50.parameters(), lr=lr)\n",
    "train_resnet50_results, train_time_resnet50 = train(resnet50, train_dl, validation_dl, optimizer=nadam_optim, loss_fn=loss_fn, epochs=NUM_EPOCHS, device=device)"
   ]
  },
  {
   "cell_type": "code",
   "execution_count": null,
   "metadata": {},
   "outputs": [],
   "source": [
    "#Train MobileNet Large\n",
    "mobnet_lrg.to(device)\n",
    "nadam_optim = torch.optim.NAdam(params=mobnet_lrg.parameters(), lr=lr)\n",
    "train_mobnet_lrg_results, train_time_mobnet_lrg = train(mobnet_lrg, train_dl, validation_dl, optimizer=nadam_optim, loss_fn=loss_fn, epochs=NUM_EPOCHS, device=device)"
   ]
  },
  {
   "cell_type": "code",
   "execution_count": null,
   "metadata": {},
   "outputs": [],
   "source": [
    "#Train MobileNet Small\n",
    "mobnet_sml.to(device)\n",
    "nadam_optim = torch.optim.NAdam(params=mobnet_sml.parameters(), lr=lr)\n",
    "train_mobnet_sml_results, train_time_mobnet_sml = train(mobnet_sml, train_dl, validation_dl, optimizer=nadam_optim, loss_fn=loss_fn, epochs=NUM_EPOCHS, device=device)"
   ]
  },
  {
   "cell_type": "code",
   "execution_count": null,
   "metadata": {},
   "outputs": [],
   "source": [
    "plot_loss_curves(train_resnet18_results,\"ResNet18\"), plot_loss_curves(train_resnet18_results,\"ResNet50\"),\n",
    "plot_loss_curves(train_mobnet_lrg_results,\"MobileNet V3 Large\"), plot_loss_curves(train_mobnet_sml_results,\"MobileNet V3 Small\")"
   ]
  },
  {
   "cell_type": "code",
   "execution_count": null,
   "metadata": {},
   "outputs": [],
   "source": [
    "plot_confusion_matrix(resnet18,test_dl,device,class_names), plot_confusion_matrix(resnet50, test_dl, device, class_names),\n",
    "plot_confusion_matrix(mobnet_lrg, test_dl, device, class_names), plot_confusion_matrix(mobnet_sml, test_dl, device, class_names)"
   ]
  }
 ],
 "metadata": {
  "kernelspec": {
   "display_name": "base",
   "language": "python",
   "name": "python3"
  },
  "language_info": {
   "codemirror_mode": {
    "name": "ipython",
    "version": 3
   },
   "file_extension": ".py",
   "mimetype": "text/x-python",
   "name": "python",
   "nbconvert_exporter": "python",
   "pygments_lexer": "ipython3",
   "version": "3.9.13"
  },
  "orig_nbformat": 4,
  "vscode": {
   "interpreter": {
    "hash": "15b211d7ad94b52292045efb4f8f9084eab8b035832c108b93ce5f33d27f5980"
   }
  }
 },
 "nbformat": 4,
 "nbformat_minor": 2
}
