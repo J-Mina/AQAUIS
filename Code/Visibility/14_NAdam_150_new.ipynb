{
 "cells": [
  {
   "cell_type": "code",
   "execution_count": 1,
   "metadata": {},
   "outputs": [],
   "source": [
    "from pathlib import Path\n",
    "import pandas as pd\n",
    "\n",
    "from utils import *\n",
    "from dataloaders import *\n",
    "from data_preparation import *\n",
    "from allResNets import *\n",
    "from MobileNetV3 import *\n",
    "from engine import *\n",
    "from efficientNet import *\n",
    "from data_transforms import *\n",
    "\n",
    "change_to_disk()\n",
    "data_dir = Path(\"final_dataset/\")\n",
    "models_path = Path('Models_final_es/')\n",
    "check_dir(models_path)"
   ]
  },
  {
   "cell_type": "code",
   "execution_count": 2,
   "metadata": {},
   "outputs": [],
   "source": [
    "image_shape = (1080, 1920)\n",
    "resize_factor = 0.3\n",
    "resize = np.multiply(image_shape,resize_factor)\n",
    "resize = [int(resize[0]), int(resize[1])]\n",
    "\n",
    "data_transform = create_transform(resize=resize, rotate=5, flip_h = True, color_dev=True, transf_tensor=True, normalize=True, sp_noise=True, gauss_noise=True)\n",
    "\n",
    "BATCH_SIZE = 16\n",
    "train_dl, validation_dl, test_dl, train_data, validation_data, test_data, class_names = create_dataloaders(data_dir, data_transform, batch_size = BATCH_SIZE)"
   ]
  },
  {
   "cell_type": "code",
   "execution_count": 3,
   "metadata": {},
   "outputs": [],
   "source": [
    "NUM_EPOCHS = 150\n",
    "device = get_device()\n",
    "\n",
    "resnet18 = ResNet18()\n",
    "resnet50 = ResNet50()\n",
    "mobnet_sml = MobileNetSmall()\n",
    "mobnet_lrg = MobileNetLarge()\n",
    "effnetb0 = EfficientNetB0()\n",
    "effnetb5 = EfficientNetB5()\n",
    "\n",
    "loss_fn = nn.CrossEntropyLoss()"
   ]
  },
  {
   "cell_type": "code",
   "execution_count": 4,
   "metadata": {},
   "outputs": [
    {
     "name": "stdout",
     "output_type": "stream",
     "text": [
      "Models_final_es\\ResNet18 does not exist, creating one...\n"
     ]
    },
    {
     "data": {
      "application/vnd.jupyter.widget-view+json": {
       "model_id": "42a42798141b40d9bf173c45577f0178",
       "version_major": 2,
       "version_minor": 0
      },
      "text/plain": [
       "  0%|          | 0/150 [00:00<?, ?it/s]"
      ]
     },
     "metadata": {},
     "output_type": "display_data"
    },
    {
     "name": "stdout",
     "output_type": "stream",
     "text": [
      "Epoch: 1 | train_loss: 0.7778 | train_acc: 0.6613 | validation_loss: 0.4665 | validation_acc: 0.7525\n",
      "Epoch: 2 | train_loss: 0.4881 | train_acc: 0.7675 | validation_loss: 0.4533 | validation_acc: 0.7575\n",
      "Epoch: 3 | train_loss: 0.4400 | train_acc: 0.7944 | validation_loss: 0.4098 | validation_acc: 0.8425\n",
      "Epoch: 4 | train_loss: 0.4230 | train_acc: 0.8109 | validation_loss: 0.3961 | validation_acc: 0.8425\n",
      "Epoch: 5 | train_loss: 0.4093 | train_acc: 0.8109 | validation_loss: 0.3538 | validation_acc: 0.8325\n",
      "Epoch: 6 | train_loss: 0.3755 | train_acc: 0.8356 | validation_loss: 0.4483 | validation_acc: 0.7875\n",
      "Epoch: 7 | train_loss: 0.3666 | train_acc: 0.8275 | validation_loss: 0.2949 | validation_acc: 0.8725\n",
      "Epoch: 8 | train_loss: 0.3754 | train_acc: 0.8313 | validation_loss: 0.3909 | validation_acc: 0.8125\n",
      "Epoch: 9 | train_loss: 0.3393 | train_acc: 0.8506 | validation_loss: 0.2984 | validation_acc: 0.8700\n",
      "Epoch: 10 | train_loss: 0.3475 | train_acc: 0.8450 | validation_loss: 0.3053 | validation_acc: 0.8575\n",
      "Epoch: 11 | train_loss: 0.3257 | train_acc: 0.8619 | validation_loss: 0.2959 | validation_acc: 0.8750\n",
      "Epoch: 12 | train_loss: 0.3219 | train_acc: 0.8600 | validation_loss: 0.3732 | validation_acc: 0.8275\n",
      "Epoch: 13 | train_loss: 0.3161 | train_acc: 0.8688 | validation_loss: 0.2796 | validation_acc: 0.8800\n",
      "Epoch: 14 | train_loss: 0.2918 | train_acc: 0.8750 | validation_loss: 0.3531 | validation_acc: 0.8650\n",
      "Epoch: 15 | train_loss: 0.2954 | train_acc: 0.8712 | validation_loss: 0.3263 | validation_acc: 0.8500\n",
      "Epoch: 16 | train_loss: 0.3083 | train_acc: 0.8659 | validation_loss: 0.7667 | validation_acc: 0.7900\n",
      "Epoch: 17 | train_loss: 0.2924 | train_acc: 0.8778 | validation_loss: 0.3463 | validation_acc: 0.8525\n",
      "Epoch: 18 | train_loss: 0.2706 | train_acc: 0.8891 | validation_loss: 0.2884 | validation_acc: 0.8625\n",
      "Epoch: 19 | train_loss: 0.2682 | train_acc: 0.8819 | validation_loss: 0.6352 | validation_acc: 0.8225\n",
      "Epoch: 20 | train_loss: 0.2462 | train_acc: 0.8991 | validation_loss: 0.3143 | validation_acc: 0.8650\n",
      "Epoch: 21 | train_loss: 0.2694 | train_acc: 0.8894 | validation_loss: 0.5099 | validation_acc: 0.8225\n",
      "Epoch: 22 | train_loss: 0.2524 | train_acc: 0.8950 | validation_loss: 0.6574 | validation_acc: 0.7525\n",
      "Epoch: 23 | train_loss: 0.2600 | train_acc: 0.8897 | validation_loss: 0.3411 | validation_acc: 0.8450\n",
      "Epoch: 24 | train_loss: 0.2485 | train_acc: 0.8959 | validation_loss: 0.3435 | validation_acc: 0.8550\n",
      "Epoch: 25 | train_loss: 0.2488 | train_acc: 0.9022 | validation_loss: 0.2807 | validation_acc: 0.8625\n",
      "Epoch: 26 | train_loss: 0.2534 | train_acc: 0.8947 | validation_loss: 0.2646 | validation_acc: 0.8850\n",
      "Epoch: 27 | train_loss: 0.2214 | train_acc: 0.9141 | validation_loss: 0.4199 | validation_acc: 0.8475\n",
      "Epoch: 28 | train_loss: 0.2352 | train_acc: 0.9028 | validation_loss: 0.2586 | validation_acc: 0.8925\n",
      "Epoch: 29 | train_loss: 0.2321 | train_acc: 0.9044 | validation_loss: 0.2655 | validation_acc: 0.9050\n",
      "Epoch: 30 | train_loss: 0.2208 | train_acc: 0.9144 | validation_loss: 0.2260 | validation_acc: 0.9100\n",
      "Epoch: 31 | train_loss: 0.2198 | train_acc: 0.9119 | validation_loss: 0.3104 | validation_acc: 0.8900\n",
      "Epoch: 32 | train_loss: 0.2081 | train_acc: 0.9122 | validation_loss: 0.2487 | validation_acc: 0.9050\n",
      "Epoch: 33 | train_loss: 0.2305 | train_acc: 0.9038 | validation_loss: 0.3489 | validation_acc: 0.8500\n",
      "Epoch: 34 | train_loss: 0.2041 | train_acc: 0.9150 | validation_loss: 0.2738 | validation_acc: 0.9000\n",
      "Epoch: 35 | train_loss: 0.2327 | train_acc: 0.9113 | validation_loss: 0.2529 | validation_acc: 0.9075\n",
      "Epoch: 36 | train_loss: 0.2122 | train_acc: 0.9119 | validation_loss: 0.2858 | validation_acc: 0.9000\n",
      "Epoch: 37 | train_loss: 0.2069 | train_acc: 0.9163 | validation_loss: 0.2919 | validation_acc: 0.9100\n",
      "Epoch: 38 | train_loss: 0.2000 | train_acc: 0.9206 | validation_loss: 0.2620 | validation_acc: 0.9075\n",
      "Epoch: 39 | train_loss: 0.2048 | train_acc: 0.9150 | validation_loss: 0.2531 | validation_acc: 0.9000\n",
      "Epoch: 40 | train_loss: 0.1959 | train_acc: 0.9266 | validation_loss: 0.3126 | validation_acc: 0.8825\n",
      "Epoch: 41 | train_loss: 0.1911 | train_acc: 0.9231 | validation_loss: 0.2515 | validation_acc: 0.9200\n",
      "Epoch: 42 | train_loss: 0.1956 | train_acc: 0.9194 | validation_loss: 0.2412 | validation_acc: 0.9150\n",
      "Epoch: 43 | train_loss: 0.1840 | train_acc: 0.9306 | validation_loss: 0.2636 | validation_acc: 0.9025\n",
      "Epoch: 44 | train_loss: 0.1834 | train_acc: 0.9247 | validation_loss: 0.2492 | validation_acc: 0.9025\n",
      "Epoch: 45 | train_loss: 0.1900 | train_acc: 0.9237 | validation_loss: 0.2513 | validation_acc: 0.8900\n",
      "Epoch: 46 | train_loss: 0.1892 | train_acc: 0.9222 | validation_loss: 0.2694 | validation_acc: 0.9075\n",
      "Epoch: 47 | train_loss: 0.1726 | train_acc: 0.9287 | validation_loss: 0.2306 | validation_acc: 0.9150\n",
      "Epoch: 48 | train_loss: 0.1790 | train_acc: 0.9297 | validation_loss: 0.2086 | validation_acc: 0.9275\n",
      "Epoch: 49 | train_loss: 0.1823 | train_acc: 0.9241 | validation_loss: 0.2919 | validation_acc: 0.9000\n",
      "Epoch: 50 | train_loss: 0.1870 | train_acc: 0.9253 | validation_loss: 0.2767 | validation_acc: 0.9050\n",
      "Epoch: 51 | train_loss: 0.1732 | train_acc: 0.9325 | validation_loss: 0.2870 | validation_acc: 0.8925\n",
      "Epoch: 52 | train_loss: 0.1815 | train_acc: 0.9259 | validation_loss: 0.2555 | validation_acc: 0.9075\n",
      "Epoch: 53 | train_loss: 0.1602 | train_acc: 0.9353 | validation_loss: 0.1789 | validation_acc: 0.9300\n",
      "Epoch: 54 | train_loss: 0.1673 | train_acc: 0.9322 | validation_loss: 0.2827 | validation_acc: 0.9075\n",
      "Epoch: 55 | train_loss: 0.1710 | train_acc: 0.9272 | validation_loss: 0.3683 | validation_acc: 0.9050\n",
      "Epoch: 56 | train_loss: 0.1667 | train_acc: 0.9337 | validation_loss: 0.2577 | validation_acc: 0.9125\n",
      "Epoch: 57 | train_loss: 0.1797 | train_acc: 0.9263 | validation_loss: 0.2747 | validation_acc: 0.9075\n",
      "Epoch: 58 | train_loss: 0.1648 | train_acc: 0.9353 | validation_loss: 0.2749 | validation_acc: 0.9000\n",
      "Epoch: 59 | train_loss: 0.1564 | train_acc: 0.9387 | validation_loss: 0.2848 | validation_acc: 0.8950\n",
      "Epoch: 60 | train_loss: 0.1682 | train_acc: 0.9344 | validation_loss: 0.2804 | validation_acc: 0.9125\n"
     ]
    }
   ],
   "source": [
    "model_name = \"ResNet18\"\n",
    "model_folder_path = models_path / model_name\n",
    "check_dir(model_folder_path)\n",
    "model_name_folder_path = model_folder_path / model_name\n",
    "\n",
    "#Train ResNet18\n",
    "resnet18.to(device)\n",
    "nadam_optim = torch.optim.NAdam(params=resnet18.parameters())\n",
    "train_resnet18_results, train_time_resnet18 = train(resnet18, train_dl, validation_dl, optimizer=nadam_optim, loss_fn=loss_fn, epochs=NUM_EPOCHS, name_save=model_name_folder_path, device=device)"
   ]
  },
  {
   "cell_type": "code",
   "execution_count": 5,
   "metadata": {},
   "outputs": [
    {
     "data": {
      "application/vnd.jupyter.widget-view+json": {
       "model_id": "088b901e06ee4497982e439d5e68a858",
       "version_major": 2,
       "version_minor": 0
      },
      "text/plain": [
       "  0%|          | 0/25 [00:02<?, ?it/s]"
      ]
     },
     "metadata": {},
     "output_type": "display_data"
    }
   ],
   "source": [
    "eval_resnet18_results = eval_model(resnet18, test_dl, loss_fn = loss_fn, accuracy_fn=accuracy_fn, device = device, dummy_input= torch.rand(32,3,224,224).to(device))\n",
    "resnet18_results = [train_resnet18_results, train_time_resnet18, eval_resnet18_results]\n",
    "final_save(model_folder_path,model_name, NUM_EPOCHS, resnet18, resnet18_results)"
   ]
  },
  {
   "cell_type": "code",
   "execution_count": 6,
   "metadata": {},
   "outputs": [
    {
     "name": "stdout",
     "output_type": "stream",
     "text": [
      "Models_final_es\\ResNet50 does not exist, creating one...\n"
     ]
    },
    {
     "data": {
      "application/vnd.jupyter.widget-view+json": {
       "model_id": "0e12e982f34b4af289709a4368822a65",
       "version_major": 2,
       "version_minor": 0
      },
      "text/plain": [
       "  0%|          | 0/150 [00:00<?, ?it/s]"
      ]
     },
     "metadata": {},
     "output_type": "display_data"
    },
    {
     "name": "stdout",
     "output_type": "stream",
     "text": [
      "Epoch: 1 | train_loss: 1.2448 | train_acc: 0.4703 | validation_loss: 0.7576 | validation_acc: 0.6325\n",
      "Epoch: 2 | train_loss: 0.8843 | train_acc: 0.6162 | validation_loss: 0.8575 | validation_acc: 0.6875\n",
      "Epoch: 3 | train_loss: 0.7055 | train_acc: 0.6781 | validation_loss: 0.9910 | validation_acc: 0.4775\n",
      "Epoch: 4 | train_loss: 0.6382 | train_acc: 0.6984 | validation_loss: 1.5879 | validation_acc: 0.4325\n",
      "Epoch: 5 | train_loss: 0.5542 | train_acc: 0.7434 | validation_loss: 0.5325 | validation_acc: 0.7400\n",
      "Epoch: 6 | train_loss: 0.5004 | train_acc: 0.7644 | validation_loss: 0.4809 | validation_acc: 0.7500\n",
      "Epoch: 7 | train_loss: 0.4541 | train_acc: 0.7834 | validation_loss: 0.7299 | validation_acc: 0.7150\n",
      "Epoch: 8 | train_loss: 0.4480 | train_acc: 0.7834 | validation_loss: 0.3963 | validation_acc: 0.8225\n",
      "Epoch: 9 | train_loss: 0.4354 | train_acc: 0.7972 | validation_loss: 0.4965 | validation_acc: 0.7575\n",
      "Epoch: 10 | train_loss: 0.4142 | train_acc: 0.7997 | validation_loss: 0.3563 | validation_acc: 0.8250\n",
      "Epoch: 11 | train_loss: 0.4053 | train_acc: 0.8056 | validation_loss: 0.5338 | validation_acc: 0.7950\n",
      "Epoch: 12 | train_loss: 0.4095 | train_acc: 0.8106 | validation_loss: 0.6938 | validation_acc: 0.7175\n",
      "Epoch: 13 | train_loss: 0.4058 | train_acc: 0.8013 | validation_loss: 0.3623 | validation_acc: 0.8400\n",
      "Epoch: 14 | train_loss: 0.3955 | train_acc: 0.8184 | validation_loss: 0.3340 | validation_acc: 0.8125\n",
      "Epoch: 15 | train_loss: 0.3839 | train_acc: 0.8197 | validation_loss: 1.3399 | validation_acc: 0.6275\n",
      "Epoch: 16 | train_loss: 0.3921 | train_acc: 0.8234 | validation_loss: 0.3713 | validation_acc: 0.8225\n",
      "Epoch: 17 | train_loss: 0.3716 | train_acc: 0.8350 | validation_loss: 0.3272 | validation_acc: 0.8500\n",
      "Epoch: 18 | train_loss: 0.3578 | train_acc: 0.8378 | validation_loss: 0.3902 | validation_acc: 0.8125\n",
      "Epoch: 19 | train_loss: 0.3296 | train_acc: 0.8591 | validation_loss: 0.3593 | validation_acc: 0.8425\n",
      "Epoch: 20 | train_loss: 0.3465 | train_acc: 0.8428 | validation_loss: 0.3491 | validation_acc: 0.8650\n",
      "Epoch: 21 | train_loss: 0.3304 | train_acc: 0.8494 | validation_loss: 0.4435 | validation_acc: 0.8350\n",
      "Epoch: 22 | train_loss: 0.3139 | train_acc: 0.8675 | validation_loss: 0.2898 | validation_acc: 0.8650\n",
      "Epoch: 23 | train_loss: 0.3133 | train_acc: 0.8641 | validation_loss: 0.2550 | validation_acc: 0.8850\n",
      "Epoch: 24 | train_loss: 0.3189 | train_acc: 0.8584 | validation_loss: 0.3278 | validation_acc: 0.8400\n",
      "Epoch: 25 | train_loss: 0.3109 | train_acc: 0.8694 | validation_loss: 0.5578 | validation_acc: 0.7925\n",
      "Epoch: 26 | train_loss: 0.3024 | train_acc: 0.8719 | validation_loss: 0.4506 | validation_acc: 0.8300\n",
      "Epoch: 27 | train_loss: 0.2943 | train_acc: 0.8728 | validation_loss: 0.5589 | validation_acc: 0.7900\n",
      "Epoch: 28 | train_loss: 0.2921 | train_acc: 0.8750 | validation_loss: 0.3220 | validation_acc: 0.8825\n",
      "Epoch: 29 | train_loss: 0.2866 | train_acc: 0.8800 | validation_loss: 0.3877 | validation_acc: 0.8550\n",
      "Epoch: 30 | train_loss: 0.2715 | train_acc: 0.8853 | validation_loss: 0.3441 | validation_acc: 0.8550\n",
      "Epoch: 31 | train_loss: 0.2610 | train_acc: 0.8928 | validation_loss: 0.2633 | validation_acc: 0.9075\n",
      "Epoch: 32 | train_loss: 0.2649 | train_acc: 0.8859 | validation_loss: 0.2629 | validation_acc: 0.8825\n",
      "Epoch: 33 | train_loss: 0.2782 | train_acc: 0.8812 | validation_loss: 0.2224 | validation_acc: 0.9000\n",
      "Epoch: 34 | train_loss: 0.2724 | train_acc: 0.8847 | validation_loss: 0.2327 | validation_acc: 0.8975\n",
      "Epoch: 35 | train_loss: 0.2813 | train_acc: 0.8862 | validation_loss: 0.3029 | validation_acc: 0.8700\n",
      "Epoch: 36 | train_loss: 0.2622 | train_acc: 0.8862 | validation_loss: 0.3088 | validation_acc: 0.8725\n",
      "Epoch: 37 | train_loss: 0.2916 | train_acc: 0.8738 | validation_loss: 0.3550 | validation_acc: 0.8450\n",
      "Epoch: 38 | train_loss: 0.2751 | train_acc: 0.8794 | validation_loss: 0.3534 | validation_acc: 0.8575\n",
      "Epoch: 39 | train_loss: 0.2323 | train_acc: 0.9072 | validation_loss: 0.2572 | validation_acc: 0.8950\n",
      "Epoch: 40 | train_loss: 0.2445 | train_acc: 0.8994 | validation_loss: 0.2527 | validation_acc: 0.8925\n",
      "Epoch: 41 | train_loss: 0.2550 | train_acc: 0.8988 | validation_loss: 0.2891 | validation_acc: 0.8825\n",
      "Epoch: 42 | train_loss: 0.2515 | train_acc: 0.8947 | validation_loss: 0.2343 | validation_acc: 0.9050\n",
      "Epoch: 43 | train_loss: 0.2305 | train_acc: 0.9091 | validation_loss: 0.3034 | validation_acc: 0.9075\n",
      "Epoch: 44 | train_loss: 0.2509 | train_acc: 0.8906 | validation_loss: 0.2539 | validation_acc: 0.9025\n",
      "Epoch: 45 | train_loss: 0.2497 | train_acc: 0.8941 | validation_loss: 0.2533 | validation_acc: 0.9075\n",
      "Epoch: 46 | train_loss: 0.2316 | train_acc: 0.9038 | validation_loss: 0.2245 | validation_acc: 0.9150\n",
      "Epoch: 47 | train_loss: 0.2216 | train_acc: 0.9153 | validation_loss: 0.2777 | validation_acc: 0.8800\n",
      "Epoch: 48 | train_loss: 0.2257 | train_acc: 0.9034 | validation_loss: 0.3299 | validation_acc: 0.8550\n",
      "Epoch: 49 | train_loss: 0.2236 | train_acc: 0.9094 | validation_loss: 0.2378 | validation_acc: 0.9150\n",
      "Epoch: 50 | train_loss: 0.2373 | train_acc: 0.8934 | validation_loss: 0.2331 | validation_acc: 0.9175\n",
      "Epoch: 51 | train_loss: 0.2144 | train_acc: 0.9131 | validation_loss: 0.2523 | validation_acc: 0.9150\n",
      "Epoch: 52 | train_loss: 0.2225 | train_acc: 0.9072 | validation_loss: 0.2885 | validation_acc: 0.8875\n",
      "Epoch: 53 | train_loss: 0.2224 | train_acc: 0.9075 | validation_loss: 0.2700 | validation_acc: 0.8900\n",
      "Epoch: 54 | train_loss: 0.2247 | train_acc: 0.9084 | validation_loss: 0.2155 | validation_acc: 0.9200\n",
      "Epoch: 55 | train_loss: 0.2193 | train_acc: 0.9137 | validation_loss: 0.2777 | validation_acc: 0.8950\n",
      "Epoch: 56 | train_loss: 0.2283 | train_acc: 0.9091 | validation_loss: 0.2483 | validation_acc: 0.9150\n",
      "Epoch: 57 | train_loss: 0.2097 | train_acc: 0.9097 | validation_loss: 0.2647 | validation_acc: 0.8925\n",
      "Epoch: 58 | train_loss: 0.2103 | train_acc: 0.9166 | validation_loss: 0.2403 | validation_acc: 0.9075\n",
      "Epoch: 59 | train_loss: 0.2035 | train_acc: 0.9159 | validation_loss: 0.3018 | validation_acc: 0.8975\n",
      "Epoch: 60 | train_loss: 0.2119 | train_acc: 0.9153 | validation_loss: 0.2278 | validation_acc: 0.9125\n",
      "Epoch: 61 | train_loss: 0.2012 | train_acc: 0.9191 | validation_loss: 0.2548 | validation_acc: 0.9025\n",
      "Epoch: 62 | train_loss: 0.1943 | train_acc: 0.9169 | validation_loss: 0.2503 | validation_acc: 0.9125\n",
      "Epoch: 63 | train_loss: 0.2016 | train_acc: 0.9172 | validation_loss: 0.3072 | validation_acc: 0.8950\n",
      "Epoch: 64 | train_loss: 0.1890 | train_acc: 0.9206 | validation_loss: 0.2855 | validation_acc: 0.9150\n",
      "Epoch: 65 | train_loss: 0.1912 | train_acc: 0.9234 | validation_loss: 0.2806 | validation_acc: 0.9000\n",
      "Epoch: 66 | train_loss: 0.2000 | train_acc: 0.9203 | validation_loss: 0.3102 | validation_acc: 0.8850\n",
      "Epoch: 67 | train_loss: 0.1918 | train_acc: 0.9222 | validation_loss: 0.2481 | validation_acc: 0.9125\n",
      "Epoch: 68 | train_loss: 0.1906 | train_acc: 0.9191 | validation_loss: 0.2884 | validation_acc: 0.8975\n",
      "Epoch: 69 | train_loss: 0.1931 | train_acc: 0.9209 | validation_loss: 0.2274 | validation_acc: 0.9075\n",
      "Epoch: 70 | train_loss: 0.1843 | train_acc: 0.9228 | validation_loss: 0.2734 | validation_acc: 0.9075\n",
      "Epoch: 71 | train_loss: 0.1932 | train_acc: 0.9241 | validation_loss: 0.2074 | validation_acc: 0.9100\n",
      "Epoch: 72 | train_loss: 0.1757 | train_acc: 0.9291 | validation_loss: 0.2853 | validation_acc: 0.8950\n",
      "Epoch: 73 | train_loss: 0.1827 | train_acc: 0.9231 | validation_loss: 0.3053 | validation_acc: 0.8725\n",
      "Epoch: 74 | train_loss: 0.1905 | train_acc: 0.9216 | validation_loss: 0.2488 | validation_acc: 0.9125\n",
      "Epoch: 75 | train_loss: 0.1948 | train_acc: 0.9231 | validation_loss: 0.2998 | validation_acc: 0.9150\n",
      "Epoch: 76 | train_loss: 0.1734 | train_acc: 0.9334 | validation_loss: 0.2820 | validation_acc: 0.9025\n",
      "Epoch: 77 | train_loss: 0.1806 | train_acc: 0.9256 | validation_loss: 0.2476 | validation_acc: 0.8950\n",
      "Epoch: 78 | train_loss: 0.1758 | train_acc: 0.9281 | validation_loss: 0.2802 | validation_acc: 0.8975\n",
      "Epoch: 79 | train_loss: 0.1677 | train_acc: 0.9297 | validation_loss: 0.2553 | validation_acc: 0.9150\n",
      "Epoch: 80 | train_loss: 0.1648 | train_acc: 0.9331 | validation_loss: 0.2787 | validation_acc: 0.8975\n",
      "Epoch: 81 | train_loss: 0.1669 | train_acc: 0.9256 | validation_loss: 0.2788 | validation_acc: 0.9100\n",
      "Epoch: 82 | train_loss: 0.1775 | train_acc: 0.9300 | validation_loss: 0.2587 | validation_acc: 0.9025\n",
      "Epoch: 83 | train_loss: 0.1776 | train_acc: 0.9266 | validation_loss: 0.2337 | validation_acc: 0.9050\n",
      "Epoch: 84 | train_loss: 0.1699 | train_acc: 0.9297 | validation_loss: 0.3188 | validation_acc: 0.9025\n",
      "Epoch: 85 | train_loss: 0.1657 | train_acc: 0.9316 | validation_loss: 0.2631 | validation_acc: 0.9075\n",
      "Epoch: 86 | train_loss: 0.1708 | train_acc: 0.9331 | validation_loss: 0.2732 | validation_acc: 0.8950\n",
      "Epoch: 87 | train_loss: 0.1594 | train_acc: 0.9422 | validation_loss: 0.2585 | validation_acc: 0.9150\n",
      "Epoch: 88 | train_loss: 0.1617 | train_acc: 0.9337 | validation_loss: 0.2584 | validation_acc: 0.9125\n",
      "Epoch: 89 | train_loss: 0.1518 | train_acc: 0.9369 | validation_loss: 0.2840 | validation_acc: 0.8900\n",
      "Epoch: 90 | train_loss: 0.1446 | train_acc: 0.9437 | validation_loss: 0.3142 | validation_acc: 0.9050\n",
      "Epoch: 91 | train_loss: 0.1808 | train_acc: 0.9287 | validation_loss: 0.2990 | validation_acc: 0.9075\n",
      "Epoch: 92 | train_loss: 0.1674 | train_acc: 0.9350 | validation_loss: 0.2892 | validation_acc: 0.9025\n",
      "Epoch: 93 | train_loss: 0.1483 | train_acc: 0.9372 | validation_loss: 0.2997 | validation_acc: 0.9100\n",
      "Epoch: 94 | train_loss: 0.1561 | train_acc: 0.9363 | validation_loss: 0.2609 | validation_acc: 0.9150\n",
      "Epoch: 95 | train_loss: 0.1567 | train_acc: 0.9359 | validation_loss: 0.2918 | validation_acc: 0.8875\n",
      "Epoch: 96 | train_loss: 0.1652 | train_acc: 0.9319 | validation_loss: 0.3310 | validation_acc: 0.8950\n",
      "Epoch: 97 | train_loss: 0.1470 | train_acc: 0.9428 | validation_loss: 0.2995 | validation_acc: 0.9125\n",
      "Epoch: 98 | train_loss: 0.1511 | train_acc: 0.9403 | validation_loss: 0.3459 | validation_acc: 0.8725\n"
     ]
    }
   ],
   "source": [
    "model_name = \"ResNet50\"\n",
    "model_folder_path = models_path / model_name\n",
    "check_dir(model_folder_path)\n",
    "model_name_folder_path = model_folder_path / model_name\n",
    "\n",
    "#Train ResNet50\n",
    "resnet50.to(device)\n",
    "nadam_optim = torch.optim.NAdam(params=resnet50.parameters())\n",
    "train_resnet50_results, train_time_resnet50 = train(resnet50, train_dl, validation_dl, optimizer=nadam_optim, loss_fn=loss_fn, epochs=NUM_EPOCHS, name_save=model_name_folder_path, device=device)"
   ]
  },
  {
   "cell_type": "code",
   "execution_count": 7,
   "metadata": {},
   "outputs": [
    {
     "data": {
      "application/vnd.jupyter.widget-view+json": {
       "model_id": "3bcb4095b340453785b0cadeb2171584",
       "version_major": 2,
       "version_minor": 0
      },
      "text/plain": [
       "  0%|          | 0/25 [00:02<?, ?it/s]"
      ]
     },
     "metadata": {},
     "output_type": "display_data"
    }
   ],
   "source": [
    "eval_resnet50_results = eval_model(resnet50, test_dl, loss_fn = loss_fn, accuracy_fn=accuracy_fn, device = device, dummy_input= torch.rand(32,3,224,224).to(device))\n",
    "resnet50_results = [train_resnet50_results, train_time_resnet50, eval_resnet50_results]\n",
    "final_save(model_folder_path,model_name, NUM_EPOCHS, resnet50, resnet50_results)"
   ]
  },
  {
   "cell_type": "code",
   "execution_count": 4,
   "metadata": {},
   "outputs": [
    {
     "name": "stdout",
     "output_type": "stream",
     "text": [
      "Models_final\\MobileNetSmall does not exist, creating one...\n"
     ]
    },
    {
     "data": {
      "application/vnd.jupyter.widget-view+json": {
       "model_id": "2e84e400500645879c85fa2c23b02948",
       "version_major": 2,
       "version_minor": 0
      },
      "text/plain": [
       "  0%|          | 0/150 [00:00<?, ?it/s]"
      ]
     },
     "metadata": {},
     "output_type": "display_data"
    },
    {
     "name": "stdout",
     "output_type": "stream",
     "text": [
      "Epoch: 1 | train_loss: 0.7860 | train_acc: 0.6459 | validation_loss: 0.3923 | validation_acc: 0.8025\n",
      "Epoch: 2 | train_loss: 0.4843 | train_acc: 0.7788 | validation_loss: 0.3781 | validation_acc: 0.7950\n",
      "Epoch: 3 | train_loss: 0.4357 | train_acc: 0.8056 | validation_loss: 0.7688 | validation_acc: 0.7025\n",
      "Epoch: 4 | train_loss: 0.4193 | train_acc: 0.8147 | validation_loss: 0.2682 | validation_acc: 0.8950\n",
      "Epoch: 5 | train_loss: 0.3767 | train_acc: 0.8350 | validation_loss: 0.2541 | validation_acc: 0.8825\n",
      "Epoch: 6 | train_loss: 0.3570 | train_acc: 0.8469 | validation_loss: 0.2628 | validation_acc: 0.8825\n",
      "Epoch: 7 | train_loss: 0.3633 | train_acc: 0.8441 | validation_loss: 0.3371 | validation_acc: 0.8450\n",
      "Epoch: 8 | train_loss: 0.3092 | train_acc: 0.8747 | validation_loss: 0.2329 | validation_acc: 0.9100\n",
      "Epoch: 9 | train_loss: 0.3118 | train_acc: 0.8744 | validation_loss: 0.2691 | validation_acc: 0.8925\n",
      "Epoch: 10 | train_loss: 0.3195 | train_acc: 0.8694 | validation_loss: 0.2676 | validation_acc: 0.8875\n",
      "Epoch: 11 | train_loss: 0.3054 | train_acc: 0.8697 | validation_loss: 0.3429 | validation_acc: 0.8500\n",
      "Epoch: 12 | train_loss: 0.3003 | train_acc: 0.8719 | validation_loss: 0.3143 | validation_acc: 0.8675\n",
      "Epoch: 13 | train_loss: 0.2907 | train_acc: 0.8769 | validation_loss: 0.2967 | validation_acc: 0.8825\n",
      "Epoch: 14 | train_loss: 0.2638 | train_acc: 0.8866 | validation_loss: 0.3261 | validation_acc: 0.8600\n",
      "Epoch: 15 | train_loss: 0.2737 | train_acc: 0.8878 | validation_loss: 0.3501 | validation_acc: 0.8625\n",
      "Epoch: 16 | train_loss: 0.2594 | train_acc: 0.8956 | validation_loss: 0.2127 | validation_acc: 0.9075\n",
      "Epoch: 17 | train_loss: 0.2508 | train_acc: 0.9006 | validation_loss: 0.2981 | validation_acc: 0.8750\n",
      "Epoch: 18 | train_loss: 0.2435 | train_acc: 0.9006 | validation_loss: 0.2472 | validation_acc: 0.9175\n",
      "Epoch: 19 | train_loss: 0.2434 | train_acc: 0.9019 | validation_loss: 0.2709 | validation_acc: 0.8850\n",
      "Epoch: 20 | train_loss: 0.2759 | train_acc: 0.8950 | validation_loss: 0.2262 | validation_acc: 0.9075\n",
      "Epoch: 21 | train_loss: 0.2350 | train_acc: 0.9028 | validation_loss: 0.2226 | validation_acc: 0.9200\n",
      "Epoch: 22 | train_loss: 0.2595 | train_acc: 0.9006 | validation_loss: 0.3248 | validation_acc: 0.8600\n",
      "Epoch: 23 | train_loss: 0.2264 | train_acc: 0.9116 | validation_loss: 0.2723 | validation_acc: 0.9100\n",
      "Epoch: 24 | train_loss: 0.2250 | train_acc: 0.9128 | validation_loss: 0.2856 | validation_acc: 0.8700\n",
      "Epoch: 25 | train_loss: 0.2135 | train_acc: 0.9113 | validation_loss: 0.2775 | validation_acc: 0.9000\n",
      "Epoch: 26 | train_loss: 0.2203 | train_acc: 0.9156 | validation_loss: 0.2935 | validation_acc: 0.8825\n",
      "Epoch: 27 | train_loss: 0.2079 | train_acc: 0.9147 | validation_loss: 0.3570 | validation_acc: 0.8625\n",
      "Epoch: 28 | train_loss: 0.2079 | train_acc: 0.9194 | validation_loss: 0.2479 | validation_acc: 0.9125\n",
      "Epoch: 29 | train_loss: 0.2026 | train_acc: 0.9209 | validation_loss: 0.3306 | validation_acc: 0.8725\n",
      "Epoch: 30 | train_loss: 0.2363 | train_acc: 0.9094 | validation_loss: 0.2586 | validation_acc: 0.8950\n",
      "Epoch: 31 | train_loss: 0.2027 | train_acc: 0.9191 | validation_loss: 0.3453 | validation_acc: 0.8600\n",
      "Epoch: 32 | train_loss: 0.2255 | train_acc: 0.9075 | validation_loss: 0.2850 | validation_acc: 0.8925\n",
      "Epoch: 33 | train_loss: 0.2005 | train_acc: 0.9209 | validation_loss: 0.2981 | validation_acc: 0.8750\n",
      "Epoch: 34 | train_loss: 0.1709 | train_acc: 0.9322 | validation_loss: 0.3001 | validation_acc: 0.8900\n",
      "Epoch: 35 | train_loss: 0.2050 | train_acc: 0.9191 | validation_loss: 0.3128 | validation_acc: 0.8850\n",
      "Epoch: 36 | train_loss: 0.1894 | train_acc: 0.9256 | validation_loss: 0.2744 | validation_acc: 0.9025\n",
      "Epoch: 37 | train_loss: 0.1782 | train_acc: 0.9294 | validation_loss: 0.3072 | validation_acc: 0.9100\n",
      "Epoch: 38 | train_loss: 0.1966 | train_acc: 0.9219 | validation_loss: 0.2603 | validation_acc: 0.9000\n",
      "Epoch: 39 | train_loss: 0.1809 | train_acc: 0.9319 | validation_loss: 0.2784 | validation_acc: 0.9100\n",
      "Epoch: 40 | train_loss: 0.1734 | train_acc: 0.9309 | validation_loss: 0.2836 | validation_acc: 0.9050\n",
      "Epoch: 41 | train_loss: 0.1784 | train_acc: 0.9322 | validation_loss: 0.2848 | validation_acc: 0.8875\n",
      "Epoch: 42 | train_loss: 0.1648 | train_acc: 0.9387 | validation_loss: 0.3479 | validation_acc: 0.8775\n",
      "Epoch: 43 | train_loss: 0.1891 | train_acc: 0.9281 | validation_loss: 0.2947 | validation_acc: 0.9125\n",
      "Epoch: 44 | train_loss: 0.1710 | train_acc: 0.9306 | validation_loss: 0.3948 | validation_acc: 0.8950\n",
      "Epoch: 45 | train_loss: 0.2279 | train_acc: 0.9137 | validation_loss: 0.2855 | validation_acc: 0.8850\n",
      "Epoch: 46 | train_loss: 0.1728 | train_acc: 0.9363 | validation_loss: 0.3298 | validation_acc: 0.8750\n",
      "Epoch: 47 | train_loss: 0.1891 | train_acc: 0.9322 | validation_loss: 0.3662 | validation_acc: 0.8900\n",
      "Epoch: 48 | train_loss: 0.1752 | train_acc: 0.9300 | validation_loss: 0.3142 | validation_acc: 0.8800\n",
      "Epoch: 49 | train_loss: 0.2142 | train_acc: 0.9213 | validation_loss: 0.3619 | validation_acc: 0.8825\n",
      "Epoch: 50 | train_loss: 0.1601 | train_acc: 0.9350 | validation_loss: 0.3770 | validation_acc: 0.8725\n",
      "Epoch: 51 | train_loss: 0.1693 | train_acc: 0.9384 | validation_loss: 0.3481 | validation_acc: 0.8850\n",
      "Epoch: 52 | train_loss: 0.1504 | train_acc: 0.9434 | validation_loss: 0.3946 | validation_acc: 0.8950\n",
      "Epoch: 53 | train_loss: 0.1552 | train_acc: 0.9409 | validation_loss: 0.2606 | validation_acc: 0.9075\n",
      "Epoch: 54 | train_loss: 0.1527 | train_acc: 0.9409 | validation_loss: 0.3569 | validation_acc: 0.8950\n",
      "Epoch: 55 | train_loss: 0.1296 | train_acc: 0.9513 | validation_loss: 0.3270 | validation_acc: 0.8825\n",
      "Epoch: 56 | train_loss: 0.1465 | train_acc: 0.9391 | validation_loss: 0.3406 | validation_acc: 0.8950\n",
      "Epoch: 57 | train_loss: 0.1551 | train_acc: 0.9425 | validation_loss: 0.5204 | validation_acc: 0.8700\n",
      "Epoch: 58 | train_loss: 0.1558 | train_acc: 0.9441 | validation_loss: 0.3118 | validation_acc: 0.9000\n",
      "Epoch: 59 | train_loss: 0.1499 | train_acc: 0.9391 | validation_loss: 0.2944 | validation_acc: 0.9025\n",
      "Epoch: 60 | train_loss: 0.1295 | train_acc: 0.9481 | validation_loss: 0.3186 | validation_acc: 0.8825\n",
      "Epoch: 61 | train_loss: 0.1491 | train_acc: 0.9428 | validation_loss: 0.3059 | validation_acc: 0.9075\n",
      "Epoch: 62 | train_loss: 0.1484 | train_acc: 0.9387 | validation_loss: 0.3730 | validation_acc: 0.9150\n",
      "Epoch: 63 | train_loss: 0.1637 | train_acc: 0.9391 | validation_loss: 0.3356 | validation_acc: 0.8975\n",
      "Epoch: 64 | train_loss: 0.1420 | train_acc: 0.9409 | validation_loss: 0.3023 | validation_acc: 0.9050\n",
      "Epoch: 65 | train_loss: 0.1589 | train_acc: 0.9381 | validation_loss: 0.3359 | validation_acc: 0.9025\n",
      "Epoch: 66 | train_loss: 0.1423 | train_acc: 0.9437 | validation_loss: 0.4126 | validation_acc: 0.8650\n",
      "Epoch: 67 | train_loss: 0.1365 | train_acc: 0.9466 | validation_loss: 0.3180 | validation_acc: 0.9025\n",
      "Epoch: 68 | train_loss: 0.1428 | train_acc: 0.9444 | validation_loss: 0.2671 | validation_acc: 0.8975\n",
      "Epoch: 69 | train_loss: 0.1598 | train_acc: 0.9416 | validation_loss: 0.3004 | validation_acc: 0.9150\n",
      "Epoch: 70 | train_loss: 0.1276 | train_acc: 0.9503 | validation_loss: 0.4626 | validation_acc: 0.8800\n",
      "Epoch: 71 | train_loss: 0.1292 | train_acc: 0.9494 | validation_loss: 0.3956 | validation_acc: 0.8900\n",
      "Epoch: 72 | train_loss: 0.1545 | train_acc: 0.9403 | validation_loss: 0.3814 | validation_acc: 0.8825\n",
      "Epoch: 73 | train_loss: 0.1467 | train_acc: 0.9437 | validation_loss: 0.3633 | validation_acc: 0.8700\n",
      "Epoch: 74 | train_loss: 0.1383 | train_acc: 0.9453 | validation_loss: 0.3642 | validation_acc: 0.9125\n",
      "Epoch: 75 | train_loss: 0.1459 | train_acc: 0.9487 | validation_loss: 0.3017 | validation_acc: 0.9000\n",
      "Epoch: 76 | train_loss: 0.1495 | train_acc: 0.9425 | validation_loss: 0.4389 | validation_acc: 0.8625\n",
      "Epoch: 77 | train_loss: 0.1463 | train_acc: 0.9447 | validation_loss: 0.4030 | validation_acc: 0.8825\n",
      "Epoch: 78 | train_loss: 0.1204 | train_acc: 0.9509 | validation_loss: 0.4142 | validation_acc: 0.8850\n",
      "Epoch: 79 | train_loss: 0.1189 | train_acc: 0.9531 | validation_loss: 0.4190 | validation_acc: 0.8825\n",
      "Epoch: 80 | train_loss: 0.1366 | train_acc: 0.9491 | validation_loss: 0.3970 | validation_acc: 0.8875\n",
      "Epoch: 81 | train_loss: 0.1213 | train_acc: 0.9519 | validation_loss: 0.4458 | validation_acc: 0.9050\n",
      "Epoch: 82 | train_loss: 0.1246 | train_acc: 0.9503 | validation_loss: 0.3412 | validation_acc: 0.9100\n",
      "Epoch: 83 | train_loss: 0.1130 | train_acc: 0.9537 | validation_loss: 0.4113 | validation_acc: 0.8900\n",
      "Epoch: 84 | train_loss: 0.1341 | train_acc: 0.9509 | validation_loss: 0.3410 | validation_acc: 0.9000\n",
      "Epoch: 85 | train_loss: 0.1239 | train_acc: 0.9550 | validation_loss: 0.7454 | validation_acc: 0.8750\n",
      "Epoch: 86 | train_loss: 0.1459 | train_acc: 0.9450 | validation_loss: 0.4347 | validation_acc: 0.8700\n",
      "Epoch: 87 | train_loss: 0.1142 | train_acc: 0.9534 | validation_loss: 0.4467 | validation_acc: 0.9050\n"
     ]
    },
    {
     "ename": "KeyboardInterrupt",
     "evalue": "",
     "output_type": "error",
     "traceback": [
      "\u001b[1;31m---------------------------------------------------------------------------\u001b[0m",
      "\u001b[1;31mKeyboardInterrupt\u001b[0m                         Traceback (most recent call last)",
      "\u001b[1;32m~\\AppData\\Local\\Temp\\ipykernel_6744\\2689843567.py\u001b[0m in \u001b[0;36m<module>\u001b[1;34m\u001b[0m\n\u001b[0;32m      7\u001b[0m \u001b[0mmobnet_sml\u001b[0m\u001b[1;33m.\u001b[0m\u001b[0mto\u001b[0m\u001b[1;33m(\u001b[0m\u001b[0mdevice\u001b[0m\u001b[1;33m)\u001b[0m\u001b[1;33m\u001b[0m\u001b[1;33m\u001b[0m\u001b[0m\n\u001b[0;32m      8\u001b[0m \u001b[0mnadam_optim\u001b[0m \u001b[1;33m=\u001b[0m \u001b[0mtorch\u001b[0m\u001b[1;33m.\u001b[0m\u001b[0moptim\u001b[0m\u001b[1;33m.\u001b[0m\u001b[0mNAdam\u001b[0m\u001b[1;33m(\u001b[0m\u001b[0mparams\u001b[0m\u001b[1;33m=\u001b[0m\u001b[0mmobnet_sml\u001b[0m\u001b[1;33m.\u001b[0m\u001b[0mparameters\u001b[0m\u001b[1;33m(\u001b[0m\u001b[1;33m)\u001b[0m\u001b[1;33m)\u001b[0m\u001b[1;33m\u001b[0m\u001b[1;33m\u001b[0m\u001b[0m\n\u001b[1;32m----> 9\u001b[1;33m \u001b[0mtrain_mobnet_sml_results\u001b[0m\u001b[1;33m,\u001b[0m \u001b[0mtrain_time_mobnet_sml\u001b[0m \u001b[1;33m=\u001b[0m \u001b[0mtrain\u001b[0m\u001b[1;33m(\u001b[0m\u001b[0mmobnet_sml\u001b[0m\u001b[1;33m,\u001b[0m \u001b[0mtrain_dl\u001b[0m\u001b[1;33m,\u001b[0m \u001b[0mvalidation_dl\u001b[0m\u001b[1;33m,\u001b[0m \u001b[0moptimizer\u001b[0m\u001b[1;33m=\u001b[0m\u001b[0mnadam_optim\u001b[0m\u001b[1;33m,\u001b[0m \u001b[0mloss_fn\u001b[0m\u001b[1;33m=\u001b[0m\u001b[0mloss_fn\u001b[0m\u001b[1;33m,\u001b[0m \u001b[0mepochs\u001b[0m\u001b[1;33m=\u001b[0m\u001b[0mNUM_EPOCHS\u001b[0m\u001b[1;33m,\u001b[0m \u001b[0mname_save\u001b[0m\u001b[1;33m=\u001b[0m\u001b[0mmodel_name_folder_path\u001b[0m\u001b[1;33m,\u001b[0m \u001b[0mdevice\u001b[0m\u001b[1;33m=\u001b[0m\u001b[0mdevice\u001b[0m\u001b[1;33m)\u001b[0m\u001b[1;33m\u001b[0m\u001b[1;33m\u001b[0m\u001b[0m\n\u001b[0m",
      "\u001b[1;32mc:\\Users\\joaor\\Desktop\\AQAUIS\\AQAUIS\\Code\\Visibility\\engine.py\u001b[0m in \u001b[0;36mtrain\u001b[1;34m(model, train_dataloader, validation_dataloader, optimizer, loss_fn, epochs, name_save, device)\u001b[0m\n\u001b[0;32m    128\u001b[0m \u001b[1;33m\u001b[0m\u001b[0m\n\u001b[0;32m    129\u001b[0m   \u001b[1;32mfor\u001b[0m \u001b[0mepoch\u001b[0m \u001b[1;32min\u001b[0m \u001b[0mtqdm\u001b[0m\u001b[1;33m(\u001b[0m\u001b[0mrange\u001b[0m\u001b[1;33m(\u001b[0m\u001b[0mepochs\u001b[0m\u001b[1;33m)\u001b[0m\u001b[1;33m)\u001b[0m\u001b[1;33m:\u001b[0m\u001b[1;33m\u001b[0m\u001b[1;33m\u001b[0m\u001b[0m\n\u001b[1;32m--> 130\u001b[1;33m     train_loss, train_acc = train_step(model=model,\n\u001b[0m\u001b[0;32m    131\u001b[0m                                        \u001b[0mdataloader\u001b[0m\u001b[1;33m=\u001b[0m\u001b[0mtrain_dataloader\u001b[0m\u001b[1;33m,\u001b[0m\u001b[1;33m\u001b[0m\u001b[1;33m\u001b[0m\u001b[0m\n\u001b[0;32m    132\u001b[0m                                        \u001b[0mloss_fn\u001b[0m\u001b[1;33m=\u001b[0m\u001b[0mloss_fn\u001b[0m\u001b[1;33m,\u001b[0m\u001b[1;33m\u001b[0m\u001b[1;33m\u001b[0m\u001b[0m\n",
      "\u001b[1;32mc:\\Users\\joaor\\Desktop\\AQAUIS\\AQAUIS\\Code\\Visibility\\engine.py\u001b[0m in \u001b[0;36mtrain_step\u001b[1;34m(model, dataloader, loss_fn, optimizer, device)\u001b[0m\n\u001b[0;32m     37\u001b[0m \u001b[1;33m\u001b[0m\u001b[0m\n\u001b[0;32m     38\u001b[0m     \u001b[1;32mfor\u001b[0m \u001b[0mbatch\u001b[0m\u001b[1;33m,\u001b[0m \u001b[1;33m(\u001b[0m\u001b[0mX\u001b[0m\u001b[1;33m,\u001b[0m \u001b[0my\u001b[0m\u001b[1;33m)\u001b[0m \u001b[1;32min\u001b[0m \u001b[0menumerate\u001b[0m\u001b[1;33m(\u001b[0m\u001b[0mdataloader\u001b[0m\u001b[1;33m)\u001b[0m\u001b[1;33m:\u001b[0m\u001b[1;33m\u001b[0m\u001b[1;33m\u001b[0m\u001b[0m\n\u001b[1;32m---> 39\u001b[1;33m         \u001b[0mX\u001b[0m\u001b[1;33m,\u001b[0m \u001b[0my\u001b[0m \u001b[1;33m=\u001b[0m \u001b[0mX\u001b[0m\u001b[1;33m.\u001b[0m\u001b[0mto\u001b[0m\u001b[1;33m(\u001b[0m\u001b[0mdevice\u001b[0m\u001b[1;33m)\u001b[0m\u001b[1;33m,\u001b[0m \u001b[0my\u001b[0m\u001b[1;33m.\u001b[0m\u001b[0mto\u001b[0m\u001b[1;33m(\u001b[0m\u001b[0mdevice\u001b[0m\u001b[1;33m)\u001b[0m\u001b[1;33m\u001b[0m\u001b[1;33m\u001b[0m\u001b[0m\n\u001b[0m\u001b[0;32m     40\u001b[0m \u001b[1;33m\u001b[0m\u001b[0m\n\u001b[0;32m     41\u001b[0m         \u001b[0my_pred\u001b[0m \u001b[1;33m=\u001b[0m \u001b[0mmodel\u001b[0m\u001b[1;33m(\u001b[0m\u001b[0mX\u001b[0m\u001b[1;33m)\u001b[0m\u001b[1;33m\u001b[0m\u001b[1;33m\u001b[0m\u001b[0m\n",
      "\u001b[1;31mKeyboardInterrupt\u001b[0m: "
     ]
    }
   ],
   "source": [
    "model_name = \"MobileNetSmall\"\n",
    "model_folder_path = models_path / model_name\n",
    "check_dir(model_folder_path)\n",
    "model_name_folder_path = model_folder_path / model_name\n",
    "\n",
    "#Train MobileNetV3 Small\n",
    "mobnet_sml.to(device)\n",
    "nadam_optim = torch.optim.NAdam(params=mobnet_sml.parameters())\n",
    "train_mobnet_sml_results, train_time_mobnet_sml = train(mobnet_sml, train_dl, validation_dl, optimizer=nadam_optim, loss_fn=loss_fn, epochs=NUM_EPOCHS, name_save=model_name_folder_path, device=device)"
   ]
  },
  {
   "cell_type": "code",
   "execution_count": null,
   "metadata": {},
   "outputs": [],
   "source": [
    "eval_mobnet_sml_results = eval_model(mobnet_sml, test_dl, loss_fn = loss_fn, accuracy_fn=accuracy_fn, device = device, dummy_input= torch.rand(32,3,224,224).to(device))\n",
    "mobnet_sml_results = [train_mobnet_sml_results, train_time_mobnet_sml, eval_mobnet_sml_results]\n",
    "final_save(model_folder_path,model_name, NUM_EPOCHS, mobnet_sml, mobnet_sml_results)"
   ]
  },
  {
   "cell_type": "code",
   "execution_count": 4,
   "metadata": {},
   "outputs": [
    {
     "name": "stdout",
     "output_type": "stream",
     "text": [
      "Models_final_es\\MobileNetLarge does not exist, creating one...\n"
     ]
    },
    {
     "data": {
      "application/vnd.jupyter.widget-view+json": {
       "model_id": "e97825f6387b44b189fe8b8ead250654",
       "version_major": 2,
       "version_minor": 0
      },
      "text/plain": [
       "  0%|          | 0/150 [00:00<?, ?it/s]"
      ]
     },
     "metadata": {},
     "output_type": "display_data"
    },
    {
     "name": "stdout",
     "output_type": "stream",
     "text": [
      "Epoch: 1 | train_loss: 0.7693 | train_acc: 0.6744 | validation_loss: 0.4045 | validation_acc: 0.8125\n",
      "Epoch: 2 | train_loss: 0.5506 | train_acc: 0.7797 | validation_loss: 0.7344 | validation_acc: 0.7700\n",
      "Epoch: 3 | train_loss: 0.4685 | train_acc: 0.8159 | validation_loss: 0.4179 | validation_acc: 0.8600\n",
      "Epoch: 4 | train_loss: 0.4279 | train_acc: 0.8294 | validation_loss: 0.2440 | validation_acc: 0.9100\n",
      "Epoch: 5 | train_loss: 0.3700 | train_acc: 0.8578 | validation_loss: 0.1868 | validation_acc: 0.9250\n",
      "Epoch: 6 | train_loss: 0.3684 | train_acc: 0.8594 | validation_loss: 0.2082 | validation_acc: 0.8975\n",
      "Epoch: 7 | train_loss: 0.3278 | train_acc: 0.8681 | validation_loss: 0.1992 | validation_acc: 0.9250\n",
      "Epoch: 8 | train_loss: 0.3623 | train_acc: 0.8581 | validation_loss: 0.2517 | validation_acc: 0.9000\n",
      "Epoch: 9 | train_loss: 0.3172 | train_acc: 0.8816 | validation_loss: 0.3465 | validation_acc: 0.8300\n",
      "Epoch: 10 | train_loss: 0.2850 | train_acc: 0.8809 | validation_loss: 0.2945 | validation_acc: 0.8625\n",
      "Epoch: 11 | train_loss: 0.2962 | train_acc: 0.8825 | validation_loss: 0.2916 | validation_acc: 0.8800\n",
      "Epoch: 12 | train_loss: 0.2762 | train_acc: 0.8962 | validation_loss: 0.2590 | validation_acc: 0.9050\n",
      "Epoch: 13 | train_loss: 0.3459 | train_acc: 0.8672 | validation_loss: 0.4626 | validation_acc: 0.8100\n",
      "Epoch: 14 | train_loss: 0.2847 | train_acc: 0.8838 | validation_loss: 0.2389 | validation_acc: 0.9075\n"
     ]
    }
   ],
   "source": [
    "model_name = \"MobileNetLarge\"\n",
    "model_folder_path = models_path / model_name\n",
    "check_dir(model_folder_path)\n",
    "model_name_folder_path = model_folder_path / model_name\n",
    "\n",
    "#Train MobileNetV3 Large\n",
    "mobnet_lrg.to(device)\n",
    "nadam_optim = torch.optim.NAdam(params=mobnet_lrg.parameters())\n",
    "train_mobnet_lrg_results, train_time_mobnet_lrg = train(mobnet_lrg, train_dl, validation_dl, optimizer=nadam_optim, loss_fn=loss_fn, epochs=NUM_EPOCHS, name_save=model_name_folder_path, device=device)"
   ]
  },
  {
   "cell_type": "code",
   "execution_count": 5,
   "metadata": {},
   "outputs": [
    {
     "data": {
      "application/vnd.jupyter.widget-view+json": {
       "model_id": "013d805e0e8c45a193cd2d86079ceeae",
       "version_major": 2,
       "version_minor": 0
      },
      "text/plain": [
       "  0%|          | 0/25 [00:02<?, ?it/s]"
      ]
     },
     "metadata": {},
     "output_type": "display_data"
    }
   ],
   "source": [
    "eval_mobnet_lrg_results = eval_model(mobnet_lrg, test_dl, loss_fn = loss_fn, accuracy_fn=accuracy_fn, device = device, dummy_input= torch.rand(32,3,224,224).to(device))\n",
    "mobnet_lrg_results = [train_mobnet_lrg_results, train_time_mobnet_lrg, eval_mobnet_lrg_results]\n",
    "final_save(model_folder_path, model_name, NUM_EPOCHS, mobnet_lrg, mobnet_lrg_results)"
   ]
  },
  {
   "cell_type": "code",
   "execution_count": 4,
   "metadata": {},
   "outputs": [
    {
     "name": "stdout",
     "output_type": "stream",
     "text": [
      "Models_final_es\\EfficientNetB0 does not exist, creating one...\n"
     ]
    },
    {
     "data": {
      "application/vnd.jupyter.widget-view+json": {
       "model_id": "fcb17abbc4144250acd509aeb7c462e3",
       "version_major": 2,
       "version_minor": 0
      },
      "text/plain": [
       "  0%|          | 0/150 [00:00<?, ?it/s]"
      ]
     },
     "metadata": {},
     "output_type": "display_data"
    },
    {
     "name": "stdout",
     "output_type": "stream",
     "text": [
      "Epoch: 1 | train_loss: 1.0054 | train_acc: 0.5200 | validation_loss: 1.4208 | validation_acc: 0.5200\n",
      "Epoch: 2 | train_loss: 0.6213 | train_acc: 0.7181 | validation_loss: 0.4257 | validation_acc: 0.7875\n",
      "Epoch: 3 | train_loss: 0.5308 | train_acc: 0.7650 | validation_loss: 0.5358 | validation_acc: 0.7925\n",
      "Epoch: 4 | train_loss: 0.4611 | train_acc: 0.7944 | validation_loss: 0.7944 | validation_acc: 0.7550\n",
      "Epoch: 5 | train_loss: 0.4258 | train_acc: 0.8084 | validation_loss: 0.3192 | validation_acc: 0.8600\n",
      "Epoch: 6 | train_loss: 0.4122 | train_acc: 0.8284 | validation_loss: 0.4537 | validation_acc: 0.7650\n",
      "Epoch: 7 | train_loss: 0.3722 | train_acc: 0.8428 | validation_loss: 0.4197 | validation_acc: 0.8475\n",
      "Epoch: 8 | train_loss: 0.3748 | train_acc: 0.8472 | validation_loss: 0.2750 | validation_acc: 0.9000\n",
      "Epoch: 9 | train_loss: 0.3763 | train_acc: 0.8422 | validation_loss: 0.3109 | validation_acc: 0.8600\n",
      "Epoch: 10 | train_loss: 0.3082 | train_acc: 0.8734 | validation_loss: 0.3910 | validation_acc: 0.8525\n",
      "Epoch: 11 | train_loss: 0.3350 | train_acc: 0.8597 | validation_loss: 0.3217 | validation_acc: 0.8650\n",
      "Epoch: 12 | train_loss: 0.2892 | train_acc: 0.8819 | validation_loss: 0.2793 | validation_acc: 0.8800\n",
      "Epoch: 13 | train_loss: 0.3008 | train_acc: 0.8806 | validation_loss: 0.3178 | validation_acc: 0.8775\n",
      "Epoch: 14 | train_loss: 0.2871 | train_acc: 0.8803 | validation_loss: 0.2997 | validation_acc: 0.8800\n",
      "Epoch: 15 | train_loss: 0.2847 | train_acc: 0.8888 | validation_loss: 0.2568 | validation_acc: 0.8950\n",
      "Epoch: 16 | train_loss: 0.2841 | train_acc: 0.8850 | validation_loss: 0.3161 | validation_acc: 0.8550\n",
      "Epoch: 17 | train_loss: 0.2771 | train_acc: 0.8859 | validation_loss: 0.4285 | validation_acc: 0.8175\n",
      "Epoch: 18 | train_loss: 0.2632 | train_acc: 0.8884 | validation_loss: 0.3104 | validation_acc: 0.8750\n",
      "Epoch: 19 | train_loss: 0.2665 | train_acc: 0.8912 | validation_loss: 0.2803 | validation_acc: 0.8875\n",
      "Epoch: 20 | train_loss: 0.2482 | train_acc: 0.8997 | validation_loss: 0.2743 | validation_acc: 0.8900\n",
      "Epoch: 21 | train_loss: 0.2236 | train_acc: 0.9028 | validation_loss: 0.3055 | validation_acc: 0.8825\n",
      "Epoch: 22 | train_loss: 0.2570 | train_acc: 0.8975 | validation_loss: 0.3265 | validation_acc: 0.8750\n",
      "Epoch: 23 | train_loss: 0.2430 | train_acc: 0.8991 | validation_loss: 0.3275 | validation_acc: 0.8700\n",
      "Epoch: 24 | train_loss: 0.2363 | train_acc: 0.9047 | validation_loss: 0.3114 | validation_acc: 0.8775\n",
      "Epoch: 25 | train_loss: 0.2246 | train_acc: 0.9084 | validation_loss: 0.2716 | validation_acc: 0.9050\n",
      "Epoch: 26 | train_loss: 0.2288 | train_acc: 0.9072 | validation_loss: 0.2534 | validation_acc: 0.8925\n",
      "Epoch: 27 | train_loss: 0.2163 | train_acc: 0.9097 | validation_loss: 0.3207 | validation_acc: 0.8900\n",
      "Epoch: 28 | train_loss: 0.2124 | train_acc: 0.9116 | validation_loss: 0.2700 | validation_acc: 0.8825\n",
      "Epoch: 29 | train_loss: 0.2040 | train_acc: 0.9156 | validation_loss: 0.3133 | validation_acc: 0.8850\n",
      "Epoch: 30 | train_loss: 0.2122 | train_acc: 0.9134 | validation_loss: 0.2777 | validation_acc: 0.8875\n",
      "Epoch: 31 | train_loss: 0.1977 | train_acc: 0.9197 | validation_loss: 0.2932 | validation_acc: 0.9100\n",
      "Epoch: 32 | train_loss: 0.2040 | train_acc: 0.9159 | validation_loss: 0.3054 | validation_acc: 0.9025\n",
      "Epoch: 33 | train_loss: 0.2069 | train_acc: 0.9153 | validation_loss: 0.3497 | validation_acc: 0.8625\n",
      "Epoch: 34 | train_loss: 0.2026 | train_acc: 0.9216 | validation_loss: 0.2894 | validation_acc: 0.8900\n",
      "Epoch: 35 | train_loss: 0.1774 | train_acc: 0.9313 | validation_loss: 0.3386 | validation_acc: 0.8900\n",
      "Epoch: 36 | train_loss: 0.1839 | train_acc: 0.9250 | validation_loss: 0.2920 | validation_acc: 0.8875\n",
      "Epoch: 37 | train_loss: 0.1804 | train_acc: 0.9275 | validation_loss: 0.2909 | validation_acc: 0.8700\n",
      "Epoch: 38 | train_loss: 0.1780 | train_acc: 0.9247 | validation_loss: 0.3053 | validation_acc: 0.9100\n",
      "Epoch: 39 | train_loss: 0.1955 | train_acc: 0.9213 | validation_loss: 0.2770 | validation_acc: 0.9100\n",
      "Epoch: 40 | train_loss: 0.1817 | train_acc: 0.9275 | validation_loss: 0.3488 | validation_acc: 0.8900\n",
      "Epoch: 41 | train_loss: 0.1683 | train_acc: 0.9303 | validation_loss: 0.3490 | validation_acc: 0.8825\n",
      "Epoch: 42 | train_loss: 0.1726 | train_acc: 0.9306 | validation_loss: 0.3383 | validation_acc: 0.8850\n",
      "Epoch: 43 | train_loss: 0.1697 | train_acc: 0.9309 | validation_loss: 0.4618 | validation_acc: 0.8725\n",
      "Epoch: 44 | train_loss: 0.1691 | train_acc: 0.9325 | validation_loss: 0.2863 | validation_acc: 0.8875\n",
      "Epoch: 45 | train_loss: 0.1524 | train_acc: 0.9416 | validation_loss: 0.4457 | validation_acc: 0.8725\n",
      "Epoch: 46 | train_loss: 0.1594 | train_acc: 0.9369 | validation_loss: 0.4086 | validation_acc: 0.8450\n",
      "Epoch: 47 | train_loss: 0.1464 | train_acc: 0.9409 | validation_loss: 0.3570 | validation_acc: 0.8825\n"
     ]
    }
   ],
   "source": [
    "model_name = \"EfficientNetB0\"\n",
    "model_folder_path = models_path / model_name\n",
    "check_dir(model_folder_path)\n",
    "model_name_folder_path = model_folder_path / model_name\n",
    "\n",
    "#Train EfficientNet B0\n",
    "effnetb0.to(device)\n",
    "nadam_optim = torch.optim.NAdam(params=effnetb0.parameters())\n",
    "train_effnetb0_results, train_time_effnetb0 = train(effnetb0, train_dl, validation_dl, optimizer=nadam_optim, loss_fn=loss_fn, epochs=NUM_EPOCHS, name_save=model_name_folder_path, device=device)"
   ]
  },
  {
   "cell_type": "code",
   "execution_count": 6,
   "metadata": {},
   "outputs": [
    {
     "data": {
      "application/vnd.jupyter.widget-view+json": {
       "model_id": "50b455a316de480e85a68d0aa0055453",
       "version_major": 2,
       "version_minor": 0
      },
      "text/plain": [
       "  0%|          | 0/25 [00:02<?, ?it/s]"
      ]
     },
     "metadata": {},
     "output_type": "display_data"
    }
   ],
   "source": [
    "eval_effnetb0_results = eval_model(effnetb0, test_dl, loss_fn = loss_fn, accuracy_fn=accuracy_fn, device = device, dummy_input= torch.rand(32,3,224,224).to(device))\n",
    "effnetb0_results = [train_effnetb0_results, train_time_effnetb0, eval_effnetb0_results]\n",
    "final_save(model_folder_path, model_name, NUM_EPOCHS, effnetb0, effnetb0_results)"
   ]
  },
  {
   "cell_type": "code",
   "execution_count": 9,
   "metadata": {},
   "outputs": [
    {
     "data": {
      "application/vnd.jupyter.widget-view+json": {
       "model_id": "25f094dc9d914a739ae74a20a7bda4b5",
       "version_major": 2,
       "version_minor": 0
      },
      "text/plain": [
       "  0%|          | 0/25 [00:01<?, ?it/s]"
      ]
     },
     "metadata": {},
     "output_type": "display_data"
    }
   ],
   "source": [
    "#Load Model\n",
    "model = EfficientNetB0\n",
    "model_path = models_path/\"EfficientNetB0/EfficientNetB0_150_final.pth\"\n",
    "final_model = load_model(model,model_path,device)\n",
    "final_model.to(device)\n",
    "\n",
    "all_results_path = models_path / \"EfficientNetB0\" / Path(\"EfficientNetB0_\" + str(NUM_EPOCHS) + \"_final_results.npy\")\n",
    "loaded_results = np.load(all_results_path, allow_pickle=True)\n",
    "\n",
    "eval_effnetb0_results = eval_model(final_model, test_dl, loss_fn = loss_fn, accuracy_fn=accuracy_fn, device = device, dummy_input= torch.rand(32,3,224,224).to(device))\n",
    "\n",
    "final_all_results = [loaded_results[0], loaded_results[1], eval_effnetb0_results]\n",
    "np.save(\"Models_final_es/EfficientNetB0/EfficientNetB0_150_final_results.npy\", final_all_results)"
   ]
  }
 ],
 "metadata": {
  "kernelspec": {
   "display_name": "base",
   "language": "python",
   "name": "python3"
  },
  "language_info": {
   "codemirror_mode": {
    "name": "ipython",
    "version": 3
   },
   "file_extension": ".py",
   "mimetype": "text/x-python",
   "name": "python",
   "nbconvert_exporter": "python",
   "pygments_lexer": "ipython3",
   "version": "3.9.13"
  },
  "orig_nbformat": 4
 },
 "nbformat": 4,
 "nbformat_minor": 2
}
