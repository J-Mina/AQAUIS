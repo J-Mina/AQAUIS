{
 "cells": [
  {
   "cell_type": "code",
   "execution_count": 1,
   "metadata": {},
   "outputs": [],
   "source": [
    "from pathlib import Path\n",
    "import pandas as pd\n",
    "\n",
    "from utils import *\n",
    "from dataloaders import *\n",
    "from data_preparation import *\n",
    "from allResNets import *\n",
    "from MobileNetV3 import *\n",
    "from engine import *\n",
    "from efficientNet import *\n",
    "from data_transforms import *\n",
    "\n",
    "change_to_disk()\n",
    "data_dir = Path(\"new_split_100/\")\n",
    "models_path = Path('Models_150/')\n",
    "check_dir(models_path)"
   ]
  },
  {
   "cell_type": "code",
   "execution_count": 2,
   "metadata": {},
   "outputs": [],
   "source": [
    "image_shape = (1080, 1920)\n",
    "resize_factor = 0.3\n",
    "resize = np.multiply(image_shape,resize_factor)\n",
    "resize = [int(resize[0]), int(resize[1])]\n",
    "\n",
    "data_transform = create_transform(resize=resize, rotate=10, flip_h = True, color_dev=True, transf_tensor=True, normalize=True, sp_noise=True, gauss_noise=True)\n",
    "\n",
    "BATCH_SIZE = 16\n",
    "train_dl, validation_dl, test_dl, train_data, validation_data, test_data, class_names = create_dataloaders(data_dir, data_transform, batch_size = BATCH_SIZE)"
   ]
  },
  {
   "cell_type": "code",
   "execution_count": 3,
   "metadata": {},
   "outputs": [],
   "source": [
    "NUM_EPOCHS = 150\n",
    "lr = 0.001\n",
    "device = get_device()\n",
    "\n",
    "resnet18 = ResNet18()\n",
    "resnet50 = ResNet50()\n",
    "mobnet_sml = MobileNetSmall()\n",
    "mobnet_lrg = MobileNetLarge()\n",
    "effnetb0 = EfficientNetB0()\n",
    "effnetb5 = EfficientNetB5()\n",
    "\n",
    "loss_fn = nn.CrossEntropyLoss()"
   ]
  },
  {
   "cell_type": "code",
   "execution_count": null,
   "metadata": {},
   "outputs": [],
   "source": [
    "model_name = \"ResNet18\"\n",
    "model_folder_path = models_path / model_name\n",
    "check_dir(model_folder_path)\n",
    "model_name_folder_path = model_folder_path / model_name\n",
    "\n",
    "#Train ResNet18\n",
    "resnet18.to(device)\n",
    "nadam_optim = torch.optim.NAdam(params=resnet18.parameters(), lr=lr)\n",
    "train_resnet18_results, train_time_resnet18 = train(resnet18, train_dl, validation_dl, optimizer=nadam_optim, loss_fn=loss_fn, epochs=NUM_EPOCHS, name_save=model_name_folder_path, device=device)"
   ]
  },
  {
   "cell_type": "code",
   "execution_count": null,
   "metadata": {},
   "outputs": [],
   "source": [
    "eval_resnet18_results = eval_model(resnet18, test_dl, loss_fn = loss_fn, accuracy_fn=accuracy_fn, device = device, dummy_input= torch.rand(32,3,224,224).to(device))\n",
    "resnet18_results = [train_resnet18_results, train_time_resnet18, eval_resnet18_results]\n",
    "final_save(model_folder_path,model_name, NUM_EPOCHS, resnet18, resnet18_results)"
   ]
  },
  {
   "cell_type": "code",
   "execution_count": null,
   "metadata": {},
   "outputs": [],
   "source": [
    "model_name = \"ResNet50\"\n",
    "model_folder_path = models_path / model_name\n",
    "check_dir(model_folder_path)\n",
    "model_name_folder_path = model_folder_path / model_name\n",
    "\n",
    "#Train ResNet50\n",
    "resnet50.to(device)\n",
    "nadam_optim = torch.optim.NAdam(params=resnet50.parameters(), lr=lr)\n",
    "train_resnet50_results, train_time_resnet50 = train(resnet50, train_dl, validation_dl, optimizer=nadam_optim, loss_fn=loss_fn, epochs=NUM_EPOCHS, name_save=model_name_folder_path, device=device)"
   ]
  },
  {
   "cell_type": "code",
   "execution_count": null,
   "metadata": {},
   "outputs": [],
   "source": [
    "eval_resnet50_results = eval_model(resnet50, test_dl, loss_fn = loss_fn, accuracy_fn=accuracy_fn, device = device, dummy_input= torch.rand(32,3,224,224).to(device))\n",
    "resnet50_results = [train_resnet50_results, train_time_resnet50, eval_resnet50_results]\n",
    "final_save(model_folder_path,model_name, NUM_EPOCHS, resnet50, resnet50_results)"
   ]
  },
  {
   "cell_type": "code",
   "execution_count": null,
   "metadata": {},
   "outputs": [],
   "source": [
    "model_name = \"MobileNetSmall\"\n",
    "model_folder_path = models_path / model_name\n",
    "check_dir(model_folder_path)\n",
    "model_name_folder_path = model_folder_path / model_name\n",
    "\n",
    "#Train MobileNetV3 Small\n",
    "mobnet_sml.to(device)\n",
    "nadam_optim = torch.optim.NAdam(params=mobnet_sml.parameters(), lr=lr)\n",
    "train_mobnet_sml_results, train_time_mobnet_sml = train(mobnet_sml, train_dl, validation_dl, optimizer=nadam_optim, loss_fn=loss_fn, epochs=NUM_EPOCHS, name_save=model_name_folder_path, device=device)"
   ]
  },
  {
   "cell_type": "code",
   "execution_count": null,
   "metadata": {},
   "outputs": [],
   "source": [
    "eval_mobnet_sml_results = eval_model(mobnet_sml, test_dl, loss_fn = loss_fn, accuracy_fn=accuracy_fn, device = device, dummy_input= torch.rand(32,3,224,224).to(device))\n",
    "mobnet_sml_results = [train_mobnet_sml_results, train_time_mobnet_sml, eval_mobnet_sml_results]\n",
    "final_save(model_folder_path,model_name, NUM_EPOCHS, mobnet_sml, mobnet_sml_results)"
   ]
  },
  {
   "cell_type": "code",
   "execution_count": null,
   "metadata": {},
   "outputs": [],
   "source": [
    "model_name = \"MobileNetLarge\"\n",
    "model_folder_path = models_path / model_name\n",
    "check_dir(model_folder_path)\n",
    "model_name_folder_path = model_folder_path / model_name\n",
    "\n",
    "#Train MobileNetV3 Large\n",
    "mobnet_lrg.to(device)\n",
    "nadam_optim = torch.optim.NAdam(params=mobnet_lrg.parameters(), lr=lr)\n",
    "train_mobnet_lrg_results, train_time_mobnet_lrg = train(mobnet_lrg, train_dl, validation_dl, optimizer=nadam_optim, loss_fn=loss_fn, epochs=NUM_EPOCHS, name_save=model_name_folder_path, device=device)"
   ]
  },
  {
   "cell_type": "code",
   "execution_count": null,
   "metadata": {},
   "outputs": [],
   "source": [
    "eval_mobnet_lrg_results = eval_model(mobnet_lrg, test_dl, loss_fn = loss_fn, accuracy_fn=accuracy_fn, device = device, dummy_input= torch.rand(32,3,224,224).to(device))\n",
    "mobnet_lrg_results = [train_mobnet_lrg_results, train_time_mobnet_lrg, eval_mobnet_lrg_results]\n",
    "final_save(model_folder_path, model_name, NUM_EPOCHS, mobnet_lrg, mobnet_lrg_results)"
   ]
  },
  {
   "cell_type": "code",
   "execution_count": 4,
   "metadata": {},
   "outputs": [
    {
     "data": {
      "application/vnd.jupyter.widget-view+json": {
       "model_id": "3c03e503a87940d4b2d75587b9fc0056",
       "version_major": 2,
       "version_minor": 0
      },
      "text/plain": [
       "  0%|          | 0/150 [00:00<?, ?it/s]"
      ]
     },
     "metadata": {},
     "output_type": "display_data"
    },
    {
     "name": "stdout",
     "output_type": "stream",
     "text": [
      "Epoch: 1 | train_loss: 1.6092 | train_acc: 0.2875 | validation_loss: 1.4225 | validation_acc: 0.2083\n",
      "Epoch: 2 | train_loss: 1.3927 | train_acc: 0.3344 | validation_loss: 1.4543 | validation_acc: 0.2292\n",
      "Epoch: 3 | train_loss: 1.2152 | train_acc: 0.4125 | validation_loss: 1.0836 | validation_acc: 0.5208\n",
      "Epoch: 4 | train_loss: 1.1750 | train_acc: 0.4031 | validation_loss: 0.9994 | validation_acc: 0.5417\n",
      "Epoch: 5 | train_loss: 1.0457 | train_acc: 0.5031 | validation_loss: 1.2580 | validation_acc: 0.3333\n",
      "Epoch: 6 | train_loss: 1.0497 | train_acc: 0.4688 | validation_loss: 0.9831 | validation_acc: 0.4792\n",
      "Epoch: 7 | train_loss: 1.0274 | train_acc: 0.4875 | validation_loss: 0.8926 | validation_acc: 0.5208\n",
      "Epoch: 8 | train_loss: 1.0300 | train_acc: 0.4906 | validation_loss: 1.0511 | validation_acc: 0.4792\n",
      "Epoch: 9 | train_loss: 0.9260 | train_acc: 0.5000 | validation_loss: 0.8193 | validation_acc: 0.5000\n",
      "Epoch: 10 | train_loss: 0.9076 | train_acc: 0.5344 | validation_loss: 0.8240 | validation_acc: 0.4792\n",
      "Epoch: 11 | train_loss: 1.0014 | train_acc: 0.5375 | validation_loss: 0.9789 | validation_acc: 0.6458\n",
      "Epoch: 12 | train_loss: 0.8679 | train_acc: 0.5625 | validation_loss: 0.7595 | validation_acc: 0.6667\n",
      "Epoch: 13 | train_loss: 0.8584 | train_acc: 0.5250 | validation_loss: 1.5082 | validation_acc: 0.3750\n",
      "Epoch: 14 | train_loss: 0.8914 | train_acc: 0.5437 | validation_loss: 1.1213 | validation_acc: 0.4167\n",
      "Epoch: 15 | train_loss: 0.8575 | train_acc: 0.5563 | validation_loss: 0.6495 | validation_acc: 0.7083\n",
      "Epoch: 16 | train_loss: 0.8544 | train_acc: 0.5312 | validation_loss: 0.6531 | validation_acc: 0.7500\n",
      "Epoch: 17 | train_loss: 0.8107 | train_acc: 0.5969 | validation_loss: 0.8272 | validation_acc: 0.5833\n",
      "Epoch: 18 | train_loss: 0.8923 | train_acc: 0.5437 | validation_loss: 0.7782 | validation_acc: 0.6458\n",
      "Epoch: 19 | train_loss: 0.8254 | train_acc: 0.5563 | validation_loss: 0.7159 | validation_acc: 0.5625\n",
      "Epoch: 20 | train_loss: 0.8091 | train_acc: 0.5938 | validation_loss: 0.7174 | validation_acc: 0.6250\n",
      "Epoch: 21 | train_loss: 0.8495 | train_acc: 0.5813 | validation_loss: 0.6280 | validation_acc: 0.7917\n",
      "Epoch: 22 | train_loss: 0.8054 | train_acc: 0.5938 | validation_loss: 0.7948 | validation_acc: 0.6458\n",
      "Epoch: 23 | train_loss: 0.7600 | train_acc: 0.6000 | validation_loss: 0.6717 | validation_acc: 0.6875\n",
      "Epoch: 24 | train_loss: 0.8146 | train_acc: 0.5813 | validation_loss: 0.9425 | validation_acc: 0.5833\n",
      "Epoch: 25 | train_loss: 0.8032 | train_acc: 0.5813 | validation_loss: 0.5600 | validation_acc: 0.7500\n",
      "Epoch: 26 | train_loss: 0.8428 | train_acc: 0.5687 | validation_loss: 0.5546 | validation_acc: 0.8750\n",
      "Epoch: 27 | train_loss: 0.7663 | train_acc: 0.6781 | validation_loss: 0.7911 | validation_acc: 0.6042\n",
      "Epoch: 28 | train_loss: 0.8347 | train_acc: 0.5781 | validation_loss: 0.6778 | validation_acc: 0.7083\n",
      "Epoch: 29 | train_loss: 0.7422 | train_acc: 0.6438 | validation_loss: 0.7255 | validation_acc: 0.7292\n",
      "Epoch: 30 | train_loss: 0.6903 | train_acc: 0.6937 | validation_loss: 0.7394 | validation_acc: 0.6250\n",
      "Epoch: 31 | train_loss: 0.7223 | train_acc: 0.6406 | validation_loss: 0.5914 | validation_acc: 0.7917\n",
      "Epoch: 32 | train_loss: 0.7343 | train_acc: 0.6562 | validation_loss: 0.8760 | validation_acc: 0.5208\n",
      "Epoch: 33 | train_loss: 0.7065 | train_acc: 0.6687 | validation_loss: 0.8858 | validation_acc: 0.4792\n",
      "Epoch: 34 | train_loss: 0.7012 | train_acc: 0.6656 | validation_loss: 0.7071 | validation_acc: 0.6875\n",
      "Epoch: 35 | train_loss: 0.7273 | train_acc: 0.6687 | validation_loss: 0.7531 | validation_acc: 0.6667\n",
      "Epoch: 36 | train_loss: 0.7474 | train_acc: 0.6406 | validation_loss: 0.8720 | validation_acc: 0.5625\n",
      "Epoch: 37 | train_loss: 0.6913 | train_acc: 0.6937 | validation_loss: 0.6561 | validation_acc: 0.6250\n",
      "Epoch: 38 | train_loss: 0.6206 | train_acc: 0.6969 | validation_loss: 0.7223 | validation_acc: 0.6875\n",
      "Epoch: 39 | train_loss: 0.6824 | train_acc: 0.7094 | validation_loss: 0.6988 | validation_acc: 0.7083\n",
      "Epoch: 40 | train_loss: 0.6554 | train_acc: 0.7063 | validation_loss: 0.5511 | validation_acc: 0.8125\n",
      "Epoch: 41 | train_loss: 0.6831 | train_acc: 0.6969 | validation_loss: 0.7600 | validation_acc: 0.6875\n",
      "Epoch: 42 | train_loss: 0.7169 | train_acc: 0.6344 | validation_loss: 0.5401 | validation_acc: 0.8333\n",
      "Epoch: 43 | train_loss: 0.6644 | train_acc: 0.6562 | validation_loss: 0.6505 | validation_acc: 0.6875\n",
      "Epoch: 44 | train_loss: 0.5903 | train_acc: 0.7344 | validation_loss: 0.6629 | validation_acc: 0.6667\n",
      "Epoch: 45 | train_loss: 0.6821 | train_acc: 0.7125 | validation_loss: 0.6937 | validation_acc: 0.6250\n",
      "Epoch: 46 | train_loss: 0.5844 | train_acc: 0.7125 | validation_loss: 0.6174 | validation_acc: 0.7708\n",
      "Epoch: 47 | train_loss: 0.6348 | train_acc: 0.7156 | validation_loss: 0.7505 | validation_acc: 0.6250\n",
      "Epoch: 48 | train_loss: 0.5327 | train_acc: 0.7719 | validation_loss: 0.5855 | validation_acc: 0.7708\n",
      "Epoch: 49 | train_loss: 0.5785 | train_acc: 0.7406 | validation_loss: 0.5631 | validation_acc: 0.7292\n",
      "Epoch: 50 | train_loss: 0.5404 | train_acc: 0.7969 | validation_loss: 0.4793 | validation_acc: 0.8333\n",
      "Epoch: 51 | train_loss: 0.5744 | train_acc: 0.7469 | validation_loss: 0.8021 | validation_acc: 0.6875\n",
      "Epoch: 52 | train_loss: 0.6254 | train_acc: 0.7281 | validation_loss: 0.5132 | validation_acc: 0.7708\n",
      "Epoch: 53 | train_loss: 0.5515 | train_acc: 0.7594 | validation_loss: 1.1374 | validation_acc: 0.5208\n",
      "Epoch: 54 | train_loss: 0.5398 | train_acc: 0.7625 | validation_loss: 0.5828 | validation_acc: 0.7708\n",
      "Epoch: 55 | train_loss: 0.4842 | train_acc: 0.8031 | validation_loss: 0.5850 | validation_acc: 0.7500\n",
      "Epoch: 56 | train_loss: 0.5266 | train_acc: 0.7562 | validation_loss: 0.6725 | validation_acc: 0.5833\n",
      "Epoch: 57 | train_loss: 0.5323 | train_acc: 0.7594 | validation_loss: 0.4726 | validation_acc: 0.7500\n",
      "Epoch: 58 | train_loss: 0.5103 | train_acc: 0.7781 | validation_loss: 0.5302 | validation_acc: 0.8125\n",
      "Epoch: 59 | train_loss: 0.5072 | train_acc: 0.7719 | validation_loss: 0.5869 | validation_acc: 0.6875\n",
      "Epoch: 60 | train_loss: 0.5326 | train_acc: 0.7688 | validation_loss: 0.7473 | validation_acc: 0.6458\n",
      "Epoch: 61 | train_loss: 0.5119 | train_acc: 0.7688 | validation_loss: 0.6569 | validation_acc: 0.7083\n",
      "Epoch: 62 | train_loss: 0.4952 | train_acc: 0.7844 | validation_loss: 0.5197 | validation_acc: 0.7708\n",
      "Epoch: 63 | train_loss: 0.5199 | train_acc: 0.7844 | validation_loss: 0.7460 | validation_acc: 0.6875\n",
      "Epoch: 64 | train_loss: 0.5226 | train_acc: 0.7500 | validation_loss: 0.6287 | validation_acc: 0.7083\n",
      "Epoch: 65 | train_loss: 0.4114 | train_acc: 0.8469 | validation_loss: 0.3890 | validation_acc: 0.7917\n",
      "Epoch: 66 | train_loss: 0.4405 | train_acc: 0.8125 | validation_loss: 0.6728 | validation_acc: 0.6875\n",
      "Epoch: 67 | train_loss: 0.4141 | train_acc: 0.8031 | validation_loss: 0.5288 | validation_acc: 0.7083\n",
      "Epoch: 68 | train_loss: 0.4386 | train_acc: 0.8344 | validation_loss: 0.8483 | validation_acc: 0.5833\n",
      "Epoch: 69 | train_loss: 0.4558 | train_acc: 0.8000 | validation_loss: 0.6145 | validation_acc: 0.7500\n",
      "Epoch: 70 | train_loss: 0.3879 | train_acc: 0.8625 | validation_loss: 0.6831 | validation_acc: 0.7292\n",
      "Epoch: 71 | train_loss: 0.3800 | train_acc: 0.8313 | validation_loss: 0.4780 | validation_acc: 0.7917\n",
      "Epoch: 72 | train_loss: 0.4093 | train_acc: 0.8219 | validation_loss: 0.4002 | validation_acc: 0.8750\n",
      "Epoch: 73 | train_loss: 0.3783 | train_acc: 0.8406 | validation_loss: 0.4236 | validation_acc: 0.8125\n",
      "Epoch: 74 | train_loss: 0.4287 | train_acc: 0.8313 | validation_loss: 0.6382 | validation_acc: 0.7917\n",
      "Epoch: 75 | train_loss: 0.4042 | train_acc: 0.8438 | validation_loss: 0.4629 | validation_acc: 0.8333\n",
      "Epoch: 76 | train_loss: 0.4423 | train_acc: 0.8125 | validation_loss: 0.4440 | validation_acc: 0.8125\n",
      "Epoch: 77 | train_loss: 0.4239 | train_acc: 0.8281 | validation_loss: 0.7913 | validation_acc: 0.7083\n",
      "Epoch: 78 | train_loss: 0.3452 | train_acc: 0.8562 | validation_loss: 0.4126 | validation_acc: 0.8125\n",
      "Epoch: 79 | train_loss: 0.3334 | train_acc: 0.8594 | validation_loss: 0.3643 | validation_acc: 0.7917\n",
      "Epoch: 80 | train_loss: 0.3926 | train_acc: 0.8344 | validation_loss: 0.6432 | validation_acc: 0.7292\n",
      "Epoch: 81 | train_loss: 0.2988 | train_acc: 0.8750 | validation_loss: 0.4907 | validation_acc: 0.7708\n",
      "Epoch: 82 | train_loss: 0.3034 | train_acc: 0.8562 | validation_loss: 0.5928 | validation_acc: 0.7292\n",
      "Epoch: 83 | train_loss: 0.3485 | train_acc: 0.8438 | validation_loss: 0.5149 | validation_acc: 0.8333\n",
      "Epoch: 84 | train_loss: 0.4746 | train_acc: 0.7906 | validation_loss: 0.4441 | validation_acc: 0.8542\n",
      "Epoch: 85 | train_loss: 0.3486 | train_acc: 0.8594 | validation_loss: 0.7207 | validation_acc: 0.5833\n",
      "Epoch: 86 | train_loss: 0.3369 | train_acc: 0.8562 | validation_loss: 0.6622 | validation_acc: 0.6250\n",
      "Epoch: 87 | train_loss: 0.3742 | train_acc: 0.8344 | validation_loss: 0.6715 | validation_acc: 0.7917\n",
      "Epoch: 88 | train_loss: 0.3311 | train_acc: 0.8656 | validation_loss: 0.6086 | validation_acc: 0.7083\n",
      "Epoch: 89 | train_loss: 0.3606 | train_acc: 0.8500 | validation_loss: 0.7803 | validation_acc: 0.6458\n",
      "Epoch: 90 | train_loss: 0.3012 | train_acc: 0.8594 | validation_loss: 0.4762 | validation_acc: 0.8125\n",
      "Epoch: 91 | train_loss: 0.2629 | train_acc: 0.9094 | validation_loss: 0.5717 | validation_acc: 0.7292\n",
      "Epoch: 92 | train_loss: 0.3811 | train_acc: 0.8438 | validation_loss: 0.5815 | validation_acc: 0.7917\n",
      "Epoch: 93 | train_loss: 0.3574 | train_acc: 0.8500 | validation_loss: 0.9139 | validation_acc: 0.6458\n",
      "Epoch: 94 | train_loss: 0.3747 | train_acc: 0.8375 | validation_loss: 0.6705 | validation_acc: 0.7292\n",
      "Epoch: 95 | train_loss: 0.3254 | train_acc: 0.8688 | validation_loss: 0.5867 | validation_acc: 0.7292\n",
      "Epoch: 96 | train_loss: 0.2534 | train_acc: 0.8906 | validation_loss: 0.4960 | validation_acc: 0.6875\n",
      "Epoch: 97 | train_loss: 0.3163 | train_acc: 0.8719 | validation_loss: 0.6324 | validation_acc: 0.7500\n",
      "Epoch: 98 | train_loss: 0.3228 | train_acc: 0.8688 | validation_loss: 0.6031 | validation_acc: 0.8125\n",
      "Epoch: 99 | train_loss: 0.2712 | train_acc: 0.8750 | validation_loss: 0.4410 | validation_acc: 0.7500\n",
      "Epoch: 100 | train_loss: 0.2923 | train_acc: 0.8844 | validation_loss: 0.7002 | validation_acc: 0.7083\n",
      "Epoch: 101 | train_loss: 0.3256 | train_acc: 0.8656 | validation_loss: 0.6263 | validation_acc: 0.7083\n",
      "Epoch: 102 | train_loss: 0.2970 | train_acc: 0.8750 | validation_loss: 0.4637 | validation_acc: 0.8333\n",
      "Epoch: 103 | train_loss: 0.2650 | train_acc: 0.8875 | validation_loss: 0.6575 | validation_acc: 0.6875\n",
      "Epoch: 104 | train_loss: 0.2910 | train_acc: 0.8906 | validation_loss: 0.8962 | validation_acc: 0.6667\n",
      "Epoch: 105 | train_loss: 0.2605 | train_acc: 0.8938 | validation_loss: 0.5799 | validation_acc: 0.8125\n",
      "Epoch: 106 | train_loss: 0.2572 | train_acc: 0.8875 | validation_loss: 0.6367 | validation_acc: 0.7500\n",
      "Epoch: 107 | train_loss: 0.2578 | train_acc: 0.8875 | validation_loss: 0.3009 | validation_acc: 0.8750\n",
      "Epoch: 108 | train_loss: 0.2863 | train_acc: 0.8750 | validation_loss: 0.6189 | validation_acc: 0.6875\n",
      "Epoch: 109 | train_loss: 0.2303 | train_acc: 0.9187 | validation_loss: 0.5825 | validation_acc: 0.8125\n",
      "Epoch: 110 | train_loss: 0.2927 | train_acc: 0.8625 | validation_loss: 0.4803 | validation_acc: 0.7917\n",
      "Epoch: 111 | train_loss: 0.2790 | train_acc: 0.8750 | validation_loss: 0.8356 | validation_acc: 0.7292\n",
      "Epoch: 112 | train_loss: 0.2458 | train_acc: 0.9000 | validation_loss: 0.9330 | validation_acc: 0.7292\n",
      "Epoch: 113 | train_loss: 0.3192 | train_acc: 0.8781 | validation_loss: 0.4407 | validation_acc: 0.7917\n",
      "Epoch: 114 | train_loss: 0.2582 | train_acc: 0.9000 | validation_loss: 0.8318 | validation_acc: 0.7500\n",
      "Epoch: 115 | train_loss: 0.3090 | train_acc: 0.8750 | validation_loss: 0.6749 | validation_acc: 0.8333\n",
      "Epoch: 116 | train_loss: 0.2683 | train_acc: 0.8750 | validation_loss: 0.4340 | validation_acc: 0.7917\n",
      "Epoch: 117 | train_loss: 0.2632 | train_acc: 0.9000 | validation_loss: 0.8146 | validation_acc: 0.6875\n",
      "Epoch: 118 | train_loss: 0.2420 | train_acc: 0.9062 | validation_loss: 0.7259 | validation_acc: 0.7292\n",
      "Epoch: 119 | train_loss: 0.2297 | train_acc: 0.9031 | validation_loss: 0.5250 | validation_acc: 0.7708\n",
      "Epoch: 120 | train_loss: 0.2295 | train_acc: 0.9250 | validation_loss: 0.4213 | validation_acc: 0.8542\n",
      "Epoch: 121 | train_loss: 0.2316 | train_acc: 0.9094 | validation_loss: 0.6857 | validation_acc: 0.6667\n",
      "Epoch: 122 | train_loss: 0.1874 | train_acc: 0.9281 | validation_loss: 1.0545 | validation_acc: 0.6042\n",
      "Epoch: 123 | train_loss: 0.2589 | train_acc: 0.8875 | validation_loss: 0.4985 | validation_acc: 0.7083\n",
      "Epoch: 124 | train_loss: 0.1967 | train_acc: 0.9156 | validation_loss: 0.4461 | validation_acc: 0.8333\n",
      "Epoch: 125 | train_loss: 0.1959 | train_acc: 0.9094 | validation_loss: 0.3657 | validation_acc: 0.8125\n",
      "Epoch: 126 | train_loss: 0.2292 | train_acc: 0.8875 | validation_loss: 0.3983 | validation_acc: 0.8125\n",
      "Epoch: 127 | train_loss: 0.2569 | train_acc: 0.8969 | validation_loss: 0.5234 | validation_acc: 0.8750\n",
      "Epoch: 128 | train_loss: 0.2010 | train_acc: 0.9344 | validation_loss: 0.8756 | validation_acc: 0.6875\n",
      "Epoch: 129 | train_loss: 0.2048 | train_acc: 0.9187 | validation_loss: 0.4436 | validation_acc: 0.7500\n",
      "Epoch: 130 | train_loss: 0.1892 | train_acc: 0.9219 | validation_loss: 0.6276 | validation_acc: 0.7292\n",
      "Epoch: 131 | train_loss: 0.2303 | train_acc: 0.9125 | validation_loss: 0.5210 | validation_acc: 0.7500\n",
      "Epoch: 132 | train_loss: 0.2038 | train_acc: 0.9313 | validation_loss: 0.4943 | validation_acc: 0.8125\n",
      "Epoch: 133 | train_loss: 0.2180 | train_acc: 0.9000 | validation_loss: 0.4742 | validation_acc: 0.7708\n",
      "Epoch: 134 | train_loss: 0.2060 | train_acc: 0.9094 | validation_loss: 0.5525 | validation_acc: 0.7708\n",
      "Epoch: 135 | train_loss: 0.1943 | train_acc: 0.9187 | validation_loss: 0.7514 | validation_acc: 0.7708\n",
      "Epoch: 136 | train_loss: 0.1744 | train_acc: 0.9250 | validation_loss: 0.6237 | validation_acc: 0.7917\n",
      "Epoch: 137 | train_loss: 0.1955 | train_acc: 0.9125 | validation_loss: 0.4526 | validation_acc: 0.8542\n",
      "Epoch: 138 | train_loss: 0.1670 | train_acc: 0.9344 | validation_loss: 0.5954 | validation_acc: 0.7708\n",
      "Epoch: 139 | train_loss: 0.1786 | train_acc: 0.9187 | validation_loss: 0.4451 | validation_acc: 0.8958\n",
      "Epoch: 140 | train_loss: 0.1548 | train_acc: 0.9313 | validation_loss: 0.5692 | validation_acc: 0.8125\n",
      "Epoch: 141 | train_loss: 0.2017 | train_acc: 0.9313 | validation_loss: 0.6923 | validation_acc: 0.7292\n",
      "Epoch: 142 | train_loss: 0.1726 | train_acc: 0.9250 | validation_loss: 1.0957 | validation_acc: 0.7083\n",
      "Epoch: 143 | train_loss: 0.1652 | train_acc: 0.9406 | validation_loss: 0.4430 | validation_acc: 0.8542\n",
      "Epoch: 144 | train_loss: 0.1506 | train_acc: 0.9313 | validation_loss: 0.8143 | validation_acc: 0.7708\n",
      "Epoch: 145 | train_loss: 0.2430 | train_acc: 0.8969 | validation_loss: 0.7216 | validation_acc: 0.7917\n",
      "Epoch: 146 | train_loss: 0.2050 | train_acc: 0.9094 | validation_loss: 0.5781 | validation_acc: 0.8542\n",
      "Epoch: 147 | train_loss: 0.1863 | train_acc: 0.9344 | validation_loss: 0.8516 | validation_acc: 0.7083\n",
      "Epoch: 148 | train_loss: 0.1716 | train_acc: 0.9313 | validation_loss: 0.6276 | validation_acc: 0.7292\n",
      "Epoch: 149 | train_loss: 0.1354 | train_acc: 0.9469 | validation_loss: 0.4613 | validation_acc: 0.8958\n",
      "Epoch: 150 | train_loss: 0.1582 | train_acc: 0.9437 | validation_loss: 0.4968 | validation_acc: 0.7500\n"
     ]
    }
   ],
   "source": [
    "model_name = \"EfficientNetB0\"\n",
    "model_folder_path = models_path / model_name\n",
    "check_dir(model_folder_path)\n",
    "model_name_folder_path = model_folder_path / model_name\n",
    "\n",
    "#Train EfficientNet B0\n",
    "effnetb0.to(device)\n",
    "nadam_optim = torch.optim.NAdam(params=effnetb0.parameters(), lr=lr)\n",
    "train_effnetb0_results, train_time_effnetb0 = train(effnetb0, train_dl, validation_dl, optimizer=nadam_optim, loss_fn=loss_fn, epochs=NUM_EPOCHS, name_save=model_name_folder_path, device=device)"
   ]
  },
  {
   "cell_type": "code",
   "execution_count": 6,
   "metadata": {},
   "outputs": [
    {
     "data": {
      "application/vnd.jupyter.widget-view+json": {
       "model_id": "7c41722e9a9645e9a88a4d5fb1e97083",
       "version_major": 2,
       "version_minor": 0
      },
      "text/plain": [
       "  0%|          | 0/3 [00:01<?, ?it/s]"
      ]
     },
     "metadata": {},
     "output_type": "display_data"
    }
   ],
   "source": [
    "eval_effnetb0_results = eval_model(effnetb0, test_dl, loss_fn = loss_fn, accuracy_fn=accuracy_fn, device = device, dummy_input= torch.rand(32,3,224,224).to(device))\n",
    "effnetb0_results = [train_effnetb0_results, train_time_effnetb0, 0]\n",
    "final_save(model_folder_path, model_name, NUM_EPOCHS, effnetb0, effnetb0_results)"
   ]
  }
 ],
 "metadata": {
  "kernelspec": {
   "display_name": "base",
   "language": "python",
   "name": "python3"
  },
  "language_info": {
   "codemirror_mode": {
    "name": "ipython",
    "version": 3
   },
   "file_extension": ".py",
   "mimetype": "text/x-python",
   "name": "python",
   "nbconvert_exporter": "python",
   "pygments_lexer": "ipython3",
   "version": "3.9.13"
  },
  "orig_nbformat": 4
 },
 "nbformat": 4,
 "nbformat_minor": 2
}
