{
 "cells": [
  {
   "cell_type": "code",
   "execution_count": 1,
   "metadata": {},
   "outputs": [],
   "source": [
    "from pathlib import Path\n",
    "import pandas as pd\n",
    "\n",
    "from utils import *\n",
    "from dataloaders import *\n",
    "from data_preparation import *\n",
    "from allResNets import *\n",
    "from MobileNetV3 import *\n",
    "from engine import *\n",
    "from efficientNet import *\n",
    "from data_transforms import *\n",
    "\n",
    "change_to_disk()\n",
    "data_dir = Path(\"new_split_100/\")\n",
    "models_path = Path('Models_100/')\n",
    "check_dir(models_path)"
   ]
  },
  {
   "cell_type": "code",
   "execution_count": 2,
   "metadata": {},
   "outputs": [],
   "source": [
    "image_shape = (1080, 1920)\n",
    "resize_factor = 0.3\n",
    "resize = np.multiply(image_shape,resize_factor)\n",
    "resize = [int(resize[0]), int(resize[1])]\n",
    "\n",
    "data_transform = create_transform(resize=resize, rotate=10, flip_h = True, color_dev=True, transf_tensor=True, normalize=True, sp_noise=True, gauss_noise=True)\n",
    "\n",
    "BATCH_SIZE = 16\n",
    "train_dl, validation_dl, test_dl, train_data, validation_data, test_data, class_names = create_dataloaders(data_dir, data_transform, batch_size = BATCH_SIZE)"
   ]
  },
  {
   "cell_type": "code",
   "execution_count": 3,
   "metadata": {},
   "outputs": [],
   "source": [
    "NUM_EPOCHS = 100\n",
    "lr = 0.001\n",
    "device = get_device()\n",
    "\n",
    "resnet18 = ResNet18()\n",
    "resnet50 = ResNet50()\n",
    "mobnet_sml = MobileNetSmall()\n",
    "mobnet_lrg = MobileNetLarge()\n",
    "effnetb0 = EfficientNetB0()\n",
    "effnetb5 = EfficientNetB5()\n",
    "\n",
    "loss_fn = nn.CrossEntropyLoss()"
   ]
  },
  {
   "cell_type": "code",
   "execution_count": 8,
   "metadata": {},
   "outputs": [
    {
     "name": "stdout",
     "output_type": "stream",
     "text": [
      "Models_100\\ResNet18 does not exist, creating one...\n"
     ]
    },
    {
     "data": {
      "application/vnd.jupyter.widget-view+json": {
       "model_id": "fc76a3f2428243bd88822c121705dee0",
       "version_major": 2,
       "version_minor": 0
      },
      "text/plain": [
       "  0%|          | 0/100 [00:00<?, ?it/s]"
      ]
     },
     "metadata": {},
     "output_type": "display_data"
    },
    {
     "name": "stdout",
     "output_type": "stream",
     "text": [
      "Epoch: 1 | train_loss: 1.3489 | train_acc: 0.4188 | validation_loss: 2.0366 | validation_acc: 0.3542\n",
      "Epoch: 2 | train_loss: 1.0570 | train_acc: 0.5156 | validation_loss: 1.5016 | validation_acc: 0.3958\n",
      "Epoch: 3 | train_loss: 0.9565 | train_acc: 0.5344 | validation_loss: 1.2676 | validation_acc: 0.3750\n",
      "Epoch: 4 | train_loss: 0.9106 | train_acc: 0.5813 | validation_loss: 0.9268 | validation_acc: 0.6458\n",
      "Epoch: 5 | train_loss: 0.8627 | train_acc: 0.5938 | validation_loss: 0.8605 | validation_acc: 0.6667\n",
      "Epoch: 6 | train_loss: 0.8186 | train_acc: 0.6125 | validation_loss: 1.1488 | validation_acc: 0.5000\n",
      "Epoch: 7 | train_loss: 0.8978 | train_acc: 0.5906 | validation_loss: 1.0724 | validation_acc: 0.4792\n",
      "Epoch: 8 | train_loss: 0.8061 | train_acc: 0.6312 | validation_loss: 0.7547 | validation_acc: 0.6667\n",
      "Epoch: 9 | train_loss: 0.7599 | train_acc: 0.6438 | validation_loss: 0.8141 | validation_acc: 0.6042\n",
      "Epoch: 10 | train_loss: 0.8142 | train_acc: 0.6656 | validation_loss: 0.7942 | validation_acc: 0.6250\n",
      "Epoch: 11 | train_loss: 0.8016 | train_acc: 0.6594 | validation_loss: 2.4846 | validation_acc: 0.3542\n",
      "Epoch: 12 | train_loss: 0.7984 | train_acc: 0.6531 | validation_loss: 0.9717 | validation_acc: 0.6458\n",
      "Epoch: 13 | train_loss: 0.7917 | train_acc: 0.6344 | validation_loss: 1.2176 | validation_acc: 0.5000\n",
      "Epoch: 14 | train_loss: 0.7384 | train_acc: 0.6656 | validation_loss: 1.3697 | validation_acc: 0.4792\n",
      "Epoch: 15 | train_loss: 0.7242 | train_acc: 0.6781 | validation_loss: 1.4752 | validation_acc: 0.5417\n",
      "Epoch: 16 | train_loss: 0.7652 | train_acc: 0.6719 | validation_loss: 1.6829 | validation_acc: 0.5208\n",
      "Epoch: 17 | train_loss: 0.7186 | train_acc: 0.6937 | validation_loss: 0.6402 | validation_acc: 0.7292\n",
      "Epoch: 18 | train_loss: 0.6840 | train_acc: 0.7156 | validation_loss: 1.2096 | validation_acc: 0.5208\n",
      "Epoch: 19 | train_loss: 0.7345 | train_acc: 0.6875 | validation_loss: 2.1458 | validation_acc: 0.3958\n",
      "Epoch: 20 | train_loss: 0.7096 | train_acc: 0.6875 | validation_loss: 0.6311 | validation_acc: 0.7708\n",
      "Epoch: 21 | train_loss: 0.7401 | train_acc: 0.6813 | validation_loss: 1.5510 | validation_acc: 0.3542\n",
      "Epoch: 22 | train_loss: 0.6913 | train_acc: 0.7156 | validation_loss: 1.3271 | validation_acc: 0.5208\n",
      "Epoch: 23 | train_loss: 0.7498 | train_acc: 0.6719 | validation_loss: 1.0933 | validation_acc: 0.6250\n",
      "Epoch: 24 | train_loss: 0.6675 | train_acc: 0.6937 | validation_loss: 2.8475 | validation_acc: 0.3333\n",
      "Epoch: 25 | train_loss: 0.5958 | train_acc: 0.7844 | validation_loss: 1.0064 | validation_acc: 0.5417\n",
      "Epoch: 26 | train_loss: 0.7182 | train_acc: 0.7375 | validation_loss: 0.6631 | validation_acc: 0.6875\n",
      "Epoch: 27 | train_loss: 0.6847 | train_acc: 0.7125 | validation_loss: 0.8299 | validation_acc: 0.6458\n",
      "Epoch: 28 | train_loss: 0.6344 | train_acc: 0.7406 | validation_loss: 0.8914 | validation_acc: 0.6667\n",
      "Epoch: 29 | train_loss: 0.6603 | train_acc: 0.7375 | validation_loss: 1.8026 | validation_acc: 0.4792\n",
      "Epoch: 30 | train_loss: 0.6457 | train_acc: 0.7125 | validation_loss: 0.9318 | validation_acc: 0.5417\n",
      "Epoch: 31 | train_loss: 0.7125 | train_acc: 0.6937 | validation_loss: 1.4773 | validation_acc: 0.5208\n",
      "Epoch: 32 | train_loss: 0.6141 | train_acc: 0.7375 | validation_loss: 1.3544 | validation_acc: 0.4583\n",
      "Epoch: 33 | train_loss: 0.6119 | train_acc: 0.7406 | validation_loss: 1.4546 | validation_acc: 0.4583\n",
      "Epoch: 34 | train_loss: 0.6738 | train_acc: 0.7250 | validation_loss: 1.8351 | validation_acc: 0.3125\n",
      "Epoch: 35 | train_loss: 0.6176 | train_acc: 0.7531 | validation_loss: 0.9082 | validation_acc: 0.6667\n",
      "Epoch: 36 | train_loss: 0.6024 | train_acc: 0.7375 | validation_loss: 1.0777 | validation_acc: 0.6667\n",
      "Epoch: 37 | train_loss: 0.5930 | train_acc: 0.7594 | validation_loss: 0.5728 | validation_acc: 0.6875\n",
      "Epoch: 38 | train_loss: 0.7425 | train_acc: 0.7156 | validation_loss: 0.7322 | validation_acc: 0.6667\n",
      "Epoch: 39 | train_loss: 0.6762 | train_acc: 0.7063 | validation_loss: 0.5822 | validation_acc: 0.7917\n",
      "Epoch: 40 | train_loss: 0.5534 | train_acc: 0.7281 | validation_loss: 0.8398 | validation_acc: 0.5625\n",
      "Epoch: 41 | train_loss: 0.6573 | train_acc: 0.7094 | validation_loss: 1.1818 | validation_acc: 0.6458\n",
      "Epoch: 42 | train_loss: 0.5600 | train_acc: 0.7344 | validation_loss: 0.7767 | validation_acc: 0.6875\n",
      "Epoch: 43 | train_loss: 0.5628 | train_acc: 0.7562 | validation_loss: 0.8599 | validation_acc: 0.7083\n",
      "Epoch: 44 | train_loss: 0.5319 | train_acc: 0.7562 | validation_loss: 0.6294 | validation_acc: 0.7917\n",
      "Epoch: 45 | train_loss: 0.5708 | train_acc: 0.7656 | validation_loss: 0.8748 | validation_acc: 0.7292\n",
      "Epoch: 46 | train_loss: 0.5143 | train_acc: 0.7688 | validation_loss: 0.4644 | validation_acc: 0.8333\n",
      "Epoch: 47 | train_loss: 0.6242 | train_acc: 0.7375 | validation_loss: 0.7043 | validation_acc: 0.7292\n",
      "Epoch: 48 | train_loss: 0.5623 | train_acc: 0.7281 | validation_loss: 0.8038 | validation_acc: 0.7083\n",
      "Epoch: 49 | train_loss: 0.5401 | train_acc: 0.7719 | validation_loss: 0.5131 | validation_acc: 0.7917\n",
      "Epoch: 50 | train_loss: 0.5136 | train_acc: 0.7844 | validation_loss: 1.0240 | validation_acc: 0.7083\n",
      "Epoch: 51 | train_loss: 0.5022 | train_acc: 0.8000 | validation_loss: 1.0025 | validation_acc: 0.5833\n",
      "Epoch: 52 | train_loss: 0.5249 | train_acc: 0.7812 | validation_loss: 1.0992 | validation_acc: 0.5208\n",
      "Epoch: 53 | train_loss: 0.5801 | train_acc: 0.7719 | validation_loss: 0.5866 | validation_acc: 0.7917\n",
      "Epoch: 54 | train_loss: 0.5056 | train_acc: 0.7750 | validation_loss: 0.9740 | validation_acc: 0.6458\n",
      "Epoch: 55 | train_loss: 0.5436 | train_acc: 0.7750 | validation_loss: 0.7775 | validation_acc: 0.6458\n",
      "Epoch: 56 | train_loss: 0.5830 | train_acc: 0.7594 | validation_loss: 1.4448 | validation_acc: 0.3542\n",
      "Epoch: 57 | train_loss: 0.5297 | train_acc: 0.7719 | validation_loss: 0.8582 | validation_acc: 0.7708\n",
      "Epoch: 58 | train_loss: 0.5119 | train_acc: 0.7906 | validation_loss: 1.1044 | validation_acc: 0.6042\n",
      "Epoch: 59 | train_loss: 0.4775 | train_acc: 0.8125 | validation_loss: 0.7168 | validation_acc: 0.6875\n",
      "Epoch: 60 | train_loss: 0.5407 | train_acc: 0.7531 | validation_loss: 0.9632 | validation_acc: 0.7500\n",
      "Epoch: 61 | train_loss: 0.4842 | train_acc: 0.8094 | validation_loss: 0.8986 | validation_acc: 0.6667\n",
      "Epoch: 62 | train_loss: 0.5868 | train_acc: 0.7781 | validation_loss: 1.0826 | validation_acc: 0.7083\n",
      "Epoch: 63 | train_loss: 0.5019 | train_acc: 0.7812 | validation_loss: 1.0620 | validation_acc: 0.5208\n",
      "Epoch: 64 | train_loss: 0.6163 | train_acc: 0.7531 | validation_loss: 0.8182 | validation_acc: 0.6875\n",
      "Epoch: 65 | train_loss: 0.4876 | train_acc: 0.7906 | validation_loss: 1.2100 | validation_acc: 0.5625\n",
      "Epoch: 66 | train_loss: 0.5017 | train_acc: 0.8156 | validation_loss: 0.5842 | validation_acc: 0.7917\n",
      "Epoch: 67 | train_loss: 0.5647 | train_acc: 0.7750 | validation_loss: 0.9612 | validation_acc: 0.6875\n",
      "Epoch: 68 | train_loss: 0.4941 | train_acc: 0.7906 | validation_loss: 0.8007 | validation_acc: 0.7292\n",
      "Epoch: 69 | train_loss: 0.4005 | train_acc: 0.8406 | validation_loss: 2.3255 | validation_acc: 0.4167\n",
      "Epoch: 70 | train_loss: 0.5412 | train_acc: 0.7688 | validation_loss: 0.9855 | validation_acc: 0.6250\n",
      "Epoch: 71 | train_loss: 0.4605 | train_acc: 0.7969 | validation_loss: 0.4100 | validation_acc: 0.8125\n",
      "Epoch: 72 | train_loss: 0.4434 | train_acc: 0.8094 | validation_loss: 1.7263 | validation_acc: 0.3958\n",
      "Epoch: 73 | train_loss: 0.5208 | train_acc: 0.7781 | validation_loss: 0.8367 | validation_acc: 0.7708\n",
      "Epoch: 74 | train_loss: 0.4525 | train_acc: 0.8187 | validation_loss: 0.5901 | validation_acc: 0.7708\n",
      "Epoch: 75 | train_loss: 0.4326 | train_acc: 0.8156 | validation_loss: 0.7411 | validation_acc: 0.7083\n",
      "Epoch: 76 | train_loss: 0.4385 | train_acc: 0.8187 | validation_loss: 1.8024 | validation_acc: 0.5208\n",
      "Epoch: 77 | train_loss: 0.4562 | train_acc: 0.8000 | validation_loss: 0.6196 | validation_acc: 0.7917\n",
      "Epoch: 78 | train_loss: 0.4864 | train_acc: 0.8031 | validation_loss: 0.7608 | validation_acc: 0.6875\n",
      "Epoch: 79 | train_loss: 0.4226 | train_acc: 0.8313 | validation_loss: 0.6973 | validation_acc: 0.6667\n",
      "Epoch: 80 | train_loss: 0.5334 | train_acc: 0.8000 | validation_loss: 0.7456 | validation_acc: 0.6667\n",
      "Epoch: 81 | train_loss: 0.4474 | train_acc: 0.8281 | validation_loss: 1.0657 | validation_acc: 0.6042\n",
      "Epoch: 82 | train_loss: 0.5827 | train_acc: 0.7500 | validation_loss: 0.7235 | validation_acc: 0.7083\n",
      "Epoch: 83 | train_loss: 0.4744 | train_acc: 0.8000 | validation_loss: 0.6515 | validation_acc: 0.7917\n",
      "Epoch: 84 | train_loss: 0.3781 | train_acc: 0.8500 | validation_loss: 1.9409 | validation_acc: 0.5417\n",
      "Epoch: 85 | train_loss: 0.4147 | train_acc: 0.8438 | validation_loss: 0.6170 | validation_acc: 0.7708\n",
      "Epoch: 86 | train_loss: 0.4437 | train_acc: 0.8313 | validation_loss: 1.0933 | validation_acc: 0.7083\n",
      "Epoch: 87 | train_loss: 0.4042 | train_acc: 0.8375 | validation_loss: 0.8878 | validation_acc: 0.7083\n",
      "Epoch: 88 | train_loss: 0.3847 | train_acc: 0.8500 | validation_loss: 0.6130 | validation_acc: 0.7500\n",
      "Epoch: 89 | train_loss: 0.3966 | train_acc: 0.8219 | validation_loss: 0.8731 | validation_acc: 0.7083\n",
      "Epoch: 90 | train_loss: 0.3718 | train_acc: 0.8406 | validation_loss: 1.1083 | validation_acc: 0.6250\n",
      "Epoch: 91 | train_loss: 0.3949 | train_acc: 0.8469 | validation_loss: 0.6973 | validation_acc: 0.7917\n",
      "Epoch: 92 | train_loss: 0.4576 | train_acc: 0.7875 | validation_loss: 1.1061 | validation_acc: 0.6250\n",
      "Epoch: 93 | train_loss: 0.4448 | train_acc: 0.8000 | validation_loss: 0.5829 | validation_acc: 0.7500\n",
      "Epoch: 94 | train_loss: 0.3958 | train_acc: 0.8313 | validation_loss: 0.6125 | validation_acc: 0.6875\n",
      "Epoch: 95 | train_loss: 0.4197 | train_acc: 0.8187 | validation_loss: 0.8359 | validation_acc: 0.7500\n",
      "Epoch: 96 | train_loss: 0.4561 | train_acc: 0.8219 | validation_loss: 2.0557 | validation_acc: 0.4375\n",
      "Epoch: 97 | train_loss: 0.4593 | train_acc: 0.8094 | validation_loss: 1.3028 | validation_acc: 0.6042\n",
      "Epoch: 98 | train_loss: 0.4043 | train_acc: 0.8281 | validation_loss: 0.4911 | validation_acc: 0.7708\n",
      "Epoch: 99 | train_loss: 0.3794 | train_acc: 0.8219 | validation_loss: 0.4870 | validation_acc: 0.8333\n",
      "Epoch: 100 | train_loss: 0.3637 | train_acc: 0.8531 | validation_loss: 0.5867 | validation_acc: 0.7292\n"
     ]
    }
   ],
   "source": [
    "model_name = \"ResNet18\"\n",
    "model_folder_path = models_path / model_name\n",
    "check_dir(model_folder_path)\n",
    "model_name_folder_path = model_folder_path / model_name\n",
    "\n",
    "#Train ResNet18\n",
    "resnet18.to(device)\n",
    "nadam_optim = torch.optim.NAdam(params=resnet18.parameters(), lr=lr)\n",
    "train_resnet18_results, train_time_resnet18 = train(resnet18, train_dl, validation_dl, optimizer=nadam_optim, loss_fn=loss_fn, epochs=NUM_EPOCHS, name_save=model_name_folder_path, device=device)"
   ]
  },
  {
   "cell_type": "code",
   "execution_count": 9,
   "metadata": {},
   "outputs": [
    {
     "data": {
      "application/vnd.jupyter.widget-view+json": {
       "model_id": "7cf4b8b81a28443ca3c39cc2953b9de3",
       "version_major": 2,
       "version_minor": 0
      },
      "text/plain": [
       "  0%|          | 0/3 [00:02<?, ?it/s]"
      ]
     },
     "metadata": {},
     "output_type": "display_data"
    }
   ],
   "source": [
    "eval_resnet18_results = eval_model(resnet18, test_dl, loss_fn = loss_fn, accuracy_fn=accuracy_fn, device = device, dummy_input= torch.rand(32,3,224,224).to(device))\n",
    "resnet18_results = [train_resnet18_results, train_time_resnet18, eval_resnet18_results]\n",
    "final_save(model_folder_path,model_name, NUM_EPOCHS, resnet18, resnet18_results)"
   ]
  },
  {
   "cell_type": "code",
   "execution_count": 4,
   "metadata": {},
   "outputs": [
    {
     "data": {
      "application/vnd.jupyter.widget-view+json": {
       "model_id": "e35cf3332e814221876cb698901a9bab",
       "version_major": 2,
       "version_minor": 0
      },
      "text/plain": [
       "  0%|          | 0/100 [00:00<?, ?it/s]"
      ]
     },
     "metadata": {},
     "output_type": "display_data"
    },
    {
     "name": "stdout",
     "output_type": "stream",
     "text": [
      "Epoch: 1 | train_loss: 1.8797 | train_acc: 0.2781 | validation_loss: 1.7651 | validation_acc: 0.2083\n",
      "Epoch: 2 | train_loss: 1.4965 | train_acc: 0.2875 | validation_loss: 1.3847 | validation_acc: 0.3958\n",
      "Epoch: 3 | train_loss: 1.3435 | train_acc: 0.3500 | validation_loss: 1.5255 | validation_acc: 0.4375\n",
      "Epoch: 4 | train_loss: 1.3990 | train_acc: 0.3500 | validation_loss: 2.1372 | validation_acc: 0.3125\n",
      "Epoch: 5 | train_loss: 1.4078 | train_acc: 0.2781 | validation_loss: 5.6090 | validation_acc: 0.2083\n",
      "Epoch: 6 | train_loss: 1.3655 | train_acc: 0.3250 | validation_loss: 1.3218 | validation_acc: 0.2917\n",
      "Epoch: 7 | train_loss: 1.2615 | train_acc: 0.3750 | validation_loss: 1.1852 | validation_acc: 0.4792\n",
      "Epoch: 8 | train_loss: 1.2757 | train_acc: 0.3781 | validation_loss: 1.2900 | validation_acc: 0.3125\n",
      "Epoch: 9 | train_loss: 1.1363 | train_acc: 0.4594 | validation_loss: 1.0901 | validation_acc: 0.5833\n",
      "Epoch: 10 | train_loss: 1.1426 | train_acc: 0.4437 | validation_loss: 1.6923 | validation_acc: 0.2500\n",
      "Epoch: 11 | train_loss: 1.0986 | train_acc: 0.4688 | validation_loss: 0.9457 | validation_acc: 0.4792\n",
      "Epoch: 12 | train_loss: 1.0897 | train_acc: 0.4562 | validation_loss: 1.0701 | validation_acc: 0.4792\n",
      "Epoch: 13 | train_loss: 1.0758 | train_acc: 0.4656 | validation_loss: 1.0655 | validation_acc: 0.4792\n",
      "Epoch: 14 | train_loss: 1.0826 | train_acc: 0.4938 | validation_loss: 2.7070 | validation_acc: 0.3333\n",
      "Epoch: 15 | train_loss: 1.0576 | train_acc: 0.4688 | validation_loss: 1.1710 | validation_acc: 0.5417\n",
      "Epoch: 16 | train_loss: 1.0077 | train_acc: 0.5156 | validation_loss: 1.3095 | validation_acc: 0.3750\n",
      "Epoch: 17 | train_loss: 1.0597 | train_acc: 0.5188 | validation_loss: 0.9819 | validation_acc: 0.5208\n",
      "Epoch: 18 | train_loss: 1.0582 | train_acc: 0.5000 | validation_loss: 0.9927 | validation_acc: 0.4167\n",
      "Epoch: 19 | train_loss: 1.0098 | train_acc: 0.5000 | validation_loss: 1.3034 | validation_acc: 0.3750\n",
      "Epoch: 20 | train_loss: 1.0087 | train_acc: 0.5375 | validation_loss: 0.9823 | validation_acc: 0.4375\n",
      "Epoch: 21 | train_loss: 0.9846 | train_acc: 0.5188 | validation_loss: 1.0984 | validation_acc: 0.4792\n",
      "Epoch: 22 | train_loss: 1.0369 | train_acc: 0.4562 | validation_loss: 0.9412 | validation_acc: 0.6042\n",
      "Epoch: 23 | train_loss: 0.9585 | train_acc: 0.5094 | validation_loss: 0.9497 | validation_acc: 0.5208\n",
      "Epoch: 24 | train_loss: 1.0136 | train_acc: 0.5188 | validation_loss: 0.9291 | validation_acc: 0.5625\n",
      "Epoch: 25 | train_loss: 1.0269 | train_acc: 0.5125 | validation_loss: 0.8461 | validation_acc: 0.5625\n",
      "Epoch: 26 | train_loss: 0.9651 | train_acc: 0.5875 | validation_loss: 0.9510 | validation_acc: 0.5625\n",
      "Epoch: 27 | train_loss: 0.9883 | train_acc: 0.5312 | validation_loss: 1.4499 | validation_acc: 0.5417\n",
      "Epoch: 28 | train_loss: 0.8985 | train_acc: 0.6156 | validation_loss: 1.2103 | validation_acc: 0.3750\n",
      "Epoch: 29 | train_loss: 0.9553 | train_acc: 0.5312 | validation_loss: 1.2233 | validation_acc: 0.6042\n",
      "Epoch: 30 | train_loss: 0.9640 | train_acc: 0.5375 | validation_loss: 1.1289 | validation_acc: 0.6250\n",
      "Epoch: 31 | train_loss: 0.9198 | train_acc: 0.5531 | validation_loss: 1.0233 | validation_acc: 0.4792\n",
      "Epoch: 32 | train_loss: 0.8936 | train_acc: 0.5219 | validation_loss: 1.0757 | validation_acc: 0.4375\n",
      "Epoch: 33 | train_loss: 0.9125 | train_acc: 0.5563 | validation_loss: 1.0068 | validation_acc: 0.5208\n",
      "Epoch: 34 | train_loss: 0.9306 | train_acc: 0.5188 | validation_loss: 2.1778 | validation_acc: 0.5208\n",
      "Epoch: 35 | train_loss: 0.8728 | train_acc: 0.5687 | validation_loss: 1.0672 | validation_acc: 0.5417\n",
      "Epoch: 36 | train_loss: 0.8974 | train_acc: 0.5563 | validation_loss: 1.4643 | validation_acc: 0.5625\n",
      "Epoch: 37 | train_loss: 0.8989 | train_acc: 0.6219 | validation_loss: 1.1143 | validation_acc: 0.4375\n",
      "Epoch: 38 | train_loss: 0.8876 | train_acc: 0.5750 | validation_loss: 2.7463 | validation_acc: 0.4375\n",
      "Epoch: 39 | train_loss: 0.8341 | train_acc: 0.6094 | validation_loss: 1.2099 | validation_acc: 0.5417\n",
      "Epoch: 40 | train_loss: 0.9074 | train_acc: 0.5750 | validation_loss: 0.9787 | validation_acc: 0.4375\n",
      "Epoch: 41 | train_loss: 0.8204 | train_acc: 0.6219 | validation_loss: 0.9052 | validation_acc: 0.5000\n",
      "Epoch: 42 | train_loss: 0.8708 | train_acc: 0.5781 | validation_loss: 0.8625 | validation_acc: 0.5833\n",
      "Epoch: 43 | train_loss: 0.8599 | train_acc: 0.5969 | validation_loss: 0.9867 | validation_acc: 0.4792\n",
      "Epoch: 44 | train_loss: 0.9370 | train_acc: 0.5906 | validation_loss: 1.8184 | validation_acc: 0.4583\n",
      "Epoch: 45 | train_loss: 0.8526 | train_acc: 0.5875 | validation_loss: 1.8039 | validation_acc: 0.4583\n",
      "Epoch: 46 | train_loss: 0.8681 | train_acc: 0.5844 | validation_loss: 0.9985 | validation_acc: 0.4792\n",
      "Epoch: 47 | train_loss: 0.8690 | train_acc: 0.5750 | validation_loss: 0.9764 | validation_acc: 0.5000\n",
      "Epoch: 48 | train_loss: 0.8520 | train_acc: 0.6281 | validation_loss: 1.0789 | validation_acc: 0.4792\n",
      "Epoch: 49 | train_loss: 0.8383 | train_acc: 0.5875 | validation_loss: 1.0595 | validation_acc: 0.4792\n",
      "Epoch: 50 | train_loss: 0.8366 | train_acc: 0.6406 | validation_loss: 0.7575 | validation_acc: 0.6875\n",
      "Epoch: 51 | train_loss: 0.8605 | train_acc: 0.6188 | validation_loss: 1.2076 | validation_acc: 0.4583\n",
      "Epoch: 52 | train_loss: 0.8216 | train_acc: 0.5813 | validation_loss: 1.1042 | validation_acc: 0.6250\n",
      "Epoch: 53 | train_loss: 0.8088 | train_acc: 0.6094 | validation_loss: 0.9892 | validation_acc: 0.5208\n",
      "Epoch: 54 | train_loss: 0.8492 | train_acc: 0.6344 | validation_loss: 0.9141 | validation_acc: 0.5833\n",
      "Epoch: 55 | train_loss: 0.8902 | train_acc: 0.5938 | validation_loss: 0.9620 | validation_acc: 0.4792\n",
      "Epoch: 56 | train_loss: 0.8092 | train_acc: 0.6156 | validation_loss: 0.7698 | validation_acc: 0.5208\n",
      "Epoch: 57 | train_loss: 0.8178 | train_acc: 0.5906 | validation_loss: 0.8836 | validation_acc: 0.4583\n",
      "Epoch: 58 | train_loss: 0.8918 | train_acc: 0.5969 | validation_loss: 0.7279 | validation_acc: 0.7292\n",
      "Epoch: 59 | train_loss: 0.8121 | train_acc: 0.6000 | validation_loss: 0.7937 | validation_acc: 0.4583\n",
      "Epoch: 60 | train_loss: 0.7557 | train_acc: 0.6344 | validation_loss: 1.0005 | validation_acc: 0.5625\n",
      "Epoch: 61 | train_loss: 0.8571 | train_acc: 0.5875 | validation_loss: 0.8641 | validation_acc: 0.6250\n",
      "Epoch: 62 | train_loss: 0.7920 | train_acc: 0.6375 | validation_loss: 0.8413 | validation_acc: 0.6667\n",
      "Epoch: 63 | train_loss: 0.8414 | train_acc: 0.5813 | validation_loss: 2.4458 | validation_acc: 0.5208\n",
      "Epoch: 64 | train_loss: 0.8317 | train_acc: 0.6062 | validation_loss: 0.7608 | validation_acc: 0.5625\n",
      "Epoch: 65 | train_loss: 0.7874 | train_acc: 0.6406 | validation_loss: 0.8550 | validation_acc: 0.6250\n",
      "Epoch: 66 | train_loss: 0.7449 | train_acc: 0.6469 | validation_loss: 2.1407 | validation_acc: 0.5625\n",
      "Epoch: 67 | train_loss: 0.8065 | train_acc: 0.6000 | validation_loss: 0.8061 | validation_acc: 0.5833\n",
      "Epoch: 68 | train_loss: 0.8052 | train_acc: 0.6125 | validation_loss: 0.8503 | validation_acc: 0.6250\n",
      "Epoch: 69 | train_loss: 0.7778 | train_acc: 0.6500 | validation_loss: 0.7558 | validation_acc: 0.6250\n",
      "Epoch: 70 | train_loss: 0.7975 | train_acc: 0.6188 | validation_loss: 0.8285 | validation_acc: 0.5625\n",
      "Epoch: 71 | train_loss: 0.7695 | train_acc: 0.6312 | validation_loss: 1.6167 | validation_acc: 0.4375\n",
      "Epoch: 72 | train_loss: 0.7744 | train_acc: 0.6531 | validation_loss: 0.9794 | validation_acc: 0.7083\n",
      "Epoch: 73 | train_loss: 0.7473 | train_acc: 0.6562 | validation_loss: 0.9665 | validation_acc: 0.6875\n",
      "Epoch: 74 | train_loss: 0.7409 | train_acc: 0.6250 | validation_loss: 1.7135 | validation_acc: 0.5208\n",
      "Epoch: 75 | train_loss: 0.7387 | train_acc: 0.6344 | validation_loss: 0.8418 | validation_acc: 0.5625\n",
      "Epoch: 76 | train_loss: 0.7728 | train_acc: 0.6344 | validation_loss: 3.2222 | validation_acc: 0.5000\n",
      "Epoch: 77 | train_loss: 0.7949 | train_acc: 0.6031 | validation_loss: 0.8780 | validation_acc: 0.4792\n",
      "Epoch: 78 | train_loss: 0.7820 | train_acc: 0.6438 | validation_loss: 1.6862 | validation_acc: 0.6250\n",
      "Epoch: 79 | train_loss: 0.7346 | train_acc: 0.6438 | validation_loss: 0.8044 | validation_acc: 0.5833\n",
      "Epoch: 80 | train_loss: 0.7124 | train_acc: 0.6531 | validation_loss: 0.7650 | validation_acc: 0.5625\n",
      "Epoch: 81 | train_loss: 0.7312 | train_acc: 0.6469 | validation_loss: 1.3425 | validation_acc: 0.5833\n",
      "Epoch: 82 | train_loss: 0.7515 | train_acc: 0.6531 | validation_loss: 0.9173 | validation_acc: 0.5208\n",
      "Epoch: 83 | train_loss: 0.7247 | train_acc: 0.6719 | validation_loss: 0.7827 | validation_acc: 0.6042\n",
      "Epoch: 84 | train_loss: 0.7456 | train_acc: 0.6188 | validation_loss: 0.9045 | validation_acc: 0.4792\n",
      "Epoch: 85 | train_loss: 0.7662 | train_acc: 0.6406 | validation_loss: 0.9684 | validation_acc: 0.5208\n",
      "Epoch: 86 | train_loss: 0.7386 | train_acc: 0.6906 | validation_loss: 0.6956 | validation_acc: 0.6042\n",
      "Epoch: 87 | train_loss: 0.7600 | train_acc: 0.6594 | validation_loss: 0.9549 | validation_acc: 0.6458\n",
      "Epoch: 88 | train_loss: 0.7966 | train_acc: 0.6781 | validation_loss: 0.7965 | validation_acc: 0.5000\n",
      "Epoch: 89 | train_loss: 0.7260 | train_acc: 0.6656 | validation_loss: 1.3927 | validation_acc: 0.6875\n",
      "Epoch: 90 | train_loss: 0.6837 | train_acc: 0.6687 | validation_loss: 0.6988 | validation_acc: 0.5417\n",
      "Epoch: 91 | train_loss: 0.7660 | train_acc: 0.6438 | validation_loss: 0.7678 | validation_acc: 0.6250\n",
      "Epoch: 92 | train_loss: 0.7139 | train_acc: 0.6813 | validation_loss: 1.0400 | validation_acc: 0.5833\n",
      "Epoch: 93 | train_loss: 0.7218 | train_acc: 0.6500 | validation_loss: 0.7665 | validation_acc: 0.6042\n",
      "Epoch: 94 | train_loss: 0.7160 | train_acc: 0.6656 | validation_loss: 0.9269 | validation_acc: 0.5417\n",
      "Epoch: 95 | train_loss: 0.7466 | train_acc: 0.6500 | validation_loss: 0.6407 | validation_acc: 0.6667\n",
      "Epoch: 96 | train_loss: 0.7330 | train_acc: 0.6531 | validation_loss: 0.9552 | validation_acc: 0.7083\n",
      "Epoch: 97 | train_loss: 0.7475 | train_acc: 0.6656 | validation_loss: 1.2007 | validation_acc: 0.5208\n",
      "Epoch: 98 | train_loss: 0.7487 | train_acc: 0.6438 | validation_loss: 0.7556 | validation_acc: 0.6458\n",
      "Epoch: 99 | train_loss: 0.7179 | train_acc: 0.6750 | validation_loss: 0.7370 | validation_acc: 0.7083\n",
      "Epoch: 100 | train_loss: 0.6905 | train_acc: 0.6813 | validation_loss: 0.9469 | validation_acc: 0.7708\n"
     ]
    }
   ],
   "source": [
    "model_name = \"ResNet50\"\n",
    "model_folder_path = models_path / model_name\n",
    "check_dir(model_folder_path)\n",
    "model_name_folder_path = model_folder_path / model_name\n",
    "\n",
    "#Train ResNet50\n",
    "resnet50.to(device)\n",
    "nadam_optim = torch.optim.NAdam(params=resnet50.parameters(), lr=lr)\n",
    "train_resnet50_results, train_time_resnet50 = train(resnet50, train_dl, validation_dl, optimizer=nadam_optim, loss_fn=loss_fn, epochs=NUM_EPOCHS, name_save=model_name_folder_path, device=device)"
   ]
  },
  {
   "cell_type": "code",
   "execution_count": 5,
   "metadata": {},
   "outputs": [
    {
     "data": {
      "application/vnd.jupyter.widget-view+json": {
       "model_id": "dcecafb1db1a430c9a94a3960c343766",
       "version_major": 2,
       "version_minor": 0
      },
      "text/plain": [
       "  0%|          | 0/3 [00:02<?, ?it/s]"
      ]
     },
     "metadata": {},
     "output_type": "display_data"
    }
   ],
   "source": [
    "eval_resnet50_results = eval_model(resnet50, test_dl, loss_fn = loss_fn, accuracy_fn=accuracy_fn, device = device, dummy_input= torch.rand(32,3,224,224).to(device))\n",
    "resnet50_results = [train_resnet50_results, train_time_resnet50, eval_resnet50_results]\n",
    "final_save(model_folder_path,model_name, NUM_EPOCHS, resnet50, resnet50_results)"
   ]
  },
  {
   "cell_type": "code",
   "execution_count": 6,
   "metadata": {},
   "outputs": [
    {
     "name": "stdout",
     "output_type": "stream",
     "text": [
      "Models_100\\MobileNetSmall does not exist, creating one...\n"
     ]
    },
    {
     "data": {
      "application/vnd.jupyter.widget-view+json": {
       "model_id": "2851ac7bccce4f1ea12eee717af83cfd",
       "version_major": 2,
       "version_minor": 0
      },
      "text/plain": [
       "  0%|          | 0/100 [00:00<?, ?it/s]"
      ]
     },
     "metadata": {},
     "output_type": "display_data"
    },
    {
     "name": "stderr",
     "output_type": "stream",
     "text": [
      "Exception ignored in: <function _ConnectionBase.__del__ at 0x000001AD8BA0A550>\n",
      "Traceback (most recent call last):\n",
      "  File \"c:\\Users\\joaor\\anaconda3\\lib\\multiprocessing\\connection.py\", line 137, in __del__\n",
      "Exception in thread QueueFeederThread:\n",
      "Traceback (most recent call last):\n",
      "  File \"c:\\Users\\joaor\\anaconda3\\lib\\multiprocessing\\queues.py\", line 239, in _feed\n",
      "    reader_close()\n",
      "  File \"c:\\Users\\joaor\\anaconda3\\lib\\multiprocessing\\connection.py\", line 182, in close\n",
      "    self._close()\n",
      "  File \"c:\\Users\\joaor\\anaconda3\\lib\\multiprocessing\\connection.py\", line 282, in _close\n",
      "    self._close()\n",
      "  File \"c:\\Users\\joaor\\anaconda3\\lib\\multiprocessing\\connection.py\", line 282, in _close\n",
      "    _CloseHandle(self._handle)\n",
      "OSError: [WinError 6] The handle is invalid\n",
      "    _CloseHandle(self._handle)\n",
      "OSError: [WinError 6] The handle is invalid\n",
      "\n",
      "During handling of the above exception, another exception occurred:\n",
      "\n",
      "Traceback (most recent call last):\n",
      "  File \"c:\\Users\\joaor\\anaconda3\\lib\\threading.py\", line 980, in _bootstrap_inner\n",
      "    self.run()\n",
      "  File \"c:\\Users\\joaor\\anaconda3\\lib\\threading.py\", line 917, in run\n",
      "    self._target(*self._args, **self._kwargs)\n",
      "  File \"c:\\Users\\joaor\\anaconda3\\lib\\multiprocessing\\queues.py\", line 271, in _feed\n",
      "    queue_sem.release()\n",
      "ValueError: semaphore or lock released too many times\n"
     ]
    },
    {
     "name": "stdout",
     "output_type": "stream",
     "text": [
      "Epoch: 1 | train_loss: 1.4640 | train_acc: 0.2625 | validation_loss: 1.4495 | validation_acc: 0.2083\n",
      "Epoch: 2 | train_loss: 1.3335 | train_acc: 0.3500 | validation_loss: 2.3292 | validation_acc: 0.2083\n",
      "Epoch: 3 | train_loss: 1.2107 | train_acc: 0.4188 | validation_loss: 1.2818 | validation_acc: 0.2500\n",
      "Epoch: 4 | train_loss: 1.1289 | train_acc: 0.4437 | validation_loss: 1.1607 | validation_acc: 0.5417\n",
      "Epoch: 5 | train_loss: 1.1185 | train_acc: 0.4313 | validation_loss: 1.0071 | validation_acc: 0.5833\n",
      "Epoch: 6 | train_loss: 1.0461 | train_acc: 0.4188 | validation_loss: 0.9411 | validation_acc: 0.6458\n",
      "Epoch: 7 | train_loss: 0.9956 | train_acc: 0.5344 | validation_loss: 1.2798 | validation_acc: 0.3750\n",
      "Epoch: 8 | train_loss: 1.0168 | train_acc: 0.4688 | validation_loss: 0.9763 | validation_acc: 0.4792\n",
      "Epoch: 9 | train_loss: 0.9956 | train_acc: 0.5000 | validation_loss: 0.8994 | validation_acc: 0.6250\n",
      "Epoch: 10 | train_loss: 0.9548 | train_acc: 0.5156 | validation_loss: 0.8988 | validation_acc: 0.5625\n",
      "Epoch: 11 | train_loss: 0.9529 | train_acc: 0.5219 | validation_loss: 0.8960 | validation_acc: 0.5625\n",
      "Epoch: 12 | train_loss: 0.9481 | train_acc: 0.5281 | validation_loss: 0.9019 | validation_acc: 0.5833\n",
      "Epoch: 13 | train_loss: 0.9328 | train_acc: 0.5437 | validation_loss: 0.9220 | validation_acc: 0.5000\n",
      "Epoch: 14 | train_loss: 0.9852 | train_acc: 0.4625 | validation_loss: 0.9725 | validation_acc: 0.4792\n",
      "Epoch: 15 | train_loss: 0.9645 | train_acc: 0.5156 | validation_loss: 0.8575 | validation_acc: 0.5625\n",
      "Epoch: 16 | train_loss: 0.8710 | train_acc: 0.5813 | validation_loss: 0.9364 | validation_acc: 0.5208\n",
      "Epoch: 17 | train_loss: 0.9361 | train_acc: 0.4969 | validation_loss: 0.7859 | validation_acc: 0.6875\n",
      "Epoch: 18 | train_loss: 0.9142 | train_acc: 0.5375 | validation_loss: 0.9055 | validation_acc: 0.4583\n",
      "Epoch: 19 | train_loss: 0.9054 | train_acc: 0.5844 | validation_loss: 0.9145 | validation_acc: 0.6458\n",
      "Epoch: 20 | train_loss: 0.8800 | train_acc: 0.5906 | validation_loss: 0.9611 | validation_acc: 0.5417\n",
      "Epoch: 21 | train_loss: 0.9311 | train_acc: 0.5188 | validation_loss: 0.9120 | validation_acc: 0.5417\n",
      "Epoch: 22 | train_loss: 0.8728 | train_acc: 0.5844 | validation_loss: 0.8652 | validation_acc: 0.6042\n",
      "Epoch: 23 | train_loss: 0.8648 | train_acc: 0.5719 | validation_loss: 0.9926 | validation_acc: 0.6042\n",
      "Epoch: 24 | train_loss: 0.8362 | train_acc: 0.5719 | validation_loss: 1.0086 | validation_acc: 0.5417\n",
      "Epoch: 25 | train_loss: 0.7906 | train_acc: 0.6594 | validation_loss: 0.9085 | validation_acc: 0.4792\n",
      "Epoch: 26 | train_loss: 0.8068 | train_acc: 0.6125 | validation_loss: 1.0281 | validation_acc: 0.5417\n",
      "Epoch: 27 | train_loss: 0.9040 | train_acc: 0.5875 | validation_loss: 0.8597 | validation_acc: 0.5625\n",
      "Epoch: 28 | train_loss: 0.8511 | train_acc: 0.5813 | validation_loss: 0.6333 | validation_acc: 0.7500\n",
      "Epoch: 29 | train_loss: 0.8150 | train_acc: 0.5844 | validation_loss: 0.7688 | validation_acc: 0.5417\n",
      "Epoch: 30 | train_loss: 0.7672 | train_acc: 0.6406 | validation_loss: 0.8564 | validation_acc: 0.6458\n",
      "Epoch: 31 | train_loss: 0.7800 | train_acc: 0.6312 | validation_loss: 0.7326 | validation_acc: 0.6250\n",
      "Epoch: 32 | train_loss: 0.7662 | train_acc: 0.6562 | validation_loss: 0.9132 | validation_acc: 0.5833\n",
      "Epoch: 33 | train_loss: 0.8030 | train_acc: 0.6750 | validation_loss: 0.9089 | validation_acc: 0.5833\n",
      "Epoch: 34 | train_loss: 0.8053 | train_acc: 0.6312 | validation_loss: 0.8958 | validation_acc: 0.5625\n",
      "Epoch: 35 | train_loss: 0.7948 | train_acc: 0.6312 | validation_loss: 0.7748 | validation_acc: 0.6458\n",
      "Epoch: 36 | train_loss: 0.7205 | train_acc: 0.6719 | validation_loss: 0.6289 | validation_acc: 0.7917\n",
      "Epoch: 37 | train_loss: 0.7732 | train_acc: 0.6406 | validation_loss: 0.6906 | validation_acc: 0.6458\n",
      "Epoch: 38 | train_loss: 0.7287 | train_acc: 0.6562 | validation_loss: 0.8411 | validation_acc: 0.5833\n",
      "Epoch: 39 | train_loss: 0.6879 | train_acc: 0.6687 | validation_loss: 0.8277 | validation_acc: 0.6667\n",
      "Epoch: 40 | train_loss: 0.7754 | train_acc: 0.6250 | validation_loss: 0.8826 | validation_acc: 0.6250\n",
      "Epoch: 41 | train_loss: 0.7984 | train_acc: 0.6375 | validation_loss: 1.1234 | validation_acc: 0.5000\n",
      "Epoch: 42 | train_loss: 0.7341 | train_acc: 0.6813 | validation_loss: 0.7522 | validation_acc: 0.6667\n",
      "Epoch: 43 | train_loss: 0.7349 | train_acc: 0.7000 | validation_loss: 0.8784 | validation_acc: 0.6042\n",
      "Epoch: 44 | train_loss: 0.6641 | train_acc: 0.6875 | validation_loss: 0.8667 | validation_acc: 0.5833\n",
      "Epoch: 45 | train_loss: 0.7235 | train_acc: 0.6500 | validation_loss: 0.6656 | validation_acc: 0.6667\n",
      "Epoch: 46 | train_loss: 0.6546 | train_acc: 0.6719 | validation_loss: 0.7176 | validation_acc: 0.6667\n",
      "Epoch: 47 | train_loss: 0.7128 | train_acc: 0.6531 | validation_loss: 0.8435 | validation_acc: 0.6042\n",
      "Epoch: 48 | train_loss: 0.6380 | train_acc: 0.7031 | validation_loss: 0.7858 | validation_acc: 0.6458\n",
      "Epoch: 49 | train_loss: 0.6467 | train_acc: 0.7281 | validation_loss: 0.5847 | validation_acc: 0.7083\n",
      "Epoch: 50 | train_loss: 0.7011 | train_acc: 0.6906 | validation_loss: 0.9311 | validation_acc: 0.5208\n",
      "Epoch: 51 | train_loss: 0.6336 | train_acc: 0.6875 | validation_loss: 0.7124 | validation_acc: 0.6667\n",
      "Epoch: 52 | train_loss: 0.6825 | train_acc: 0.6813 | validation_loss: 0.6017 | validation_acc: 0.6875\n",
      "Epoch: 53 | train_loss: 0.6726 | train_acc: 0.6719 | validation_loss: 0.7082 | validation_acc: 0.6667\n",
      "Epoch: 54 | train_loss: 0.6043 | train_acc: 0.7281 | validation_loss: 1.1324 | validation_acc: 0.6250\n",
      "Epoch: 55 | train_loss: 0.6453 | train_acc: 0.6969 | validation_loss: 0.6997 | validation_acc: 0.7083\n",
      "Epoch: 56 | train_loss: 0.6234 | train_acc: 0.6844 | validation_loss: 0.8813 | validation_acc: 0.5625\n",
      "Epoch: 57 | train_loss: 0.6454 | train_acc: 0.6813 | validation_loss: 0.7625 | validation_acc: 0.6250\n",
      "Epoch: 58 | train_loss: 0.6332 | train_acc: 0.7063 | validation_loss: 0.6821 | validation_acc: 0.6875\n",
      "Epoch: 59 | train_loss: 0.5977 | train_acc: 0.7344 | validation_loss: 0.6340 | validation_acc: 0.6875\n",
      "Epoch: 60 | train_loss: 0.5945 | train_acc: 0.7063 | validation_loss: 0.6875 | validation_acc: 0.6875\n",
      "Epoch: 61 | train_loss: 0.5480 | train_acc: 0.7531 | validation_loss: 0.6096 | validation_acc: 0.7292\n",
      "Epoch: 62 | train_loss: 0.5096 | train_acc: 0.7656 | validation_loss: 0.6925 | validation_acc: 0.7708\n",
      "Epoch: 63 | train_loss: 0.5980 | train_acc: 0.7438 | validation_loss: 0.8041 | validation_acc: 0.6250\n",
      "Epoch: 64 | train_loss: 0.5176 | train_acc: 0.7937 | validation_loss: 0.5742 | validation_acc: 0.8125\n",
      "Epoch: 65 | train_loss: 0.5671 | train_acc: 0.7688 | validation_loss: 0.6238 | validation_acc: 0.7708\n",
      "Epoch: 66 | train_loss: 0.5726 | train_acc: 0.7562 | validation_loss: 0.6744 | validation_acc: 0.6875\n",
      "Epoch: 67 | train_loss: 0.5337 | train_acc: 0.7750 | validation_loss: 0.6063 | validation_acc: 0.7708\n",
      "Epoch: 68 | train_loss: 0.5189 | train_acc: 0.7531 | validation_loss: 0.9948 | validation_acc: 0.6250\n",
      "Epoch: 69 | train_loss: 0.4800 | train_acc: 0.7812 | validation_loss: 0.5960 | validation_acc: 0.7083\n",
      "Epoch: 70 | train_loss: 0.5356 | train_acc: 0.7844 | validation_loss: 0.7435 | validation_acc: 0.7083\n",
      "Epoch: 71 | train_loss: 0.4529 | train_acc: 0.8187 | validation_loss: 0.5783 | validation_acc: 0.7708\n",
      "Epoch: 72 | train_loss: 0.5966 | train_acc: 0.7406 | validation_loss: 0.7715 | validation_acc: 0.6667\n",
      "Epoch: 73 | train_loss: 0.5019 | train_acc: 0.7937 | validation_loss: 0.6325 | validation_acc: 0.6667\n",
      "Epoch: 74 | train_loss: 0.5369 | train_acc: 0.7438 | validation_loss: 0.5938 | validation_acc: 0.7083\n",
      "Epoch: 75 | train_loss: 0.5154 | train_acc: 0.7750 | validation_loss: 0.6179 | validation_acc: 0.7083\n",
      "Epoch: 76 | train_loss: 0.4399 | train_acc: 0.8156 | validation_loss: 1.3110 | validation_acc: 0.5625\n",
      "Epoch: 77 | train_loss: 0.5134 | train_acc: 0.7562 | validation_loss: 0.7705 | validation_acc: 0.7083\n",
      "Epoch: 78 | train_loss: 0.4631 | train_acc: 0.7906 | validation_loss: 0.7408 | validation_acc: 0.6667\n",
      "Epoch: 79 | train_loss: 0.4630 | train_acc: 0.8000 | validation_loss: 0.6202 | validation_acc: 0.7917\n",
      "Epoch: 80 | train_loss: 0.4708 | train_acc: 0.8125 | validation_loss: 0.5645 | validation_acc: 0.7292\n",
      "Epoch: 81 | train_loss: 0.3646 | train_acc: 0.8562 | validation_loss: 0.4098 | validation_acc: 0.8333\n",
      "Epoch: 82 | train_loss: 0.3670 | train_acc: 0.8438 | validation_loss: 0.9142 | validation_acc: 0.6250\n",
      "Epoch: 83 | train_loss: 0.4511 | train_acc: 0.8250 | validation_loss: 0.7132 | validation_acc: 0.7292\n",
      "Epoch: 84 | train_loss: 0.3754 | train_acc: 0.8219 | validation_loss: 0.3582 | validation_acc: 0.8542\n",
      "Epoch: 85 | train_loss: 0.4004 | train_acc: 0.8406 | validation_loss: 0.7922 | validation_acc: 0.7083\n",
      "Epoch: 86 | train_loss: 0.4662 | train_acc: 0.8187 | validation_loss: 0.5423 | validation_acc: 0.7500\n",
      "Epoch: 87 | train_loss: 0.3785 | train_acc: 0.8406 | validation_loss: 0.6285 | validation_acc: 0.7917\n",
      "Epoch: 88 | train_loss: 0.4056 | train_acc: 0.8313 | validation_loss: 0.5516 | validation_acc: 0.7083\n",
      "Epoch: 89 | train_loss: 0.3913 | train_acc: 0.8406 | validation_loss: 0.6471 | validation_acc: 0.7083\n",
      "Epoch: 90 | train_loss: 0.4612 | train_acc: 0.8281 | validation_loss: 0.6140 | validation_acc: 0.7500\n",
      "Epoch: 91 | train_loss: 0.3393 | train_acc: 0.8594 | validation_loss: 0.5204 | validation_acc: 0.7500\n",
      "Epoch: 92 | train_loss: 0.3302 | train_acc: 0.8688 | validation_loss: 0.5207 | validation_acc: 0.7500\n",
      "Epoch: 93 | train_loss: 0.3574 | train_acc: 0.8500 | validation_loss: 0.5747 | validation_acc: 0.7500\n",
      "Epoch: 94 | train_loss: 0.3469 | train_acc: 0.8562 | validation_loss: 0.4940 | validation_acc: 0.6875\n",
      "Epoch: 95 | train_loss: 0.2650 | train_acc: 0.8781 | validation_loss: 0.4650 | validation_acc: 0.7917\n",
      "Epoch: 96 | train_loss: 0.3404 | train_acc: 0.8656 | validation_loss: 0.7108 | validation_acc: 0.6875\n",
      "Epoch: 97 | train_loss: 0.3083 | train_acc: 0.8812 | validation_loss: 0.5343 | validation_acc: 0.7708\n",
      "Epoch: 98 | train_loss: 0.2860 | train_acc: 0.8875 | validation_loss: 0.9705 | validation_acc: 0.7083\n",
      "Epoch: 99 | train_loss: 0.3670 | train_acc: 0.8625 | validation_loss: 0.6641 | validation_acc: 0.7917\n",
      "Epoch: 100 | train_loss: 0.3010 | train_acc: 0.8812 | validation_loss: 0.4736 | validation_acc: 0.8542\n"
     ]
    }
   ],
   "source": [
    "model_name = \"MobileNetSmall\"\n",
    "model_folder_path = models_path / model_name\n",
    "check_dir(model_folder_path)\n",
    "model_name_folder_path = model_folder_path / model_name\n",
    "\n",
    "#Train MobileNetV3 Small\n",
    "mobnet_sml.to(device)\n",
    "nadam_optim = torch.optim.NAdam(params=mobnet_sml.parameters(), lr=lr)\n",
    "train_mobnet_sml_results, train_time_mobnet_sml = train(mobnet_sml, train_dl, validation_dl, optimizer=nadam_optim, loss_fn=loss_fn, epochs=NUM_EPOCHS, name_save=model_name_folder_path, device=device)"
   ]
  },
  {
   "cell_type": "code",
   "execution_count": 7,
   "metadata": {},
   "outputs": [
    {
     "data": {
      "application/vnd.jupyter.widget-view+json": {
       "model_id": "c96ef6b96fa744b6ac5ebc93d418e900",
       "version_major": 2,
       "version_minor": 0
      },
      "text/plain": [
       "  0%|          | 0/3 [00:02<?, ?it/s]"
      ]
     },
     "metadata": {},
     "output_type": "display_data"
    }
   ],
   "source": [
    "eval_mobnet_sml_results = eval_model(mobnet_sml, test_dl, loss_fn = loss_fn, accuracy_fn=accuracy_fn, device = device, dummy_input= torch.rand(32,3,224,224).to(device))\n",
    "mobnet_sml_results = [train_mobnet_sml_results, train_time_mobnet_sml, eval_mobnet_sml_results]\n",
    "final_save(model_folder_path,model_name, NUM_EPOCHS, mobnet_sml, mobnet_sml_results)"
   ]
  },
  {
   "cell_type": "code",
   "execution_count": 8,
   "metadata": {},
   "outputs": [
    {
     "name": "stdout",
     "output_type": "stream",
     "text": [
      "Models_100\\MobileNetLarge does not exist, creating one...\n"
     ]
    },
    {
     "data": {
      "application/vnd.jupyter.widget-view+json": {
       "model_id": "3cbd097bc776494e925e139259887867",
       "version_major": 2,
       "version_minor": 0
      },
      "text/plain": [
       "  0%|          | 0/100 [00:00<?, ?it/s]"
      ]
     },
     "metadata": {},
     "output_type": "display_data"
    },
    {
     "name": "stderr",
     "output_type": "stream",
     "text": [
      "Exception ignored in: <function _ConnectionBase.__del__ at 0x000001AD8BA0A550>\n",
      "Traceback (most recent call last):\n",
      "  File \"c:\\Users\\joaor\\anaconda3\\lib\\multiprocessing\\connection.py\", line 137, in __del__\n",
      "    self._close()\n",
      "  File \"c:\\Users\\joaor\\anaconda3\\lib\\multiprocessing\\connection.py\", line 282, in _close\n",
      "    _CloseHandle(self._handle)\n",
      "OSError: [WinError 6] The handle is invalid\n"
     ]
    },
    {
     "name": "stdout",
     "output_type": "stream",
     "text": [
      "Epoch: 1 | train_loss: 1.4933 | train_acc: 0.2781 | validation_loss: 1.4203 | validation_acc: 0.2083\n",
      "Epoch: 2 | train_loss: 1.4345 | train_acc: 0.3094 | validation_loss: 1.4818 | validation_acc: 0.2292\n",
      "Epoch: 3 | train_loss: 1.3090 | train_acc: 0.3781 | validation_loss: 1.3789 | validation_acc: 0.4375\n",
      "Epoch: 4 | train_loss: 1.2251 | train_acc: 0.4031 | validation_loss: 1.2516 | validation_acc: 0.4167\n",
      "Epoch: 5 | train_loss: 1.1205 | train_acc: 0.4594 | validation_loss: 1.1785 | validation_acc: 0.3333\n",
      "Epoch: 6 | train_loss: 1.1131 | train_acc: 0.4594 | validation_loss: 1.0177 | validation_acc: 0.3958\n",
      "Epoch: 7 | train_loss: 0.9943 | train_acc: 0.4781 | validation_loss: 1.2698 | validation_acc: 0.4167\n",
      "Epoch: 8 | train_loss: 0.9789 | train_acc: 0.5719 | validation_loss: 1.6131 | validation_acc: 0.2708\n",
      "Epoch: 9 | train_loss: 0.9661 | train_acc: 0.5250 | validation_loss: 0.9896 | validation_acc: 0.5000\n",
      "Epoch: 10 | train_loss: 0.9657 | train_acc: 0.5062 | validation_loss: 0.9849 | validation_acc: 0.6042\n",
      "Epoch: 11 | train_loss: 0.9811 | train_acc: 0.5125 | validation_loss: 0.7967 | validation_acc: 0.6458\n",
      "Epoch: 12 | train_loss: 0.9605 | train_acc: 0.4656 | validation_loss: 0.8617 | validation_acc: 0.6875\n",
      "Epoch: 13 | train_loss: 0.9407 | train_acc: 0.5344 | validation_loss: 0.8784 | validation_acc: 0.6458\n",
      "Epoch: 14 | train_loss: 0.9172 | train_acc: 0.4781 | validation_loss: 1.0458 | validation_acc: 0.3542\n",
      "Epoch: 15 | train_loss: 0.9469 | train_acc: 0.4813 | validation_loss: 0.7974 | validation_acc: 0.6875\n",
      "Epoch: 16 | train_loss: 0.9112 | train_acc: 0.5437 | validation_loss: 0.9942 | validation_acc: 0.4583\n",
      "Epoch: 17 | train_loss: 0.8971 | train_acc: 0.5281 | validation_loss: 0.9025 | validation_acc: 0.5208\n",
      "Epoch: 18 | train_loss: 0.8567 | train_acc: 0.5813 | validation_loss: 0.9894 | validation_acc: 0.6042\n",
      "Epoch: 19 | train_loss: 0.9078 | train_acc: 0.5312 | validation_loss: 0.8250 | validation_acc: 0.5000\n",
      "Epoch: 20 | train_loss: 0.8760 | train_acc: 0.5062 | validation_loss: 0.7899 | validation_acc: 0.7708\n",
      "Epoch: 21 | train_loss: 0.8528 | train_acc: 0.5594 | validation_loss: 0.8232 | validation_acc: 0.5208\n",
      "Epoch: 22 | train_loss: 0.8522 | train_acc: 0.5312 | validation_loss: 0.8818 | validation_acc: 0.4583\n",
      "Epoch: 23 | train_loss: 0.8613 | train_acc: 0.5531 | validation_loss: 0.7244 | validation_acc: 0.5833\n",
      "Epoch: 24 | train_loss: 0.9005 | train_acc: 0.5625 | validation_loss: 1.1405 | validation_acc: 0.4167\n",
      "Epoch: 25 | train_loss: 0.9263 | train_acc: 0.5281 | validation_loss: 0.9778 | validation_acc: 0.3958\n",
      "Epoch: 26 | train_loss: 0.8939 | train_acc: 0.5156 | validation_loss: 0.8245 | validation_acc: 0.4792\n",
      "Epoch: 27 | train_loss: 0.8947 | train_acc: 0.5094 | validation_loss: 0.8018 | validation_acc: 0.5833\n",
      "Epoch: 28 | train_loss: 0.8188 | train_acc: 0.5469 | validation_loss: 0.7944 | validation_acc: 0.4583\n",
      "Epoch: 29 | train_loss: 0.8301 | train_acc: 0.5750 | validation_loss: 0.8013 | validation_acc: 0.5625\n",
      "Epoch: 30 | train_loss: 0.8246 | train_acc: 0.5750 | validation_loss: 0.8053 | validation_acc: 0.4375\n",
      "Epoch: 31 | train_loss: 0.8764 | train_acc: 0.5469 | validation_loss: 0.8932 | validation_acc: 0.4167\n",
      "Epoch: 32 | train_loss: 0.8265 | train_acc: 0.5750 | validation_loss: 0.9227 | validation_acc: 0.4792\n",
      "Epoch: 33 | train_loss: 0.9011 | train_acc: 0.5125 | validation_loss: 0.8982 | validation_acc: 0.4792\n",
      "Epoch: 34 | train_loss: 0.8092 | train_acc: 0.5625 | validation_loss: 0.8133 | validation_acc: 0.4583\n",
      "Epoch: 35 | train_loss: 0.8063 | train_acc: 0.5781 | validation_loss: 0.6548 | validation_acc: 0.7083\n",
      "Epoch: 36 | train_loss: 0.8575 | train_acc: 0.5813 | validation_loss: 0.8011 | validation_acc: 0.5625\n",
      "Epoch: 37 | train_loss: 0.7802 | train_acc: 0.5750 | validation_loss: 0.7805 | validation_acc: 0.5833\n",
      "Epoch: 38 | train_loss: 0.7997 | train_acc: 0.6250 | validation_loss: 0.7672 | validation_acc: 0.6458\n",
      "Epoch: 39 | train_loss: 0.7825 | train_acc: 0.5594 | validation_loss: 0.7092 | validation_acc: 0.7083\n",
      "Epoch: 40 | train_loss: 0.7740 | train_acc: 0.5906 | validation_loss: 0.9696 | validation_acc: 0.4375\n",
      "Epoch: 41 | train_loss: 0.8378 | train_acc: 0.6000 | validation_loss: 0.8123 | validation_acc: 0.5417\n",
      "Epoch: 42 | train_loss: 0.7915 | train_acc: 0.6000 | validation_loss: 0.7634 | validation_acc: 0.6250\n",
      "Epoch: 43 | train_loss: 0.7611 | train_acc: 0.6312 | validation_loss: 0.7683 | validation_acc: 0.5625\n",
      "Epoch: 44 | train_loss: 0.7564 | train_acc: 0.6281 | validation_loss: 1.0002 | validation_acc: 0.4375\n",
      "Epoch: 45 | train_loss: 0.7975 | train_acc: 0.6312 | validation_loss: 0.7922 | validation_acc: 0.5833\n",
      "Epoch: 46 | train_loss: 0.7172 | train_acc: 0.6625 | validation_loss: 1.0429 | validation_acc: 0.4375\n",
      "Epoch: 47 | train_loss: 0.7260 | train_acc: 0.6219 | validation_loss: 0.7388 | validation_acc: 0.7292\n",
      "Epoch: 48 | train_loss: 0.7127 | train_acc: 0.6594 | validation_loss: 0.8055 | validation_acc: 0.6458\n",
      "Epoch: 49 | train_loss: 0.7347 | train_acc: 0.6500 | validation_loss: 0.6225 | validation_acc: 0.7500\n",
      "Epoch: 50 | train_loss: 0.7269 | train_acc: 0.6375 | validation_loss: 0.8855 | validation_acc: 0.5625\n",
      "Epoch: 51 | train_loss: 0.7090 | train_acc: 0.6750 | validation_loss: 0.6160 | validation_acc: 0.6667\n",
      "Epoch: 52 | train_loss: 0.6305 | train_acc: 0.7063 | validation_loss: 0.8608 | validation_acc: 0.5833\n",
      "Epoch: 53 | train_loss: 0.6603 | train_acc: 0.7250 | validation_loss: 0.8695 | validation_acc: 0.6875\n",
      "Epoch: 54 | train_loss: 0.6981 | train_acc: 0.6156 | validation_loss: 0.6522 | validation_acc: 0.6667\n",
      "Epoch: 55 | train_loss: 0.6040 | train_acc: 0.7250 | validation_loss: 0.8448 | validation_acc: 0.5417\n",
      "Epoch: 56 | train_loss: 0.6021 | train_acc: 0.7469 | validation_loss: 0.8211 | validation_acc: 0.6875\n",
      "Epoch: 57 | train_loss: 0.6376 | train_acc: 0.7063 | validation_loss: 1.1437 | validation_acc: 0.5625\n",
      "Epoch: 58 | train_loss: 0.6273 | train_acc: 0.7156 | validation_loss: 0.6618 | validation_acc: 0.7083\n",
      "Epoch: 59 | train_loss: 0.6383 | train_acc: 0.6625 | validation_loss: 0.5784 | validation_acc: 0.7500\n",
      "Epoch: 60 | train_loss: 0.6835 | train_acc: 0.6937 | validation_loss: 0.5757 | validation_acc: 0.7917\n",
      "Epoch: 61 | train_loss: 0.6438 | train_acc: 0.7000 | validation_loss: 0.6178 | validation_acc: 0.7083\n",
      "Epoch: 62 | train_loss: 0.5446 | train_acc: 0.7625 | validation_loss: 0.8124 | validation_acc: 0.7292\n",
      "Epoch: 63 | train_loss: 0.5692 | train_acc: 0.7656 | validation_loss: 0.7480 | validation_acc: 0.7500\n",
      "Epoch: 64 | train_loss: 0.5955 | train_acc: 0.7438 | validation_loss: 0.7244 | validation_acc: 0.7292\n",
      "Epoch: 65 | train_loss: 0.5993 | train_acc: 0.7031 | validation_loss: 0.6293 | validation_acc: 0.7292\n",
      "Epoch: 66 | train_loss: 0.4882 | train_acc: 0.7750 | validation_loss: 0.6661 | validation_acc: 0.7292\n",
      "Epoch: 67 | train_loss: 0.4928 | train_acc: 0.7625 | validation_loss: 0.7954 | validation_acc: 0.6458\n",
      "Epoch: 68 | train_loss: 0.5216 | train_acc: 0.7719 | validation_loss: 0.7275 | validation_acc: 0.7708\n",
      "Epoch: 69 | train_loss: 0.5205 | train_acc: 0.7812 | validation_loss: 0.8368 | validation_acc: 0.6667\n",
      "Epoch: 70 | train_loss: 0.4641 | train_acc: 0.7906 | validation_loss: 0.5071 | validation_acc: 0.8333\n",
      "Epoch: 71 | train_loss: 0.4063 | train_acc: 0.8250 | validation_loss: 0.6753 | validation_acc: 0.7500\n",
      "Epoch: 72 | train_loss: 0.4417 | train_acc: 0.8094 | validation_loss: 0.5029 | validation_acc: 0.8333\n",
      "Epoch: 73 | train_loss: 0.5508 | train_acc: 0.7406 | validation_loss: 0.5298 | validation_acc: 0.8125\n",
      "Epoch: 74 | train_loss: 0.4538 | train_acc: 0.8000 | validation_loss: 0.6961 | validation_acc: 0.7500\n",
      "Epoch: 75 | train_loss: 0.4398 | train_acc: 0.8344 | validation_loss: 0.5176 | validation_acc: 0.7917\n",
      "Epoch: 76 | train_loss: 0.5050 | train_acc: 0.8063 | validation_loss: 0.7510 | validation_acc: 0.7292\n",
      "Epoch: 77 | train_loss: 0.4080 | train_acc: 0.8344 | validation_loss: 0.7000 | validation_acc: 0.6667\n",
      "Epoch: 78 | train_loss: 0.4320 | train_acc: 0.8344 | validation_loss: 0.8892 | validation_acc: 0.6042\n",
      "Epoch: 79 | train_loss: 0.3856 | train_acc: 0.8625 | validation_loss: 0.6346 | validation_acc: 0.7500\n",
      "Epoch: 80 | train_loss: 0.4563 | train_acc: 0.8156 | validation_loss: 0.5178 | validation_acc: 0.8125\n",
      "Epoch: 81 | train_loss: 0.3582 | train_acc: 0.8594 | validation_loss: 0.4707 | validation_acc: 0.8125\n",
      "Epoch: 82 | train_loss: 0.3640 | train_acc: 0.8438 | validation_loss: 0.6365 | validation_acc: 0.7917\n",
      "Epoch: 83 | train_loss: 0.3236 | train_acc: 0.8469 | validation_loss: 0.7563 | validation_acc: 0.7500\n",
      "Epoch: 84 | train_loss: 0.3442 | train_acc: 0.8406 | validation_loss: 0.5911 | validation_acc: 0.6875\n",
      "Epoch: 85 | train_loss: 0.3531 | train_acc: 0.8594 | validation_loss: 0.4228 | validation_acc: 0.8542\n",
      "Epoch: 86 | train_loss: 0.3455 | train_acc: 0.8812 | validation_loss: 0.9120 | validation_acc: 0.7083\n",
      "Epoch: 87 | train_loss: 0.4500 | train_acc: 0.8375 | validation_loss: 0.6220 | validation_acc: 0.8333\n",
      "Epoch: 88 | train_loss: 0.2978 | train_acc: 0.8781 | validation_loss: 0.6194 | validation_acc: 0.8125\n",
      "Epoch: 89 | train_loss: 0.4111 | train_acc: 0.8500 | validation_loss: 0.4823 | validation_acc: 0.8333\n",
      "Epoch: 90 | train_loss: 0.3891 | train_acc: 0.8281 | validation_loss: 0.5772 | validation_acc: 0.7917\n",
      "Epoch: 91 | train_loss: 0.3235 | train_acc: 0.8562 | validation_loss: 0.5919 | validation_acc: 0.7708\n",
      "Epoch: 92 | train_loss: 0.2812 | train_acc: 0.8906 | validation_loss: 0.6587 | validation_acc: 0.8125\n",
      "Epoch: 93 | train_loss: 0.2845 | train_acc: 0.8875 | validation_loss: 0.7946 | validation_acc: 0.7500\n",
      "Epoch: 94 | train_loss: 0.4355 | train_acc: 0.8500 | validation_loss: 0.8906 | validation_acc: 0.6667\n",
      "Epoch: 95 | train_loss: 0.3703 | train_acc: 0.8375 | validation_loss: 0.5258 | validation_acc: 0.8542\n",
      "Epoch: 96 | train_loss: 0.2959 | train_acc: 0.8812 | validation_loss: 0.7857 | validation_acc: 0.7083\n",
      "Epoch: 97 | train_loss: 0.3425 | train_acc: 0.8500 | validation_loss: 0.4385 | validation_acc: 0.8542\n",
      "Epoch: 98 | train_loss: 0.2959 | train_acc: 0.8812 | validation_loss: 0.5678 | validation_acc: 0.7708\n",
      "Epoch: 99 | train_loss: 0.3420 | train_acc: 0.8438 | validation_loss: 0.4379 | validation_acc: 0.8542\n",
      "Epoch: 100 | train_loss: 0.3117 | train_acc: 0.8750 | validation_loss: 0.6134 | validation_acc: 0.7708\n"
     ]
    }
   ],
   "source": [
    "model_name = \"MobileNetLarge\"\n",
    "model_folder_path = models_path / model_name\n",
    "check_dir(model_folder_path)\n",
    "model_name_folder_path = model_folder_path / model_name\n",
    "\n",
    "#Train MobileNetV3 Large\n",
    "mobnet_lrg.to(device)\n",
    "nadam_optim = torch.optim.NAdam(params=mobnet_lrg.parameters(), lr=lr)\n",
    "train_mobnet_lrg_results, train_time_mobnet_lrg = train(mobnet_lrg, train_dl, validation_dl, optimizer=nadam_optim, loss_fn=loss_fn, epochs=NUM_EPOCHS, name_save=model_name_folder_path, device=device)"
   ]
  },
  {
   "cell_type": "code",
   "execution_count": 9,
   "metadata": {},
   "outputs": [
    {
     "data": {
      "application/vnd.jupyter.widget-view+json": {
       "model_id": "66807f144e284e90b371090de5271619",
       "version_major": 2,
       "version_minor": 0
      },
      "text/plain": [
       "  0%|          | 0/3 [00:05<?, ?it/s]"
      ]
     },
     "metadata": {},
     "output_type": "display_data"
    }
   ],
   "source": [
    "eval_mobnet_lrg_results = eval_model(mobnet_lrg, test_dl, loss_fn = loss_fn, accuracy_fn=accuracy_fn, device = device, dummy_input= torch.rand(32,3,224,224).to(device))\n",
    "mobnet_lrg_results = [train_mobnet_lrg_results, train_time_mobnet_lrg, eval_mobnet_lrg_results]\n",
    "final_save(model_folder_path, model_name, NUM_EPOCHS, mobnet_lrg, mobnet_lrg_results)"
   ]
  },
  {
   "cell_type": "code",
   "execution_count": 4,
   "metadata": {},
   "outputs": [
    {
     "data": {
      "application/vnd.jupyter.widget-view+json": {
       "model_id": "d702243edca84819b6d196c2da3c7c93",
       "version_major": 2,
       "version_minor": 0
      },
      "text/plain": [
       "  0%|          | 0/100 [00:00<?, ?it/s]"
      ]
     },
     "metadata": {},
     "output_type": "display_data"
    },
    {
     "name": "stdout",
     "output_type": "stream",
     "text": [
      "Epoch: 1 | train_loss: 1.6486 | train_acc: 0.2156 | validation_loss: 1.4328 | validation_acc: 0.2083\n",
      "Epoch: 2 | train_loss: 1.4845 | train_acc: 0.2375 | validation_loss: 1.4320 | validation_acc: 0.1667\n",
      "Epoch: 3 | train_loss: 1.3888 | train_acc: 0.3031 | validation_loss: 1.2634 | validation_acc: 0.3333\n",
      "Epoch: 4 | train_loss: 1.2983 | train_acc: 0.2969 | validation_loss: 1.2354 | validation_acc: 0.2708\n",
      "Epoch: 5 | train_loss: 1.1119 | train_acc: 0.4313 | validation_loss: 1.0750 | validation_acc: 0.3333\n",
      "Epoch: 6 | train_loss: 1.0886 | train_acc: 0.4781 | validation_loss: 0.9232 | validation_acc: 0.4583\n",
      "Epoch: 7 | train_loss: 1.0000 | train_acc: 0.4938 | validation_loss: 0.8465 | validation_acc: 0.4792\n",
      "Epoch: 8 | train_loss: 1.0372 | train_acc: 0.5188 | validation_loss: 1.2010 | validation_acc: 0.3333\n",
      "Epoch: 9 | train_loss: 0.9797 | train_acc: 0.4938 | validation_loss: 0.9252 | validation_acc: 0.4583\n",
      "Epoch: 10 | train_loss: 1.0125 | train_acc: 0.5156 | validation_loss: 0.8807 | validation_acc: 0.5417\n",
      "Epoch: 11 | train_loss: 0.9647 | train_acc: 0.5062 | validation_loss: 0.8127 | validation_acc: 0.4583\n",
      "Epoch: 12 | train_loss: 0.8850 | train_acc: 0.4938 | validation_loss: 0.9241 | validation_acc: 0.4792\n",
      "Epoch: 13 | train_loss: 0.9174 | train_acc: 0.5469 | validation_loss: 0.8925 | validation_acc: 0.6042\n",
      "Epoch: 14 | train_loss: 0.9633 | train_acc: 0.5062 | validation_loss: 0.7922 | validation_acc: 0.4792\n",
      "Epoch: 15 | train_loss: 0.8832 | train_acc: 0.5188 | validation_loss: 0.9109 | validation_acc: 0.5208\n",
      "Epoch: 16 | train_loss: 0.8422 | train_acc: 0.5406 | validation_loss: 1.0333 | validation_acc: 0.4583\n",
      "Epoch: 17 | train_loss: 0.8504 | train_acc: 0.5156 | validation_loss: 0.8630 | validation_acc: 0.5833\n",
      "Epoch: 18 | train_loss: 0.8999 | train_acc: 0.5375 | validation_loss: 0.8378 | validation_acc: 0.4792\n",
      "Epoch: 19 | train_loss: 0.8518 | train_acc: 0.5625 | validation_loss: 0.7971 | validation_acc: 0.6042\n",
      "Epoch: 20 | train_loss: 0.8995 | train_acc: 0.5844 | validation_loss: 0.8065 | validation_acc: 0.6042\n",
      "Epoch: 21 | train_loss: 0.8518 | train_acc: 0.5500 | validation_loss: 0.8515 | validation_acc: 0.4792\n",
      "Epoch: 22 | train_loss: 0.8170 | train_acc: 0.5969 | validation_loss: 0.6940 | validation_acc: 0.6250\n",
      "Epoch: 23 | train_loss: 0.8174 | train_acc: 0.5750 | validation_loss: 0.9701 | validation_acc: 0.4375\n",
      "Epoch: 24 | train_loss: 0.8447 | train_acc: 0.5969 | validation_loss: 0.8804 | validation_acc: 0.4583\n",
      "Epoch: 25 | train_loss: 0.7721 | train_acc: 0.5781 | validation_loss: 0.7663 | validation_acc: 0.5208\n",
      "Epoch: 26 | train_loss: 0.8064 | train_acc: 0.5750 | validation_loss: 0.7583 | validation_acc: 0.5417\n",
      "Epoch: 27 | train_loss: 0.8540 | train_acc: 0.5531 | validation_loss: 0.7531 | validation_acc: 0.5000\n",
      "Epoch: 28 | train_loss: 0.7973 | train_acc: 0.5469 | validation_loss: 0.7612 | validation_acc: 0.5417\n",
      "Epoch: 29 | train_loss: 0.7713 | train_acc: 0.5531 | validation_loss: 0.7065 | validation_acc: 0.6875\n",
      "Epoch: 30 | train_loss: 0.7720 | train_acc: 0.6031 | validation_loss: 0.8599 | validation_acc: 0.3958\n",
      "Epoch: 31 | train_loss: 0.8406 | train_acc: 0.5312 | validation_loss: 0.7393 | validation_acc: 0.6458\n",
      "Epoch: 32 | train_loss: 0.7765 | train_acc: 0.6000 | validation_loss: 0.7237 | validation_acc: 0.6042\n",
      "Epoch: 33 | train_loss: 0.7755 | train_acc: 0.5750 | validation_loss: 0.7714 | validation_acc: 0.4792\n",
      "Epoch: 34 | train_loss: 0.7738 | train_acc: 0.6281 | validation_loss: 0.7999 | validation_acc: 0.5625\n",
      "Epoch: 35 | train_loss: 0.8092 | train_acc: 0.5750 | validation_loss: 0.8093 | validation_acc: 0.5000\n",
      "Epoch: 36 | train_loss: 0.7940 | train_acc: 0.5687 | validation_loss: 0.6958 | validation_acc: 0.8125\n",
      "Epoch: 37 | train_loss: 0.7351 | train_acc: 0.6188 | validation_loss: 0.8476 | validation_acc: 0.5208\n",
      "Epoch: 38 | train_loss: 0.7547 | train_acc: 0.6094 | validation_loss: 0.8565 | validation_acc: 0.5000\n",
      "Epoch: 39 | train_loss: 0.7234 | train_acc: 0.6438 | validation_loss: 1.0638 | validation_acc: 0.5000\n",
      "Epoch: 40 | train_loss: 0.7076 | train_acc: 0.6062 | validation_loss: 0.5851 | validation_acc: 0.7292\n",
      "Epoch: 41 | train_loss: 0.6942 | train_acc: 0.6781 | validation_loss: 0.7143 | validation_acc: 0.7083\n",
      "Epoch: 42 | train_loss: 0.7755 | train_acc: 0.6250 | validation_loss: 0.9127 | validation_acc: 0.4375\n",
      "Epoch: 43 | train_loss: 0.6835 | train_acc: 0.6500 | validation_loss: 0.9713 | validation_acc: 0.4792\n",
      "Epoch: 44 | train_loss: 0.6832 | train_acc: 0.6625 | validation_loss: 0.7051 | validation_acc: 0.5625\n",
      "Epoch: 45 | train_loss: 0.6493 | train_acc: 0.6937 | validation_loss: 0.7118 | validation_acc: 0.8125\n",
      "Epoch: 46 | train_loss: 0.8073 | train_acc: 0.6062 | validation_loss: 0.5829 | validation_acc: 0.7917\n",
      "Epoch: 47 | train_loss: 0.6615 | train_acc: 0.6656 | validation_loss: 1.0306 | validation_acc: 0.5208\n",
      "Epoch: 48 | train_loss: 0.7023 | train_acc: 0.6531 | validation_loss: 0.6528 | validation_acc: 0.7500\n",
      "Epoch: 49 | train_loss: 0.6531 | train_acc: 0.6813 | validation_loss: 0.6498 | validation_acc: 0.6042\n",
      "Epoch: 50 | train_loss: 0.6738 | train_acc: 0.6750 | validation_loss: 0.5949 | validation_acc: 0.7083\n",
      "Epoch: 51 | train_loss: 0.6168 | train_acc: 0.7281 | validation_loss: 0.7040 | validation_acc: 0.6875\n",
      "Epoch: 52 | train_loss: 0.6731 | train_acc: 0.6813 | validation_loss: 0.7261 | validation_acc: 0.5417\n",
      "Epoch: 53 | train_loss: 0.5870 | train_acc: 0.7250 | validation_loss: 0.5717 | validation_acc: 0.7292\n",
      "Epoch: 54 | train_loss: 0.6689 | train_acc: 0.6844 | validation_loss: 0.6347 | validation_acc: 0.6458\n",
      "Epoch: 55 | train_loss: 0.5847 | train_acc: 0.7406 | validation_loss: 0.6548 | validation_acc: 0.6667\n",
      "Epoch: 56 | train_loss: 0.6369 | train_acc: 0.6937 | validation_loss: 0.7299 | validation_acc: 0.7917\n",
      "Epoch: 57 | train_loss: 0.5741 | train_acc: 0.7250 | validation_loss: 0.6270 | validation_acc: 0.7083\n",
      "Epoch: 58 | train_loss: 0.5898 | train_acc: 0.7250 | validation_loss: 0.6230 | validation_acc: 0.7083\n",
      "Epoch: 59 | train_loss: 0.5541 | train_acc: 0.7969 | validation_loss: 0.8102 | validation_acc: 0.4792\n",
      "Epoch: 60 | train_loss: 0.6255 | train_acc: 0.7312 | validation_loss: 0.6933 | validation_acc: 0.6875\n",
      "Epoch: 61 | train_loss: 0.5650 | train_acc: 0.7438 | validation_loss: 0.6794 | validation_acc: 0.6458\n",
      "Epoch: 62 | train_loss: 0.5466 | train_acc: 0.7719 | validation_loss: 0.5571 | validation_acc: 0.7500\n",
      "Epoch: 63 | train_loss: 0.5170 | train_acc: 0.7688 | validation_loss: 0.6288 | validation_acc: 0.7083\n",
      "Epoch: 64 | train_loss: 0.4997 | train_acc: 0.7719 | validation_loss: 0.5049 | validation_acc: 0.7500\n",
      "Epoch: 65 | train_loss: 0.4462 | train_acc: 0.8156 | validation_loss: 0.6545 | validation_acc: 0.7083\n",
      "Epoch: 66 | train_loss: 0.5041 | train_acc: 0.7781 | validation_loss: 0.9147 | validation_acc: 0.6250\n",
      "Epoch: 67 | train_loss: 0.5588 | train_acc: 0.7656 | validation_loss: 0.5138 | validation_acc: 0.7708\n",
      "Epoch: 68 | train_loss: 0.5097 | train_acc: 0.7875 | validation_loss: 0.7916 | validation_acc: 0.6458\n",
      "Epoch: 69 | train_loss: 0.4556 | train_acc: 0.7937 | validation_loss: 0.7133 | validation_acc: 0.7500\n",
      "Epoch: 70 | train_loss: 0.4337 | train_acc: 0.8344 | validation_loss: 0.7011 | validation_acc: 0.7083\n",
      "Epoch: 71 | train_loss: 0.4988 | train_acc: 0.7906 | validation_loss: 0.6520 | validation_acc: 0.6667\n",
      "Epoch: 72 | train_loss: 0.4655 | train_acc: 0.7937 | validation_loss: 0.4444 | validation_acc: 0.8333\n",
      "Epoch: 73 | train_loss: 0.4452 | train_acc: 0.8000 | validation_loss: 0.6055 | validation_acc: 0.7708\n",
      "Epoch: 74 | train_loss: 0.4843 | train_acc: 0.8031 | validation_loss: 0.7997 | validation_acc: 0.6250\n",
      "Epoch: 75 | train_loss: 0.4948 | train_acc: 0.7969 | validation_loss: 0.6999 | validation_acc: 0.7708\n",
      "Epoch: 76 | train_loss: 0.3597 | train_acc: 0.8562 | validation_loss: 0.6692 | validation_acc: 0.6875\n",
      "Epoch: 77 | train_loss: 0.4175 | train_acc: 0.8187 | validation_loss: 0.7867 | validation_acc: 0.6042\n",
      "Epoch: 78 | train_loss: 0.3844 | train_acc: 0.8438 | validation_loss: 0.5766 | validation_acc: 0.7708\n",
      "Epoch: 79 | train_loss: 0.3987 | train_acc: 0.8438 | validation_loss: 0.9547 | validation_acc: 0.5625\n",
      "Epoch: 80 | train_loss: 0.3664 | train_acc: 0.8344 | validation_loss: 0.5808 | validation_acc: 0.7500\n",
      "Epoch: 81 | train_loss: 0.4094 | train_acc: 0.8375 | validation_loss: 0.7410 | validation_acc: 0.6250\n",
      "Epoch: 82 | train_loss: 0.4024 | train_acc: 0.8250 | validation_loss: 0.6313 | validation_acc: 0.7708\n",
      "Epoch: 83 | train_loss: 0.3903 | train_acc: 0.8375 | validation_loss: 0.7434 | validation_acc: 0.6667\n",
      "Epoch: 84 | train_loss: 0.3711 | train_acc: 0.8531 | validation_loss: 0.5409 | validation_acc: 0.7917\n",
      "Epoch: 85 | train_loss: 0.3610 | train_acc: 0.8688 | validation_loss: 0.5221 | validation_acc: 0.7083\n",
      "Epoch: 86 | train_loss: 0.3326 | train_acc: 0.8438 | validation_loss: 0.7963 | validation_acc: 0.6458\n",
      "Epoch: 87 | train_loss: 0.2924 | train_acc: 0.8875 | validation_loss: 0.5169 | validation_acc: 0.7917\n",
      "Epoch: 88 | train_loss: 0.2921 | train_acc: 0.8875 | validation_loss: 0.6817 | validation_acc: 0.7708\n",
      "Epoch: 89 | train_loss: 0.3751 | train_acc: 0.8750 | validation_loss: 0.5232 | validation_acc: 0.7708\n",
      "Epoch: 90 | train_loss: 0.3461 | train_acc: 0.8531 | validation_loss: 0.4495 | validation_acc: 0.8125\n",
      "Epoch: 91 | train_loss: 0.3383 | train_acc: 0.8500 | validation_loss: 0.3525 | validation_acc: 0.8333\n",
      "Epoch: 92 | train_loss: 0.3165 | train_acc: 0.8562 | validation_loss: 0.4982 | validation_acc: 0.7917\n",
      "Epoch: 93 | train_loss: 0.2762 | train_acc: 0.8750 | validation_loss: 0.5557 | validation_acc: 0.7083\n",
      "Epoch: 94 | train_loss: 0.2676 | train_acc: 0.9000 | validation_loss: 0.6089 | validation_acc: 0.7917\n",
      "Epoch: 95 | train_loss: 0.2945 | train_acc: 0.8719 | validation_loss: 0.6589 | validation_acc: 0.7500\n",
      "Epoch: 96 | train_loss: 0.3482 | train_acc: 0.8656 | validation_loss: 0.6591 | validation_acc: 0.7917\n",
      "Epoch: 97 | train_loss: 0.3558 | train_acc: 0.8594 | validation_loss: 0.6154 | validation_acc: 0.8333\n",
      "Epoch: 98 | train_loss: 0.3817 | train_acc: 0.8344 | validation_loss: 0.6052 | validation_acc: 0.8333\n",
      "Epoch: 99 | train_loss: 0.2558 | train_acc: 0.8875 | validation_loss: 0.5669 | validation_acc: 0.7500\n",
      "Epoch: 100 | train_loss: 0.2924 | train_acc: 0.8906 | validation_loss: 0.6489 | validation_acc: 0.7292\n"
     ]
    }
   ],
   "source": [
    "model_name = \"EfficientNetB0\"\n",
    "model_folder_path = models_path / model_name\n",
    "check_dir(model_folder_path)\n",
    "model_name_folder_path = model_folder_path / model_name\n",
    "\n",
    "#Train EfficientNet B0\n",
    "effnetb0.to(device)\n",
    "nadam_optim = torch.optim.NAdam(params=effnetb0.parameters(), lr=lr)\n",
    "train_effnetb0_results, train_time_effnetb0 = train(effnetb0, train_dl, validation_dl, optimizer=nadam_optim, loss_fn=loss_fn, epochs=NUM_EPOCHS, name_save=model_name_folder_path, device=device)"
   ]
  },
  {
   "cell_type": "code",
   "execution_count": 5,
   "metadata": {},
   "outputs": [
    {
     "data": {
      "application/vnd.jupyter.widget-view+json": {
       "model_id": "a6cf320d57e04aa0996d323eb6082a8f",
       "version_major": 2,
       "version_minor": 0
      },
      "text/plain": [
       "  0%|          | 0/3 [00:02<?, ?it/s]"
      ]
     },
     "metadata": {},
     "output_type": "display_data"
    }
   ],
   "source": [
    "eval_effnetb0_results = eval_model(effnetb0, test_dl, loss_fn = loss_fn, accuracy_fn=accuracy_fn, device = device, dummy_input= torch.rand(32,3,224,224).to(device))\n",
    "effnetb0_results = [train_effnetb0_results, train_time_effnetb0, eval_effnetb0_results]\n",
    "final_save(model_folder_path, model_name, NUM_EPOCHS, effnetb0, effnetb0_results)"
   ]
  }
 ],
 "metadata": {
  "kernelspec": {
   "display_name": "base",
   "language": "python",
   "name": "python3"
  },
  "language_info": {
   "codemirror_mode": {
    "name": "ipython",
    "version": 3
   },
   "file_extension": ".py",
   "mimetype": "text/x-python",
   "name": "python",
   "nbconvert_exporter": "python",
   "pygments_lexer": "ipython3",
   "version": "3.9.13"
  },
  "orig_nbformat": 4
 },
 "nbformat": 4,
 "nbformat_minor": 2
}
