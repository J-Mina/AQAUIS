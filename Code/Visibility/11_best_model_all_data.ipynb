{
 "cells": [
  {
   "cell_type": "code",
   "execution_count": 1,
   "metadata": {},
   "outputs": [],
   "source": [
    "from pathlib import Path\n",
    "import pandas as pd\n",
    "\n",
    "from utils import *\n",
    "from dataloaders import *\n",
    "from data_preparation import *\n",
    "from allResNets import *\n",
    "from MobileNetV3 import *\n",
    "from engine import *\n",
    "from efficientNet import *\n",
    "from data_transforms import *\n",
    "\n",
    "change_to_disk()\n",
    "data_dir = Path(\"new_split_1k_all/\")\n",
    "models_path = Path('best_model_4/')\n",
    "check_dir(models_path)"
   ]
  },
  {
   "cell_type": "code",
   "execution_count": 2,
   "metadata": {},
   "outputs": [],
   "source": [
    "image_shape = (1080, 1920)\n",
    "resize_factor = 0.3\n",
    "resize = np.multiply(image_shape,resize_factor)\n",
    "resize = [int(resize[0]), int(resize[1])]\n",
    "\n",
    "data_transform = create_transform(resize=resize, rotate=10, flip_h = True, color_dev=True, transf_tensor=True, normalize=True, sp_noise=False, gauss_noise=False)\n",
    "\n",
    "BATCH_SIZE = 16\n",
    "train_dl, validation_dl, test_dl, train_data, validation_data, test_data, class_names = create_dataloaders(data_dir, data_transform, batch_size = BATCH_SIZE)"
   ]
  },
  {
   "cell_type": "code",
   "execution_count": 3,
   "metadata": {},
   "outputs": [],
   "source": [
    "NUM_EPOCHS = 100\n",
    "device = get_device()\n",
    "\n",
    "resnet18 = ResNet18()\n",
    "resnet50 = ResNet50()\n",
    "mobnet_sml = MobileNetSmall()\n",
    "mobnet_lrg = MobileNetLarge()\n",
    "effnetb0 = EfficientNetB0()\n",
    "loss_fn = nn.CrossEntropyLoss()"
   ]
  },
  {
   "cell_type": "code",
   "execution_count": 8,
   "metadata": {},
   "outputs": [
    {
     "name": "stdout",
     "output_type": "stream",
     "text": [
      "best_model_4\\ResNet18 does not exist, creating one...\n"
     ]
    },
    {
     "data": {
      "application/vnd.jupyter.widget-view+json": {
       "model_id": "0eca0268d1fd4d9eb672af42df854b98",
       "version_major": 2,
       "version_minor": 0
      },
      "text/plain": [
       "  0%|          | 0/100 [00:00<?, ?it/s]"
      ]
     },
     "metadata": {},
     "output_type": "display_data"
    },
    {
     "name": "stdout",
     "output_type": "stream",
     "text": [
      "Epoch: 1 | train_loss: 0.8140 | train_acc: 0.6616 | validation_loss: 1.0316 | validation_acc: 0.5875\n",
      "Epoch: 2 | train_loss: 0.4875 | train_acc: 0.8063 | validation_loss: 0.7042 | validation_acc: 0.7250\n",
      "Epoch: 3 | train_loss: 0.3799 | train_acc: 0.8506 | validation_loss: 0.5772 | validation_acc: 0.7975\n",
      "Epoch: 4 | train_loss: 0.3277 | train_acc: 0.8738 | validation_loss: 1.2322 | validation_acc: 0.6725\n",
      "Epoch: 5 | train_loss: 0.3102 | train_acc: 0.8744 | validation_loss: 1.0628 | validation_acc: 0.7150\n",
      "Epoch: 6 | train_loss: 0.2730 | train_acc: 0.8925 | validation_loss: 0.4519 | validation_acc: 0.8425\n",
      "Epoch: 7 | train_loss: 0.2415 | train_acc: 0.9094 | validation_loss: 0.8387 | validation_acc: 0.7300\n",
      "Epoch: 8 | train_loss: 0.2158 | train_acc: 0.9209 | validation_loss: 0.7313 | validation_acc: 0.7950\n",
      "Epoch: 9 | train_loss: 0.2056 | train_acc: 0.9228 | validation_loss: 0.3799 | validation_acc: 0.8850\n",
      "Epoch: 10 | train_loss: 0.1959 | train_acc: 0.9266 | validation_loss: 0.5690 | validation_acc: 0.8000\n",
      "Epoch: 11 | train_loss: 0.1918 | train_acc: 0.9253 | validation_loss: 0.4358 | validation_acc: 0.8775\n",
      "Epoch: 12 | train_loss: 0.1795 | train_acc: 0.9353 | validation_loss: 0.3939 | validation_acc: 0.8775\n",
      "Epoch: 13 | train_loss: 0.1589 | train_acc: 0.9406 | validation_loss: 0.6479 | validation_acc: 0.7825\n",
      "Epoch: 14 | train_loss: 0.1556 | train_acc: 0.9428 | validation_loss: 0.6653 | validation_acc: 0.8200\n",
      "Epoch: 15 | train_loss: 0.1646 | train_acc: 0.9400 | validation_loss: 0.5686 | validation_acc: 0.7950\n",
      "Epoch: 16 | train_loss: 0.1694 | train_acc: 0.9409 | validation_loss: 0.5035 | validation_acc: 0.8075\n",
      "Epoch: 17 | train_loss: 0.1285 | train_acc: 0.9547 | validation_loss: 0.5575 | validation_acc: 0.8600\n",
      "Epoch: 18 | train_loss: 0.1559 | train_acc: 0.9456 | validation_loss: 0.6530 | validation_acc: 0.7850\n",
      "Epoch: 19 | train_loss: 0.1353 | train_acc: 0.9563 | validation_loss: 0.4742 | validation_acc: 0.8150\n",
      "Epoch: 20 | train_loss: 0.1191 | train_acc: 0.9578 | validation_loss: 0.5291 | validation_acc: 0.8675\n",
      "Epoch: 21 | train_loss: 0.1234 | train_acc: 0.9578 | validation_loss: 0.2908 | validation_acc: 0.9125\n",
      "Epoch: 22 | train_loss: 0.1248 | train_acc: 0.9575 | validation_loss: 0.4710 | validation_acc: 0.8575\n",
      "Epoch: 23 | train_loss: 0.1177 | train_acc: 0.9597 | validation_loss: 0.4636 | validation_acc: 0.8600\n",
      "Epoch: 24 | train_loss: 0.1024 | train_acc: 0.9634 | validation_loss: 0.5101 | validation_acc: 0.8425\n",
      "Epoch: 25 | train_loss: 0.0922 | train_acc: 0.9672 | validation_loss: 0.5377 | validation_acc: 0.8825\n",
      "Epoch: 26 | train_loss: 0.1206 | train_acc: 0.9584 | validation_loss: 0.4042 | validation_acc: 0.8725\n",
      "Epoch: 27 | train_loss: 0.0971 | train_acc: 0.9666 | validation_loss: 0.5999 | validation_acc: 0.8250\n",
      "Epoch: 28 | train_loss: 0.1143 | train_acc: 0.9597 | validation_loss: 0.3265 | validation_acc: 0.8850\n",
      "Epoch: 29 | train_loss: 0.1063 | train_acc: 0.9656 | validation_loss: 0.6618 | validation_acc: 0.8525\n",
      "Epoch: 30 | train_loss: 0.0911 | train_acc: 0.9675 | validation_loss: 0.6369 | validation_acc: 0.8425\n",
      "Epoch: 31 | train_loss: 0.0955 | train_acc: 0.9706 | validation_loss: 0.4241 | validation_acc: 0.8925\n",
      "Epoch: 32 | train_loss: 0.0877 | train_acc: 0.9637 | validation_loss: 0.3582 | validation_acc: 0.8975\n",
      "Epoch: 33 | train_loss: 0.0878 | train_acc: 0.9653 | validation_loss: 0.3035 | validation_acc: 0.9175\n",
      "Epoch: 34 | train_loss: 0.0967 | train_acc: 0.9659 | validation_loss: 0.4655 | validation_acc: 0.8550\n",
      "Epoch: 35 | train_loss: 0.1052 | train_acc: 0.9625 | validation_loss: 0.3214 | validation_acc: 0.9200\n",
      "Epoch: 36 | train_loss: 0.0937 | train_acc: 0.9719 | validation_loss: 0.4666 | validation_acc: 0.8850\n",
      "Epoch: 37 | train_loss: 0.0894 | train_acc: 0.9656 | validation_loss: 0.5858 | validation_acc: 0.8625\n",
      "Epoch: 38 | train_loss: 0.0748 | train_acc: 0.9741 | validation_loss: 0.4582 | validation_acc: 0.8775\n",
      "Epoch: 39 | train_loss: 0.0778 | train_acc: 0.9734 | validation_loss: 0.3409 | validation_acc: 0.8875\n",
      "Epoch: 40 | train_loss: 0.0802 | train_acc: 0.9719 | validation_loss: 0.5703 | validation_acc: 0.8625\n",
      "Epoch: 41 | train_loss: 0.0741 | train_acc: 0.9750 | validation_loss: 0.4548 | validation_acc: 0.8900\n",
      "Epoch: 42 | train_loss: 0.0745 | train_acc: 0.9741 | validation_loss: 0.3420 | validation_acc: 0.9075\n",
      "Epoch: 43 | train_loss: 0.0620 | train_acc: 0.9778 | validation_loss: 0.5704 | validation_acc: 0.8750\n",
      "Epoch: 44 | train_loss: 0.0861 | train_acc: 0.9703 | validation_loss: 0.5763 | validation_acc: 0.8525\n",
      "Epoch: 45 | train_loss: 0.0862 | train_acc: 0.9719 | validation_loss: 1.1183 | validation_acc: 0.7925\n",
      "Epoch: 46 | train_loss: 0.0727 | train_acc: 0.9775 | validation_loss: 0.4194 | validation_acc: 0.8725\n",
      "Epoch: 47 | train_loss: 0.0780 | train_acc: 0.9731 | validation_loss: 0.3993 | validation_acc: 0.9025\n",
      "Epoch: 48 | train_loss: 0.0686 | train_acc: 0.9775 | validation_loss: 0.3843 | validation_acc: 0.8800\n",
      "Epoch: 49 | train_loss: 0.0722 | train_acc: 0.9803 | validation_loss: 0.4289 | validation_acc: 0.8800\n",
      "Epoch: 50 | train_loss: 0.0598 | train_acc: 0.9803 | validation_loss: 0.4958 | validation_acc: 0.8725\n",
      "Epoch: 51 | train_loss: 0.0650 | train_acc: 0.9778 | validation_loss: 0.2161 | validation_acc: 0.9175\n",
      "Epoch: 52 | train_loss: 0.0553 | train_acc: 0.9838 | validation_loss: 0.4063 | validation_acc: 0.9050\n",
      "Epoch: 53 | train_loss: 0.0668 | train_acc: 0.9762 | validation_loss: 0.7507 | validation_acc: 0.8375\n",
      "Epoch: 54 | train_loss: 0.0722 | train_acc: 0.9722 | validation_loss: 0.3965 | validation_acc: 0.8900\n",
      "Epoch: 55 | train_loss: 0.0630 | train_acc: 0.9794 | validation_loss: 0.5468 | validation_acc: 0.8600\n",
      "Epoch: 56 | train_loss: 0.0700 | train_acc: 0.9753 | validation_loss: 0.4429 | validation_acc: 0.8925\n",
      "Epoch: 57 | train_loss: 0.0543 | train_acc: 0.9822 | validation_loss: 0.6717 | validation_acc: 0.8375\n",
      "Epoch: 58 | train_loss: 0.0618 | train_acc: 0.9794 | validation_loss: 0.2933 | validation_acc: 0.9300\n",
      "Epoch: 59 | train_loss: 0.0666 | train_acc: 0.9756 | validation_loss: 0.2827 | validation_acc: 0.9175\n",
      "Epoch: 60 | train_loss: 0.0585 | train_acc: 0.9812 | validation_loss: 0.3506 | validation_acc: 0.9200\n",
      "Epoch: 61 | train_loss: 0.0555 | train_acc: 0.9825 | validation_loss: 0.3312 | validation_acc: 0.8975\n",
      "Epoch: 62 | train_loss: 0.0695 | train_acc: 0.9766 | validation_loss: 0.8057 | validation_acc: 0.8600\n",
      "Epoch: 63 | train_loss: 0.0540 | train_acc: 0.9816 | validation_loss: 0.9239 | validation_acc: 0.8375\n",
      "Epoch: 64 | train_loss: 0.0452 | train_acc: 0.9844 | validation_loss: 0.3327 | validation_acc: 0.9200\n",
      "Epoch: 65 | train_loss: 0.0445 | train_acc: 0.9841 | validation_loss: 0.3589 | validation_acc: 0.8975\n",
      "Epoch: 66 | train_loss: 0.0607 | train_acc: 0.9816 | validation_loss: 0.5222 | validation_acc: 0.8875\n",
      "Epoch: 67 | train_loss: 0.0496 | train_acc: 0.9825 | validation_loss: 0.6059 | validation_acc: 0.9150\n",
      "Epoch: 68 | train_loss: 0.0502 | train_acc: 0.9831 | validation_loss: 0.8151 | validation_acc: 0.8125\n",
      "Epoch: 69 | train_loss: 0.0396 | train_acc: 0.9859 | validation_loss: 0.6288 | validation_acc: 0.8625\n",
      "Epoch: 70 | train_loss: 0.0678 | train_acc: 0.9775 | validation_loss: 0.2945 | validation_acc: 0.9325\n",
      "Epoch: 71 | train_loss: 0.0525 | train_acc: 0.9816 | validation_loss: 0.5988 | validation_acc: 0.8600\n",
      "Epoch: 72 | train_loss: 0.0445 | train_acc: 0.9872 | validation_loss: 0.5077 | validation_acc: 0.8650\n",
      "Epoch: 73 | train_loss: 0.0591 | train_acc: 0.9750 | validation_loss: 0.6259 | validation_acc: 0.8775\n",
      "Epoch: 74 | train_loss: 0.0460 | train_acc: 0.9844 | validation_loss: 0.6746 | validation_acc: 0.8900\n",
      "Epoch: 75 | train_loss: 0.0523 | train_acc: 0.9834 | validation_loss: 0.5100 | validation_acc: 0.9250\n",
      "Epoch: 76 | train_loss: 0.0318 | train_acc: 0.9888 | validation_loss: 0.4914 | validation_acc: 0.9200\n",
      "Epoch: 77 | train_loss: 0.0413 | train_acc: 0.9838 | validation_loss: 0.3095 | validation_acc: 0.9425\n",
      "Epoch: 78 | train_loss: 0.0396 | train_acc: 0.9866 | validation_loss: 0.6623 | validation_acc: 0.8700\n",
      "Epoch: 79 | train_loss: 0.0434 | train_acc: 0.9847 | validation_loss: 0.3520 | validation_acc: 0.9275\n",
      "Epoch: 80 | train_loss: 0.0462 | train_acc: 0.9866 | validation_loss: 0.5055 | validation_acc: 0.9100\n",
      "Epoch: 81 | train_loss: 0.0448 | train_acc: 0.9844 | validation_loss: 1.8417 | validation_acc: 0.7650\n",
      "Epoch: 82 | train_loss: 0.0442 | train_acc: 0.9853 | validation_loss: 0.4390 | validation_acc: 0.9025\n",
      "Epoch: 83 | train_loss: 0.0512 | train_acc: 0.9812 | validation_loss: 0.4300 | validation_acc: 0.9025\n",
      "Epoch: 84 | train_loss: 0.0307 | train_acc: 0.9884 | validation_loss: 0.4236 | validation_acc: 0.9425\n",
      "Epoch: 85 | train_loss: 0.0329 | train_acc: 0.9884 | validation_loss: 0.2825 | validation_acc: 0.9300\n",
      "Epoch: 86 | train_loss: 0.0399 | train_acc: 0.9850 | validation_loss: 0.3472 | validation_acc: 0.9425\n",
      "Epoch: 87 | train_loss: 0.0343 | train_acc: 0.9897 | validation_loss: 0.5427 | validation_acc: 0.8975\n",
      "Epoch: 88 | train_loss: 0.0369 | train_acc: 0.9878 | validation_loss: 0.3400 | validation_acc: 0.9250\n",
      "Epoch: 89 | train_loss: 0.0424 | train_acc: 0.9869 | validation_loss: 0.2017 | validation_acc: 0.9550\n",
      "Epoch: 90 | train_loss: 0.0474 | train_acc: 0.9812 | validation_loss: 0.8686 | validation_acc: 0.8150\n",
      "Epoch: 91 | train_loss: 0.0403 | train_acc: 0.9866 | validation_loss: 0.5387 | validation_acc: 0.8875\n",
      "Epoch: 92 | train_loss: 0.0379 | train_acc: 0.9878 | validation_loss: 0.2758 | validation_acc: 0.9075\n",
      "Epoch: 93 | train_loss: 0.0304 | train_acc: 0.9897 | validation_loss: 0.2907 | validation_acc: 0.9300\n",
      "Epoch: 94 | train_loss: 0.0557 | train_acc: 0.9806 | validation_loss: 0.2344 | validation_acc: 0.9250\n",
      "Epoch: 95 | train_loss: 0.0363 | train_acc: 0.9881 | validation_loss: 0.3625 | validation_acc: 0.9025\n",
      "Epoch: 96 | train_loss: 0.0312 | train_acc: 0.9897 | validation_loss: 0.4679 | validation_acc: 0.9075\n",
      "Epoch: 97 | train_loss: 0.0322 | train_acc: 0.9891 | validation_loss: 0.5097 | validation_acc: 0.8900\n",
      "Epoch: 98 | train_loss: 0.0431 | train_acc: 0.9850 | validation_loss: 0.3106 | validation_acc: 0.9350\n",
      "Epoch: 99 | train_loss: 0.0340 | train_acc: 0.9869 | validation_loss: 0.6863 | validation_acc: 0.8800\n",
      "Epoch: 100 | train_loss: 0.0340 | train_acc: 0.9884 | validation_loss: 0.3349 | validation_acc: 0.9225\n"
     ]
    }
   ],
   "source": [
    "model_name = \"ResNet18\"\n",
    "model_folder_path = models_path / model_name\n",
    "check_dir(model_folder_path)\n",
    "model_name_folder_path = model_folder_path / model_name\n",
    "\n",
    "#Train ResNet18\n",
    "resnet18.to(device)\n",
    "nadam_optim = torch.optim.NAdam(params=resnet18.parameters())\n",
    "train_resnet18_results, train_time_resnet18 = train(resnet18, train_dl, validation_dl, optimizer=nadam_optim, loss_fn=loss_fn, epochs=NUM_EPOCHS, name_save=model_name_folder_path, device=device)"
   ]
  },
  {
   "cell_type": "code",
   "execution_count": 9,
   "metadata": {},
   "outputs": [
    {
     "data": {
      "application/vnd.jupyter.widget-view+json": {
       "model_id": "5b133616171f4e0fb797f6e711a7b2f8",
       "version_major": 2,
       "version_minor": 0
      },
      "text/plain": [
       "  0%|          | 0/25 [00:02<?, ?it/s]"
      ]
     },
     "metadata": {},
     "output_type": "display_data"
    }
   ],
   "source": [
    "eval_resnet18_results = eval_model(resnet18, test_dl, loss_fn = loss_fn, accuracy_fn=accuracy_fn, device = device, dummy_input= torch.rand(32,3,224,224).to(device))\n",
    "resnet18_results = [train_resnet18_results, train_time_resnet18, eval_resnet18_results]\n",
    "final_save(model_folder_path,model_name, NUM_EPOCHS, resnet18, resnet18_results)"
   ]
  },
  {
   "cell_type": "code",
   "execution_count": 4,
   "metadata": {},
   "outputs": [
    {
     "name": "stdout",
     "output_type": "stream",
     "text": [
      "best_model_4\\ResNet50 does not exist, creating one...\n"
     ]
    },
    {
     "data": {
      "application/vnd.jupyter.widget-view+json": {
       "model_id": "4444a062dfa3413a8a964d9497a9ccf4",
       "version_major": 2,
       "version_minor": 0
      },
      "text/plain": [
       "  0%|          | 0/100 [00:00<?, ?it/s]"
      ]
     },
     "metadata": {},
     "output_type": "display_data"
    },
    {
     "name": "stdout",
     "output_type": "stream",
     "text": [
      "Epoch: 1 | train_loss: 1.1111 | train_acc: 0.5350 | validation_loss: 1.6358 | validation_acc: 0.4900\n",
      "Epoch: 2 | train_loss: 0.6572 | train_acc: 0.7262 | validation_loss: 1.8097 | validation_acc: 0.5625\n",
      "Epoch: 3 | train_loss: 0.5022 | train_acc: 0.7956 | validation_loss: 0.8469 | validation_acc: 0.7000\n",
      "Epoch: 4 | train_loss: 0.4317 | train_acc: 0.8200 | validation_loss: 1.7211 | validation_acc: 0.5075\n",
      "Epoch: 5 | train_loss: 0.4041 | train_acc: 0.8394 | validation_loss: 3.6861 | validation_acc: 0.5350\n",
      "Epoch: 6 | train_loss: 0.3477 | train_acc: 0.8600 | validation_loss: 1.2457 | validation_acc: 0.6450\n",
      "Epoch: 7 | train_loss: 0.3420 | train_acc: 0.8675 | validation_loss: 0.6311 | validation_acc: 0.7450\n",
      "Epoch: 8 | train_loss: 0.3210 | train_acc: 0.8725 | validation_loss: 0.8132 | validation_acc: 0.6900\n",
      "Epoch: 9 | train_loss: 0.2928 | train_acc: 0.8834 | validation_loss: 1.9321 | validation_acc: 0.5500\n",
      "Epoch: 10 | train_loss: 0.2712 | train_acc: 0.8962 | validation_loss: 0.4414 | validation_acc: 0.8225\n",
      "Epoch: 11 | train_loss: 0.2445 | train_acc: 0.9066 | validation_loss: 0.7762 | validation_acc: 0.6875\n",
      "Epoch: 12 | train_loss: 0.2339 | train_acc: 0.9087 | validation_loss: 0.6319 | validation_acc: 0.7550\n",
      "Epoch: 13 | train_loss: 0.2347 | train_acc: 0.9119 | validation_loss: 0.6654 | validation_acc: 0.7300\n",
      "Epoch: 14 | train_loss: 0.2110 | train_acc: 0.9219 | validation_loss: 1.1610 | validation_acc: 0.7550\n",
      "Epoch: 15 | train_loss: 0.1957 | train_acc: 0.9250 | validation_loss: 0.7296 | validation_acc: 0.7475\n",
      "Epoch: 16 | train_loss: 0.2015 | train_acc: 0.9225 | validation_loss: 0.6173 | validation_acc: 0.8300\n",
      "Epoch: 17 | train_loss: 0.1722 | train_acc: 0.9372 | validation_loss: 0.6053 | validation_acc: 0.7750\n",
      "Epoch: 18 | train_loss: 0.1843 | train_acc: 0.9325 | validation_loss: 0.8564 | validation_acc: 0.7575\n",
      "Epoch: 19 | train_loss: 0.1721 | train_acc: 0.9381 | validation_loss: 0.3754 | validation_acc: 0.8900\n",
      "Epoch: 20 | train_loss: 0.1671 | train_acc: 0.9381 | validation_loss: 0.7908 | validation_acc: 0.8100\n",
      "Epoch: 21 | train_loss: 0.1425 | train_acc: 0.9403 | validation_loss: 1.2023 | validation_acc: 0.7300\n",
      "Epoch: 22 | train_loss: 0.1762 | train_acc: 0.9381 | validation_loss: 0.4292 | validation_acc: 0.9050\n",
      "Epoch: 23 | train_loss: 0.1634 | train_acc: 0.9409 | validation_loss: 0.3392 | validation_acc: 0.9125\n",
      "Epoch: 24 | train_loss: 0.1446 | train_acc: 0.9475 | validation_loss: 0.2409 | validation_acc: 0.9250\n",
      "Epoch: 25 | train_loss: 0.1406 | train_acc: 0.9494 | validation_loss: 0.3318 | validation_acc: 0.9000\n",
      "Epoch: 26 | train_loss: 0.1275 | train_acc: 0.9594 | validation_loss: 0.6124 | validation_acc: 0.7950\n",
      "Epoch: 27 | train_loss: 0.1445 | train_acc: 0.9497 | validation_loss: 0.3031 | validation_acc: 0.9225\n",
      "Epoch: 28 | train_loss: 0.1161 | train_acc: 0.9634 | validation_loss: 0.5099 | validation_acc: 0.8350\n",
      "Epoch: 29 | train_loss: 0.1169 | train_acc: 0.9597 | validation_loss: 0.6287 | validation_acc: 0.8325\n",
      "Epoch: 30 | train_loss: 0.1416 | train_acc: 0.9506 | validation_loss: 1.6945 | validation_acc: 0.6675\n",
      "Epoch: 31 | train_loss: 0.1158 | train_acc: 0.9594 | validation_loss: 0.5172 | validation_acc: 0.8400\n",
      "Epoch: 32 | train_loss: 0.1123 | train_acc: 0.9653 | validation_loss: 1.2866 | validation_acc: 0.6925\n",
      "Epoch: 33 | train_loss: 0.1305 | train_acc: 0.9537 | validation_loss: 0.4592 | validation_acc: 0.8900\n",
      "Epoch: 34 | train_loss: 0.1302 | train_acc: 0.9553 | validation_loss: 0.3815 | validation_acc: 0.9000\n",
      "Epoch: 35 | train_loss: 0.0896 | train_acc: 0.9684 | validation_loss: 0.3731 | validation_acc: 0.9050\n",
      "Epoch: 36 | train_loss: 0.0993 | train_acc: 0.9622 | validation_loss: 0.5138 | validation_acc: 0.8650\n",
      "Epoch: 37 | train_loss: 0.1179 | train_acc: 0.9587 | validation_loss: 0.5352 | validation_acc: 0.8525\n",
      "Epoch: 38 | train_loss: 0.1030 | train_acc: 0.9625 | validation_loss: 0.3513 | validation_acc: 0.8975\n",
      "Epoch: 39 | train_loss: 0.1193 | train_acc: 0.9609 | validation_loss: 0.6625 | validation_acc: 0.8225\n",
      "Epoch: 40 | train_loss: 0.1236 | train_acc: 0.9553 | validation_loss: 0.4711 | validation_acc: 0.8525\n",
      "Epoch: 41 | train_loss: 0.1038 | train_acc: 0.9659 | validation_loss: 0.4665 | validation_acc: 0.8500\n",
      "Epoch: 42 | train_loss: 0.1122 | train_acc: 0.9672 | validation_loss: 0.2440 | validation_acc: 0.9450\n",
      "Epoch: 43 | train_loss: 0.0966 | train_acc: 0.9688 | validation_loss: 0.3878 | validation_acc: 0.9050\n",
      "Epoch: 44 | train_loss: 0.0884 | train_acc: 0.9684 | validation_loss: 0.3009 | validation_acc: 0.9175\n",
      "Epoch: 45 | train_loss: 0.0828 | train_acc: 0.9688 | validation_loss: 0.3790 | validation_acc: 0.9075\n",
      "Epoch: 46 | train_loss: 0.0937 | train_acc: 0.9653 | validation_loss: 0.3172 | validation_acc: 0.9000\n",
      "Epoch: 47 | train_loss: 0.0820 | train_acc: 0.9709 | validation_loss: 0.5560 | validation_acc: 0.8700\n",
      "Epoch: 48 | train_loss: 0.0783 | train_acc: 0.9716 | validation_loss: 1.0372 | validation_acc: 0.7700\n",
      "Epoch: 49 | train_loss: 0.1036 | train_acc: 0.9647 | validation_loss: 0.4855 | validation_acc: 0.8775\n",
      "Epoch: 50 | train_loss: 0.0855 | train_acc: 0.9719 | validation_loss: 0.5221 | validation_acc: 0.8475\n",
      "Epoch: 51 | train_loss: 0.0929 | train_acc: 0.9684 | validation_loss: 0.3388 | validation_acc: 0.9125\n",
      "Epoch: 52 | train_loss: 0.0798 | train_acc: 0.9719 | validation_loss: 0.5094 | validation_acc: 0.8950\n",
      "Epoch: 53 | train_loss: 0.1126 | train_acc: 0.9616 | validation_loss: 0.6596 | validation_acc: 0.8400\n",
      "Epoch: 54 | train_loss: 0.0803 | train_acc: 0.9716 | validation_loss: 0.4464 | validation_acc: 0.8875\n",
      "Epoch: 55 | train_loss: 0.0764 | train_acc: 0.9750 | validation_loss: 1.2711 | validation_acc: 0.7675\n",
      "Epoch: 56 | train_loss: 0.0749 | train_acc: 0.9750 | validation_loss: 0.3553 | validation_acc: 0.9050\n",
      "Epoch: 57 | train_loss: 0.0632 | train_acc: 0.9788 | validation_loss: 0.7402 | validation_acc: 0.8200\n",
      "Epoch: 58 | train_loss: 0.1107 | train_acc: 0.9631 | validation_loss: 0.4085 | validation_acc: 0.8825\n",
      "Epoch: 59 | train_loss: 0.0776 | train_acc: 0.9738 | validation_loss: 0.3108 | validation_acc: 0.9075\n",
      "Epoch: 60 | train_loss: 0.0661 | train_acc: 0.9766 | validation_loss: 0.2913 | validation_acc: 0.9200\n",
      "Epoch: 61 | train_loss: 0.0773 | train_acc: 0.9741 | validation_loss: 0.3619 | validation_acc: 0.9125\n",
      "Epoch: 62 | train_loss: 0.0683 | train_acc: 0.9772 | validation_loss: 0.5840 | validation_acc: 0.8850\n",
      "Epoch: 63 | train_loss: 0.0679 | train_acc: 0.9750 | validation_loss: 0.8356 | validation_acc: 0.8550\n",
      "Epoch: 64 | train_loss: 0.0793 | train_acc: 0.9712 | validation_loss: 0.5106 | validation_acc: 0.8850\n",
      "Epoch: 65 | train_loss: 0.0654 | train_acc: 0.9744 | validation_loss: 0.3569 | validation_acc: 0.9200\n"
     ]
    },
    {
     "ename": "RuntimeError",
     "evalue": "Caught RuntimeError in DataLoader worker process 7.\nOriginal Traceback (most recent call last):\n  File \"c:\\Users\\joaor\\anaconda3\\lib\\site-packages\\torch\\utils\\data\\_utils\\worker.py\", line 302, in _worker_loop\n    data = fetcher.fetch(index)\n  File \"c:\\Users\\joaor\\anaconda3\\lib\\site-packages\\torch\\utils\\data\\_utils\\fetch.py\", line 58, in fetch\n    data = [self.dataset[idx] for idx in possibly_batched_index]\n  File \"c:\\Users\\joaor\\anaconda3\\lib\\site-packages\\torch\\utils\\data\\_utils\\fetch.py\", line 58, in <listcomp>\n    data = [self.dataset[idx] for idx in possibly_batched_index]\n  File \"c:\\Users\\joaor\\anaconda3\\lib\\site-packages\\torchvision\\datasets\\folder.py\", line 231, in __getitem__\n    sample = self.transform(sample)\n  File \"c:\\Users\\joaor\\anaconda3\\lib\\site-packages\\torchvision\\transforms\\transforms.py\", line 95, in __call__\n    img = t(img)\n  File \"c:\\Users\\joaor\\anaconda3\\lib\\site-packages\\torchvision\\transforms\\transforms.py\", line 135, in __call__\n    return F.to_tensor(pic)\n  File \"c:\\Users\\joaor\\anaconda3\\lib\\site-packages\\torchvision\\transforms\\functional.py\", line 171, in to_tensor\n    return img.to(dtype=default_float_dtype).div(255)\nRuntimeError: [enforce fail at C:\\cb\\pytorch_1000000000000\\work\\c10\\core\\impl\\alloc_cpu.cpp:72] data. DefaultCPUAllocator: not enough memory: you tried to allocate 2239488 bytes.\n",
     "output_type": "error",
     "traceback": [
      "\u001b[1;31m---------------------------------------------------------------------------\u001b[0m",
      "\u001b[1;31mRuntimeError\u001b[0m                              Traceback (most recent call last)",
      "\u001b[1;32m~\\AppData\\Local\\Temp\\ipykernel_17508\\867381986.py\u001b[0m in \u001b[0;36m<module>\u001b[1;34m\u001b[0m\n\u001b[0;32m      7\u001b[0m \u001b[0mresnet50\u001b[0m\u001b[1;33m.\u001b[0m\u001b[0mto\u001b[0m\u001b[1;33m(\u001b[0m\u001b[0mdevice\u001b[0m\u001b[1;33m)\u001b[0m\u001b[1;33m\u001b[0m\u001b[1;33m\u001b[0m\u001b[0m\n\u001b[0;32m      8\u001b[0m \u001b[0mnadam_optim\u001b[0m \u001b[1;33m=\u001b[0m \u001b[0mtorch\u001b[0m\u001b[1;33m.\u001b[0m\u001b[0moptim\u001b[0m\u001b[1;33m.\u001b[0m\u001b[0mNAdam\u001b[0m\u001b[1;33m(\u001b[0m\u001b[0mparams\u001b[0m\u001b[1;33m=\u001b[0m\u001b[0mresnet50\u001b[0m\u001b[1;33m.\u001b[0m\u001b[0mparameters\u001b[0m\u001b[1;33m(\u001b[0m\u001b[1;33m)\u001b[0m\u001b[1;33m)\u001b[0m\u001b[1;33m\u001b[0m\u001b[1;33m\u001b[0m\u001b[0m\n\u001b[1;32m----> 9\u001b[1;33m \u001b[0mtrain_resnet50_results\u001b[0m\u001b[1;33m,\u001b[0m \u001b[0mtrain_time_resnet50\u001b[0m \u001b[1;33m=\u001b[0m \u001b[0mtrain\u001b[0m\u001b[1;33m(\u001b[0m\u001b[0mresnet50\u001b[0m\u001b[1;33m,\u001b[0m \u001b[0mtrain_dl\u001b[0m\u001b[1;33m,\u001b[0m \u001b[0mvalidation_dl\u001b[0m\u001b[1;33m,\u001b[0m \u001b[0moptimizer\u001b[0m\u001b[1;33m=\u001b[0m\u001b[0mnadam_optim\u001b[0m\u001b[1;33m,\u001b[0m \u001b[0mloss_fn\u001b[0m\u001b[1;33m=\u001b[0m\u001b[0mloss_fn\u001b[0m\u001b[1;33m,\u001b[0m \u001b[0mepochs\u001b[0m\u001b[1;33m=\u001b[0m\u001b[0mNUM_EPOCHS\u001b[0m\u001b[1;33m,\u001b[0m \u001b[0mname_save\u001b[0m\u001b[1;33m=\u001b[0m\u001b[0mmodel_name_folder_path\u001b[0m\u001b[1;33m,\u001b[0m \u001b[0mdevice\u001b[0m\u001b[1;33m=\u001b[0m\u001b[0mdevice\u001b[0m\u001b[1;33m)\u001b[0m\u001b[1;33m\u001b[0m\u001b[1;33m\u001b[0m\u001b[0m\n\u001b[0m",
      "\u001b[1;32mc:\\Users\\joaor\\Desktop\\AQAUIS\\AQAUIS\\Code\\Visibility\\engine.py\u001b[0m in \u001b[0;36mtrain\u001b[1;34m(model, train_dataloader, validation_dataloader, optimizer, loss_fn, epochs, name_save, device)\u001b[0m\n\u001b[0;32m    128\u001b[0m \u001b[1;33m\u001b[0m\u001b[0m\n\u001b[0;32m    129\u001b[0m   \u001b[1;32mfor\u001b[0m \u001b[0mepoch\u001b[0m \u001b[1;32min\u001b[0m \u001b[0mtqdm\u001b[0m\u001b[1;33m(\u001b[0m\u001b[0mrange\u001b[0m\u001b[1;33m(\u001b[0m\u001b[0mepochs\u001b[0m\u001b[1;33m)\u001b[0m\u001b[1;33m)\u001b[0m\u001b[1;33m:\u001b[0m\u001b[1;33m\u001b[0m\u001b[1;33m\u001b[0m\u001b[0m\n\u001b[1;32m--> 130\u001b[1;33m     train_loss, train_acc = train_step(model=model,\n\u001b[0m\u001b[0;32m    131\u001b[0m                                        \u001b[0mdataloader\u001b[0m\u001b[1;33m=\u001b[0m\u001b[0mtrain_dataloader\u001b[0m\u001b[1;33m,\u001b[0m\u001b[1;33m\u001b[0m\u001b[1;33m\u001b[0m\u001b[0m\n\u001b[0;32m    132\u001b[0m                                        \u001b[0mloss_fn\u001b[0m\u001b[1;33m=\u001b[0m\u001b[0mloss_fn\u001b[0m\u001b[1;33m,\u001b[0m\u001b[1;33m\u001b[0m\u001b[1;33m\u001b[0m\u001b[0m\n",
      "\u001b[1;32mc:\\Users\\joaor\\Desktop\\AQAUIS\\AQAUIS\\Code\\Visibility\\engine.py\u001b[0m in \u001b[0;36mtrain_step\u001b[1;34m(model, dataloader, loss_fn, optimizer, device)\u001b[0m\n\u001b[0;32m     36\u001b[0m     \u001b[0mtrain_loss\u001b[0m\u001b[1;33m,\u001b[0m \u001b[0mtrain_acc\u001b[0m \u001b[1;33m=\u001b[0m \u001b[1;36m0\u001b[0m\u001b[1;33m,\u001b[0m\u001b[1;36m0\u001b[0m\u001b[1;33m\u001b[0m\u001b[1;33m\u001b[0m\u001b[0m\n\u001b[0;32m     37\u001b[0m \u001b[1;33m\u001b[0m\u001b[0m\n\u001b[1;32m---> 38\u001b[1;33m     \u001b[1;32mfor\u001b[0m \u001b[0mbatch\u001b[0m\u001b[1;33m,\u001b[0m \u001b[1;33m(\u001b[0m\u001b[0mX\u001b[0m\u001b[1;33m,\u001b[0m \u001b[0my\u001b[0m\u001b[1;33m)\u001b[0m \u001b[1;32min\u001b[0m \u001b[0menumerate\u001b[0m\u001b[1;33m(\u001b[0m\u001b[0mdataloader\u001b[0m\u001b[1;33m)\u001b[0m\u001b[1;33m:\u001b[0m\u001b[1;33m\u001b[0m\u001b[1;33m\u001b[0m\u001b[0m\n\u001b[0m\u001b[0;32m     39\u001b[0m         \u001b[0mX\u001b[0m\u001b[1;33m,\u001b[0m \u001b[0my\u001b[0m \u001b[1;33m=\u001b[0m \u001b[0mX\u001b[0m\u001b[1;33m.\u001b[0m\u001b[0mto\u001b[0m\u001b[1;33m(\u001b[0m\u001b[0mdevice\u001b[0m\u001b[1;33m)\u001b[0m\u001b[1;33m,\u001b[0m \u001b[0my\u001b[0m\u001b[1;33m.\u001b[0m\u001b[0mto\u001b[0m\u001b[1;33m(\u001b[0m\u001b[0mdevice\u001b[0m\u001b[1;33m)\u001b[0m\u001b[1;33m\u001b[0m\u001b[1;33m\u001b[0m\u001b[0m\n\u001b[0;32m     40\u001b[0m \u001b[1;33m\u001b[0m\u001b[0m\n",
      "\u001b[1;32mc:\\Users\\joaor\\anaconda3\\lib\\site-packages\\torch\\utils\\data\\dataloader.py\u001b[0m in \u001b[0;36m__next__\u001b[1;34m(self)\u001b[0m\n\u001b[0;32m    626\u001b[0m                 \u001b[1;31m# TODO(https://github.com/pytorch/pytorch/issues/76750)\u001b[0m\u001b[1;33m\u001b[0m\u001b[1;33m\u001b[0m\u001b[0m\n\u001b[0;32m    627\u001b[0m                 \u001b[0mself\u001b[0m\u001b[1;33m.\u001b[0m\u001b[0m_reset\u001b[0m\u001b[1;33m(\u001b[0m\u001b[1;33m)\u001b[0m  \u001b[1;31m# type: ignore[call-arg]\u001b[0m\u001b[1;33m\u001b[0m\u001b[1;33m\u001b[0m\u001b[0m\n\u001b[1;32m--> 628\u001b[1;33m             \u001b[0mdata\u001b[0m \u001b[1;33m=\u001b[0m \u001b[0mself\u001b[0m\u001b[1;33m.\u001b[0m\u001b[0m_next_data\u001b[0m\u001b[1;33m(\u001b[0m\u001b[1;33m)\u001b[0m\u001b[1;33m\u001b[0m\u001b[1;33m\u001b[0m\u001b[0m\n\u001b[0m\u001b[0;32m    629\u001b[0m             \u001b[0mself\u001b[0m\u001b[1;33m.\u001b[0m\u001b[0m_num_yielded\u001b[0m \u001b[1;33m+=\u001b[0m \u001b[1;36m1\u001b[0m\u001b[1;33m\u001b[0m\u001b[1;33m\u001b[0m\u001b[0m\n\u001b[0;32m    630\u001b[0m             \u001b[1;32mif\u001b[0m \u001b[0mself\u001b[0m\u001b[1;33m.\u001b[0m\u001b[0m_dataset_kind\u001b[0m \u001b[1;33m==\u001b[0m \u001b[0m_DatasetKind\u001b[0m\u001b[1;33m.\u001b[0m\u001b[0mIterable\u001b[0m \u001b[1;32mand\u001b[0m\u001b[0;31m \u001b[0m\u001b[0;31m\\\u001b[0m\u001b[1;33m\u001b[0m\u001b[1;33m\u001b[0m\u001b[0m\n",
      "\u001b[1;32mc:\\Users\\joaor\\anaconda3\\lib\\site-packages\\torch\\utils\\data\\dataloader.py\u001b[0m in \u001b[0;36m_next_data\u001b[1;34m(self)\u001b[0m\n\u001b[0;32m   1331\u001b[0m             \u001b[1;32melse\u001b[0m\u001b[1;33m:\u001b[0m\u001b[1;33m\u001b[0m\u001b[1;33m\u001b[0m\u001b[0m\n\u001b[0;32m   1332\u001b[0m                 \u001b[1;32mdel\u001b[0m \u001b[0mself\u001b[0m\u001b[1;33m.\u001b[0m\u001b[0m_task_info\u001b[0m\u001b[1;33m[\u001b[0m\u001b[0midx\u001b[0m\u001b[1;33m]\u001b[0m\u001b[1;33m\u001b[0m\u001b[1;33m\u001b[0m\u001b[0m\n\u001b[1;32m-> 1333\u001b[1;33m                 \u001b[1;32mreturn\u001b[0m \u001b[0mself\u001b[0m\u001b[1;33m.\u001b[0m\u001b[0m_process_data\u001b[0m\u001b[1;33m(\u001b[0m\u001b[0mdata\u001b[0m\u001b[1;33m)\u001b[0m\u001b[1;33m\u001b[0m\u001b[1;33m\u001b[0m\u001b[0m\n\u001b[0m\u001b[0;32m   1334\u001b[0m \u001b[1;33m\u001b[0m\u001b[0m\n\u001b[0;32m   1335\u001b[0m     \u001b[1;32mdef\u001b[0m \u001b[0m_try_put_index\u001b[0m\u001b[1;33m(\u001b[0m\u001b[0mself\u001b[0m\u001b[1;33m)\u001b[0m\u001b[1;33m:\u001b[0m\u001b[1;33m\u001b[0m\u001b[1;33m\u001b[0m\u001b[0m\n",
      "\u001b[1;32mc:\\Users\\joaor\\anaconda3\\lib\\site-packages\\torch\\utils\\data\\dataloader.py\u001b[0m in \u001b[0;36m_process_data\u001b[1;34m(self, data)\u001b[0m\n\u001b[0;32m   1357\u001b[0m         \u001b[0mself\u001b[0m\u001b[1;33m.\u001b[0m\u001b[0m_try_put_index\u001b[0m\u001b[1;33m(\u001b[0m\u001b[1;33m)\u001b[0m\u001b[1;33m\u001b[0m\u001b[1;33m\u001b[0m\u001b[0m\n\u001b[0;32m   1358\u001b[0m         \u001b[1;32mif\u001b[0m \u001b[0misinstance\u001b[0m\u001b[1;33m(\u001b[0m\u001b[0mdata\u001b[0m\u001b[1;33m,\u001b[0m \u001b[0mExceptionWrapper\u001b[0m\u001b[1;33m)\u001b[0m\u001b[1;33m:\u001b[0m\u001b[1;33m\u001b[0m\u001b[1;33m\u001b[0m\u001b[0m\n\u001b[1;32m-> 1359\u001b[1;33m             \u001b[0mdata\u001b[0m\u001b[1;33m.\u001b[0m\u001b[0mreraise\u001b[0m\u001b[1;33m(\u001b[0m\u001b[1;33m)\u001b[0m\u001b[1;33m\u001b[0m\u001b[1;33m\u001b[0m\u001b[0m\n\u001b[0m\u001b[0;32m   1360\u001b[0m         \u001b[1;32mreturn\u001b[0m \u001b[0mdata\u001b[0m\u001b[1;33m\u001b[0m\u001b[1;33m\u001b[0m\u001b[0m\n\u001b[0;32m   1361\u001b[0m \u001b[1;33m\u001b[0m\u001b[0m\n",
      "\u001b[1;32mc:\\Users\\joaor\\anaconda3\\lib\\site-packages\\torch\\_utils.py\u001b[0m in \u001b[0;36mreraise\u001b[1;34m(self)\u001b[0m\n\u001b[0;32m    541\u001b[0m             \u001b[1;31m# instantiate since we don't know how to\u001b[0m\u001b[1;33m\u001b[0m\u001b[1;33m\u001b[0m\u001b[0m\n\u001b[0;32m    542\u001b[0m             \u001b[1;32mraise\u001b[0m \u001b[0mRuntimeError\u001b[0m\u001b[1;33m(\u001b[0m\u001b[0mmsg\u001b[0m\u001b[1;33m)\u001b[0m \u001b[1;32mfrom\u001b[0m \u001b[1;32mNone\u001b[0m\u001b[1;33m\u001b[0m\u001b[1;33m\u001b[0m\u001b[0m\n\u001b[1;32m--> 543\u001b[1;33m         \u001b[1;32mraise\u001b[0m \u001b[0mexception\u001b[0m\u001b[1;33m\u001b[0m\u001b[1;33m\u001b[0m\u001b[0m\n\u001b[0m\u001b[0;32m    544\u001b[0m \u001b[1;33m\u001b[0m\u001b[0m\n\u001b[0;32m    545\u001b[0m \u001b[1;33m\u001b[0m\u001b[0m\n",
      "\u001b[1;31mRuntimeError\u001b[0m: Caught RuntimeError in DataLoader worker process 7.\nOriginal Traceback (most recent call last):\n  File \"c:\\Users\\joaor\\anaconda3\\lib\\site-packages\\torch\\utils\\data\\_utils\\worker.py\", line 302, in _worker_loop\n    data = fetcher.fetch(index)\n  File \"c:\\Users\\joaor\\anaconda3\\lib\\site-packages\\torch\\utils\\data\\_utils\\fetch.py\", line 58, in fetch\n    data = [self.dataset[idx] for idx in possibly_batched_index]\n  File \"c:\\Users\\joaor\\anaconda3\\lib\\site-packages\\torch\\utils\\data\\_utils\\fetch.py\", line 58, in <listcomp>\n    data = [self.dataset[idx] for idx in possibly_batched_index]\n  File \"c:\\Users\\joaor\\anaconda3\\lib\\site-packages\\torchvision\\datasets\\folder.py\", line 231, in __getitem__\n    sample = self.transform(sample)\n  File \"c:\\Users\\joaor\\anaconda3\\lib\\site-packages\\torchvision\\transforms\\transforms.py\", line 95, in __call__\n    img = t(img)\n  File \"c:\\Users\\joaor\\anaconda3\\lib\\site-packages\\torchvision\\transforms\\transforms.py\", line 135, in __call__\n    return F.to_tensor(pic)\n  File \"c:\\Users\\joaor\\anaconda3\\lib\\site-packages\\torchvision\\transforms\\functional.py\", line 171, in to_tensor\n    return img.to(dtype=default_float_dtype).div(255)\nRuntimeError: [enforce fail at C:\\cb\\pytorch_1000000000000\\work\\c10\\core\\impl\\alloc_cpu.cpp:72] data. DefaultCPUAllocator: not enough memory: you tried to allocate 2239488 bytes.\n"
     ]
    }
   ],
   "source": [
    "model_name = \"ResNet50\"\n",
    "model_folder_path = models_path / model_name\n",
    "check_dir(model_folder_path)\n",
    "model_name_folder_path = model_folder_path / model_name\n",
    "\n",
    "#Train ResNet50\n",
    "resnet50.to(device)\n",
    "nadam_optim = torch.optim.NAdam(params=resnet50.parameters())\n",
    "train_resnet50_results, train_time_resnet50 = train(resnet50, train_dl, validation_dl, optimizer=nadam_optim, loss_fn=loss_fn, epochs=NUM_EPOCHS, name_save=model_name_folder_path, device=device)"
   ]
  },
  {
   "cell_type": "code",
   "execution_count": null,
   "metadata": {},
   "outputs": [],
   "source": [
    "eval_resnet50_results = eval_model(resnet50, test_dl, loss_fn = loss_fn, accuracy_fn=accuracy_fn, device = device, dummy_input= torch.rand(32,3,224,224).to(device))\n",
    "resnet50_results = [train_resnet50_results, train_time_resnet50, eval_resnet50_results]\n",
    "final_save(model_folder_path,model_name, NUM_EPOCHS, resnet50, resnet50_results)"
   ]
  },
  {
   "cell_type": "code",
   "execution_count": 10,
   "metadata": {},
   "outputs": [
    {
     "name": "stdout",
     "output_type": "stream",
     "text": [
      "best_model_4\\MobileNetSmall does not exist, creating one...\n"
     ]
    },
    {
     "data": {
      "application/vnd.jupyter.widget-view+json": {
       "model_id": "2a76b39da8434d24995e1850512a01d6",
       "version_major": 2,
       "version_minor": 0
      },
      "text/plain": [
       "  0%|          | 0/100 [00:00<?, ?it/s]"
      ]
     },
     "metadata": {},
     "output_type": "display_data"
    },
    {
     "name": "stdout",
     "output_type": "stream",
     "text": [
      "Epoch: 1 | train_loss: 0.8811 | train_acc: 0.6253 | validation_loss: 1.0472 | validation_acc: 0.6725\n",
      "Epoch: 2 | train_loss: 0.4791 | train_acc: 0.8091 | validation_loss: 0.9245 | validation_acc: 0.7050\n",
      "Epoch: 3 | train_loss: 0.3540 | train_acc: 0.8669 | validation_loss: 0.7536 | validation_acc: 0.7225\n",
      "Epoch: 4 | train_loss: 0.2781 | train_acc: 0.9047 | validation_loss: 0.5117 | validation_acc: 0.8125\n",
      "Epoch: 5 | train_loss: 0.2294 | train_acc: 0.9166 | validation_loss: 0.7106 | validation_acc: 0.8100\n",
      "Epoch: 6 | train_loss: 0.2500 | train_acc: 0.9147 | validation_loss: 0.4382 | validation_acc: 0.8550\n",
      "Epoch: 7 | train_loss: 0.2040 | train_acc: 0.9313 | validation_loss: 0.3047 | validation_acc: 0.8975\n",
      "Epoch: 8 | train_loss: 0.1925 | train_acc: 0.9334 | validation_loss: 0.4482 | validation_acc: 0.8475\n",
      "Epoch: 9 | train_loss: 0.1567 | train_acc: 0.9459 | validation_loss: 0.3671 | validation_acc: 0.8600\n",
      "Epoch: 10 | train_loss: 0.1652 | train_acc: 0.9434 | validation_loss: 0.4203 | validation_acc: 0.8575\n",
      "Epoch: 11 | train_loss: 0.1620 | train_acc: 0.9409 | validation_loss: 0.4050 | validation_acc: 0.8475\n",
      "Epoch: 12 | train_loss: 0.1337 | train_acc: 0.9556 | validation_loss: 0.4575 | validation_acc: 0.8625\n",
      "Epoch: 13 | train_loss: 0.1125 | train_acc: 0.9631 | validation_loss: 0.2846 | validation_acc: 0.9275\n",
      "Epoch: 14 | train_loss: 0.1341 | train_acc: 0.9519 | validation_loss: 0.6197 | validation_acc: 0.8475\n",
      "Epoch: 15 | train_loss: 0.1470 | train_acc: 0.9500 | validation_loss: 0.4843 | validation_acc: 0.8625\n",
      "Epoch: 16 | train_loss: 0.1113 | train_acc: 0.9609 | validation_loss: 0.3028 | validation_acc: 0.9025\n",
      "Epoch: 17 | train_loss: 0.1508 | train_acc: 0.9469 | validation_loss: 0.5003 | validation_acc: 0.8125\n",
      "Epoch: 18 | train_loss: 0.1314 | train_acc: 0.9606 | validation_loss: 0.3667 | validation_acc: 0.9100\n",
      "Epoch: 19 | train_loss: 0.1418 | train_acc: 0.9547 | validation_loss: 0.5261 | validation_acc: 0.9050\n",
      "Epoch: 20 | train_loss: 0.1169 | train_acc: 0.9587 | validation_loss: 0.4897 | validation_acc: 0.8550\n",
      "Epoch: 21 | train_loss: 0.1374 | train_acc: 0.9544 | validation_loss: 0.5751 | validation_acc: 0.8475\n",
      "Epoch: 22 | train_loss: 0.1007 | train_acc: 0.9691 | validation_loss: 0.3119 | validation_acc: 0.9025\n",
      "Epoch: 23 | train_loss: 0.0991 | train_acc: 0.9650 | validation_loss: 0.4807 | validation_acc: 0.8600\n",
      "Epoch: 24 | train_loss: 0.0929 | train_acc: 0.9669 | validation_loss: 0.6335 | validation_acc: 0.8425\n",
      "Epoch: 25 | train_loss: 0.1163 | train_acc: 0.9634 | validation_loss: 0.4036 | validation_acc: 0.8925\n",
      "Epoch: 26 | train_loss: 0.0986 | train_acc: 0.9672 | validation_loss: 0.3125 | validation_acc: 0.9100\n",
      "Epoch: 27 | train_loss: 0.0858 | train_acc: 0.9738 | validation_loss: 0.4844 | validation_acc: 0.8450\n",
      "Epoch: 28 | train_loss: 0.0833 | train_acc: 0.9728 | validation_loss: 0.4896 | validation_acc: 0.8825\n",
      "Epoch: 29 | train_loss: 0.1056 | train_acc: 0.9659 | validation_loss: 0.2771 | validation_acc: 0.9000\n",
      "Epoch: 30 | train_loss: 0.1371 | train_acc: 0.9581 | validation_loss: 0.7351 | validation_acc: 0.8350\n",
      "Epoch: 31 | train_loss: 0.1153 | train_acc: 0.9634 | validation_loss: 0.5719 | validation_acc: 0.8750\n",
      "Epoch: 32 | train_loss: 0.0776 | train_acc: 0.9750 | validation_loss: 0.3732 | validation_acc: 0.9275\n",
      "Epoch: 33 | train_loss: 0.0882 | train_acc: 0.9716 | validation_loss: 0.2954 | validation_acc: 0.9300\n",
      "Epoch: 34 | train_loss: 0.0983 | train_acc: 0.9728 | validation_loss: 0.4893 | validation_acc: 0.8850\n",
      "Epoch: 35 | train_loss: 0.0722 | train_acc: 0.9744 | validation_loss: 0.5027 | validation_acc: 0.8875\n",
      "Epoch: 36 | train_loss: 0.0879 | train_acc: 0.9716 | validation_loss: 0.3496 | validation_acc: 0.9225\n",
      "Epoch: 37 | train_loss: 0.0645 | train_acc: 0.9775 | validation_loss: 0.5557 | validation_acc: 0.9000\n",
      "Epoch: 38 | train_loss: 0.0649 | train_acc: 0.9794 | validation_loss: 0.5609 | validation_acc: 0.8850\n",
      "Epoch: 39 | train_loss: 0.0727 | train_acc: 0.9762 | validation_loss: 0.7522 | validation_acc: 0.8700\n",
      "Epoch: 40 | train_loss: 0.0866 | train_acc: 0.9700 | validation_loss: 0.4761 | validation_acc: 0.8625\n",
      "Epoch: 41 | train_loss: 0.0711 | train_acc: 0.9762 | validation_loss: 0.7316 | validation_acc: 0.8450\n",
      "Epoch: 42 | train_loss: 0.0737 | train_acc: 0.9766 | validation_loss: 0.5329 | validation_acc: 0.8725\n",
      "Epoch: 43 | train_loss: 0.0672 | train_acc: 0.9750 | validation_loss: 0.7657 | validation_acc: 0.8025\n",
      "Epoch: 44 | train_loss: 0.0593 | train_acc: 0.9791 | validation_loss: 0.6092 | validation_acc: 0.8600\n",
      "Epoch: 45 | train_loss: 0.0725 | train_acc: 0.9769 | validation_loss: 0.5198 | validation_acc: 0.8475\n",
      "Epoch: 46 | train_loss: 0.0530 | train_acc: 0.9834 | validation_loss: 0.8026 | validation_acc: 0.8350\n",
      "Epoch: 47 | train_loss: 0.0574 | train_acc: 0.9794 | validation_loss: 0.6613 | validation_acc: 0.8650\n",
      "Epoch: 48 | train_loss: 0.1033 | train_acc: 0.9694 | validation_loss: 0.5113 | validation_acc: 0.8600\n",
      "Epoch: 49 | train_loss: 0.0646 | train_acc: 0.9788 | validation_loss: 0.5335 | validation_acc: 0.9100\n",
      "Epoch: 50 | train_loss: 0.0586 | train_acc: 0.9822 | validation_loss: 0.5372 | validation_acc: 0.8975\n",
      "Epoch: 51 | train_loss: 0.0541 | train_acc: 0.9838 | validation_loss: 0.5948 | validation_acc: 0.8700\n",
      "Epoch: 52 | train_loss: 0.0476 | train_acc: 0.9828 | validation_loss: 0.7046 | validation_acc: 0.8500\n",
      "Epoch: 53 | train_loss: 0.0798 | train_acc: 0.9716 | validation_loss: 1.1715 | validation_acc: 0.8225\n",
      "Epoch: 54 | train_loss: 0.0534 | train_acc: 0.9838 | validation_loss: 0.6248 | validation_acc: 0.8600\n",
      "Epoch: 55 | train_loss: 0.0416 | train_acc: 0.9859 | validation_loss: 0.5383 | validation_acc: 0.8750\n",
      "Epoch: 56 | train_loss: 0.0476 | train_acc: 0.9825 | validation_loss: 0.4214 | validation_acc: 0.9125\n",
      "Epoch: 57 | train_loss: 0.0456 | train_acc: 0.9862 | validation_loss: 0.5236 | validation_acc: 0.8800\n",
      "Epoch: 58 | train_loss: 0.0442 | train_acc: 0.9834 | validation_loss: 0.4752 | validation_acc: 0.8800\n",
      "Epoch: 59 | train_loss: 0.1028 | train_acc: 0.9678 | validation_loss: 0.5530 | validation_acc: 0.8750\n",
      "Epoch: 60 | train_loss: 0.0632 | train_acc: 0.9809 | validation_loss: 0.9106 | validation_acc: 0.8775\n",
      "Epoch: 61 | train_loss: 0.0326 | train_acc: 0.9884 | validation_loss: 0.9327 | validation_acc: 0.8700\n",
      "Epoch: 62 | train_loss: 0.0284 | train_acc: 0.9897 | validation_loss: 0.8041 | validation_acc: 0.8825\n",
      "Epoch: 63 | train_loss: 0.0555 | train_acc: 0.9819 | validation_loss: 0.7426 | validation_acc: 0.9025\n",
      "Epoch: 64 | train_loss: 0.0595 | train_acc: 0.9812 | validation_loss: 0.4042 | validation_acc: 0.9125\n",
      "Epoch: 65 | train_loss: 0.0534 | train_acc: 0.9825 | validation_loss: 0.8272 | validation_acc: 0.8300\n",
      "Epoch: 66 | train_loss: 0.0379 | train_acc: 0.9888 | validation_loss: 0.4971 | validation_acc: 0.8700\n",
      "Epoch: 67 | train_loss: 0.0449 | train_acc: 0.9856 | validation_loss: 0.9088 | validation_acc: 0.8275\n",
      "Epoch: 68 | train_loss: 0.0459 | train_acc: 0.9828 | validation_loss: 0.5845 | validation_acc: 0.8450\n",
      "Epoch: 69 | train_loss: 0.0389 | train_acc: 0.9875 | validation_loss: 0.5396 | validation_acc: 0.9050\n",
      "Epoch: 70 | train_loss: 0.0685 | train_acc: 0.9828 | validation_loss: 0.7520 | validation_acc: 0.8525\n",
      "Epoch: 71 | train_loss: 0.0546 | train_acc: 0.9812 | validation_loss: 0.6201 | validation_acc: 0.8500\n",
      "Epoch: 72 | train_loss: 0.0565 | train_acc: 0.9847 | validation_loss: 0.6839 | validation_acc: 0.8825\n",
      "Epoch: 73 | train_loss: 0.0426 | train_acc: 0.9844 | validation_loss: 0.8927 | validation_acc: 0.8750\n",
      "Epoch: 74 | train_loss: 0.0454 | train_acc: 0.9853 | validation_loss: 1.3195 | validation_acc: 0.8300\n",
      "Epoch: 75 | train_loss: 0.0290 | train_acc: 0.9916 | validation_loss: 0.6468 | validation_acc: 0.8875\n",
      "Epoch: 76 | train_loss: 0.0416 | train_acc: 0.9878 | validation_loss: 0.8039 | validation_acc: 0.8500\n",
      "Epoch: 77 | train_loss: 0.0569 | train_acc: 0.9828 | validation_loss: 0.8308 | validation_acc: 0.8550\n",
      "Epoch: 78 | train_loss: 0.0634 | train_acc: 0.9794 | validation_loss: 0.4823 | validation_acc: 0.9100\n",
      "Epoch: 79 | train_loss: 0.0345 | train_acc: 0.9875 | validation_loss: 0.6082 | validation_acc: 0.8850\n",
      "Epoch: 80 | train_loss: 0.0311 | train_acc: 0.9900 | validation_loss: 0.5633 | validation_acc: 0.8925\n",
      "Epoch: 81 | train_loss: 0.0345 | train_acc: 0.9897 | validation_loss: 0.7320 | validation_acc: 0.8925\n",
      "Epoch: 82 | train_loss: 0.0665 | train_acc: 0.9816 | validation_loss: 0.8750 | validation_acc: 0.8525\n",
      "Epoch: 83 | train_loss: 0.0592 | train_acc: 0.9838 | validation_loss: 0.5033 | validation_acc: 0.8850\n",
      "Epoch: 84 | train_loss: 0.0576 | train_acc: 0.9794 | validation_loss: 1.0385 | validation_acc: 0.8150\n",
      "Epoch: 85 | train_loss: 0.0396 | train_acc: 0.9869 | validation_loss: 0.6742 | validation_acc: 0.8600\n",
      "Epoch: 86 | train_loss: 0.0513 | train_acc: 0.9875 | validation_loss: 0.5792 | validation_acc: 0.8800\n",
      "Epoch: 87 | train_loss: 0.0668 | train_acc: 0.9809 | validation_loss: 0.6826 | validation_acc: 0.8925\n",
      "Epoch: 88 | train_loss: 0.0556 | train_acc: 0.9825 | validation_loss: 0.4068 | validation_acc: 0.9200\n",
      "Epoch: 89 | train_loss: 0.0428 | train_acc: 0.9894 | validation_loss: 0.8221 | validation_acc: 0.9050\n",
      "Epoch: 90 | train_loss: 0.0376 | train_acc: 0.9884 | validation_loss: 0.9594 | validation_acc: 0.8975\n",
      "Epoch: 91 | train_loss: 0.0309 | train_acc: 0.9894 | validation_loss: 0.7810 | validation_acc: 0.8650\n",
      "Epoch: 92 | train_loss: 0.0577 | train_acc: 0.9853 | validation_loss: 0.6309 | validation_acc: 0.9075\n",
      "Epoch: 93 | train_loss: 0.0261 | train_acc: 0.9906 | validation_loss: 0.9488 | validation_acc: 0.8725\n",
      "Epoch: 94 | train_loss: 0.0339 | train_acc: 0.9891 | validation_loss: 0.4892 | validation_acc: 0.9175\n",
      "Epoch: 95 | train_loss: 0.0627 | train_acc: 0.9819 | validation_loss: 1.1059 | validation_acc: 0.8575\n",
      "Epoch: 96 | train_loss: 0.0638 | train_acc: 0.9819 | validation_loss: 1.1895 | validation_acc: 0.8950\n",
      "Epoch: 97 | train_loss: 0.0375 | train_acc: 0.9894 | validation_loss: 0.9708 | validation_acc: 0.8675\n",
      "Epoch: 98 | train_loss: 0.0374 | train_acc: 0.9900 | validation_loss: 0.9528 | validation_acc: 0.8875\n",
      "Epoch: 99 | train_loss: 0.0258 | train_acc: 0.9931 | validation_loss: 0.8624 | validation_acc: 0.9000\n",
      "Epoch: 100 | train_loss: 0.0162 | train_acc: 0.9934 | validation_loss: 0.6216 | validation_acc: 0.9250\n"
     ]
    }
   ],
   "source": [
    "model_name = \"MobileNetSmall\"\n",
    "model_folder_path = models_path / model_name\n",
    "check_dir(model_folder_path)\n",
    "model_name_folder_path = model_folder_path / model_name\n",
    "\n",
    "#Train MobileNetV3 Small\n",
    "mobnet_sml.to(device)\n",
    "nadam_optim = torch.optim.NAdam(params=mobnet_sml.parameters())\n",
    "train_mobnet_sml_results, train_time_mobnet_sml = train(mobnet_sml, train_dl, validation_dl, optimizer=nadam_optim, loss_fn=loss_fn, epochs=NUM_EPOCHS, name_save=model_name_folder_path, device=device)"
   ]
  },
  {
   "cell_type": "code",
   "execution_count": 11,
   "metadata": {},
   "outputs": [
    {
     "data": {
      "application/vnd.jupyter.widget-view+json": {
       "model_id": "78a4a22f29a640febbef025e3eb223f1",
       "version_major": 2,
       "version_minor": 0
      },
      "text/plain": [
       "  0%|          | 0/25 [00:02<?, ?it/s]"
      ]
     },
     "metadata": {},
     "output_type": "display_data"
    }
   ],
   "source": [
    "eval_mobnet_sml_results = eval_model(mobnet_sml, test_dl, loss_fn = loss_fn, accuracy_fn=accuracy_fn, device = device, dummy_input= torch.rand(32,3,224,224).to(device))\n",
    "mobnet_sml_results = [train_mobnet_sml_results, train_time_mobnet_sml, eval_mobnet_sml_results]\n",
    "final_save(model_folder_path,model_name, NUM_EPOCHS, mobnet_sml, mobnet_sml_results)"
   ]
  },
  {
   "cell_type": "code",
   "execution_count": 13,
   "metadata": {},
   "outputs": [
    {
     "name": "stdout",
     "output_type": "stream",
     "text": [
      "best_model_4\\MobileNetLarge does not exist, creating one...\n"
     ]
    },
    {
     "data": {
      "application/vnd.jupyter.widget-view+json": {
       "model_id": "a51c5f2fda05480dab55852f4e83bb40",
       "version_major": 2,
       "version_minor": 0
      },
      "text/plain": [
       "  0%|          | 0/100 [00:00<?, ?it/s]"
      ]
     },
     "metadata": {},
     "output_type": "display_data"
    },
    {
     "name": "stdout",
     "output_type": "stream",
     "text": [
      "Epoch: 1 | train_loss: 1.0151 | train_acc: 0.5634 | validation_loss: 0.8064 | validation_acc: 0.6575\n",
      "Epoch: 2 | train_loss: 0.6592 | train_acc: 0.7369 | validation_loss: 0.7113 | validation_acc: 0.7050\n",
      "Epoch: 3 | train_loss: 0.4750 | train_acc: 0.8141 | validation_loss: 0.5054 | validation_acc: 0.8300\n",
      "Epoch: 4 | train_loss: 0.3854 | train_acc: 0.8525 | validation_loss: 0.3543 | validation_acc: 0.8600\n",
      "Epoch: 5 | train_loss: 0.3256 | train_acc: 0.8728 | validation_loss: 0.9768 | validation_acc: 0.6950\n",
      "Epoch: 6 | train_loss: 0.2699 | train_acc: 0.9038 | validation_loss: 0.8231 | validation_acc: 0.7825\n",
      "Epoch: 7 | train_loss: 0.2442 | train_acc: 0.9047 | validation_loss: 0.3073 | validation_acc: 0.9050\n",
      "Epoch: 8 | train_loss: 0.2740 | train_acc: 0.8956 | validation_loss: 0.6223 | validation_acc: 0.7825\n",
      "Epoch: 9 | train_loss: 0.2437 | train_acc: 0.9113 | validation_loss: 0.5671 | validation_acc: 0.8275\n",
      "Epoch: 10 | train_loss: 0.2114 | train_acc: 0.9269 | validation_loss: 0.6893 | validation_acc: 0.8350\n",
      "Epoch: 11 | train_loss: 0.2410 | train_acc: 0.9137 | validation_loss: 0.5332 | validation_acc: 0.7975\n",
      "Epoch: 12 | train_loss: 0.2095 | train_acc: 0.9213 | validation_loss: 0.3001 | validation_acc: 0.8950\n",
      "Epoch: 13 | train_loss: 0.2064 | train_acc: 0.9306 | validation_loss: 1.1270 | validation_acc: 0.7375\n",
      "Epoch: 14 | train_loss: 0.2068 | train_acc: 0.9253 | validation_loss: 0.5754 | validation_acc: 0.8450\n",
      "Epoch: 15 | train_loss: 0.1799 | train_acc: 0.9309 | validation_loss: 0.4197 | validation_acc: 0.8475\n",
      "Epoch: 16 | train_loss: 0.1750 | train_acc: 0.9363 | validation_loss: 0.3998 | validation_acc: 0.9075\n",
      "Epoch: 17 | train_loss: 0.1671 | train_acc: 0.9419 | validation_loss: 0.3681 | validation_acc: 0.8675\n",
      "Epoch: 18 | train_loss: 0.1406 | train_acc: 0.9553 | validation_loss: 0.5673 | validation_acc: 0.8475\n",
      "Epoch: 19 | train_loss: 0.1592 | train_acc: 0.9459 | validation_loss: 0.5612 | validation_acc: 0.8550\n",
      "Epoch: 20 | train_loss: 0.1644 | train_acc: 0.9437 | validation_loss: 0.4024 | validation_acc: 0.9000\n",
      "Epoch: 21 | train_loss: 0.1765 | train_acc: 0.9406 | validation_loss: 0.5505 | validation_acc: 0.8500\n",
      "Epoch: 22 | train_loss: 0.1520 | train_acc: 0.9522 | validation_loss: 0.7512 | validation_acc: 0.8100\n",
      "Epoch: 23 | train_loss: 0.1569 | train_acc: 0.9463 | validation_loss: 0.4036 | validation_acc: 0.8950\n",
      "Epoch: 24 | train_loss: 0.1626 | train_acc: 0.9409 | validation_loss: 0.6717 | validation_acc: 0.8250\n",
      "Epoch: 25 | train_loss: 0.1340 | train_acc: 0.9484 | validation_loss: 0.5188 | validation_acc: 0.8850\n",
      "Epoch: 26 | train_loss: 0.1376 | train_acc: 0.9553 | validation_loss: 0.5391 | validation_acc: 0.8550\n",
      "Epoch: 27 | train_loss: 0.1336 | train_acc: 0.9559 | validation_loss: 0.3845 | validation_acc: 0.9025\n",
      "Epoch: 28 | train_loss: 0.1283 | train_acc: 0.9537 | validation_loss: 0.5155 | validation_acc: 0.8850\n",
      "Epoch: 29 | train_loss: 0.1335 | train_acc: 0.9544 | validation_loss: 0.6246 | validation_acc: 0.8050\n",
      "Epoch: 30 | train_loss: 0.1215 | train_acc: 0.9594 | validation_loss: 0.5282 | validation_acc: 0.8800\n",
      "Epoch: 31 | train_loss: 0.1450 | train_acc: 0.9500 | validation_loss: 0.4344 | validation_acc: 0.8975\n",
      "Epoch: 32 | train_loss: 0.1303 | train_acc: 0.9544 | validation_loss: 0.4511 | validation_acc: 0.9200\n",
      "Epoch: 33 | train_loss: 0.1183 | train_acc: 0.9631 | validation_loss: 0.2630 | validation_acc: 0.9575\n",
      "Epoch: 34 | train_loss: 0.1236 | train_acc: 0.9544 | validation_loss: 0.8907 | validation_acc: 0.8525\n",
      "Epoch: 35 | train_loss: 0.1209 | train_acc: 0.9569 | validation_loss: 0.8001 | validation_acc: 0.8250\n",
      "Epoch: 36 | train_loss: 0.1363 | train_acc: 0.9525 | validation_loss: 0.7324 | validation_acc: 0.8450\n",
      "Epoch: 37 | train_loss: 0.1058 | train_acc: 0.9609 | validation_loss: 0.4416 | validation_acc: 0.8650\n",
      "Epoch: 38 | train_loss: 0.1115 | train_acc: 0.9647 | validation_loss: 0.3409 | validation_acc: 0.9200\n",
      "Epoch: 39 | train_loss: 0.1101 | train_acc: 0.9634 | validation_loss: 0.3070 | validation_acc: 0.9375\n",
      "Epoch: 40 | train_loss: 0.1005 | train_acc: 0.9644 | validation_loss: 0.6135 | validation_acc: 0.8950\n",
      "Epoch: 41 | train_loss: 0.0969 | train_acc: 0.9659 | validation_loss: 0.4099 | validation_acc: 0.8900\n",
      "Epoch: 42 | train_loss: 0.0996 | train_acc: 0.9672 | validation_loss: 0.2386 | validation_acc: 0.9275\n",
      "Epoch: 43 | train_loss: 0.1042 | train_acc: 0.9647 | validation_loss: 0.3054 | validation_acc: 0.9300\n",
      "Epoch: 44 | train_loss: 0.1194 | train_acc: 0.9600 | validation_loss: 0.5969 | validation_acc: 0.8400\n",
      "Epoch: 45 | train_loss: 0.1095 | train_acc: 0.9669 | validation_loss: 0.3839 | validation_acc: 0.8975\n",
      "Epoch: 46 | train_loss: 0.1362 | train_acc: 0.9550 | validation_loss: 0.4449 | validation_acc: 0.8875\n",
      "Epoch: 47 | train_loss: 0.1053 | train_acc: 0.9684 | validation_loss: 0.6711 | validation_acc: 0.8625\n",
      "Epoch: 48 | train_loss: 0.0978 | train_acc: 0.9688 | validation_loss: 0.3846 | validation_acc: 0.9175\n",
      "Epoch: 49 | train_loss: 0.0799 | train_acc: 0.9794 | validation_loss: 0.3619 | validation_acc: 0.9200\n",
      "Epoch: 50 | train_loss: 0.1230 | train_acc: 0.9597 | validation_loss: 0.3823 | validation_acc: 0.9300\n",
      "Epoch: 51 | train_loss: 0.0943 | train_acc: 0.9659 | validation_loss: 0.6931 | validation_acc: 0.8900\n",
      "Epoch: 52 | train_loss: 0.1080 | train_acc: 0.9634 | validation_loss: 0.7859 | validation_acc: 0.8675\n",
      "Epoch: 53 | train_loss: 0.1052 | train_acc: 0.9669 | validation_loss: 0.4450 | validation_acc: 0.8950\n",
      "Epoch: 54 | train_loss: 0.0911 | train_acc: 0.9691 | validation_loss: 0.3386 | validation_acc: 0.9275\n",
      "Epoch: 55 | train_loss: 0.1017 | train_acc: 0.9700 | validation_loss: 0.7516 | validation_acc: 0.8600\n",
      "Epoch: 56 | train_loss: 0.0811 | train_acc: 0.9744 | validation_loss: 0.4402 | validation_acc: 0.9000\n",
      "Epoch: 57 | train_loss: 0.0783 | train_acc: 0.9741 | validation_loss: 0.7004 | validation_acc: 0.8825\n",
      "Epoch: 58 | train_loss: 0.0919 | train_acc: 0.9706 | validation_loss: 0.3490 | validation_acc: 0.9100\n",
      "Epoch: 59 | train_loss: 0.0922 | train_acc: 0.9694 | validation_loss: 0.3455 | validation_acc: 0.9300\n",
      "Epoch: 60 | train_loss: 0.0732 | train_acc: 0.9781 | validation_loss: 0.2171 | validation_acc: 0.9425\n",
      "Epoch: 61 | train_loss: 0.0889 | train_acc: 0.9716 | validation_loss: 0.5671 | validation_acc: 0.8700\n",
      "Epoch: 62 | train_loss: 0.0897 | train_acc: 0.9709 | validation_loss: 0.5419 | validation_acc: 0.8925\n",
      "Epoch: 63 | train_loss: 0.0930 | train_acc: 0.9697 | validation_loss: 0.3365 | validation_acc: 0.9275\n",
      "Epoch: 64 | train_loss: 0.0933 | train_acc: 0.9728 | validation_loss: 0.7311 | validation_acc: 0.8325\n",
      "Epoch: 65 | train_loss: 0.1071 | train_acc: 0.9669 | validation_loss: 0.4997 | validation_acc: 0.8950\n",
      "Epoch: 66 | train_loss: 0.0915 | train_acc: 0.9691 | validation_loss: 0.7047 | validation_acc: 0.8500\n",
      "Epoch: 67 | train_loss: 0.0704 | train_acc: 0.9766 | validation_loss: 0.6251 | validation_acc: 0.8750\n",
      "Epoch: 68 | train_loss: 0.0819 | train_acc: 0.9738 | validation_loss: 1.3023 | validation_acc: 0.7925\n",
      "Epoch: 69 | train_loss: 0.0859 | train_acc: 0.9719 | validation_loss: 0.5077 | validation_acc: 0.9250\n",
      "Epoch: 70 | train_loss: 0.0707 | train_acc: 0.9772 | validation_loss: 0.4675 | validation_acc: 0.9075\n",
      "Epoch: 71 | train_loss: 0.0802 | train_acc: 0.9756 | validation_loss: 1.0543 | validation_acc: 0.8075\n",
      "Epoch: 72 | train_loss: 0.0898 | train_acc: 0.9700 | validation_loss: 0.7168 | validation_acc: 0.8700\n",
      "Epoch: 73 | train_loss: 0.1223 | train_acc: 0.9688 | validation_loss: 0.8713 | validation_acc: 0.8700\n",
      "Epoch: 74 | train_loss: 0.1099 | train_acc: 0.9659 | validation_loss: 0.4129 | validation_acc: 0.9225\n",
      "Epoch: 75 | train_loss: 0.0630 | train_acc: 0.9791 | validation_loss: 0.4255 | validation_acc: 0.9175\n",
      "Epoch: 76 | train_loss: 0.0797 | train_acc: 0.9728 | validation_loss: 0.9635 | validation_acc: 0.8850\n",
      "Epoch: 77 | train_loss: 0.0660 | train_acc: 0.9794 | validation_loss: 0.4477 | validation_acc: 0.9150\n",
      "Epoch: 78 | train_loss: 0.0655 | train_acc: 0.9759 | validation_loss: 0.5086 | validation_acc: 0.8825\n",
      "Epoch: 79 | train_loss: 0.0654 | train_acc: 0.9769 | validation_loss: 0.3163 | validation_acc: 0.9325\n",
      "Epoch: 80 | train_loss: 0.0769 | train_acc: 0.9753 | validation_loss: 0.4520 | validation_acc: 0.9000\n",
      "Epoch: 81 | train_loss: 0.0731 | train_acc: 0.9794 | validation_loss: 0.4731 | validation_acc: 0.9100\n",
      "Epoch: 82 | train_loss: 0.0808 | train_acc: 0.9759 | validation_loss: 0.4118 | validation_acc: 0.9125\n",
      "Epoch: 83 | train_loss: 0.1008 | train_acc: 0.9706 | validation_loss: 0.4719 | validation_acc: 0.9075\n",
      "Epoch: 84 | train_loss: 0.0800 | train_acc: 0.9753 | validation_loss: 0.3064 | validation_acc: 0.9275\n",
      "Epoch: 85 | train_loss: 0.0687 | train_acc: 0.9788 | validation_loss: 0.5212 | validation_acc: 0.9100\n",
      "Epoch: 86 | train_loss: 0.0811 | train_acc: 0.9741 | validation_loss: 0.2707 | validation_acc: 0.9400\n",
      "Epoch: 87 | train_loss: 0.0518 | train_acc: 0.9828 | validation_loss: 0.2777 | validation_acc: 0.9325\n",
      "Epoch: 88 | train_loss: 0.0577 | train_acc: 0.9803 | validation_loss: 0.3587 | validation_acc: 0.9375\n",
      "Epoch: 89 | train_loss: 0.0636 | train_acc: 0.9809 | validation_loss: 0.3638 | validation_acc: 0.9100\n",
      "Epoch: 90 | train_loss: 0.0628 | train_acc: 0.9819 | validation_loss: 0.4199 | validation_acc: 0.9350\n",
      "Epoch: 91 | train_loss: 0.0742 | train_acc: 0.9747 | validation_loss: 0.6400 | validation_acc: 0.8850\n",
      "Epoch: 92 | train_loss: 0.0737 | train_acc: 0.9788 | validation_loss: 0.4751 | validation_acc: 0.9275\n",
      "Epoch: 93 | train_loss: 0.0705 | train_acc: 0.9800 | validation_loss: 0.3303 | validation_acc: 0.9125\n",
      "Epoch: 94 | train_loss: 0.0744 | train_acc: 0.9753 | validation_loss: 0.3373 | validation_acc: 0.9300\n",
      "Epoch: 95 | train_loss: 0.0678 | train_acc: 0.9794 | validation_loss: 0.4655 | validation_acc: 0.9075\n",
      "Epoch: 96 | train_loss: 0.0764 | train_acc: 0.9750 | validation_loss: 0.4306 | validation_acc: 0.9425\n",
      "Epoch: 97 | train_loss: 0.0587 | train_acc: 0.9797 | validation_loss: 0.4187 | validation_acc: 0.9225\n",
      "Epoch: 98 | train_loss: 0.0454 | train_acc: 0.9844 | validation_loss: 0.7664 | validation_acc: 0.8750\n",
      "Epoch: 99 | train_loss: 0.0602 | train_acc: 0.9834 | validation_loss: 0.4196 | validation_acc: 0.9300\n",
      "Epoch: 100 | train_loss: 0.0786 | train_acc: 0.9728 | validation_loss: 0.6089 | validation_acc: 0.9150\n"
     ]
    }
   ],
   "source": [
    "model_name = \"MobileNetLarge\"\n",
    "model_folder_path = models_path / model_name\n",
    "check_dir(model_folder_path)\n",
    "model_name_folder_path = model_folder_path / model_name\n",
    "\n",
    "#Train MobileNetV3 Large\n",
    "mobnet_lrg.to(device)\n",
    "nadam_optim = torch.optim.NAdam(params=mobnet_lrg.parameters())\n",
    "train_mobnet_lrg_results, train_time_mobnet_lrg = train(mobnet_lrg, train_dl, validation_dl, optimizer=nadam_optim, loss_fn=loss_fn, epochs=NUM_EPOCHS, name_save=model_name_folder_path, device=device)"
   ]
  },
  {
   "cell_type": "code",
   "execution_count": 14,
   "metadata": {},
   "outputs": [
    {
     "data": {
      "application/vnd.jupyter.widget-view+json": {
       "model_id": "38ad4b00d40748319893832367e78d49",
       "version_major": 2,
       "version_minor": 0
      },
      "text/plain": [
       "  0%|          | 0/25 [00:02<?, ?it/s]"
      ]
     },
     "metadata": {},
     "output_type": "display_data"
    }
   ],
   "source": [
    "eval_mobnet_lrg_results = eval_model(mobnet_lrg, test_dl, loss_fn = loss_fn, accuracy_fn=accuracy_fn, device = device, dummy_input= torch.rand(32,3,224,224).to(device))\n",
    "mobnet_lrg_results = [train_mobnet_lrg_results, train_time_mobnet_lrg, eval_mobnet_lrg_results]\n",
    "final_save(model_folder_path, model_name, NUM_EPOCHS, mobnet_lrg, mobnet_lrg_results)"
   ]
  },
  {
   "cell_type": "code",
   "execution_count": 5,
   "metadata": {},
   "outputs": [
    {
     "name": "stdout",
     "output_type": "stream",
     "text": [
      "best_model_4\\EfficientNetB0 does not exist, creating one...\n"
     ]
    },
    {
     "data": {
      "application/vnd.jupyter.widget-view+json": {
       "model_id": "e4b65494992d4f11bec9bcfeb55d138b",
       "version_major": 2,
       "version_minor": 0
      },
      "text/plain": [
       "  0%|          | 0/100 [00:00<?, ?it/s]"
      ]
     },
     "metadata": {},
     "output_type": "display_data"
    },
    {
     "ename": "KeyboardInterrupt",
     "evalue": "",
     "output_type": "error",
     "traceback": [
      "\u001b[1;31m---------------------------------------------------------------------------\u001b[0m",
      "\u001b[1;31mKeyboardInterrupt\u001b[0m                         Traceback (most recent call last)",
      "\u001b[1;32m~\\AppData\\Local\\Temp\\ipykernel_16760\\2738631796.py\u001b[0m in \u001b[0;36m<module>\u001b[1;34m\u001b[0m\n\u001b[0;32m      7\u001b[0m \u001b[0meffnetb0\u001b[0m\u001b[1;33m.\u001b[0m\u001b[0mto\u001b[0m\u001b[1;33m(\u001b[0m\u001b[0mdevice\u001b[0m\u001b[1;33m)\u001b[0m\u001b[1;33m\u001b[0m\u001b[1;33m\u001b[0m\u001b[0m\n\u001b[0;32m      8\u001b[0m \u001b[0mnadam_optim\u001b[0m \u001b[1;33m=\u001b[0m \u001b[0mtorch\u001b[0m\u001b[1;33m.\u001b[0m\u001b[0moptim\u001b[0m\u001b[1;33m.\u001b[0m\u001b[0mNAdam\u001b[0m\u001b[1;33m(\u001b[0m\u001b[0mparams\u001b[0m\u001b[1;33m=\u001b[0m\u001b[0meffnetb0\u001b[0m\u001b[1;33m.\u001b[0m\u001b[0mparameters\u001b[0m\u001b[1;33m(\u001b[0m\u001b[1;33m)\u001b[0m\u001b[1;33m)\u001b[0m\u001b[1;33m\u001b[0m\u001b[1;33m\u001b[0m\u001b[0m\n\u001b[1;32m----> 9\u001b[1;33m \u001b[0mtrain_effnetb0_results\u001b[0m\u001b[1;33m,\u001b[0m \u001b[0mtrain_time_effnetb0\u001b[0m \u001b[1;33m=\u001b[0m \u001b[0mtrain\u001b[0m\u001b[1;33m(\u001b[0m\u001b[0meffnetb0\u001b[0m\u001b[1;33m,\u001b[0m \u001b[0mtrain_dl\u001b[0m\u001b[1;33m,\u001b[0m \u001b[0mvalidation_dl\u001b[0m\u001b[1;33m,\u001b[0m \u001b[0moptimizer\u001b[0m\u001b[1;33m=\u001b[0m\u001b[0mnadam_optim\u001b[0m\u001b[1;33m,\u001b[0m \u001b[0mloss_fn\u001b[0m\u001b[1;33m=\u001b[0m\u001b[0mloss_fn\u001b[0m\u001b[1;33m,\u001b[0m \u001b[0mepochs\u001b[0m\u001b[1;33m=\u001b[0m\u001b[0mNUM_EPOCHS\u001b[0m\u001b[1;33m,\u001b[0m \u001b[0mname_save\u001b[0m\u001b[1;33m=\u001b[0m\u001b[0mmodel_name_folder_path\u001b[0m\u001b[1;33m,\u001b[0m \u001b[0mdevice\u001b[0m\u001b[1;33m=\u001b[0m\u001b[0mdevice\u001b[0m\u001b[1;33m)\u001b[0m\u001b[1;33m\u001b[0m\u001b[1;33m\u001b[0m\u001b[0m\n\u001b[0m",
      "\u001b[1;32mc:\\Users\\joaor\\Desktop\\AQAUIS\\AQAUIS\\Code\\Visibility\\engine.py\u001b[0m in \u001b[0;36mtrain\u001b[1;34m(model, train_dataloader, validation_dataloader, optimizer, loss_fn, epochs, name_save, device)\u001b[0m\n\u001b[0;32m    128\u001b[0m \u001b[1;33m\u001b[0m\u001b[0m\n\u001b[0;32m    129\u001b[0m   \u001b[1;32mfor\u001b[0m \u001b[0mepoch\u001b[0m \u001b[1;32min\u001b[0m \u001b[0mtqdm\u001b[0m\u001b[1;33m(\u001b[0m\u001b[0mrange\u001b[0m\u001b[1;33m(\u001b[0m\u001b[0mepochs\u001b[0m\u001b[1;33m)\u001b[0m\u001b[1;33m)\u001b[0m\u001b[1;33m:\u001b[0m\u001b[1;33m\u001b[0m\u001b[1;33m\u001b[0m\u001b[0m\n\u001b[1;32m--> 130\u001b[1;33m     train_loss, train_acc = train_step(model=model,\n\u001b[0m\u001b[0;32m    131\u001b[0m                                        \u001b[0mdataloader\u001b[0m\u001b[1;33m=\u001b[0m\u001b[0mtrain_dataloader\u001b[0m\u001b[1;33m,\u001b[0m\u001b[1;33m\u001b[0m\u001b[1;33m\u001b[0m\u001b[0m\n\u001b[0;32m    132\u001b[0m                                        \u001b[0mloss_fn\u001b[0m\u001b[1;33m=\u001b[0m\u001b[0mloss_fn\u001b[0m\u001b[1;33m,\u001b[0m\u001b[1;33m\u001b[0m\u001b[1;33m\u001b[0m\u001b[0m\n",
      "\u001b[1;32mc:\\Users\\joaor\\Desktop\\AQAUIS\\AQAUIS\\Code\\Visibility\\engine.py\u001b[0m in \u001b[0;36mtrain_step\u001b[1;34m(model, dataloader, loss_fn, optimizer, device)\u001b[0m\n\u001b[0;32m     39\u001b[0m         \u001b[0mX\u001b[0m\u001b[1;33m,\u001b[0m \u001b[0my\u001b[0m \u001b[1;33m=\u001b[0m \u001b[0mX\u001b[0m\u001b[1;33m.\u001b[0m\u001b[0mto\u001b[0m\u001b[1;33m(\u001b[0m\u001b[0mdevice\u001b[0m\u001b[1;33m)\u001b[0m\u001b[1;33m,\u001b[0m \u001b[0my\u001b[0m\u001b[1;33m.\u001b[0m\u001b[0mto\u001b[0m\u001b[1;33m(\u001b[0m\u001b[0mdevice\u001b[0m\u001b[1;33m)\u001b[0m\u001b[1;33m\u001b[0m\u001b[1;33m\u001b[0m\u001b[0m\n\u001b[0;32m     40\u001b[0m \u001b[1;33m\u001b[0m\u001b[0m\n\u001b[1;32m---> 41\u001b[1;33m         \u001b[0my_pred\u001b[0m \u001b[1;33m=\u001b[0m \u001b[0mmodel\u001b[0m\u001b[1;33m(\u001b[0m\u001b[0mX\u001b[0m\u001b[1;33m)\u001b[0m\u001b[1;33m\u001b[0m\u001b[1;33m\u001b[0m\u001b[0m\n\u001b[0m\u001b[0;32m     42\u001b[0m \u001b[1;33m\u001b[0m\u001b[0m\n\u001b[0;32m     43\u001b[0m         \u001b[0mloss\u001b[0m \u001b[1;33m=\u001b[0m \u001b[0mloss_fn\u001b[0m\u001b[1;33m(\u001b[0m\u001b[0my_pred\u001b[0m\u001b[1;33m,\u001b[0m \u001b[0my\u001b[0m\u001b[1;33m)\u001b[0m\u001b[1;33m\u001b[0m\u001b[1;33m\u001b[0m\u001b[0m\n",
      "\u001b[1;32mc:\\Users\\joaor\\anaconda3\\lib\\site-packages\\torch\\nn\\modules\\module.py\u001b[0m in \u001b[0;36m_call_impl\u001b[1;34m(self, *input, **kwargs)\u001b[0m\n\u001b[0;32m   1192\u001b[0m         if not (self._backward_hooks or self._forward_hooks or self._forward_pre_hooks or _global_backward_hooks\n\u001b[0;32m   1193\u001b[0m                 or _global_forward_hooks or _global_forward_pre_hooks):\n\u001b[1;32m-> 1194\u001b[1;33m             \u001b[1;32mreturn\u001b[0m \u001b[0mforward_call\u001b[0m\u001b[1;33m(\u001b[0m\u001b[1;33m*\u001b[0m\u001b[0minput\u001b[0m\u001b[1;33m,\u001b[0m \u001b[1;33m**\u001b[0m\u001b[0mkwargs\u001b[0m\u001b[1;33m)\u001b[0m\u001b[1;33m\u001b[0m\u001b[1;33m\u001b[0m\u001b[0m\n\u001b[0m\u001b[0;32m   1195\u001b[0m         \u001b[1;31m# Do not call functions when jit is used\u001b[0m\u001b[1;33m\u001b[0m\u001b[1;33m\u001b[0m\u001b[0m\n\u001b[0;32m   1196\u001b[0m         \u001b[0mfull_backward_hooks\u001b[0m\u001b[1;33m,\u001b[0m \u001b[0mnon_full_backward_hooks\u001b[0m \u001b[1;33m=\u001b[0m \u001b[1;33m[\u001b[0m\u001b[1;33m]\u001b[0m\u001b[1;33m,\u001b[0m \u001b[1;33m[\u001b[0m\u001b[1;33m]\u001b[0m\u001b[1;33m\u001b[0m\u001b[1;33m\u001b[0m\u001b[0m\n",
      "\u001b[1;32mc:\\Users\\joaor\\Desktop\\AQAUIS\\AQAUIS\\Code\\Visibility\\efficientNet.py\u001b[0m in \u001b[0;36mforward\u001b[1;34m(self, x)\u001b[0m\n\u001b[0;32m    170\u001b[0m \u001b[1;33m\u001b[0m\u001b[0m\n\u001b[0;32m    171\u001b[0m     \u001b[1;32mdef\u001b[0m \u001b[0mforward\u001b[0m\u001b[1;33m(\u001b[0m\u001b[0mself\u001b[0m\u001b[1;33m,\u001b[0m \u001b[0mx\u001b[0m\u001b[1;33m)\u001b[0m\u001b[1;33m:\u001b[0m\u001b[1;33m\u001b[0m\u001b[1;33m\u001b[0m\u001b[0m\n\u001b[1;32m--> 172\u001b[1;33m         \u001b[0mx\u001b[0m \u001b[1;33m=\u001b[0m \u001b[0mself\u001b[0m\u001b[1;33m.\u001b[0m\u001b[0mpool\u001b[0m\u001b[1;33m(\u001b[0m\u001b[0mself\u001b[0m\u001b[1;33m.\u001b[0m\u001b[0mfeatures\u001b[0m\u001b[1;33m(\u001b[0m\u001b[0mx\u001b[0m\u001b[1;33m)\u001b[0m\u001b[1;33m)\u001b[0m\u001b[1;33m\u001b[0m\u001b[1;33m\u001b[0m\u001b[0m\n\u001b[0m\u001b[0;32m    173\u001b[0m         \u001b[1;32mreturn\u001b[0m \u001b[0mself\u001b[0m\u001b[1;33m.\u001b[0m\u001b[0mclassifier\u001b[0m\u001b[1;33m(\u001b[0m\u001b[0mx\u001b[0m\u001b[1;33m.\u001b[0m\u001b[0mview\u001b[0m\u001b[1;33m(\u001b[0m\u001b[0mx\u001b[0m\u001b[1;33m.\u001b[0m\u001b[0mshape\u001b[0m\u001b[1;33m[\u001b[0m\u001b[1;36m0\u001b[0m\u001b[1;33m]\u001b[0m\u001b[1;33m,\u001b[0m \u001b[1;33m-\u001b[0m\u001b[1;36m1\u001b[0m\u001b[1;33m)\u001b[0m\u001b[1;33m)\u001b[0m\u001b[1;33m\u001b[0m\u001b[1;33m\u001b[0m\u001b[0m\n\u001b[0;32m    174\u001b[0m \u001b[1;33m\u001b[0m\u001b[0m\n",
      "\u001b[1;32mc:\\Users\\joaor\\anaconda3\\lib\\site-packages\\torch\\nn\\modules\\module.py\u001b[0m in \u001b[0;36m_call_impl\u001b[1;34m(self, *input, **kwargs)\u001b[0m\n\u001b[0;32m   1192\u001b[0m         if not (self._backward_hooks or self._forward_hooks or self._forward_pre_hooks or _global_backward_hooks\n\u001b[0;32m   1193\u001b[0m                 or _global_forward_hooks or _global_forward_pre_hooks):\n\u001b[1;32m-> 1194\u001b[1;33m             \u001b[1;32mreturn\u001b[0m \u001b[0mforward_call\u001b[0m\u001b[1;33m(\u001b[0m\u001b[1;33m*\u001b[0m\u001b[0minput\u001b[0m\u001b[1;33m,\u001b[0m \u001b[1;33m**\u001b[0m\u001b[0mkwargs\u001b[0m\u001b[1;33m)\u001b[0m\u001b[1;33m\u001b[0m\u001b[1;33m\u001b[0m\u001b[0m\n\u001b[0m\u001b[0;32m   1195\u001b[0m         \u001b[1;31m# Do not call functions when jit is used\u001b[0m\u001b[1;33m\u001b[0m\u001b[1;33m\u001b[0m\u001b[0m\n\u001b[0;32m   1196\u001b[0m         \u001b[0mfull_backward_hooks\u001b[0m\u001b[1;33m,\u001b[0m \u001b[0mnon_full_backward_hooks\u001b[0m \u001b[1;33m=\u001b[0m \u001b[1;33m[\u001b[0m\u001b[1;33m]\u001b[0m\u001b[1;33m,\u001b[0m \u001b[1;33m[\u001b[0m\u001b[1;33m]\u001b[0m\u001b[1;33m\u001b[0m\u001b[1;33m\u001b[0m\u001b[0m\n",
      "\u001b[1;32mc:\\Users\\joaor\\anaconda3\\lib\\site-packages\\torch\\nn\\modules\\container.py\u001b[0m in \u001b[0;36mforward\u001b[1;34m(self, input)\u001b[0m\n\u001b[0;32m    202\u001b[0m     \u001b[1;32mdef\u001b[0m \u001b[0mforward\u001b[0m\u001b[1;33m(\u001b[0m\u001b[0mself\u001b[0m\u001b[1;33m,\u001b[0m \u001b[0minput\u001b[0m\u001b[1;33m)\u001b[0m\u001b[1;33m:\u001b[0m\u001b[1;33m\u001b[0m\u001b[1;33m\u001b[0m\u001b[0m\n\u001b[0;32m    203\u001b[0m         \u001b[1;32mfor\u001b[0m \u001b[0mmodule\u001b[0m \u001b[1;32min\u001b[0m \u001b[0mself\u001b[0m\u001b[1;33m:\u001b[0m\u001b[1;33m\u001b[0m\u001b[1;33m\u001b[0m\u001b[0m\n\u001b[1;32m--> 204\u001b[1;33m             \u001b[0minput\u001b[0m \u001b[1;33m=\u001b[0m \u001b[0mmodule\u001b[0m\u001b[1;33m(\u001b[0m\u001b[0minput\u001b[0m\u001b[1;33m)\u001b[0m\u001b[1;33m\u001b[0m\u001b[1;33m\u001b[0m\u001b[0m\n\u001b[0m\u001b[0;32m    205\u001b[0m         \u001b[1;32mreturn\u001b[0m \u001b[0minput\u001b[0m\u001b[1;33m\u001b[0m\u001b[1;33m\u001b[0m\u001b[0m\n\u001b[0;32m    206\u001b[0m \u001b[1;33m\u001b[0m\u001b[0m\n",
      "\u001b[1;32mc:\\Users\\joaor\\anaconda3\\lib\\site-packages\\torch\\nn\\modules\\module.py\u001b[0m in \u001b[0;36m_call_impl\u001b[1;34m(self, *input, **kwargs)\u001b[0m\n\u001b[0;32m   1192\u001b[0m         if not (self._backward_hooks or self._forward_hooks or self._forward_pre_hooks or _global_backward_hooks\n\u001b[0;32m   1193\u001b[0m                 or _global_forward_hooks or _global_forward_pre_hooks):\n\u001b[1;32m-> 1194\u001b[1;33m             \u001b[1;32mreturn\u001b[0m \u001b[0mforward_call\u001b[0m\u001b[1;33m(\u001b[0m\u001b[1;33m*\u001b[0m\u001b[0minput\u001b[0m\u001b[1;33m,\u001b[0m \u001b[1;33m**\u001b[0m\u001b[0mkwargs\u001b[0m\u001b[1;33m)\u001b[0m\u001b[1;33m\u001b[0m\u001b[1;33m\u001b[0m\u001b[0m\n\u001b[0m\u001b[0;32m   1195\u001b[0m         \u001b[1;31m# Do not call functions when jit is used\u001b[0m\u001b[1;33m\u001b[0m\u001b[1;33m\u001b[0m\u001b[0m\n\u001b[0;32m   1196\u001b[0m         \u001b[0mfull_backward_hooks\u001b[0m\u001b[1;33m,\u001b[0m \u001b[0mnon_full_backward_hooks\u001b[0m \u001b[1;33m=\u001b[0m \u001b[1;33m[\u001b[0m\u001b[1;33m]\u001b[0m\u001b[1;33m,\u001b[0m \u001b[1;33m[\u001b[0m\u001b[1;33m]\u001b[0m\u001b[1;33m\u001b[0m\u001b[1;33m\u001b[0m\u001b[0m\n",
      "\u001b[1;32mc:\\Users\\joaor\\Desktop\\AQAUIS\\AQAUIS\\Code\\Visibility\\efficientNet.py\u001b[0m in \u001b[0;36mforward\u001b[1;34m(self, x)\u001b[0m\n\u001b[0;32m     45\u001b[0m \u001b[1;33m\u001b[0m\u001b[0m\n\u001b[0;32m     46\u001b[0m     \u001b[1;32mdef\u001b[0m \u001b[0mforward\u001b[0m\u001b[1;33m(\u001b[0m\u001b[0mself\u001b[0m\u001b[1;33m,\u001b[0m \u001b[0mx\u001b[0m\u001b[1;33m)\u001b[0m\u001b[1;33m:\u001b[0m\u001b[1;33m\u001b[0m\u001b[1;33m\u001b[0m\u001b[0m\n\u001b[1;32m---> 47\u001b[1;33m         \u001b[1;32mreturn\u001b[0m \u001b[0mself\u001b[0m\u001b[1;33m.\u001b[0m\u001b[0msilu\u001b[0m\u001b[1;33m(\u001b[0m\u001b[0mself\u001b[0m\u001b[1;33m.\u001b[0m\u001b[0mbn\u001b[0m\u001b[1;33m(\u001b[0m\u001b[0mself\u001b[0m\u001b[1;33m.\u001b[0m\u001b[0mcnn\u001b[0m\u001b[1;33m(\u001b[0m\u001b[0mx\u001b[0m\u001b[1;33m)\u001b[0m\u001b[1;33m)\u001b[0m\u001b[1;33m)\u001b[0m\u001b[1;33m\u001b[0m\u001b[1;33m\u001b[0m\u001b[0m\n\u001b[0m\u001b[0;32m     48\u001b[0m \u001b[1;33m\u001b[0m\u001b[0m\n\u001b[0;32m     49\u001b[0m \u001b[1;33m\u001b[0m\u001b[0m\n",
      "\u001b[1;32mc:\\Users\\joaor\\anaconda3\\lib\\site-packages\\torch\\nn\\modules\\module.py\u001b[0m in \u001b[0;36m_call_impl\u001b[1;34m(self, *input, **kwargs)\u001b[0m\n\u001b[0;32m   1192\u001b[0m         if not (self._backward_hooks or self._forward_hooks or self._forward_pre_hooks or _global_backward_hooks\n\u001b[0;32m   1193\u001b[0m                 or _global_forward_hooks or _global_forward_pre_hooks):\n\u001b[1;32m-> 1194\u001b[1;33m             \u001b[1;32mreturn\u001b[0m \u001b[0mforward_call\u001b[0m\u001b[1;33m(\u001b[0m\u001b[1;33m*\u001b[0m\u001b[0minput\u001b[0m\u001b[1;33m,\u001b[0m \u001b[1;33m**\u001b[0m\u001b[0mkwargs\u001b[0m\u001b[1;33m)\u001b[0m\u001b[1;33m\u001b[0m\u001b[1;33m\u001b[0m\u001b[0m\n\u001b[0m\u001b[0;32m   1195\u001b[0m         \u001b[1;31m# Do not call functions when jit is used\u001b[0m\u001b[1;33m\u001b[0m\u001b[1;33m\u001b[0m\u001b[0m\n\u001b[0;32m   1196\u001b[0m         \u001b[0mfull_backward_hooks\u001b[0m\u001b[1;33m,\u001b[0m \u001b[0mnon_full_backward_hooks\u001b[0m \u001b[1;33m=\u001b[0m \u001b[1;33m[\u001b[0m\u001b[1;33m]\u001b[0m\u001b[1;33m,\u001b[0m \u001b[1;33m[\u001b[0m\u001b[1;33m]\u001b[0m\u001b[1;33m\u001b[0m\u001b[1;33m\u001b[0m\u001b[0m\n",
      "\u001b[1;32mc:\\Users\\joaor\\anaconda3\\lib\\site-packages\\torch\\nn\\modules\\conv.py\u001b[0m in \u001b[0;36mforward\u001b[1;34m(self, input)\u001b[0m\n\u001b[0;32m    461\u001b[0m \u001b[1;33m\u001b[0m\u001b[0m\n\u001b[0;32m    462\u001b[0m     \u001b[1;32mdef\u001b[0m \u001b[0mforward\u001b[0m\u001b[1;33m(\u001b[0m\u001b[0mself\u001b[0m\u001b[1;33m,\u001b[0m \u001b[0minput\u001b[0m\u001b[1;33m:\u001b[0m \u001b[0mTensor\u001b[0m\u001b[1;33m)\u001b[0m \u001b[1;33m->\u001b[0m \u001b[0mTensor\u001b[0m\u001b[1;33m:\u001b[0m\u001b[1;33m\u001b[0m\u001b[1;33m\u001b[0m\u001b[0m\n\u001b[1;32m--> 463\u001b[1;33m         \u001b[1;32mreturn\u001b[0m \u001b[0mself\u001b[0m\u001b[1;33m.\u001b[0m\u001b[0m_conv_forward\u001b[0m\u001b[1;33m(\u001b[0m\u001b[0minput\u001b[0m\u001b[1;33m,\u001b[0m \u001b[0mself\u001b[0m\u001b[1;33m.\u001b[0m\u001b[0mweight\u001b[0m\u001b[1;33m,\u001b[0m \u001b[0mself\u001b[0m\u001b[1;33m.\u001b[0m\u001b[0mbias\u001b[0m\u001b[1;33m)\u001b[0m\u001b[1;33m\u001b[0m\u001b[1;33m\u001b[0m\u001b[0m\n\u001b[0m\u001b[0;32m    464\u001b[0m \u001b[1;33m\u001b[0m\u001b[0m\n\u001b[0;32m    465\u001b[0m \u001b[1;32mclass\u001b[0m \u001b[0mConv3d\u001b[0m\u001b[1;33m(\u001b[0m\u001b[0m_ConvNd\u001b[0m\u001b[1;33m)\u001b[0m\u001b[1;33m:\u001b[0m\u001b[1;33m\u001b[0m\u001b[1;33m\u001b[0m\u001b[0m\n",
      "\u001b[1;32mc:\\Users\\joaor\\anaconda3\\lib\\site-packages\\torch\\nn\\modules\\conv.py\u001b[0m in \u001b[0;36m_conv_forward\u001b[1;34m(self, input, weight, bias)\u001b[0m\n\u001b[0;32m    457\u001b[0m                             \u001b[0mweight\u001b[0m\u001b[1;33m,\u001b[0m \u001b[0mbias\u001b[0m\u001b[1;33m,\u001b[0m \u001b[0mself\u001b[0m\u001b[1;33m.\u001b[0m\u001b[0mstride\u001b[0m\u001b[1;33m,\u001b[0m\u001b[1;33m\u001b[0m\u001b[1;33m\u001b[0m\u001b[0m\n\u001b[0;32m    458\u001b[0m                             _pair(0), self.dilation, self.groups)\n\u001b[1;32m--> 459\u001b[1;33m         return F.conv2d(input, weight, bias, self.stride,\n\u001b[0m\u001b[0;32m    460\u001b[0m                         self.padding, self.dilation, self.groups)\n\u001b[0;32m    461\u001b[0m \u001b[1;33m\u001b[0m\u001b[0m\n",
      "\u001b[1;31mKeyboardInterrupt\u001b[0m: "
     ]
    }
   ],
   "source": [
    "model_name = \"EfficientNetB0\"\n",
    "model_folder_path = models_path / model_name\n",
    "check_dir(model_folder_path)\n",
    "model_name_folder_path = model_folder_path / model_name\n",
    "\n",
    "#Train EfficientNet B0\n",
    "effnetb0.to(device)\n",
    "nadam_optim = torch.optim.NAdam(params=effnetb0.parameters())\n",
    "train_effnetb0_results, train_time_effnetb0 = train(effnetb0, train_dl, validation_dl, optimizer=nadam_optim, loss_fn=loss_fn, epochs=NUM_EPOCHS, name_save=model_name_folder_path, device=device)"
   ]
  },
  {
   "cell_type": "code",
   "execution_count": null,
   "metadata": {},
   "outputs": [
    {
     "data": {
      "application/vnd.jupyter.widget-view+json": {
       "model_id": "1785b1cc123f4edd8696bd967b3cf2d0",
       "version_major": 2,
       "version_minor": 0
      },
      "text/plain": [
       "  0%|          | 0/25 [00:02<?, ?it/s]"
      ]
     },
     "metadata": {},
     "output_type": "display_data"
    }
   ],
   "source": [
    "eval_effnetb0_results = eval_model(effnetb0, test_dl, loss_fn = loss_fn, accuracy_fn=accuracy_fn, device = device, dummy_input= torch.rand(32,3,224,224).to(device))\n",
    "effnetb0_results = [train_effnetb0_results, train_time_effnetb0, eval_effnetb0_results]\n",
    "final_save(model_folder_path, model_name, NUM_EPOCHS, effnetb0, effnetb0_results)"
   ]
  }
 ],
 "metadata": {
  "kernelspec": {
   "display_name": "base",
   "language": "python",
   "name": "python3"
  },
  "language_info": {
   "codemirror_mode": {
    "name": "ipython",
    "version": 3
   },
   "file_extension": ".py",
   "mimetype": "text/x-python",
   "name": "python",
   "nbconvert_exporter": "python",
   "pygments_lexer": "ipython3",
   "version": "3.9.13"
  },
  "orig_nbformat": 4
 },
 "nbformat": 4,
 "nbformat_minor": 2
}
