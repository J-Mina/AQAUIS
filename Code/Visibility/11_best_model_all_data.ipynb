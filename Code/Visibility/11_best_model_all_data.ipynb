{
 "cells": [
  {
   "cell_type": "code",
   "execution_count": 1,
   "metadata": {},
   "outputs": [],
   "source": [
    "from pathlib import Path\n",
    "import pandas as pd\n",
    "\n",
    "from utils import *\n",
    "from dataloaders import *\n",
    "from data_preparation import *\n",
    "from allResNets import *\n",
    "from MobileNetV3 import *\n",
    "from engine import *\n",
    "from efficientNet import *\n",
    "from data_transforms import *\n",
    "\n",
    "change_to_disk()\n",
    "data_dir = Path(\"new_split_1k_all/\")\n",
    "models_path = Path('best_model/')\n",
    "check_dir(models_path)"
   ]
  },
  {
   "cell_type": "code",
   "execution_count": 2,
   "metadata": {},
   "outputs": [],
   "source": [
    "image_shape = (1080, 1920)\n",
    "resize_factor = 0.3\n",
    "resize = np.multiply(image_shape,resize_factor)\n",
    "resize = [int(resize[0]), int(resize[1])]\n",
    "\n",
    "data_transform = create_transform(resize=resize, rotate=10, flip_h = True, color_dev=True, transf_tensor=True, normalize=True, sp_noise=False, gauss_noise=False)\n",
    "\n",
    "BATCH_SIZE = 16\n",
    "train_dl, validation_dl, test_dl, train_data, validation_data, test_data, class_names = create_dataloaders(data_dir, data_transform, batch_size = BATCH_SIZE)"
   ]
  },
  {
   "cell_type": "code",
   "execution_count": 4,
   "metadata": {},
   "outputs": [],
   "source": [
    "NUM_EPOCHS = 100\n",
    "device = get_device()\n",
    "\n",
    "resnet18 = ResNet18()\n",
    "resnet50 = ResNet50()\n",
    "mobnet_sml = MobileNetSmall()\n",
    "mobnet_lrg = MobileNetLarge()\n",
    "effnetb0 = EfficientNetB0()\n",
    "loss_fn = nn.CrossEntropyLoss()"
   ]
  },
  {
   "cell_type": "code",
   "execution_count": 4,
   "metadata": {},
   "outputs": [
    {
     "name": "stdout",
     "output_type": "stream",
     "text": [
      "best_model\\ResNet18_all does not exist, creating one...\n"
     ]
    },
    {
     "data": {
      "application/vnd.jupyter.widget-view+json": {
       "model_id": "7654ef6ce5e84c119bad4c45f0dd4cc1",
       "version_major": 2,
       "version_minor": 0
      },
      "text/plain": [
       "  0%|          | 0/100 [00:00<?, ?it/s]"
      ]
     },
     "metadata": {},
     "output_type": "display_data"
    },
    {
     "name": "stdout",
     "output_type": "stream",
     "text": [
      "Epoch: 1 | train_loss: 0.8836 | train_acc: 0.6084 | validation_loss: 0.9776 | validation_acc: 0.5575\n",
      "Epoch: 2 | train_loss: 0.6334 | train_acc: 0.7344 | validation_loss: 1.3198 | validation_acc: 0.5175\n",
      "Epoch: 3 | train_loss: 0.4688 | train_acc: 0.8166 | validation_loss: 1.2807 | validation_acc: 0.6775\n",
      "Epoch: 4 | train_loss: 0.3684 | train_acc: 0.8566 | validation_loss: 0.9002 | validation_acc: 0.7575\n",
      "Epoch: 5 | train_loss: 0.2952 | train_acc: 0.8831 | validation_loss: 0.7704 | validation_acc: 0.7450\n",
      "Epoch: 6 | train_loss: 0.2686 | train_acc: 0.8944 | validation_loss: 0.5316 | validation_acc: 0.8325\n",
      "Epoch: 7 | train_loss: 0.2318 | train_acc: 0.9147 | validation_loss: 0.3603 | validation_acc: 0.8925\n",
      "Epoch: 8 | train_loss: 0.1810 | train_acc: 0.9328 | validation_loss: 0.5587 | validation_acc: 0.8525\n",
      "Epoch: 9 | train_loss: 0.1984 | train_acc: 0.9206 | validation_loss: 0.8294 | validation_acc: 0.7975\n",
      "Epoch: 10 | train_loss: 0.1736 | train_acc: 0.9350 | validation_loss: 0.5892 | validation_acc: 0.8050\n",
      "Epoch: 11 | train_loss: 0.1692 | train_acc: 0.9397 | validation_loss: 0.3557 | validation_acc: 0.8775\n",
      "Epoch: 12 | train_loss: 0.1546 | train_acc: 0.9419 | validation_loss: 0.5804 | validation_acc: 0.8425\n",
      "Epoch: 13 | train_loss: 0.1820 | train_acc: 0.9350 | validation_loss: 0.4958 | validation_acc: 0.8550\n",
      "Epoch: 14 | train_loss: 0.1456 | train_acc: 0.9441 | validation_loss: 0.4057 | validation_acc: 0.9025\n",
      "Epoch: 15 | train_loss: 0.1494 | train_acc: 0.9419 | validation_loss: 0.6841 | validation_acc: 0.8350\n",
      "Epoch: 16 | train_loss: 0.1415 | train_acc: 0.9431 | validation_loss: 0.5044 | validation_acc: 0.8425\n",
      "Epoch: 17 | train_loss: 0.1356 | train_acc: 0.9513 | validation_loss: 0.4675 | validation_acc: 0.8725\n",
      "Epoch: 18 | train_loss: 0.1435 | train_acc: 0.9469 | validation_loss: 0.6013 | validation_acc: 0.8200\n",
      "Epoch: 19 | train_loss: 0.1235 | train_acc: 0.9544 | validation_loss: 0.5050 | validation_acc: 0.8475\n",
      "Epoch: 20 | train_loss: 0.1291 | train_acc: 0.9578 | validation_loss: 1.1734 | validation_acc: 0.7400\n",
      "Epoch: 21 | train_loss: 0.1149 | train_acc: 0.9587 | validation_loss: 1.3410 | validation_acc: 0.7825\n",
      "Epoch: 22 | train_loss: 0.1407 | train_acc: 0.9541 | validation_loss: 0.4470 | validation_acc: 0.8700\n",
      "Epoch: 23 | train_loss: 0.1120 | train_acc: 0.9594 | validation_loss: 0.3216 | validation_acc: 0.9125\n",
      "Epoch: 24 | train_loss: 0.1102 | train_acc: 0.9609 | validation_loss: 0.3542 | validation_acc: 0.9175\n",
      "Epoch: 25 | train_loss: 0.1129 | train_acc: 0.9550 | validation_loss: 0.4330 | validation_acc: 0.8850\n",
      "Epoch: 26 | train_loss: 0.1013 | train_acc: 0.9678 | validation_loss: 0.3603 | validation_acc: 0.8975\n",
      "Epoch: 27 | train_loss: 0.0979 | train_acc: 0.9644 | validation_loss: 0.9937 | validation_acc: 0.7650\n",
      "Epoch: 28 | train_loss: 0.1154 | train_acc: 0.9594 | validation_loss: 0.5341 | validation_acc: 0.8825\n",
      "Epoch: 29 | train_loss: 0.1183 | train_acc: 0.9606 | validation_loss: 0.4909 | validation_acc: 0.8750\n",
      "Epoch: 30 | train_loss: 0.1051 | train_acc: 0.9603 | validation_loss: 0.5436 | validation_acc: 0.8850\n",
      "Epoch: 31 | train_loss: 0.0910 | train_acc: 0.9703 | validation_loss: 0.4514 | validation_acc: 0.8850\n",
      "Epoch: 32 | train_loss: 0.1087 | train_acc: 0.9663 | validation_loss: 0.4785 | validation_acc: 0.8925\n",
      "Epoch: 33 | train_loss: 0.0804 | train_acc: 0.9725 | validation_loss: 0.6082 | validation_acc: 0.8700\n",
      "Epoch: 34 | train_loss: 0.0937 | train_acc: 0.9650 | validation_loss: 0.3445 | validation_acc: 0.9050\n",
      "Epoch: 35 | train_loss: 0.0948 | train_acc: 0.9688 | validation_loss: 0.5969 | validation_acc: 0.8750\n",
      "Epoch: 36 | train_loss: 0.0945 | train_acc: 0.9672 | validation_loss: 0.3917 | validation_acc: 0.9075\n",
      "Epoch: 37 | train_loss: 0.0859 | train_acc: 0.9684 | validation_loss: 0.4448 | validation_acc: 0.9125\n",
      "Epoch: 38 | train_loss: 0.0743 | train_acc: 0.9741 | validation_loss: 0.3960 | validation_acc: 0.9025\n",
      "Epoch: 39 | train_loss: 0.0903 | train_acc: 0.9684 | validation_loss: 0.5843 | validation_acc: 0.8600\n",
      "Epoch: 40 | train_loss: 0.1072 | train_acc: 0.9622 | validation_loss: 0.4401 | validation_acc: 0.8850\n",
      "Epoch: 41 | train_loss: 0.0837 | train_acc: 0.9709 | validation_loss: 0.9358 | validation_acc: 0.8075\n",
      "Epoch: 42 | train_loss: 0.0863 | train_acc: 0.9703 | validation_loss: 0.4690 | validation_acc: 0.8825\n",
      "Epoch: 43 | train_loss: 0.0756 | train_acc: 0.9738 | validation_loss: 0.5246 | validation_acc: 0.8825\n",
      "Epoch: 44 | train_loss: 0.0728 | train_acc: 0.9728 | validation_loss: 0.7043 | validation_acc: 0.8450\n",
      "Epoch: 45 | train_loss: 0.0715 | train_acc: 0.9744 | validation_loss: 0.4716 | validation_acc: 0.9100\n",
      "Epoch: 46 | train_loss: 0.0818 | train_acc: 0.9703 | validation_loss: 0.5156 | validation_acc: 0.8750\n",
      "Epoch: 47 | train_loss: 0.0875 | train_acc: 0.9675 | validation_loss: 0.4785 | validation_acc: 0.8725\n",
      "Epoch: 48 | train_loss: 0.0586 | train_acc: 0.9803 | validation_loss: 1.0937 | validation_acc: 0.8000\n",
      "Epoch: 49 | train_loss: 0.0714 | train_acc: 0.9744 | validation_loss: 0.4548 | validation_acc: 0.9025\n",
      "Epoch: 50 | train_loss: 0.0516 | train_acc: 0.9831 | validation_loss: 0.5079 | validation_acc: 0.8750\n",
      "Epoch: 51 | train_loss: 0.0736 | train_acc: 0.9734 | validation_loss: 0.8153 | validation_acc: 0.8500\n",
      "Epoch: 52 | train_loss: 0.0706 | train_acc: 0.9769 | validation_loss: 0.7160 | validation_acc: 0.8225\n",
      "Epoch: 53 | train_loss: 0.0525 | train_acc: 0.9828 | validation_loss: 0.5845 | validation_acc: 0.8925\n",
      "Epoch: 54 | train_loss: 0.0707 | train_acc: 0.9756 | validation_loss: 0.8724 | validation_acc: 0.8450\n",
      "Epoch: 55 | train_loss: 0.0713 | train_acc: 0.9769 | validation_loss: 0.7809 | validation_acc: 0.8600\n",
      "Epoch: 56 | train_loss: 0.0611 | train_acc: 0.9766 | validation_loss: 0.4865 | validation_acc: 0.8800\n",
      "Epoch: 57 | train_loss: 0.0568 | train_acc: 0.9791 | validation_loss: 0.5290 | validation_acc: 0.8950\n",
      "Epoch: 58 | train_loss: 0.0668 | train_acc: 0.9750 | validation_loss: 0.5295 | validation_acc: 0.8900\n",
      "Epoch: 59 | train_loss: 0.0559 | train_acc: 0.9819 | validation_loss: 0.6746 | validation_acc: 0.8750\n",
      "Epoch: 60 | train_loss: 0.0697 | train_acc: 0.9744 | validation_loss: 0.6517 | validation_acc: 0.8425\n",
      "Epoch: 61 | train_loss: 0.0642 | train_acc: 0.9788 | validation_loss: 0.7518 | validation_acc: 0.8575\n",
      "Epoch: 62 | train_loss: 0.0622 | train_acc: 0.9794 | validation_loss: 0.4392 | validation_acc: 0.9025\n",
      "Epoch: 63 | train_loss: 0.0459 | train_acc: 0.9853 | validation_loss: 0.6650 | validation_acc: 0.8875\n",
      "Epoch: 64 | train_loss: 0.0598 | train_acc: 0.9775 | validation_loss: 0.6148 | validation_acc: 0.8650\n",
      "Epoch: 65 | train_loss: 0.0589 | train_acc: 0.9794 | validation_loss: 0.5658 | validation_acc: 0.9075\n",
      "Epoch: 66 | train_loss: 0.0575 | train_acc: 0.9812 | validation_loss: 0.6454 | validation_acc: 0.8400\n",
      "Epoch: 67 | train_loss: 0.0401 | train_acc: 0.9888 | validation_loss: 0.7332 | validation_acc: 0.8775\n",
      "Epoch: 68 | train_loss: 0.0613 | train_acc: 0.9800 | validation_loss: 1.1116 | validation_acc: 0.8300\n",
      "Epoch: 69 | train_loss: 0.0521 | train_acc: 0.9831 | validation_loss: 0.5011 | validation_acc: 0.8850\n",
      "Epoch: 70 | train_loss: 0.0391 | train_acc: 0.9872 | validation_loss: 0.6410 | validation_acc: 0.8675\n",
      "Epoch: 71 | train_loss: 0.0536 | train_acc: 0.9847 | validation_loss: 0.6648 | validation_acc: 0.8550\n",
      "Epoch: 72 | train_loss: 0.0542 | train_acc: 0.9841 | validation_loss: 0.6497 | validation_acc: 0.8675\n",
      "Epoch: 73 | train_loss: 0.0607 | train_acc: 0.9778 | validation_loss: 0.7619 | validation_acc: 0.8600\n",
      "Epoch: 74 | train_loss: 0.0580 | train_acc: 0.9809 | validation_loss: 0.5017 | validation_acc: 0.8900\n",
      "Epoch: 75 | train_loss: 0.0435 | train_acc: 0.9850 | validation_loss: 0.6664 | validation_acc: 0.8600\n",
      "Epoch: 76 | train_loss: 0.0566 | train_acc: 0.9819 | validation_loss: 0.4554 | validation_acc: 0.9025\n",
      "Epoch: 77 | train_loss: 0.0420 | train_acc: 0.9859 | validation_loss: 0.6947 | validation_acc: 0.8650\n",
      "Epoch: 78 | train_loss: 0.0436 | train_acc: 0.9853 | validation_loss: 0.4120 | validation_acc: 0.9050\n",
      "Epoch: 79 | train_loss: 0.0452 | train_acc: 0.9841 | validation_loss: 0.5713 | validation_acc: 0.8975\n",
      "Epoch: 80 | train_loss: 0.0481 | train_acc: 0.9800 | validation_loss: 0.5497 | validation_acc: 0.9050\n",
      "Epoch: 81 | train_loss: 0.0471 | train_acc: 0.9831 | validation_loss: 0.7609 | validation_acc: 0.8825\n",
      "Epoch: 82 | train_loss: 0.0492 | train_acc: 0.9834 | validation_loss: 0.4516 | validation_acc: 0.9000\n",
      "Epoch: 83 | train_loss: 0.0543 | train_acc: 0.9816 | validation_loss: 0.3500 | validation_acc: 0.9000\n",
      "Epoch: 84 | train_loss: 0.0667 | train_acc: 0.9769 | validation_loss: 0.6428 | validation_acc: 0.8850\n",
      "Epoch: 85 | train_loss: 0.0481 | train_acc: 0.9831 | validation_loss: 0.6643 | validation_acc: 0.8950\n",
      "Epoch: 86 | train_loss: 0.0414 | train_acc: 0.9875 | validation_loss: 0.5364 | validation_acc: 0.9100\n",
      "Epoch: 87 | train_loss: 0.0403 | train_acc: 0.9884 | validation_loss: 0.5560 | validation_acc: 0.8700\n",
      "Epoch: 88 | train_loss: 0.0527 | train_acc: 0.9828 | validation_loss: 0.7104 | validation_acc: 0.8875\n",
      "Epoch: 89 | train_loss: 0.0438 | train_acc: 0.9828 | validation_loss: 0.4446 | validation_acc: 0.9250\n",
      "Epoch: 90 | train_loss: 0.0375 | train_acc: 0.9869 | validation_loss: 0.3910 | validation_acc: 0.9200\n",
      "Epoch: 91 | train_loss: 0.0439 | train_acc: 0.9872 | validation_loss: 0.6992 | validation_acc: 0.8550\n",
      "Epoch: 92 | train_loss: 0.0350 | train_acc: 0.9888 | validation_loss: 0.4574 | validation_acc: 0.9325\n",
      "Epoch: 93 | train_loss: 0.0368 | train_acc: 0.9859 | validation_loss: 0.8049 | validation_acc: 0.8800\n",
      "Epoch: 94 | train_loss: 0.0353 | train_acc: 0.9875 | validation_loss: 0.6245 | validation_acc: 0.8975\n",
      "Epoch: 95 | train_loss: 0.0490 | train_acc: 0.9828 | validation_loss: 0.5760 | validation_acc: 0.8925\n",
      "Epoch: 96 | train_loss: 0.0445 | train_acc: 0.9838 | validation_loss: 0.5675 | validation_acc: 0.9300\n",
      "Epoch: 97 | train_loss: 0.0318 | train_acc: 0.9872 | validation_loss: 0.5263 | validation_acc: 0.9125\n",
      "Epoch: 98 | train_loss: 0.0345 | train_acc: 0.9900 | validation_loss: 0.4594 | validation_acc: 0.9100\n",
      "Epoch: 99 | train_loss: 0.0391 | train_acc: 0.9847 | validation_loss: 0.3646 | validation_acc: 0.9350\n",
      "Epoch: 100 | train_loss: 0.0395 | train_acc: 0.9866 | validation_loss: 0.8732 | validation_acc: 0.8925\n"
     ]
    }
   ],
   "source": [
    "model_name = \"ResNet18_all\"\n",
    "model_folder_path = models_path / model_name\n",
    "check_dir(model_folder_path)\n",
    "model_name_folder_path = model_folder_path / model_name\n",
    "\n",
    "#Train ResNet18\n",
    "resnet18.to(device)\n",
    "nadam_optim = torch.optim.NAdam(params=resnet18.parameters())\n",
    "train_resnet18_results, train_time_resnet18 = train(resnet18, train_dl, validation_dl, optimizer=nadam_optim, loss_fn=loss_fn, epochs=NUM_EPOCHS, name_save=model_name_folder_path, device=device)"
   ]
  },
  {
   "cell_type": "code",
   "execution_count": 5,
   "metadata": {},
   "outputs": [
    {
     "data": {
      "application/vnd.jupyter.widget-view+json": {
       "model_id": "f76ca9c4d98b4d2cb10bca8a11b95ac1",
       "version_major": 2,
       "version_minor": 0
      },
      "text/plain": [
       "  0%|          | 0/25 [00:01<?, ?it/s]"
      ]
     },
     "metadata": {},
     "output_type": "display_data"
    }
   ],
   "source": [
    "eval_resnet18_results = eval_model(resnet18, test_dl, loss_fn = loss_fn, accuracy_fn=accuracy_fn, device = device, dummy_input= torch.rand(32,3,224,224).to(device))\n",
    "resnet18_results = [train_resnet18_results, train_time_resnet18, eval_resnet18_results]\n",
    "final_save(model_folder_path,model_name, NUM_EPOCHS, resnet18, resnet18_results)"
   ]
  },
  {
   "cell_type": "code",
   "execution_count": 5,
   "metadata": {},
   "outputs": [
    {
     "data": {
      "application/vnd.jupyter.widget-view+json": {
       "model_id": "25ebcd78cdfe4cae9099b352ab594771",
       "version_major": 2,
       "version_minor": 0
      },
      "text/plain": [
       "  0%|          | 0/100 [00:00<?, ?it/s]"
      ]
     },
     "metadata": {},
     "output_type": "display_data"
    },
    {
     "name": "stdout",
     "output_type": "stream",
     "text": [
      "Epoch: 1 | train_loss: 0.9821 | train_acc: 0.6091 | validation_loss: 1.4648 | validation_acc: 0.4925\n",
      "Epoch: 2 | train_loss: 0.5972 | train_acc: 0.7584 | validation_loss: 1.1678 | validation_acc: 0.6325\n",
      "Epoch: 3 | train_loss: 0.5266 | train_acc: 0.7781 | validation_loss: 0.8143 | validation_acc: 0.6800\n",
      "Epoch: 4 | train_loss: 0.3888 | train_acc: 0.8466 | validation_loss: 1.0795 | validation_acc: 0.6050\n",
      "Epoch: 5 | train_loss: 0.3470 | train_acc: 0.8706 | validation_loss: 1.0648 | validation_acc: 0.6050\n",
      "Epoch: 6 | train_loss: 0.3007 | train_acc: 0.8809 | validation_loss: 1.1740 | validation_acc: 0.6925\n",
      "Epoch: 7 | train_loss: 0.2829 | train_acc: 0.8984 | validation_loss: 1.1505 | validation_acc: 0.6625\n",
      "Epoch: 8 | train_loss: 0.2917 | train_acc: 0.8922 | validation_loss: 0.4689 | validation_acc: 0.8175\n",
      "Epoch: 9 | train_loss: 0.2229 | train_acc: 0.9175 | validation_loss: 0.5042 | validation_acc: 0.8150\n",
      "Epoch: 10 | train_loss: 0.2280 | train_acc: 0.9144 | validation_loss: 0.5257 | validation_acc: 0.7775\n",
      "Epoch: 11 | train_loss: 0.2319 | train_acc: 0.9184 | validation_loss: 1.1853 | validation_acc: 0.6925\n",
      "Epoch: 12 | train_loss: 0.1942 | train_acc: 0.9291 | validation_loss: 0.5640 | validation_acc: 0.7800\n",
      "Epoch: 13 | train_loss: 0.2034 | train_acc: 0.9219 | validation_loss: 0.5530 | validation_acc: 0.8475\n",
      "Epoch: 14 | train_loss: 0.1663 | train_acc: 0.9431 | validation_loss: 0.7016 | validation_acc: 0.7200\n",
      "Epoch: 15 | train_loss: 0.1801 | train_acc: 0.9347 | validation_loss: 1.0984 | validation_acc: 0.6775\n",
      "Epoch: 16 | train_loss: 0.1740 | train_acc: 0.9394 | validation_loss: 0.4836 | validation_acc: 0.8275\n",
      "Epoch: 17 | train_loss: 0.1558 | train_acc: 0.9406 | validation_loss: 0.5417 | validation_acc: 0.8175\n",
      "Epoch: 18 | train_loss: 0.1512 | train_acc: 0.9413 | validation_loss: 0.5515 | validation_acc: 0.8575\n",
      "Epoch: 19 | train_loss: 0.1402 | train_acc: 0.9441 | validation_loss: 0.4763 | validation_acc: 0.8650\n",
      "Epoch: 20 | train_loss: 0.1626 | train_acc: 0.9428 | validation_loss: 0.5874 | validation_acc: 0.8300\n",
      "Epoch: 21 | train_loss: 0.1257 | train_acc: 0.9559 | validation_loss: 0.8047 | validation_acc: 0.7975\n",
      "Epoch: 22 | train_loss: 0.1405 | train_acc: 0.9491 | validation_loss: 0.5239 | validation_acc: 0.8625\n",
      "Epoch: 23 | train_loss: 0.1298 | train_acc: 0.9578 | validation_loss: 0.6624 | validation_acc: 0.7975\n",
      "Epoch: 24 | train_loss: 0.1168 | train_acc: 0.9606 | validation_loss: 0.5216 | validation_acc: 0.8650\n",
      "Epoch: 25 | train_loss: 0.1176 | train_acc: 0.9559 | validation_loss: 0.5553 | validation_acc: 0.8375\n",
      "Epoch: 26 | train_loss: 0.1186 | train_acc: 0.9556 | validation_loss: 0.5984 | validation_acc: 0.8100\n",
      "Epoch: 27 | train_loss: 0.1397 | train_acc: 0.9516 | validation_loss: 0.6409 | validation_acc: 0.8400\n",
      "Epoch: 28 | train_loss: 0.1410 | train_acc: 0.9478 | validation_loss: 0.7444 | validation_acc: 0.7875\n",
      "Epoch: 29 | train_loss: 0.1120 | train_acc: 0.9594 | validation_loss: 0.4362 | validation_acc: 0.8875\n",
      "Epoch: 30 | train_loss: 0.1072 | train_acc: 0.9641 | validation_loss: 0.6652 | validation_acc: 0.7975\n",
      "Epoch: 31 | train_loss: 0.0993 | train_acc: 0.9684 | validation_loss: 0.4798 | validation_acc: 0.8800\n",
      "Epoch: 32 | train_loss: 0.0996 | train_acc: 0.9653 | validation_loss: 0.6314 | validation_acc: 0.8250\n",
      "Epoch: 33 | train_loss: 0.1026 | train_acc: 0.9606 | validation_loss: 0.6576 | validation_acc: 0.8750\n",
      "Epoch: 34 | train_loss: 0.1053 | train_acc: 0.9641 | validation_loss: 0.5969 | validation_acc: 0.8600\n",
      "Epoch: 35 | train_loss: 0.0776 | train_acc: 0.9750 | validation_loss: 0.4963 | validation_acc: 0.8725\n",
      "Epoch: 36 | train_loss: 0.0849 | train_acc: 0.9691 | validation_loss: 0.6440 | validation_acc: 0.8875\n",
      "Epoch: 37 | train_loss: 0.1210 | train_acc: 0.9603 | validation_loss: 1.4293 | validation_acc: 0.7425\n",
      "Epoch: 38 | train_loss: 0.0951 | train_acc: 0.9653 | validation_loss: 0.5565 | validation_acc: 0.8625\n",
      "Epoch: 39 | train_loss: 0.1033 | train_acc: 0.9675 | validation_loss: 0.4381 | validation_acc: 0.8675\n",
      "Epoch: 40 | train_loss: 0.1046 | train_acc: 0.9606 | validation_loss: 0.5219 | validation_acc: 0.8800\n",
      "Epoch: 41 | train_loss: 0.1024 | train_acc: 0.9688 | validation_loss: 0.5080 | validation_acc: 0.8475\n",
      "Epoch: 42 | train_loss: 0.0858 | train_acc: 0.9706 | validation_loss: 0.6396 | validation_acc: 0.8575\n",
      "Epoch: 43 | train_loss: 0.0861 | train_acc: 0.9697 | validation_loss: 0.7141 | validation_acc: 0.8275\n",
      "Epoch: 44 | train_loss: 0.0939 | train_acc: 0.9691 | validation_loss: 0.4560 | validation_acc: 0.8575\n",
      "Epoch: 45 | train_loss: 0.0926 | train_acc: 0.9719 | validation_loss: 0.3561 | validation_acc: 0.9200\n",
      "Epoch: 46 | train_loss: 0.0698 | train_acc: 0.9775 | validation_loss: 0.7299 | validation_acc: 0.8450\n",
      "Epoch: 47 | train_loss: 0.0779 | train_acc: 0.9747 | validation_loss: 0.7914 | validation_acc: 0.8425\n",
      "Epoch: 48 | train_loss: 0.0954 | train_acc: 0.9684 | validation_loss: 0.4393 | validation_acc: 0.8800\n",
      "Epoch: 49 | train_loss: 0.0712 | train_acc: 0.9741 | validation_loss: 0.7361 | validation_acc: 0.8450\n",
      "Epoch: 50 | train_loss: 0.0690 | train_acc: 0.9781 | validation_loss: 0.4424 | validation_acc: 0.8900\n",
      "Epoch: 51 | train_loss: 0.0773 | train_acc: 0.9753 | validation_loss: 0.6696 | validation_acc: 0.8500\n",
      "Epoch: 52 | train_loss: 0.0767 | train_acc: 0.9734 | validation_loss: 0.5396 | validation_acc: 0.8825\n",
      "Epoch: 53 | train_loss: 0.0791 | train_acc: 0.9716 | validation_loss: 0.5615 | validation_acc: 0.8350\n",
      "Epoch: 54 | train_loss: 0.0681 | train_acc: 0.9738 | validation_loss: 1.2153 | validation_acc: 0.6750\n",
      "Epoch: 55 | train_loss: 0.0749 | train_acc: 0.9766 | validation_loss: 0.5509 | validation_acc: 0.9125\n",
      "Epoch: 56 | train_loss: 0.0716 | train_acc: 0.9762 | validation_loss: 0.5353 | validation_acc: 0.8550\n",
      "Epoch: 57 | train_loss: 0.0764 | train_acc: 0.9741 | validation_loss: 0.6861 | validation_acc: 0.8650\n",
      "Epoch: 58 | train_loss: 0.0840 | train_acc: 0.9678 | validation_loss: 0.7265 | validation_acc: 0.7975\n",
      "Epoch: 59 | train_loss: 0.0610 | train_acc: 0.9784 | validation_loss: 0.6491 | validation_acc: 0.8450\n",
      "Epoch: 60 | train_loss: 0.0569 | train_acc: 0.9822 | validation_loss: 0.5329 | validation_acc: 0.8525\n",
      "Epoch: 61 | train_loss: 0.0617 | train_acc: 0.9778 | validation_loss: 0.7599 | validation_acc: 0.8300\n",
      "Epoch: 62 | train_loss: 0.0542 | train_acc: 0.9806 | validation_loss: 0.8046 | validation_acc: 0.8275\n",
      "Epoch: 63 | train_loss: 0.0662 | train_acc: 0.9772 | validation_loss: 0.5918 | validation_acc: 0.8675\n",
      "Epoch: 64 | train_loss: 0.0862 | train_acc: 0.9734 | validation_loss: 0.5127 | validation_acc: 0.8725\n",
      "Epoch: 65 | train_loss: 0.0722 | train_acc: 0.9741 | validation_loss: 0.5253 | validation_acc: 0.8900\n",
      "Epoch: 66 | train_loss: 0.0679 | train_acc: 0.9753 | validation_loss: 0.6347 | validation_acc: 0.9025\n",
      "Epoch: 67 | train_loss: 0.0530 | train_acc: 0.9828 | validation_loss: 0.4989 | validation_acc: 0.9050\n",
      "Epoch: 68 | train_loss: 0.0531 | train_acc: 0.9791 | validation_loss: 0.8973 | validation_acc: 0.8250\n",
      "Epoch: 69 | train_loss: 0.0699 | train_acc: 0.9741 | validation_loss: 0.3523 | validation_acc: 0.9100\n",
      "Epoch: 70 | train_loss: 0.0479 | train_acc: 0.9850 | validation_loss: 0.4636 | validation_acc: 0.9050\n",
      "Epoch: 71 | train_loss: 0.0564 | train_acc: 0.9794 | validation_loss: 0.5450 | validation_acc: 0.9000\n",
      "Epoch: 72 | train_loss: 0.0505 | train_acc: 0.9838 | validation_loss: 0.6454 | validation_acc: 0.8900\n",
      "Epoch: 73 | train_loss: 0.0496 | train_acc: 0.9831 | validation_loss: 0.6882 | validation_acc: 0.8725\n",
      "Epoch: 74 | train_loss: 0.0631 | train_acc: 0.9769 | validation_loss: 1.3998 | validation_acc: 0.8200\n",
      "Epoch: 75 | train_loss: 0.0504 | train_acc: 0.9875 | validation_loss: 0.4729 | validation_acc: 0.9200\n",
      "Epoch: 76 | train_loss: 0.0625 | train_acc: 0.9781 | validation_loss: 0.8497 | validation_acc: 0.8400\n",
      "Epoch: 77 | train_loss: 0.0505 | train_acc: 0.9819 | validation_loss: 0.6121 | validation_acc: 0.8675\n",
      "Epoch: 78 | train_loss: 0.0525 | train_acc: 0.9819 | validation_loss: 0.4367 | validation_acc: 0.9050\n",
      "Epoch: 79 | train_loss: 0.0579 | train_acc: 0.9794 | validation_loss: 0.3709 | validation_acc: 0.9150\n",
      "Epoch: 80 | train_loss: 0.0540 | train_acc: 0.9797 | validation_loss: 0.4206 | validation_acc: 0.9350\n",
      "Epoch: 81 | train_loss: 0.0486 | train_acc: 0.9828 | validation_loss: 0.4517 | validation_acc: 0.9100\n",
      "Epoch: 82 | train_loss: 0.0491 | train_acc: 0.9812 | validation_loss: 0.9254 | validation_acc: 0.7975\n",
      "Epoch: 83 | train_loss: 0.0509 | train_acc: 0.9825 | validation_loss: 0.4794 | validation_acc: 0.9075\n",
      "Epoch: 84 | train_loss: 0.0563 | train_acc: 0.9809 | validation_loss: 0.5214 | validation_acc: 0.8725\n",
      "Epoch: 85 | train_loss: 0.0478 | train_acc: 0.9834 | validation_loss: 0.4917 | validation_acc: 0.9025\n",
      "Epoch: 86 | train_loss: 0.0641 | train_acc: 0.9812 | validation_loss: 0.4136 | validation_acc: 0.8850\n",
      "Epoch: 87 | train_loss: 0.0516 | train_acc: 0.9831 | validation_loss: 0.6362 | validation_acc: 0.9050\n"
     ]
    },
    {
     "ename": "RuntimeError",
     "evalue": "Caught RuntimeError in DataLoader worker process 8.\nOriginal Traceback (most recent call last):\n  File \"c:\\Users\\joaor\\anaconda3\\lib\\site-packages\\torch\\utils\\data\\_utils\\worker.py\", line 302, in _worker_loop\n    data = fetcher.fetch(index)\n  File \"c:\\Users\\joaor\\anaconda3\\lib\\site-packages\\torch\\utils\\data\\_utils\\fetch.py\", line 58, in fetch\n    data = [self.dataset[idx] for idx in possibly_batched_index]\n  File \"c:\\Users\\joaor\\anaconda3\\lib\\site-packages\\torch\\utils\\data\\_utils\\fetch.py\", line 58, in <listcomp>\n    data = [self.dataset[idx] for idx in possibly_batched_index]\n  File \"c:\\Users\\joaor\\anaconda3\\lib\\site-packages\\torchvision\\datasets\\folder.py\", line 231, in __getitem__\n    sample = self.transform(sample)\n  File \"c:\\Users\\joaor\\anaconda3\\lib\\site-packages\\torchvision\\transforms\\transforms.py\", line 95, in __call__\n    img = t(img)\n  File \"c:\\Users\\joaor\\anaconda3\\lib\\site-packages\\torchvision\\transforms\\transforms.py\", line 135, in __call__\n    return F.to_tensor(pic)\n  File \"c:\\Users\\joaor\\anaconda3\\lib\\site-packages\\torchvision\\transforms\\functional.py\", line 171, in to_tensor\n    return img.to(dtype=default_float_dtype).div(255)\nRuntimeError: [enforce fail at C:\\cb\\pytorch_1000000000000\\work\\c10\\core\\impl\\alloc_cpu.cpp:72] data. DefaultCPUAllocator: not enough memory: you tried to allocate 2239488 bytes.\n",
     "output_type": "error",
     "traceback": [
      "\u001b[1;31m---------------------------------------------------------------------------\u001b[0m",
      "\u001b[1;31mRuntimeError\u001b[0m                              Traceback (most recent call last)",
      "\u001b[1;32m~\\AppData\\Local\\Temp\\ipykernel_4160\\616431536.py\u001b[0m in \u001b[0;36m<module>\u001b[1;34m\u001b[0m\n\u001b[0;32m      7\u001b[0m \u001b[0mresnet50\u001b[0m\u001b[1;33m.\u001b[0m\u001b[0mto\u001b[0m\u001b[1;33m(\u001b[0m\u001b[0mdevice\u001b[0m\u001b[1;33m)\u001b[0m\u001b[1;33m\u001b[0m\u001b[1;33m\u001b[0m\u001b[0m\n\u001b[0;32m      8\u001b[0m \u001b[0mnadam_optim\u001b[0m \u001b[1;33m=\u001b[0m \u001b[0mtorch\u001b[0m\u001b[1;33m.\u001b[0m\u001b[0moptim\u001b[0m\u001b[1;33m.\u001b[0m\u001b[0mNAdam\u001b[0m\u001b[1;33m(\u001b[0m\u001b[0mparams\u001b[0m\u001b[1;33m=\u001b[0m\u001b[0mresnet50\u001b[0m\u001b[1;33m.\u001b[0m\u001b[0mparameters\u001b[0m\u001b[1;33m(\u001b[0m\u001b[1;33m)\u001b[0m\u001b[1;33m)\u001b[0m\u001b[1;33m\u001b[0m\u001b[1;33m\u001b[0m\u001b[0m\n\u001b[1;32m----> 9\u001b[1;33m \u001b[0mtrain_resnet50_results\u001b[0m\u001b[1;33m,\u001b[0m \u001b[0mtrain_time_resnet50\u001b[0m \u001b[1;33m=\u001b[0m \u001b[0mtrain\u001b[0m\u001b[1;33m(\u001b[0m\u001b[0mresnet50\u001b[0m\u001b[1;33m,\u001b[0m \u001b[0mtrain_dl\u001b[0m\u001b[1;33m,\u001b[0m \u001b[0mvalidation_dl\u001b[0m\u001b[1;33m,\u001b[0m \u001b[0moptimizer\u001b[0m\u001b[1;33m=\u001b[0m\u001b[0mnadam_optim\u001b[0m\u001b[1;33m,\u001b[0m \u001b[0mloss_fn\u001b[0m\u001b[1;33m=\u001b[0m\u001b[0mloss_fn\u001b[0m\u001b[1;33m,\u001b[0m \u001b[0mepochs\u001b[0m\u001b[1;33m=\u001b[0m\u001b[0mNUM_EPOCHS\u001b[0m\u001b[1;33m,\u001b[0m \u001b[0mname_save\u001b[0m\u001b[1;33m=\u001b[0m\u001b[0mmodel_name_folder_path\u001b[0m\u001b[1;33m,\u001b[0m \u001b[0mdevice\u001b[0m\u001b[1;33m=\u001b[0m\u001b[0mdevice\u001b[0m\u001b[1;33m)\u001b[0m\u001b[1;33m\u001b[0m\u001b[1;33m\u001b[0m\u001b[0m\n\u001b[0m",
      "\u001b[1;32mc:\\Users\\joaor\\Desktop\\AQAUIS\\AQAUIS\\Code\\Visibility\\engine.py\u001b[0m in \u001b[0;36mtrain\u001b[1;34m(model, train_dataloader, validation_dataloader, optimizer, loss_fn, epochs, name_save, device)\u001b[0m\n\u001b[0;32m    128\u001b[0m \u001b[1;33m\u001b[0m\u001b[0m\n\u001b[0;32m    129\u001b[0m   \u001b[1;32mfor\u001b[0m \u001b[0mepoch\u001b[0m \u001b[1;32min\u001b[0m \u001b[0mtqdm\u001b[0m\u001b[1;33m(\u001b[0m\u001b[0mrange\u001b[0m\u001b[1;33m(\u001b[0m\u001b[0mepochs\u001b[0m\u001b[1;33m)\u001b[0m\u001b[1;33m)\u001b[0m\u001b[1;33m:\u001b[0m\u001b[1;33m\u001b[0m\u001b[1;33m\u001b[0m\u001b[0m\n\u001b[1;32m--> 130\u001b[1;33m     train_loss, train_acc = train_step(model=model,\n\u001b[0m\u001b[0;32m    131\u001b[0m                                        \u001b[0mdataloader\u001b[0m\u001b[1;33m=\u001b[0m\u001b[0mtrain_dataloader\u001b[0m\u001b[1;33m,\u001b[0m\u001b[1;33m\u001b[0m\u001b[1;33m\u001b[0m\u001b[0m\n\u001b[0;32m    132\u001b[0m                                        \u001b[0mloss_fn\u001b[0m\u001b[1;33m=\u001b[0m\u001b[0mloss_fn\u001b[0m\u001b[1;33m,\u001b[0m\u001b[1;33m\u001b[0m\u001b[1;33m\u001b[0m\u001b[0m\n",
      "\u001b[1;32mc:\\Users\\joaor\\Desktop\\AQAUIS\\AQAUIS\\Code\\Visibility\\engine.py\u001b[0m in \u001b[0;36mtrain_step\u001b[1;34m(model, dataloader, loss_fn, optimizer, device)\u001b[0m\n\u001b[0;32m     36\u001b[0m     \u001b[0mtrain_loss\u001b[0m\u001b[1;33m,\u001b[0m \u001b[0mtrain_acc\u001b[0m \u001b[1;33m=\u001b[0m \u001b[1;36m0\u001b[0m\u001b[1;33m,\u001b[0m\u001b[1;36m0\u001b[0m\u001b[1;33m\u001b[0m\u001b[1;33m\u001b[0m\u001b[0m\n\u001b[0;32m     37\u001b[0m \u001b[1;33m\u001b[0m\u001b[0m\n\u001b[1;32m---> 38\u001b[1;33m     \u001b[1;32mfor\u001b[0m \u001b[0mbatch\u001b[0m\u001b[1;33m,\u001b[0m \u001b[1;33m(\u001b[0m\u001b[0mX\u001b[0m\u001b[1;33m,\u001b[0m \u001b[0my\u001b[0m\u001b[1;33m)\u001b[0m \u001b[1;32min\u001b[0m \u001b[0menumerate\u001b[0m\u001b[1;33m(\u001b[0m\u001b[0mdataloader\u001b[0m\u001b[1;33m)\u001b[0m\u001b[1;33m:\u001b[0m\u001b[1;33m\u001b[0m\u001b[1;33m\u001b[0m\u001b[0m\n\u001b[0m\u001b[0;32m     39\u001b[0m         \u001b[0mX\u001b[0m\u001b[1;33m,\u001b[0m \u001b[0my\u001b[0m \u001b[1;33m=\u001b[0m \u001b[0mX\u001b[0m\u001b[1;33m.\u001b[0m\u001b[0mto\u001b[0m\u001b[1;33m(\u001b[0m\u001b[0mdevice\u001b[0m\u001b[1;33m)\u001b[0m\u001b[1;33m,\u001b[0m \u001b[0my\u001b[0m\u001b[1;33m.\u001b[0m\u001b[0mto\u001b[0m\u001b[1;33m(\u001b[0m\u001b[0mdevice\u001b[0m\u001b[1;33m)\u001b[0m\u001b[1;33m\u001b[0m\u001b[1;33m\u001b[0m\u001b[0m\n\u001b[0;32m     40\u001b[0m \u001b[1;33m\u001b[0m\u001b[0m\n",
      "\u001b[1;32mc:\\Users\\joaor\\anaconda3\\lib\\site-packages\\torch\\utils\\data\\dataloader.py\u001b[0m in \u001b[0;36m__next__\u001b[1;34m(self)\u001b[0m\n\u001b[0;32m    626\u001b[0m                 \u001b[1;31m# TODO(https://github.com/pytorch/pytorch/issues/76750)\u001b[0m\u001b[1;33m\u001b[0m\u001b[1;33m\u001b[0m\u001b[0m\n\u001b[0;32m    627\u001b[0m                 \u001b[0mself\u001b[0m\u001b[1;33m.\u001b[0m\u001b[0m_reset\u001b[0m\u001b[1;33m(\u001b[0m\u001b[1;33m)\u001b[0m  \u001b[1;31m# type: ignore[call-arg]\u001b[0m\u001b[1;33m\u001b[0m\u001b[1;33m\u001b[0m\u001b[0m\n\u001b[1;32m--> 628\u001b[1;33m             \u001b[0mdata\u001b[0m \u001b[1;33m=\u001b[0m \u001b[0mself\u001b[0m\u001b[1;33m.\u001b[0m\u001b[0m_next_data\u001b[0m\u001b[1;33m(\u001b[0m\u001b[1;33m)\u001b[0m\u001b[1;33m\u001b[0m\u001b[1;33m\u001b[0m\u001b[0m\n\u001b[0m\u001b[0;32m    629\u001b[0m             \u001b[0mself\u001b[0m\u001b[1;33m.\u001b[0m\u001b[0m_num_yielded\u001b[0m \u001b[1;33m+=\u001b[0m \u001b[1;36m1\u001b[0m\u001b[1;33m\u001b[0m\u001b[1;33m\u001b[0m\u001b[0m\n\u001b[0;32m    630\u001b[0m             \u001b[1;32mif\u001b[0m \u001b[0mself\u001b[0m\u001b[1;33m.\u001b[0m\u001b[0m_dataset_kind\u001b[0m \u001b[1;33m==\u001b[0m \u001b[0m_DatasetKind\u001b[0m\u001b[1;33m.\u001b[0m\u001b[0mIterable\u001b[0m \u001b[1;32mand\u001b[0m\u001b[0;31m \u001b[0m\u001b[0;31m\\\u001b[0m\u001b[1;33m\u001b[0m\u001b[1;33m\u001b[0m\u001b[0m\n",
      "\u001b[1;32mc:\\Users\\joaor\\anaconda3\\lib\\site-packages\\torch\\utils\\data\\dataloader.py\u001b[0m in \u001b[0;36m_next_data\u001b[1;34m(self)\u001b[0m\n\u001b[0;32m   1331\u001b[0m             \u001b[1;32melse\u001b[0m\u001b[1;33m:\u001b[0m\u001b[1;33m\u001b[0m\u001b[1;33m\u001b[0m\u001b[0m\n\u001b[0;32m   1332\u001b[0m                 \u001b[1;32mdel\u001b[0m \u001b[0mself\u001b[0m\u001b[1;33m.\u001b[0m\u001b[0m_task_info\u001b[0m\u001b[1;33m[\u001b[0m\u001b[0midx\u001b[0m\u001b[1;33m]\u001b[0m\u001b[1;33m\u001b[0m\u001b[1;33m\u001b[0m\u001b[0m\n\u001b[1;32m-> 1333\u001b[1;33m                 \u001b[1;32mreturn\u001b[0m \u001b[0mself\u001b[0m\u001b[1;33m.\u001b[0m\u001b[0m_process_data\u001b[0m\u001b[1;33m(\u001b[0m\u001b[0mdata\u001b[0m\u001b[1;33m)\u001b[0m\u001b[1;33m\u001b[0m\u001b[1;33m\u001b[0m\u001b[0m\n\u001b[0m\u001b[0;32m   1334\u001b[0m \u001b[1;33m\u001b[0m\u001b[0m\n\u001b[0;32m   1335\u001b[0m     \u001b[1;32mdef\u001b[0m \u001b[0m_try_put_index\u001b[0m\u001b[1;33m(\u001b[0m\u001b[0mself\u001b[0m\u001b[1;33m)\u001b[0m\u001b[1;33m:\u001b[0m\u001b[1;33m\u001b[0m\u001b[1;33m\u001b[0m\u001b[0m\n",
      "\u001b[1;32mc:\\Users\\joaor\\anaconda3\\lib\\site-packages\\torch\\utils\\data\\dataloader.py\u001b[0m in \u001b[0;36m_process_data\u001b[1;34m(self, data)\u001b[0m\n\u001b[0;32m   1357\u001b[0m         \u001b[0mself\u001b[0m\u001b[1;33m.\u001b[0m\u001b[0m_try_put_index\u001b[0m\u001b[1;33m(\u001b[0m\u001b[1;33m)\u001b[0m\u001b[1;33m\u001b[0m\u001b[1;33m\u001b[0m\u001b[0m\n\u001b[0;32m   1358\u001b[0m         \u001b[1;32mif\u001b[0m \u001b[0misinstance\u001b[0m\u001b[1;33m(\u001b[0m\u001b[0mdata\u001b[0m\u001b[1;33m,\u001b[0m \u001b[0mExceptionWrapper\u001b[0m\u001b[1;33m)\u001b[0m\u001b[1;33m:\u001b[0m\u001b[1;33m\u001b[0m\u001b[1;33m\u001b[0m\u001b[0m\n\u001b[1;32m-> 1359\u001b[1;33m             \u001b[0mdata\u001b[0m\u001b[1;33m.\u001b[0m\u001b[0mreraise\u001b[0m\u001b[1;33m(\u001b[0m\u001b[1;33m)\u001b[0m\u001b[1;33m\u001b[0m\u001b[1;33m\u001b[0m\u001b[0m\n\u001b[0m\u001b[0;32m   1360\u001b[0m         \u001b[1;32mreturn\u001b[0m \u001b[0mdata\u001b[0m\u001b[1;33m\u001b[0m\u001b[1;33m\u001b[0m\u001b[0m\n\u001b[0;32m   1361\u001b[0m \u001b[1;33m\u001b[0m\u001b[0m\n",
      "\u001b[1;32mc:\\Users\\joaor\\anaconda3\\lib\\site-packages\\torch\\_utils.py\u001b[0m in \u001b[0;36mreraise\u001b[1;34m(self)\u001b[0m\n\u001b[0;32m    541\u001b[0m             \u001b[1;31m# instantiate since we don't know how to\u001b[0m\u001b[1;33m\u001b[0m\u001b[1;33m\u001b[0m\u001b[0m\n\u001b[0;32m    542\u001b[0m             \u001b[1;32mraise\u001b[0m \u001b[0mRuntimeError\u001b[0m\u001b[1;33m(\u001b[0m\u001b[0mmsg\u001b[0m\u001b[1;33m)\u001b[0m \u001b[1;32mfrom\u001b[0m \u001b[1;32mNone\u001b[0m\u001b[1;33m\u001b[0m\u001b[1;33m\u001b[0m\u001b[0m\n\u001b[1;32m--> 543\u001b[1;33m         \u001b[1;32mraise\u001b[0m \u001b[0mexception\u001b[0m\u001b[1;33m\u001b[0m\u001b[1;33m\u001b[0m\u001b[0m\n\u001b[0m\u001b[0;32m    544\u001b[0m \u001b[1;33m\u001b[0m\u001b[0m\n\u001b[0;32m    545\u001b[0m \u001b[1;33m\u001b[0m\u001b[0m\n",
      "\u001b[1;31mRuntimeError\u001b[0m: Caught RuntimeError in DataLoader worker process 8.\nOriginal Traceback (most recent call last):\n  File \"c:\\Users\\joaor\\anaconda3\\lib\\site-packages\\torch\\utils\\data\\_utils\\worker.py\", line 302, in _worker_loop\n    data = fetcher.fetch(index)\n  File \"c:\\Users\\joaor\\anaconda3\\lib\\site-packages\\torch\\utils\\data\\_utils\\fetch.py\", line 58, in fetch\n    data = [self.dataset[idx] for idx in possibly_batched_index]\n  File \"c:\\Users\\joaor\\anaconda3\\lib\\site-packages\\torch\\utils\\data\\_utils\\fetch.py\", line 58, in <listcomp>\n    data = [self.dataset[idx] for idx in possibly_batched_index]\n  File \"c:\\Users\\joaor\\anaconda3\\lib\\site-packages\\torchvision\\datasets\\folder.py\", line 231, in __getitem__\n    sample = self.transform(sample)\n  File \"c:\\Users\\joaor\\anaconda3\\lib\\site-packages\\torchvision\\transforms\\transforms.py\", line 95, in __call__\n    img = t(img)\n  File \"c:\\Users\\joaor\\anaconda3\\lib\\site-packages\\torchvision\\transforms\\transforms.py\", line 135, in __call__\n    return F.to_tensor(pic)\n  File \"c:\\Users\\joaor\\anaconda3\\lib\\site-packages\\torchvision\\transforms\\functional.py\", line 171, in to_tensor\n    return img.to(dtype=default_float_dtype).div(255)\nRuntimeError: [enforce fail at C:\\cb\\pytorch_1000000000000\\work\\c10\\core\\impl\\alloc_cpu.cpp:72] data. DefaultCPUAllocator: not enough memory: you tried to allocate 2239488 bytes.\n"
     ]
    }
   ],
   "source": [
    "model_name = \"ResNet50_all\"\n",
    "model_folder_path = models_path / model_name\n",
    "check_dir(model_folder_path)\n",
    "model_name_folder_path = model_folder_path / model_name\n",
    "\n",
    "#Train ResNet50\n",
    "resnet50.to(device)\n",
    "nadam_optim = torch.optim.NAdam(params=resnet50.parameters())\n",
    "train_resnet50_results, train_time_resnet50 = train(resnet50, train_dl, validation_dl, optimizer=nadam_optim, loss_fn=loss_fn, epochs=NUM_EPOCHS, name_save=model_name_folder_path, device=device)"
   ]
  },
  {
   "cell_type": "code",
   "execution_count": 1,
   "metadata": {},
   "outputs": [
    {
     "name": "stdout",
     "output_type": "stream",
     "text": [
      "Mon Jun 19 09:31:13 2023       \n",
      "+-----------------------------------------------------------------------------+\n",
      "| NVIDIA-SMI 516.01       Driver Version: 516.01       CUDA Version: 11.7     |\n",
      "|-------------------------------+----------------------+----------------------+\n",
      "| GPU  Name            TCC/WDDM | Bus-Id        Disp.A | Volatile Uncorr. ECC |\n",
      "| Fan  Temp  Perf  Pwr:Usage/Cap|         Memory-Usage | GPU-Util  Compute M. |\n",
      "|                               |                      |               MIG M. |\n",
      "|===============================+======================+======================|\n",
      "|   0  NVIDIA GeForce ... WDDM  | 00000000:01:00.0  On |                  N/A |\n",
      "| N/A   58C    P8     6W /  N/A |    720MiB /  8192MiB |      7%      Default |\n",
      "|                               |                      |                  N/A |\n",
      "+-------------------------------+----------------------+----------------------+\n",
      "                                                                               \n",
      "+-----------------------------------------------------------------------------+\n",
      "| Processes:                                                                  |\n",
      "|  GPU   GI   CI        PID   Type   Process name                  GPU Memory |\n",
      "|        ID   ID                                                   Usage      |\n",
      "|=============================================================================|\n",
      "|    0   N/A  N/A      1524    C+G   ...artMenuExperienceHost.exe    N/A      |\n",
      "|    0   N/A  N/A      2496    C+G   ...lPanel\\SystemSettings.exe    N/A      |\n",
      "|    0   N/A  N/A      3244    C+G   ...ekyb3d8bbwe\\HxOutlook.exe    N/A      |\n",
      "|    0   N/A  N/A      3416    C+G   ...wekyb3d8bbwe\\Video.UI.exe    N/A      |\n",
      "|    0   N/A  N/A      6468    C+G   ...e\\PhoneExperienceHost.exe    N/A      |\n",
      "|    0   N/A  N/A      7840    C+G   C:\\Windows\\explorer.exe         N/A      |\n",
      "|    0   N/A  N/A      7872    C+G   ...n1h2txyewy\\SearchHost.exe    N/A      |\n",
      "|    0   N/A  N/A     10108    C+G   ...823.51\\msedgewebview2.exe    N/A      |\n",
      "|    0   N/A  N/A     10164    C+G   ...y\\ShellExperienceHost.exe    N/A      |\n",
      "|    0   N/A  N/A     11568    C+G   ...2txyewy\\TextInputHost.exe    N/A      |\n",
      "|    0   N/A  N/A     11688    C+G   ...perience\\NVIDIA Share.exe    N/A      |\n",
      "|    0   N/A  N/A     12128    C+G   ...perience\\NVIDIA Share.exe    N/A      |\n",
      "|    0   N/A  N/A     12484    C+G   ...oft OneDrive\\OneDrive.exe    N/A      |\n",
      "|    0   N/A  N/A     12556    C+G   ...ge\\Application\\msedge.exe    N/A      |\n",
      "|    0   N/A  N/A     12708    C+G   ...oft OneDrive\\OneDrive.exe    N/A      |\n",
      "|    0   N/A  N/A     13720    C+G   ...\\app-1.0.9013\\Discord.exe    N/A      |\n",
      "|    0   N/A  N/A     13964    C+G   ...me\\Application\\chrome.exe    N/A      |\n",
      "|    0   N/A  N/A     15652    C+G   ...4__8j3eq9eme6ctt\\IGCC.exe    N/A      |\n",
      "|    0   N/A  N/A     15704    C+G   ...\\app-1.0.9013\\Discord.exe    N/A      |\n",
      "|    0   N/A  N/A     16424    C+G   ...icrosoft VS Code\\Code.exe    N/A      |\n",
      "+-----------------------------------------------------------------------------+\n"
     ]
    }
   ],
   "source": [
    "!nvidia-smi"
   ]
  },
  {
   "cell_type": "code",
   "execution_count": null,
   "metadata": {},
   "outputs": [],
   "source": [
    "eval_resnet50_results = eval_model(resnet50, test_dl, loss_fn = loss_fn, accuracy_fn=accuracy_fn, device = device, dummy_input= torch.rand(32,3,224,224).to(device))\n",
    "resnet50_results = [train_resnet50_results, train_time_resnet50, eval_resnet50_results]\n",
    "final_save(model_folder_path,model_name, NUM_EPOCHS, resnet50, resnet50_results)"
   ]
  },
  {
   "cell_type": "code",
   "execution_count": null,
   "metadata": {},
   "outputs": [],
   "source": [
    "model_name = \"MobileNetSmall_all\"\n",
    "model_folder_path = models_path / model_name\n",
    "check_dir(model_folder_path)\n",
    "model_name_folder_path = model_folder_path / model_name\n",
    "\n",
    "#Train MobileNetV3 Small\n",
    "mobnet_sml.to(device)\n",
    "nadam_optim = torch.optim.NAdam(params=mobnet_sml.parameters())\n",
    "train_mobnet_sml_results, train_time_mobnet_sml = train(mobnet_sml, train_dl, validation_dl, optimizer=nadam_optim, loss_fn=loss_fn, epochs=NUM_EPOCHS, name_save=model_name_folder_path, device=device)"
   ]
  },
  {
   "cell_type": "code",
   "execution_count": null,
   "metadata": {},
   "outputs": [],
   "source": [
    "eval_mobnet_sml_results = eval_model(mobnet_sml, test_dl, loss_fn = loss_fn, accuracy_fn=accuracy_fn, device = device, dummy_input= torch.rand(32,3,224,224).to(device))\n",
    "mobnet_sml_results = [train_mobnet_sml_results, train_time_mobnet_sml, eval_mobnet_sml_results]\n",
    "final_save(model_folder_path,model_name, NUM_EPOCHS, mobnet_sml, mobnet_sml_results)"
   ]
  },
  {
   "cell_type": "code",
   "execution_count": null,
   "metadata": {},
   "outputs": [],
   "source": [
    "model_name = \"MobileNetLarge_all\"\n",
    "model_folder_path = models_path / model_name\n",
    "check_dir(model_folder_path)\n",
    "model_name_folder_path = model_folder_path / model_name\n",
    "\n",
    "#Train MobileNetV3 Large\n",
    "mobnet_lrg.to(device)\n",
    "nadam_optim = torch.optim.NAdam(params=mobnet_lrg.parameters())\n",
    "train_mobnet_lrg_results, train_time_mobnet_lrg = train(mobnet_lrg, train_dl, validation_dl, optimizer=nadam_optim, loss_fn=loss_fn, epochs=NUM_EPOCHS, name_save=model_name_folder_path, device=device)"
   ]
  },
  {
   "cell_type": "code",
   "execution_count": null,
   "metadata": {},
   "outputs": [],
   "source": [
    "eval_mobnet_lrg_results = eval_model(mobnet_lrg, test_dl, loss_fn = loss_fn, accuracy_fn=accuracy_fn, device = device, dummy_input= torch.rand(32,3,224,224).to(device))\n",
    "mobnet_lrg_results = [train_mobnet_lrg_results, train_time_mobnet_lrg, eval_mobnet_lrg_results]\n",
    "final_save(model_folder_path, model_name, NUM_EPOCHS, mobnet_lrg, mobnet_lrg_results)"
   ]
  },
  {
   "cell_type": "code",
   "execution_count": 4,
   "metadata": {},
   "outputs": [
    {
     "name": "stdout",
     "output_type": "stream",
     "text": [
      "best_model\\EfficientNetB0_all does not exist, creating one...\n"
     ]
    },
    {
     "data": {
      "application/vnd.jupyter.widget-view+json": {
       "model_id": "362f4540df374083b41cff44d64cd76b",
       "version_major": 2,
       "version_minor": 0
      },
      "text/plain": [
       "  0%|          | 0/100 [00:00<?, ?it/s]"
      ]
     },
     "metadata": {},
     "output_type": "display_data"
    },
    {
     "name": "stdout",
     "output_type": "stream",
     "text": [
      "Epoch: 1 | train_loss: 1.2224 | train_acc: 0.4025 | validation_loss: 0.8890 | validation_acc: 0.5400\n",
      "Epoch: 2 | train_loss: 0.8202 | train_acc: 0.6353 | validation_loss: 0.8296 | validation_acc: 0.6675\n",
      "Epoch: 3 | train_loss: 0.5932 | train_acc: 0.7681 | validation_loss: 0.4382 | validation_acc: 0.8100\n",
      "Epoch: 4 | train_loss: 0.4353 | train_acc: 0.8406 | validation_loss: 0.4307 | validation_acc: 0.8200\n",
      "Epoch: 5 | train_loss: 0.3642 | train_acc: 0.8638 | validation_loss: 0.4707 | validation_acc: 0.8225\n",
      "Epoch: 6 | train_loss: 0.3166 | train_acc: 0.8828 | validation_loss: 0.6057 | validation_acc: 0.7800\n",
      "Epoch: 7 | train_loss: 0.2605 | train_acc: 0.9028 | validation_loss: 0.5136 | validation_acc: 0.8075\n",
      "Epoch: 8 | train_loss: 0.2459 | train_acc: 0.9131 | validation_loss: 0.4854 | validation_acc: 0.8425\n",
      "Epoch: 9 | train_loss: 0.2229 | train_acc: 0.9172 | validation_loss: 0.4313 | validation_acc: 0.8625\n",
      "Epoch: 10 | train_loss: 0.2213 | train_acc: 0.9175 | validation_loss: 0.3894 | validation_acc: 0.8675\n",
      "Epoch: 11 | train_loss: 0.1698 | train_acc: 0.9337 | validation_loss: 0.4319 | validation_acc: 0.8325\n",
      "Epoch: 12 | train_loss: 0.1864 | train_acc: 0.9356 | validation_loss: 0.3046 | validation_acc: 0.9125\n",
      "Epoch: 13 | train_loss: 0.1580 | train_acc: 0.9419 | validation_loss: 0.3419 | validation_acc: 0.8950\n",
      "Epoch: 14 | train_loss: 0.1423 | train_acc: 0.9487 | validation_loss: 0.3991 | validation_acc: 0.8550\n",
      "Epoch: 15 | train_loss: 0.1439 | train_acc: 0.9491 | validation_loss: 0.4268 | validation_acc: 0.8450\n",
      "Epoch: 16 | train_loss: 0.1229 | train_acc: 0.9597 | validation_loss: 0.3618 | validation_acc: 0.8700\n",
      "Epoch: 17 | train_loss: 0.1271 | train_acc: 0.9553 | validation_loss: 0.3791 | validation_acc: 0.8500\n",
      "Epoch: 18 | train_loss: 0.1182 | train_acc: 0.9628 | validation_loss: 0.2835 | validation_acc: 0.9100\n",
      "Epoch: 19 | train_loss: 0.1077 | train_acc: 0.9631 | validation_loss: 0.3170 | validation_acc: 0.8975\n",
      "Epoch: 20 | train_loss: 0.1056 | train_acc: 0.9622 | validation_loss: 0.2448 | validation_acc: 0.9275\n",
      "Epoch: 21 | train_loss: 0.1297 | train_acc: 0.9553 | validation_loss: 0.3617 | validation_acc: 0.8775\n",
      "Epoch: 22 | train_loss: 0.0969 | train_acc: 0.9653 | validation_loss: 0.3356 | validation_acc: 0.9000\n",
      "Epoch: 23 | train_loss: 0.0737 | train_acc: 0.9725 | validation_loss: 0.4653 | validation_acc: 0.8925\n",
      "Epoch: 24 | train_loss: 0.0816 | train_acc: 0.9719 | validation_loss: 0.2358 | validation_acc: 0.9025\n",
      "Epoch: 25 | train_loss: 0.0829 | train_acc: 0.9700 | validation_loss: 0.3849 | validation_acc: 0.8700\n",
      "Epoch: 26 | train_loss: 0.0692 | train_acc: 0.9747 | validation_loss: 0.4106 | validation_acc: 0.9000\n",
      "Epoch: 27 | train_loss: 0.0927 | train_acc: 0.9650 | validation_loss: 0.4975 | validation_acc: 0.8525\n",
      "Epoch: 28 | train_loss: 0.0914 | train_acc: 0.9688 | validation_loss: 0.3591 | validation_acc: 0.8825\n",
      "Epoch: 29 | train_loss: 0.0696 | train_acc: 0.9791 | validation_loss: 0.2849 | validation_acc: 0.8750\n",
      "Epoch: 30 | train_loss: 0.0724 | train_acc: 0.9772 | validation_loss: 0.2483 | validation_acc: 0.9300\n",
      "Epoch: 31 | train_loss: 0.0727 | train_acc: 0.9747 | validation_loss: 0.3140 | validation_acc: 0.9225\n",
      "Epoch: 32 | train_loss: 0.0607 | train_acc: 0.9769 | validation_loss: 0.4836 | validation_acc: 0.8700\n",
      "Epoch: 33 | train_loss: 0.0626 | train_acc: 0.9744 | validation_loss: 0.4595 | validation_acc: 0.8800\n",
      "Epoch: 34 | train_loss: 0.0618 | train_acc: 0.9778 | validation_loss: 0.4589 | validation_acc: 0.9000\n",
      "Epoch: 35 | train_loss: 0.0530 | train_acc: 0.9800 | validation_loss: 0.3444 | validation_acc: 0.9075\n",
      "Epoch: 36 | train_loss: 0.0646 | train_acc: 0.9775 | validation_loss: 0.4805 | validation_acc: 0.8850\n",
      "Epoch: 37 | train_loss: 0.0588 | train_acc: 0.9819 | validation_loss: 0.3087 | validation_acc: 0.9250\n",
      "Epoch: 38 | train_loss: 0.0475 | train_acc: 0.9828 | validation_loss: 0.3857 | validation_acc: 0.9125\n",
      "Epoch: 39 | train_loss: 0.0769 | train_acc: 0.9759 | validation_loss: 0.2182 | validation_acc: 0.9300\n",
      "Epoch: 40 | train_loss: 0.0706 | train_acc: 0.9775 | validation_loss: 0.2323 | validation_acc: 0.9325\n",
      "Epoch: 41 | train_loss: 0.0442 | train_acc: 0.9878 | validation_loss: 0.3700 | validation_acc: 0.9000\n",
      "Epoch: 42 | train_loss: 0.0361 | train_acc: 0.9875 | validation_loss: 0.3917 | validation_acc: 0.9050\n",
      "Epoch: 43 | train_loss: 0.0452 | train_acc: 0.9847 | validation_loss: 0.2936 | validation_acc: 0.9250\n",
      "Epoch: 44 | train_loss: 0.0353 | train_acc: 0.9878 | validation_loss: 0.3057 | validation_acc: 0.9175\n",
      "Epoch: 45 | train_loss: 0.0437 | train_acc: 0.9838 | validation_loss: 0.5346 | validation_acc: 0.8775\n",
      "Epoch: 46 | train_loss: 0.0516 | train_acc: 0.9841 | validation_loss: 0.4359 | validation_acc: 0.8800\n",
      "Epoch: 47 | train_loss: 0.0295 | train_acc: 0.9903 | validation_loss: 0.5661 | validation_acc: 0.8600\n",
      "Epoch: 48 | train_loss: 0.0489 | train_acc: 0.9850 | validation_loss: 0.5123 | validation_acc: 0.8650\n",
      "Epoch: 49 | train_loss: 0.0508 | train_acc: 0.9834 | validation_loss: 0.2791 | validation_acc: 0.9200\n",
      "Epoch: 50 | train_loss: 0.0546 | train_acc: 0.9816 | validation_loss: 0.4243 | validation_acc: 0.8950\n",
      "Epoch: 51 | train_loss: 0.0357 | train_acc: 0.9866 | validation_loss: 0.2653 | validation_acc: 0.9325\n",
      "Epoch: 52 | train_loss: 0.0398 | train_acc: 0.9859 | validation_loss: 0.3545 | validation_acc: 0.8975\n",
      "Epoch: 53 | train_loss: 0.0338 | train_acc: 0.9869 | validation_loss: 0.5966 | validation_acc: 0.8575\n",
      "Epoch: 54 | train_loss: 0.0266 | train_acc: 0.9888 | validation_loss: 0.4697 | validation_acc: 0.9050\n",
      "Epoch: 55 | train_loss: 0.0415 | train_acc: 0.9853 | validation_loss: 0.4113 | validation_acc: 0.8650\n",
      "Epoch: 56 | train_loss: 0.0401 | train_acc: 0.9853 | validation_loss: 0.3720 | validation_acc: 0.8875\n",
      "Epoch: 57 | train_loss: 0.0307 | train_acc: 0.9884 | validation_loss: 0.4154 | validation_acc: 0.8950\n",
      "Epoch: 58 | train_loss: 0.0581 | train_acc: 0.9775 | validation_loss: 0.3240 | validation_acc: 0.9275\n",
      "Epoch: 59 | train_loss: 0.0368 | train_acc: 0.9869 | validation_loss: 0.3572 | validation_acc: 0.9050\n",
      "Epoch: 60 | train_loss: 0.0224 | train_acc: 0.9906 | validation_loss: 0.5118 | validation_acc: 0.8800\n",
      "Epoch: 61 | train_loss: 0.0313 | train_acc: 0.9894 | validation_loss: 0.5869 | validation_acc: 0.8725\n",
      "Epoch: 62 | train_loss: 0.0412 | train_acc: 0.9878 | validation_loss: 0.5026 | validation_acc: 0.8950\n",
      "Epoch: 63 | train_loss: 0.0343 | train_acc: 0.9862 | validation_loss: 0.4914 | validation_acc: 0.8800\n",
      "Epoch: 64 | train_loss: 0.0293 | train_acc: 0.9891 | validation_loss: 0.3936 | validation_acc: 0.8900\n",
      "Epoch: 65 | train_loss: 0.0260 | train_acc: 0.9922 | validation_loss: 0.5672 | validation_acc: 0.8600\n",
      "Epoch: 66 | train_loss: 0.0406 | train_acc: 0.9866 | validation_loss: 0.3019 | validation_acc: 0.9225\n",
      "Epoch: 67 | train_loss: 0.0251 | train_acc: 0.9919 | validation_loss: 0.4092 | validation_acc: 0.9025\n",
      "Epoch: 68 | train_loss: 0.0281 | train_acc: 0.9916 | validation_loss: 0.4948 | validation_acc: 0.8950\n",
      "Epoch: 69 | train_loss: 0.0335 | train_acc: 0.9884 | validation_loss: 0.4615 | validation_acc: 0.9050\n",
      "Epoch: 70 | train_loss: 0.0305 | train_acc: 0.9891 | validation_loss: 0.3752 | validation_acc: 0.9175\n",
      "Epoch: 71 | train_loss: 0.0215 | train_acc: 0.9931 | validation_loss: 0.3729 | validation_acc: 0.9200\n",
      "Epoch: 72 | train_loss: 0.0320 | train_acc: 0.9875 | validation_loss: 0.4077 | validation_acc: 0.9000\n",
      "Epoch: 73 | train_loss: 0.0365 | train_acc: 0.9862 | validation_loss: 0.4296 | validation_acc: 0.9025\n",
      "Epoch: 74 | train_loss: 0.0168 | train_acc: 0.9944 | validation_loss: 0.3888 | validation_acc: 0.9050\n",
      "Epoch: 75 | train_loss: 0.0229 | train_acc: 0.9928 | validation_loss: 0.5857 | validation_acc: 0.8925\n",
      "Epoch: 76 | train_loss: 0.0212 | train_acc: 0.9919 | validation_loss: 0.5592 | validation_acc: 0.8800\n",
      "Epoch: 77 | train_loss: 0.0163 | train_acc: 0.9947 | validation_loss: 0.5907 | validation_acc: 0.8650\n",
      "Epoch: 78 | train_loss: 0.0267 | train_acc: 0.9916 | validation_loss: 0.3907 | validation_acc: 0.9075\n",
      "Epoch: 79 | train_loss: 0.0448 | train_acc: 0.9831 | validation_loss: 0.7331 | validation_acc: 0.8800\n",
      "Epoch: 80 | train_loss: 0.0315 | train_acc: 0.9903 | validation_loss: 0.3331 | validation_acc: 0.9125\n",
      "Epoch: 81 | train_loss: 0.0227 | train_acc: 0.9928 | validation_loss: 0.5687 | validation_acc: 0.8900\n",
      "Epoch: 82 | train_loss: 0.0175 | train_acc: 0.9956 | validation_loss: 0.3027 | validation_acc: 0.9250\n",
      "Epoch: 83 | train_loss: 0.0102 | train_acc: 0.9972 | validation_loss: 0.6382 | validation_acc: 0.8750\n",
      "Epoch: 84 | train_loss: 0.0139 | train_acc: 0.9956 | validation_loss: 0.4071 | validation_acc: 0.9125\n",
      "Epoch: 85 | train_loss: 0.0289 | train_acc: 0.9906 | validation_loss: 0.3598 | validation_acc: 0.9125\n",
      "Epoch: 86 | train_loss: 0.0325 | train_acc: 0.9878 | validation_loss: 0.3065 | validation_acc: 0.9250\n",
      "Epoch: 87 | train_loss: 0.0238 | train_acc: 0.9919 | validation_loss: 0.2912 | validation_acc: 0.9225\n",
      "Epoch: 88 | train_loss: 0.0219 | train_acc: 0.9922 | validation_loss: 0.3936 | validation_acc: 0.9125\n",
      "Epoch: 89 | train_loss: 0.0215 | train_acc: 0.9912 | validation_loss: 0.3856 | validation_acc: 0.8850\n",
      "Epoch: 90 | train_loss: 0.0164 | train_acc: 0.9944 | validation_loss: 0.5498 | validation_acc: 0.8800\n",
      "Epoch: 91 | train_loss: 0.0188 | train_acc: 0.9950 | validation_loss: 0.4288 | validation_acc: 0.8850\n",
      "Epoch: 92 | train_loss: 0.0172 | train_acc: 0.9925 | validation_loss: 0.3748 | validation_acc: 0.8900\n",
      "Epoch: 93 | train_loss: 0.0121 | train_acc: 0.9962 | validation_loss: 0.7141 | validation_acc: 0.8825\n",
      "Epoch: 94 | train_loss: 0.0177 | train_acc: 0.9938 | validation_loss: 0.3573 | validation_acc: 0.9175\n",
      "Epoch: 95 | train_loss: 0.0476 | train_acc: 0.9844 | validation_loss: 0.7501 | validation_acc: 0.8775\n",
      "Epoch: 96 | train_loss: 0.0384 | train_acc: 0.9881 | validation_loss: 0.4706 | validation_acc: 0.8650\n",
      "Epoch: 97 | train_loss: 0.0183 | train_acc: 0.9928 | validation_loss: 0.7061 | validation_acc: 0.8850\n",
      "Epoch: 98 | train_loss: 0.0228 | train_acc: 0.9900 | validation_loss: 0.4031 | validation_acc: 0.9300\n",
      "Epoch: 99 | train_loss: 0.0318 | train_acc: 0.9884 | validation_loss: 0.4578 | validation_acc: 0.9000\n",
      "Epoch: 100 | train_loss: 0.0199 | train_acc: 0.9941 | validation_loss: 0.2206 | validation_acc: 0.9275\n"
     ]
    }
   ],
   "source": [
    "model_name = \"EfficientNetB0_all\"\n",
    "model_folder_path = models_path / model_name\n",
    "check_dir(model_folder_path)\n",
    "model_name_folder_path = model_folder_path / model_name\n",
    "\n",
    "#Train EfficientNet B0\n",
    "effnetb0.to(device)\n",
    "nadam_optim = torch.optim.NAdam(params=effnetb0.parameters())\n",
    "train_effnetb0_results, train_time_effnetb0 = train(effnetb0, train_dl, validation_dl, optimizer=nadam_optim, loss_fn=loss_fn, epochs=NUM_EPOCHS, name_save=model_name_folder_path, device=device)"
   ]
  },
  {
   "cell_type": "code",
   "execution_count": 5,
   "metadata": {},
   "outputs": [
    {
     "data": {
      "application/vnd.jupyter.widget-view+json": {
       "model_id": "1785b1cc123f4edd8696bd967b3cf2d0",
       "version_major": 2,
       "version_minor": 0
      },
      "text/plain": [
       "  0%|          | 0/25 [00:02<?, ?it/s]"
      ]
     },
     "metadata": {},
     "output_type": "display_data"
    }
   ],
   "source": [
    "eval_effnetb0_results = eval_model(effnetb0, test_dl, loss_fn = loss_fn, accuracy_fn=accuracy_fn, device = device, dummy_input= torch.rand(32,3,224,224).to(device))\n",
    "effnetb0_results = [train_effnetb0_results, train_time_effnetb0, eval_effnetb0_results]\n",
    "final_save(model_folder_path, model_name, NUM_EPOCHS, effnetb0, effnetb0_results)"
   ]
  }
 ],
 "metadata": {
  "kernelspec": {
   "display_name": "base",
   "language": "python",
   "name": "python3"
  },
  "language_info": {
   "codemirror_mode": {
    "name": "ipython",
    "version": 3
   },
   "file_extension": ".py",
   "mimetype": "text/x-python",
   "name": "python",
   "nbconvert_exporter": "python",
   "pygments_lexer": "ipython3",
   "version": "3.9.13"
  },
  "orig_nbformat": 4
 },
 "nbformat": 4,
 "nbformat_minor": 2
}
