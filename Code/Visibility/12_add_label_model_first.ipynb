{
 "cells": [
  {
   "cell_type": "code",
   "execution_count": 1,
   "metadata": {},
   "outputs": [],
   "source": [
    "from pathlib import Path\n",
    "import pandas as pd\n",
    "\n",
    "from utils import *\n",
    "from dataloaders import *\n",
    "from data_preparation import *\n",
    "from allResNets import *\n",
    "from MobileNetV3 import *\n",
    "from engine import *\n",
    "from efficientNet import *\n",
    "from data_transforms import *\n",
    "from shutil import copy\n",
    "\n",
    "change_to_disk()\n",
    "models_path = Path('best_model/')\n",
    "check_dir(models_path)"
   ]
  },
  {
   "cell_type": "code",
   "execution_count": 2,
   "metadata": {},
   "outputs": [
    {
     "name": "stdout",
     "output_type": "stream",
     "text": [
      "Done\n"
     ]
    }
   ],
   "source": [
    "device = get_device()\n",
    "NUM_EPOCHS = 100\n",
    "model_name = \"EfficientNetB0\"\n",
    "model = EfficientNetB0\n",
    "effnetb0_results, final_effnetb0_model, best_effnetb0_model = load_results_model(model_name, models_path, model, NUM_EPOCHS, 87, device)\n",
    "print(\"Done\")"
   ]
  },
  {
   "cell_type": "code",
   "execution_count": 3,
   "metadata": {},
   "outputs": [],
   "source": [
    "#with the resize\n",
    "image_shape = (1080, 1920)\n",
    "resize_factor = 0.3\n",
    "resize = np.multiply(image_shape,resize_factor)\n",
    "resize = [int(resize[0]), int(resize[1])]\n",
    "\n",
    "transform = create_transform(resize,transf_tensor=True,normalize=True)"
   ]
  },
  {
   "cell_type": "code",
   "execution_count": 4,
   "metadata": {},
   "outputs": [],
   "source": [
    "def get_prediction_name(predicted_labels):\n",
    "    predicted_label = torch.argmax(torch.softmax(predicted_labels, dim=1), dim=1)\n",
    "    if(predicted_label == 0 ):\n",
    "        return \"Very Good\"\n",
    "    if(predicted_label == 1):\n",
    "        return \"Good\"\n",
    "    elif(predicted_label == 2):\n",
    "        return \"Moderate\"\n",
    "    elif(predicted_label == 3):\n",
    "        return \"Poor\"\n",
    "    elif(predicted_label == 4):\n",
    "        return \"Very Poor\""
   ]
  },
  {
   "cell_type": "code",
   "execution_count": 5,
   "metadata": {},
   "outputs": [],
   "source": [
    "video_path = 'cuts2.mp4'\n",
    "cap = cv2.VideoCapture(video_path)\n",
    "\n",
    "# Get video properties\n",
    "frame_width = int(cap.get(cv2.CAP_PROP_FRAME_WIDTH))\n",
    "frame_height = int(cap.get(cv2.CAP_PROP_FRAME_HEIGHT))\n",
    "fps = cap.get(cv2.CAP_PROP_FPS)\n",
    "\n",
    "# Create a VideoWriter object to save the annotated frames\n",
    "output_path = 'labeled_video2_first.mp4'\n",
    "fourcc = cv2.VideoWriter_fourcc(*'mp4v')\n",
    "out = cv2.VideoWriter(output_path, fourcc, fps, (frame_width, frame_height))\n",
    "\n",
    "font = cv2.FONT_HERSHEY_SIMPLEX\n",
    "org = (50, frame_height - 50)\n",
    "fontScale = 2\n",
    "color = (0,0,255)\n",
    "thickness = 4\n",
    "\n",
    "# Iterate over each frame in the video\n",
    "while cap.isOpened():\n",
    "    ret, frame = cap.read()\n",
    "    if not ret:\n",
    "        break\n",
    "\n",
    "    pil_frame = Image.fromarray(np.uint8(frame))\n",
    "\n",
    "    img = transform(pil_frame)\n",
    "    pred_label = final_effnetb0_model(img.unsqueeze(dim=0))\n",
    "    label = get_prediction_name(pred_label)\n",
    "\n",
    "    image = cv2.putText(frame, label, org, font, fontScale, color, thickness, cv2.LINE_AA)\n",
    "\n",
    "    out.write(image)\n",
    "\n",
    "cap.release()\n",
    "out.release()"
   ]
  }
 ],
 "metadata": {
  "kernelspec": {
   "display_name": "base",
   "language": "python",
   "name": "python3"
  },
  "language_info": {
   "codemirror_mode": {
    "name": "ipython",
    "version": 3
   },
   "file_extension": ".py",
   "mimetype": "text/x-python",
   "name": "python",
   "nbconvert_exporter": "python",
   "pygments_lexer": "ipython3",
   "version": "3.9.13"
  },
  "orig_nbformat": 4
 },
 "nbformat": 4,
 "nbformat_minor": 2
}
