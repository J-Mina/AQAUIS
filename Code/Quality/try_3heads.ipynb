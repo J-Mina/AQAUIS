{
 "cells": [
  {
   "cell_type": "code",
   "execution_count": 1,
   "metadata": {},
   "outputs": [],
   "source": [
    "from PIL import Image\n",
    "import os\n",
    "from pathlib import Path\n",
    "from utils import *\n",
    "from single_multiple_efficientNet import *\n",
    "from engine import *\n",
    "from data_transforms import create_transform\n",
    "from dataloaders import *\n",
    "\n",
    "change_to_disk()\n",
    "data_dir = Path(\"Quality/data/new_data/split_1k\")\n",
    "models_path = Path('Quality/Models_double/')\n",
    "check_dir(models_path)"
   ]
  },
  {
   "cell_type": "code",
   "execution_count": 2,
   "metadata": {},
   "outputs": [],
   "source": [
    "image_shape = (1080, 1920)\n",
    "resize_factor = 0.3\n",
    "resize = np.multiply(image_shape,resize_factor)\n",
    "resize = [int(resize[0]), int(resize[1])]\n",
    "BATCH_SIZE = 16\n",
    "\n",
    "data_transform = create_transform(resize=resize, rotate=10, flip_h = True, color_dev=True, transf_tensor=True, normalize=True, sp_noise=True, gauss_noise=True)\n",
    "\n",
    "train_dl, validation_dl, test_dl, train_data, validation_data, test_data = create_dataloaders_multilabel(data_dir, transform = data_transform, batch_size=BATCH_SIZE, num_workers= NUM_WORKERS)"
   ]
  },
  {
   "cell_type": "code",
   "execution_count": 3,
   "metadata": {},
   "outputs": [],
   "source": [
    "NUM_EPOCHS = 100\n",
    "lr = 0.001\n",
    "device = get_device()\n",
    "\n",
    "effnetb0 = EfficientNetB0()\n",
    "\n",
    "loss_fn_binary = nn.BCELoss()\n",
    "loss_fn_multiclass = nn.CrossEntropyLoss()"
   ]
  },
  {
   "cell_type": "code",
   "execution_count": 7,
   "metadata": {},
   "outputs": [
    {
     "data": {
      "text/plain": [
       "(torch.Size([16, 3, 324, 576]), torch.Size([16, 3]))"
      ]
     },
     "execution_count": 7,
     "metadata": {},
     "output_type": "execute_result"
    }
   ],
   "source": [
    "# Get a single image batch\n",
    "image_batch, label_batch = next(iter(train_dl))\n",
    "image_batch.shape, label_batch.shape"
   ]
  },
  {
   "cell_type": "code",
   "execution_count": 27,
   "metadata": {},
   "outputs": [
    {
     "data": {
      "text/plain": [
       "tensor([[0.],\n",
       "        [0.],\n",
       "        [0.],\n",
       "        [1.],\n",
       "        [0.],\n",
       "        [1.],\n",
       "        [0.],\n",
       "        [0.],\n",
       "        [0.],\n",
       "        [0.],\n",
       "        [0.],\n",
       "        [1.],\n",
       "        [0.],\n",
       "        [0.],\n",
       "        [1.],\n",
       "        [1.]])"
      ]
     },
     "execution_count": 27,
     "metadata": {},
     "output_type": "execute_result"
    }
   ],
   "source": [
    "label_batch[:,0].unsqueeze(dim=1)"
   ]
  },
  {
   "cell_type": "code",
   "execution_count": null,
   "metadata": {},
   "outputs": [],
   "source": [
    "model_name = \"EfficientNetB0\"\n",
    "model_folder_path = models_path / model_name\n",
    "check_dir(model_folder_path)\n",
    "model_name_folder_path = model_folder_path / model_name\n",
    "\n",
    "#Train EfficientNet B0\n",
    "effnetb0.to(device)\n",
    "nadam_optim = torch.optim.NAdam(params=effnetb0.parameters(), lr=lr)\n",
    "train_effnetb0_results, train_time_effnetb0 = train(effnetb0, train_dl, validation_dl, optimizer=nadam_optim, loss_fn_binary=loss_fn_binary, loss_fn_multiclass=loss_fn_multiclass, epochs=NUM_EPOCHS, name_save=model_name_folder_path, device=device)"
   ]
  }
 ],
 "metadata": {
  "kernelspec": {
   "display_name": "base",
   "language": "python",
   "name": "python3"
  },
  "language_info": {
   "codemirror_mode": {
    "name": "ipython",
    "version": 3
   },
   "file_extension": ".py",
   "mimetype": "text/x-python",
   "name": "python",
   "nbconvert_exporter": "python",
   "pygments_lexer": "ipython3",
   "version": "3.9.13"
  },
  "orig_nbformat": 4
 },
 "nbformat": 4,
 "nbformat_minor": 2
}
