{
 "cells": [
  {
   "cell_type": "code",
   "execution_count": 78,
   "metadata": {},
   "outputs": [],
   "source": [
    "from torch.utils.data import DataLoader\n",
    "from torchvision import transforms\n",
    "import torch\n",
    "from PIL import Image\n",
    "import os\n",
    "from pathlib import Path\n",
    "from utils import *\n",
    "from allResNets import *\n",
    "from engine import *\n",
    "from data_transforms import create_transform\n",
    "from dataloaders import *\n",
    "import cv2\n",
    "from data_preparation import *\n",
    "import torch\n",
    "import glob\n",
    "import pandas as pd"
   ]
  },
  {
   "cell_type": "code",
   "execution_count": 79,
   "metadata": {},
   "outputs": [],
   "source": [
    "def find_classes(csv_file: str) -> List[str]:\n",
    "    classes = []\n",
    "    \n",
    "    df = pd.read_csv(csv_file)\n",
    "\n",
    "    for index, row in df.iterrows():\n",
    "        labels = []\n",
    "\n",
    "        if(row['Camera Alignment']):\n",
    "            labels.append('Camera Alignment')\n",
    "\n",
    "        if(row['Obstructed Camera']):\n",
    "            labels.append('Obstructed Camera')\n",
    "\n",
    "        if(row['Over lighting']):\n",
    "            labels.append('Over lighting')\n",
    "\n",
    "        if(row['Under lighting']):\n",
    "            labels.append('Under lighting')\n",
    "\n",
    "        if(row['Saturated']):\n",
    "            labels.append('Saturated')\n",
    "\n",
    "        classes.append(labels)\n",
    "    \n",
    "    return classes\n",
    "    \n"
   ]
  },
  {
   "cell_type": "code",
   "execution_count": 86,
   "metadata": {},
   "outputs": [],
   "source": [
    "class CustomImageFolderMultiLabel(torch.utils.data.Dataset):\n",
    "    def __init__(self, csv_file, transform = None):\n",
    "        self.data = pd.read_csv(csv_file)\n",
    "        self.transform = transform\n",
    "        self.image_paths = \"Quality/dataset/\" + self.data.iloc[:,-1] + \"/\" +  self.data.iloc[:,0] + \".png\"\n",
    "        self.labels = self.data.iloc[:,2:7]\n",
    "        self.classes = find_classes(csv_file)\n",
    "\n",
    "    def __getitem__(self, index):\n",
    "        image_path = self.image_paths.iloc[index]\n",
    "        label = self.labels.iloc[index]\n",
    "        classes = self.classes[index]\n",
    "        image = Image.open(image_path).convert('RGB')\n",
    "        if self.transform is not None:\n",
    "            image = self.transform(image)\n",
    "        return image, label, classes\n",
    "    \n",
    "    def __len__(self):\n",
    "        return len(self.image_paths)"
   ]
  },
  {
   "cell_type": "code",
   "execution_count": 87,
   "metadata": {},
   "outputs": [],
   "source": [
    "image_shape = (1080, 1920)\n",
    "resize_factor = 0.3\n",
    "resize = np.multiply(image_shape,resize_factor)\n",
    "resize = [int(resize[0]), int(resize[1])]\n",
    "BATCH_SIZE = 16\n",
    "\n",
    "data_transform = create_transform(resize=resize, rotate=10, flip_h = True, color_dev=True, transf_tensor=True, normalize=True, sp_noise=True, gauss_noise=True)\n",
    "\n",
    "data = CustomImageFolderMultiLabel(csv_file=\"Quality/all_data_labeled.csv\",transform=data_transform)"
   ]
  },
  {
   "cell_type": "code",
   "execution_count": 89,
   "metadata": {},
   "outputs": [
    {
     "data": {
      "text/plain": [
       "(tensor([[[-0.8510, -0.8510, -0.8431,  ..., -0.8510, -0.8431, -0.8510],\n",
       "          [-0.8510, -0.8431, -0.8431,  ..., -0.8510, -0.8431, -0.8510],\n",
       "          [-0.8510, -0.8510, -0.8510,  ..., -0.8510, -0.8510, -0.8431],\n",
       "          ...,\n",
       "          [-0.8431, -0.8431, -0.8510,  ..., -0.8510, -0.8431, -0.8431],\n",
       "          [-0.8510,  0.9922, -0.8431,  ..., -0.8431, -0.8431, -0.8510],\n",
       "          [-0.8510, -0.8431, -0.8431,  ..., -0.8510, -0.8431, -0.8431]],\n",
       " \n",
       "         [[-0.8510, -0.8431, -0.8431,  ..., -0.8431, -0.8431, -0.8510],\n",
       "          [-0.8510, -0.8510, -0.8510,  ..., -0.8431, -0.8510, -0.8510],\n",
       "          [-0.8431, -0.8510, -0.8510,  ..., -0.8431, -0.8510, -0.8510],\n",
       "          ...,\n",
       "          [-0.8510, -0.8510, -0.8431,  ..., -0.8510, -0.8431, -0.8510],\n",
       "          [-0.8510,  1.0000, -0.8510,  ..., -0.8510, -0.8510, -0.8510],\n",
       "          [-0.8510, -0.8510, -0.8431,  ..., -0.8510, -0.8431, -0.8431]],\n",
       " \n",
       "         [[-0.8431, -0.8431, -0.8431,  ..., -0.8510, -0.8510, -0.8431],\n",
       "          [-0.8431, -0.8510, -0.8431,  ..., -0.8510, -0.8510, -0.8510],\n",
       "          [-0.8510, -0.8431, -0.8510,  ..., -0.8431, -0.8510, -0.8510],\n",
       "          ...,\n",
       "          [-0.8431, -0.8510, -0.8510,  ..., -0.8431, -0.8431, -0.8431],\n",
       "          [-0.8510,  0.9922, -0.8431,  ..., -0.8510, -0.8510, -0.8431],\n",
       "          [-0.8431, -0.8431, -0.8510,  ..., -0.8431, -0.8431, -0.8431]]]),\n",
       " Camera Alignment     1\n",
       " Obstructed Camera    0\n",
       " Over lighting        1\n",
       " Under lighting       0\n",
       " Saturated            0\n",
       " Name: 0, dtype: int64,\n",
       " ['Camera Alignment', 'Over lighting'])"
      ]
     },
     "execution_count": 89,
     "metadata": {},
     "output_type": "execute_result"
    }
   ],
   "source": [
    "image, label, classes = data.__getitem__(0)\n",
    "image, label, classes"
   ]
  }
 ],
 "metadata": {
  "kernelspec": {
   "display_name": "base",
   "language": "python",
   "name": "python3"
  },
  "language_info": {
   "codemirror_mode": {
    "name": "ipython",
    "version": 3
   },
   "file_extension": ".py",
   "mimetype": "text/x-python",
   "name": "python",
   "nbconvert_exporter": "python",
   "pygments_lexer": "ipython3",
   "version": "3.9.13"
  },
  "orig_nbformat": 4
 },
 "nbformat": 4,
 "nbformat_minor": 2
}
