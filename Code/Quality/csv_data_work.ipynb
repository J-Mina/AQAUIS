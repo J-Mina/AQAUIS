{
 "cells": [
  {
   "cell_type": "code",
   "execution_count": 1,
   "metadata": {},
   "outputs": [],
   "source": [
    "from torch.utils.data import DataLoader\n",
    "from torchvision import transforms\n",
    "import torch\n",
    "from PIL import Image\n",
    "import os\n",
    "from pathlib import Path\n",
    "from utils import *\n",
    "from allResNets import *\n",
    "from engine import *\n",
    "from data_transforms import create_transform\n",
    "from dataloaders import *\n",
    "import cv2\n",
    "from data_preparation import *\n",
    "import torch\n",
    "import glob\n",
    "import pandas as pd"
   ]
  },
  {
   "cell_type": "code",
   "execution_count": 79,
   "metadata": {},
   "outputs": [],
   "source": [
    "def find_classes(csv_file: str) -> List[str]:\n",
    "    classes = []\n",
    "    \n",
    "    df = pd.read_csv(csv_file)\n",
    "\n",
    "    for index, row in df.iterrows():\n",
    "        labels = []\n",
    "\n",
    "        if(row['Camera Alignment']):\n",
    "            labels.append('Camera Alignment')\n",
    "\n",
    "        if(row['Obstructed Camera']):\n",
    "            labels.append('Obstructed Camera')\n",
    "\n",
    "        if(row['Over lighting']):\n",
    "            labels.append('Over lighting')\n",
    "\n",
    "        if(row['Under lighting']):\n",
    "            labels.append('Under lighting')\n",
    "\n",
    "        if(row['Saturated']):\n",
    "            labels.append('Saturated')\n",
    "\n",
    "        classes.append(labels)\n",
    "    \n",
    "    return classes\n",
    "    \n"
   ]
  },
  {
   "cell_type": "code",
   "execution_count": 86,
   "metadata": {},
   "outputs": [],
   "source": [
    "class CustomImageFolderMultiLabel(torch.utils.data.Dataset):\n",
    "    def __init__(self, csv_file, transform = None):\n",
    "        self.data = pd.read_csv(csv_file)\n",
    "        self.transform = transform\n",
    "        self.image_paths = \"Quality/dataset/\" + self.data.iloc[:,-1] + \"/\" +  self.data.iloc[:,0] + \".png\"\n",
    "        self.labels = self.data.iloc[:,2:7]\n",
    "        self.classes = find_classes(csv_file)\n",
    "\n",
    "    def __getitem__(self, index):\n",
    "        image_path = self.image_paths.iloc[index]\n",
    "        label = self.labels.iloc[index]\n",
    "        classes = self.classes[index]\n",
    "        image = Image.open(image_path).convert('RGB')\n",
    "        if self.transform is not None:\n",
    "            image = self.transform(image)\n",
    "        return image, label, classes\n",
    "    \n",
    "    def __len__(self):\n",
    "        return len(self.image_paths)"
   ]
  },
  {
   "cell_type": "code",
   "execution_count": 87,
   "metadata": {},
   "outputs": [],
   "source": [
    "image_shape = (1080, 1920)\n",
    "resize_factor = 0.3\n",
    "resize = np.multiply(image_shape,resize_factor)\n",
    "resize = [int(resize[0]), int(resize[1])]\n",
    "BATCH_SIZE = 16\n",
    "\n",
    "data_transform = create_transform(resize=resize, rotate=10, flip_h = True, color_dev=True, transf_tensor=True, normalize=True, sp_noise=True, gauss_noise=True)\n",
    "\n",
    "data = CustomImageFolderMultiLabel(csv_file=\"Quality/all_data_labeled.csv\",transform=data_transform)"
   ]
  },
  {
   "cell_type": "code",
   "execution_count": 89,
   "metadata": {},
   "outputs": [
    {
     "data": {
      "text/plain": [
       "(tensor([[[-0.8510, -0.8510, -0.8431,  ..., -0.8510, -0.8431, -0.8510],\n",
       "          [-0.8510, -0.8431, -0.8431,  ..., -0.8510, -0.8431, -0.8510],\n",
       "          [-0.8510, -0.8510, -0.8510,  ..., -0.8510, -0.8510, -0.8431],\n",
       "          ...,\n",
       "          [-0.8431, -0.8431, -0.8510,  ..., -0.8510, -0.8431, -0.8431],\n",
       "          [-0.8510,  0.9922, -0.8431,  ..., -0.8431, -0.8431, -0.8510],\n",
       "          [-0.8510, -0.8431, -0.8431,  ..., -0.8510, -0.8431, -0.8431]],\n",
       " \n",
       "         [[-0.8510, -0.8431, -0.8431,  ..., -0.8431, -0.8431, -0.8510],\n",
       "          [-0.8510, -0.8510, -0.8510,  ..., -0.8431, -0.8510, -0.8510],\n",
       "          [-0.8431, -0.8510, -0.8510,  ..., -0.8431, -0.8510, -0.8510],\n",
       "          ...,\n",
       "          [-0.8510, -0.8510, -0.8431,  ..., -0.8510, -0.8431, -0.8510],\n",
       "          [-0.8510,  1.0000, -0.8510,  ..., -0.8510, -0.8510, -0.8510],\n",
       "          [-0.8510, -0.8510, -0.8431,  ..., -0.8510, -0.8431, -0.8431]],\n",
       " \n",
       "         [[-0.8431, -0.8431, -0.8431,  ..., -0.8510, -0.8510, -0.8431],\n",
       "          [-0.8431, -0.8510, -0.8431,  ..., -0.8510, -0.8510, -0.8510],\n",
       "          [-0.8510, -0.8431, -0.8510,  ..., -0.8431, -0.8510, -0.8510],\n",
       "          ...,\n",
       "          [-0.8431, -0.8510, -0.8510,  ..., -0.8431, -0.8431, -0.8431],\n",
       "          [-0.8510,  0.9922, -0.8431,  ..., -0.8510, -0.8510, -0.8431],\n",
       "          [-0.8431, -0.8431, -0.8510,  ..., -0.8431, -0.8431, -0.8431]]]),\n",
       " Camera Alignment     1\n",
       " Obstructed Camera    0\n",
       " Over lighting        1\n",
       " Under lighting       0\n",
       " Saturated            0\n",
       " Name: 0, dtype: int64,\n",
       " ['Camera Alignment', 'Over lighting'])"
      ]
     },
     "execution_count": 89,
     "metadata": {},
     "output_type": "execute_result"
    }
   ],
   "source": [
    "image, label, classes = data.__getitem__(0)\n",
    "image, label, classes"
   ]
  },
  {
   "cell_type": "code",
   "execution_count": 25,
   "metadata": {},
   "outputs": [],
   "source": [
    "import csv\n",
    "\n",
    "# Open the input and output files\n",
    "with open('Quality/all_data_labeled.csv', 'r') as input_file, open('Quality/data_labeled.csv', 'w', newline='') as output_file:\n",
    "    # Create a CSV reader and writer objects\n",
    "    reader = csv.reader(input_file)\n",
    "    writer = csv.writer(output_file)\n",
    "    \n",
    "    # Iterate through the rows in the input file\n",
    "    for row in reader:\n",
    "        # Process the row (e.g., filter out unwanted rows, transform data, etc.)\n",
    "        # In this example, we simply write the row to the output file\n",
    "        if (row[2] == \"1\") or (row[3] == \"1\") or row[4] == \"1\" or row[5] == \"1\" or row[6] == \"1\":\n",
    "            writer.writerow(row)"
   ]
  },
  {
   "cell_type": "code",
   "execution_count": 31,
   "metadata": {},
   "outputs": [],
   "source": [
    "# Open the input and output files\n",
    "with open('Quality/data_labeled.csv', 'r') as input_file, open('Quality/train_data.csv', 'w', newline='') as output_file:\n",
    "    # Create a CSV reader and writer objects\n",
    "    reader = csv.reader(input_file)\n",
    "    writer = csv.writer(output_file)\n",
    "    \n",
    "    # Iterate through the rows in the input file\n",
    "    for row in reader:\n",
    "        # Process the row (e.g., filter out unwanted rows, transform data, etc.)\n",
    "        # In this example, we simply write the row to the output file\n",
    "        if row[0].startswith(\"Qa_align_1_0_\"):\n",
    "            writer.writerow(row)"
   ]
  },
  {
   "cell_type": "code",
   "execution_count": 166,
   "metadata": {},
   "outputs": [],
   "source": [
    "import csv\n",
    "from utils import *\n",
    "change_to_disk()\n",
    "\n",
    "# Open the input and output files\n",
    "with open('Quality/data_labeled.csv', 'r') as input_file, open('Quality/placeholder.csv','w', newline='') as placeholder_file:\n",
    "    # Create a CSV reader and writer objects\n",
    "    reader = csv.reader(input_file)\n",
    "    \n",
    "    placeholder_writer = csv.writer(placeholder_file)\n",
    "    counter = 0\n",
    "\n",
    "    \n",
    "    # Iterate through the rows in the input file\n",
    "    for row in reader:\n",
    "        # Process the row (e.g., filter out unwanted rows, transform data, etc.)\n",
    "        # In this example, we simply write the row to the output file\n",
    "        if row[7].startswith(\"5_Saturated\") and row[0].startswith(\"Qa_Sat_2_2\"):\n",
    "            counter = counter+1\n",
    "            placeholder_writer.writerow(row)"
   ]
  },
  {
   "cell_type": "code",
   "execution_count": 167,
   "metadata": {},
   "outputs": [
    {
     "data": {
      "text/plain": [
       "1789"
      ]
     },
     "execution_count": 167,
     "metadata": {},
     "output_type": "execute_result"
    }
   ],
   "source": [
    "counter"
   ]
  },
  {
   "cell_type": "code",
   "execution_count": 168,
   "metadata": {},
   "outputs": [],
   "source": [
    "with open('Quality/placeholder.csv','r') as placeholder_file, open('Quality/train_data.csv', 'a', newline='') as train_file, open('Quality/test_validation_data.csv','a',newline='') as test_val_file:\n",
    "    reader = csv.reader(placeholder_file)\n",
    "    train_writer = csv.writer(train_file)\n",
    "    test_val_writer = csv.writer(test_val_file)\n",
    "    split_count = 0\n",
    "\n",
    "    for row in reader:\n",
    "        if 0.7*counter > split_count:\n",
    "            train_writer.writerow(row)\n",
    "        elif 0.8*counter < split_count:\n",
    "            test_val_writer.writerow(row)\n",
    "        \n",
    "        split_count += 1"
   ]
  },
  {
   "cell_type": "code",
   "execution_count": 182,
   "metadata": {},
   "outputs": [],
   "source": [
    "##Split in classes with 1k per class / whole class\n",
    "\n",
    "classes = [\"1_Camera_alignment\", \"2_Obstructed_Cameras\", \"3_Over_lighting\", \"4_Under_lighting\", \"5_Saturated\"]\n",
    "\n",
    "with open('Quality/data/train_data.csv','r') as train_data_file, open('Quality/data/test_validation_data.csv', 'r') as test_val_data_file, open('Quality/data/split_1k_train_data.csv','w',newline='') as split_1k_train_data_file, open('Quality/data/split_1k_test_data.csv','w',newline='') as split_1k_test_data_file, open('Quality/data/split_1k_validation_data.csv','w',newline='') as split_1k_validation_data_file:\n",
    "    reader_train = csv.reader(train_data_file)\n",
    "    reader_test_validation = csv.reader(test_val_data_file)\n",
    "\n",
    "    row_count_test_val = sum(1 for row in reader_test_validation)\n",
    "    row_count_train = sum(1 for row in reader_train)\n"
   ]
  },
  {
   "cell_type": "code",
   "execution_count": 181,
   "metadata": {},
   "outputs": [],
   "source": [
    "with open('Quality/data/train_data.csv','r') as train_data_file, open('Quality/data/test_validation_data.csv', 'r') as test_val_data_file, open('Quality/data/split_1k_train_data.csv','w',newline='') as split_1k_train_data_file, open('Quality/data/split_1k_test_data.csv','w',newline='') as split_1k_test_data_file, open('Quality/data/split_1k_validation_data.csv','w',newline='') as split_1k_validation_data_file:\n",
    "    reader_train = csv.reader(train_data_file)\n",
    "    reader_test_validation = csv.reader(test_val_data_file)\n",
    "\n",
    "    split_1k_train_writer = csv.writer(split_1k_train_data_file)\n",
    "    split_1k_validation_writer = csv.writer(split_1k_validation_data_file)\n",
    "    split_1k_test_writer = csv.writer(split_1k_test_data_file)\n",
    "\n",
    "    num_files = 5000\n",
    "    array_range_train = range(0,row_count_train)\n",
    "    array_range_validation = range(0,row_count_test_val)\n",
    "    array_range_test = range(0,row_count_test_val)\n",
    "    \n",
    "    array_train = random.sample(array_range_train, int(num_files*0.8))\n",
    "    array_validation = random.sample(array_range_validation, int(num_files*0.1))\n",
    "    array_test = random.sample(array_range_test,int(num_files*0.1))\n",
    "\n",
    "    for i,row in enumerate(reader_test_validation):\n",
    "        if(i in array_test):\n",
    "            split_1k_test_writer.writerow(row)\n",
    "        elif(i in array_validation):\n",
    "            split_1k_validation_writer.writerow(row)\n",
    "\n",
    "    for i,row in enumerate(reader_train):\n",
    "        if(i in array_train):\n",
    "            split_1k_train_writer.writerow(row)"
   ]
  },
  {
   "attachments": {},
   "cell_type": "markdown",
   "metadata": {},
   "source": [
    "Separação por classes para depois conseguir extrair o numero que é necessário por classe\n"
   ]
  },
  {
   "cell_type": "code",
   "execution_count": 187,
   "metadata": {},
   "outputs": [],
   "source": [
    "with open('Quality/data/test_validation_data.csv','r') as train_data_file, open('Quality/data/test_validation_by_classes/1_Camera_alignment.csv', 'w', newline='') as camera_alignment_file, open('Quality/data/test_validation_by_classes/2_Obstructed_cameras.csv', 'w', newline='') as obstructed_cameras_file, open('Quality/data/test_validation_by_classes/3_Over_lighting.csv', 'w', newline='') as over_lighting_file, open('Quality/data/test_validation_by_classes/4_Under_lighting.csv', 'w', newline='') as under_lighting_file, open('Quality/data/test_validation_by_classes/5_Saturated.csv', 'w', newline='') as saturated_file :\n",
    "    reader_train = csv.reader(train_data_file)\n",
    "\n",
    "    writer_camera_alignment = csv.writer(camera_alignment_file)\n",
    "    writer_obstructed_cameras = csv.writer(obstructed_cameras_file)\n",
    "    writer_over_lighting = csv.writer(over_lighting_file)\n",
    "    writer_under_lighting = csv.writer(under_lighting_file)\n",
    "    writer_saturated = csv.writer(saturated_file)\n",
    "\n",
    "    for row in reader_train:\n",
    "        if row[7].startswith(\"1_Camera_alignment\"):\n",
    "            writer_camera_alignment.writerow(row)\n",
    "        elif row[7].startswith(\"2_Obstructed_cameras\"):\n",
    "            writer_obstructed_cameras.writerow(row)\n",
    "        elif row[7].startswith(\"3_Over_lighting\"):\n",
    "            writer_over_lighting.writerow(row)\n",
    "        elif row[7].startswith(\"4_Under_lighting\"):\n",
    "            writer_under_lighting.writerow(row)\n",
    "        elif row[7].startswith(\"5_Saturated\"):\n",
    "            writer_saturated.writerow(row)\n"
   ]
  },
  {
   "attachments": {},
   "cell_type": "markdown",
   "metadata": {},
   "source": [
    "Tentar agora equilibrar as classes"
   ]
  },
  {
   "attachments": {},
   "cell_type": "markdown",
   "metadata": {},
   "source": [
    "Treino"
   ]
  },
  {
   "cell_type": "code",
   "execution_count": 193,
   "metadata": {},
   "outputs": [],
   "source": [
    "with open('Quality/data/train_by_classes/1_Camera_alignment.csv', 'r') as camera_alignment_file, open('Quality/data/train_by_classes/2_Obstructed_cameras.csv', 'r') as obstructed_cameras_file, open('Quality/data/train_by_classes/3_Over_lighting.csv', 'r') as over_lighting_file, open('Quality/data/train_by_classes/4_Under_lighting.csv', 'r') as under_lighting_file, open('Quality/data/train_by_classes/5_Saturated.csv', 'r') as saturated_file :\n",
    "    camera_alignment_reader = csv.reader(camera_alignment_file)\n",
    "    obstructed_cameras_reader = csv.reader(obstructed_cameras_file)\n",
    "    over_lighting_reader = csv.reader(over_lighting_file)\n",
    "    under_lighting_reader = csv.reader(under_lighting_file)\n",
    "    saturated_reader = csv.reader(saturated_file)\n",
    "\n",
    "\n",
    "    row_count_camera_alignment = sum(1 for row in camera_alignment_reader)\n",
    "    row_count_obstructed_cameras = sum(1 for row in obstructed_cameras_reader)\n",
    "    row_count_over_lighting = sum(1 for row in over_lighting_reader)\n",
    "    row_count_under_lighting = sum(1 for row in under_lighting_reader)\n",
    "    row_count_saturated = sum(1 for row in saturated_reader)"
   ]
  },
  {
   "cell_type": "code",
   "execution_count": 194,
   "metadata": {},
   "outputs": [],
   "source": [
    "with open('Quality/data/split_1k_train_data.csv','a', newline='') as train_data_file, open('Quality/data/train_by_classes/1_Camera_alignment.csv', 'r') as camera_alignment_file, open('Quality/data/train_by_classes/2_Obstructed_cameras.csv', 'r') as obstructed_cameras_file, open('Quality/data/train_by_classes/3_Over_lighting.csv', 'r') as over_lighting_file, open('Quality/data/train_by_classes/4_Under_lighting.csv', 'r') as under_lighting_file, open('Quality/data/train_by_classes/5_Saturated.csv', 'r') as saturated_file :\n",
    "    camera_alignment_reader = csv.reader(camera_alignment_file)\n",
    "    obstructed_cameras_reader = csv.reader(obstructed_cameras_file)\n",
    "    over_lighting_reader = csv.reader(over_lighting_file)\n",
    "    under_lighting_reader = csv.reader(under_lighting_file)\n",
    "    saturated_reader = csv.reader(saturated_file)\n",
    "\n",
    "    img_per_class_train = 800\n",
    "\n",
    "    train_writer = csv.writer(train_data_file)\n",
    "\n",
    "    array_range_camera_alignment = range(0,row_count_camera_alignment)\n",
    "    array_range_obstructed_cameras = range(0,row_count_obstructed_cameras)\n",
    "    array_range_over_lighting = range(0,row_count_over_lighting)\n",
    "    array_range_under_lighting = range(0, row_count_under_lighting)\n",
    "    array_range_saturated = range(0, row_count_saturated)\n",
    "    \n",
    "    array_camera_alignment = random.sample(array_range_camera_alignment, img_per_class_train)\n",
    "    array_obstructed_cameras = random.sample(array_range_obstructed_cameras, img_per_class_train)\n",
    "    array_over_lighting = random.sample(array_range_over_lighting, img_per_class_train)\n",
    "    array_under_lighting = random.sample(array_range_under_lighting, img_per_class_train)\n",
    "    array_saturated = random.sample(array_range_saturated, img_per_class_train)\n",
    "\n",
    "    for i,row in enumerate(camera_alignment_reader):\n",
    "        if i in array_camera_alignment:\n",
    "            train_writer.writerow(row)\n",
    "\n",
    "    for i,row in enumerate(obstructed_cameras_reader):\n",
    "        if i in array_obstructed_cameras:\n",
    "            train_writer.writerow(row)\n",
    "\n",
    "    for i,row in enumerate(over_lighting_reader):\n",
    "        if i in array_over_lighting:\n",
    "            train_writer.writerow(row)\n",
    "    \n",
    "    for i,row in enumerate(under_lighting_reader):\n",
    "        if i in array_under_lighting:\n",
    "            train_writer.writerow(row)\n",
    "\n",
    "    for i,row in enumerate(saturated_reader):\n",
    "        if i in array_saturated:\n",
    "            train_writer.writerow(row)\n"
   ]
  },
  {
   "attachments": {},
   "cell_type": "markdown",
   "metadata": {},
   "source": [
    "Teste e validação"
   ]
  },
  {
   "cell_type": "code",
   "execution_count": 195,
   "metadata": {},
   "outputs": [],
   "source": [
    "with open('Quality/data/test_validation_by_classes/1_Camera_alignment.csv', 'r') as camera_alignment_file, open('Quality/data/test_validation_by_classes/2_Obstructed_cameras.csv', 'r') as obstructed_cameras_file, open('Quality/data/test_validation_by_classes/3_Over_lighting.csv', 'r') as over_lighting_file, open('Quality/data/test_validation_by_classes/4_Under_lighting.csv', 'r') as under_lighting_file, open('Quality/data/test_validation_by_classes/5_Saturated.csv', 'r') as saturated_file :\n",
    "    camera_alignment_reader = csv.reader(camera_alignment_file)\n",
    "    obstructed_cameras_reader = csv.reader(obstructed_cameras_file)\n",
    "    over_lighting_reader = csv.reader(over_lighting_file)\n",
    "    under_lighting_reader = csv.reader(under_lighting_file)\n",
    "    saturated_reader = csv.reader(saturated_file)\n",
    "\n",
    "\n",
    "    row_count_camera_alignment = sum(1 for row in camera_alignment_reader)\n",
    "    row_count_obstructed_cameras = sum(1 for row in obstructed_cameras_reader)\n",
    "    row_count_over_lighting = sum(1 for row in over_lighting_reader)\n",
    "    row_count_under_lighting = sum(1 for row in under_lighting_reader)\n",
    "    row_count_saturated = sum(1 for row in saturated_reader)"
   ]
  },
  {
   "cell_type": "code",
   "execution_count": null,
   "metadata": {},
   "outputs": [],
   "source": [
    "with open('Quality/data/split_1k_test_data.csv','a', newline='') as test_data_file, open('Quality/data/split_1k_validation_data.csv','a', newline='') as validation_data_file , open('Quality/data/test_validation_by_classes/1_Camera_alignment.csv', 'r') as camera_alignment_file, open('Quality/data/test_validation_by_classes/2_Obstructed_cameras.csv', 'r') as obstructed_cameras_file, open('Quality/data/test_validation_by_classes/3_Over_lighting.csv', 'r') as over_lighting_file, open('Quality/data/test_validation_by_classes/4_Under_lighting.csv', 'r') as under_lighting_file, open('Quality/data/test_validation_by_classes/5_Saturated.csv', 'r') as saturated_file :\n",
    "    camera_alignment_reader = csv.reader(camera_alignment_file)\n",
    "    obstructed_cameras_reader = csv.reader(obstructed_cameras_file)\n",
    "    over_lighting_reader = csv.reader(over_lighting_file)\n",
    "    under_lighting_reader = csv.reader(under_lighting_file)\n",
    "    saturated_reader = csv.reader(saturated_file)\n",
    "\n",
    "    img_per_class_val_test = 100\n",
    "\n",
    "    test_writer = csv.writer(test_data_file)\n",
    "    validation_writer = csv.writer(validation_data_file)\n",
    "\n",
    "    array_range_camera_alignment_test = range(0,row_count_camera_alignment)\n",
    "    array_range_obstructed_cameras_test = range(0,row_count_obstructed_cameras)\n",
    "    array_range_over_lighting_test = range(0,row_count_over_lighting)\n",
    "    array_range_under_lighting_test = range(0, row_count_under_lighting)\n",
    "    array_range_saturated_test = range(0, row_count_saturated)\n",
    "    \n",
    "    array_camera_alignment_test = random.sample(array_range_camera_alignment_test, img_per_class_val_test)\n",
    "    array_obstructed_cameras_test = random.sample(array_range_obstructed_cameras_test, img_per_class_val_test)\n",
    "    array_over_lighting_test = random.sample(array_range_over_lighting_test, img_per_class_val_test)\n",
    "    array_under_lighting_test = random.sample(array_range_under_lighting_test, img_per_class_val_test)\n",
    "    array_saturated_test = random.sample(array_range_saturated_test, img_per_class_val_test)\n",
    "\n",
    "    array_range_camera_alignment_validation = range(0,row_count_camera_alignment)\n",
    "    array_range_obstructed_cameras_validation = range(0,row_count_obstructed_cameras)\n",
    "    array_range_over_lighting_validation = range(0,row_count_over_lighting)\n",
    "    array_range_under_lighting_validation = range(0, row_count_under_lighting)\n",
    "    array_range_saturated_validation = range(0, row_count_saturated)\n",
    "    \n",
    "    array_camera_alignment_validation = random.sample(array_range_camera_alignment_validation, img_per_class_val_test)\n",
    "    array_obstructed_cameras_validation = random.sample(array_range_obstructed_cameras_validation, img_per_class_val_test)\n",
    "    array_over_lighting_validation = random.sample(array_range_over_lighting_validation, img_per_class_val_test)\n",
    "    array_under_lighting_validation = random.sample(array_range_under_lighting_validation, img_per_class_val_test)\n",
    "    array_saturated_validation = random.sample(array_range_saturated_validation, img_per_class_val_test)\n",
    "\n",
    "\n",
    "    for i,row in enumerate(camera_alignment_reader):\n",
    "        if i in array_camera_alignment_test:\n",
    "            test_writer.writerow(row)\n",
    "        if i in array_camera_alignment_validation:\n",
    "            validation_writer.writerow(row)\n",
    "\n",
    "    for i,row in enumerate(obstructed_cameras_reader):\n",
    "        if i in array_obstructed_cameras_test:\n",
    "            test_writer.writerow(row)\n",
    "        if i in array_obstructed_cameras_validation:\n",
    "            validation_writer.writerow(row)\n",
    "\n",
    "    for i,row in enumerate(over_lighting_reader):\n",
    "        if i in array_over_lighting_test:\n",
    "            test_writer.writerow(row)\n",
    "        if i in array_over_lighting_validation:\n",
    "            validation_writer.writerow(row)\n",
    "    \n",
    "    for i,row in enumerate(under_lighting_reader):\n",
    "        if i in array_under_lighting_test:\n",
    "            test_writer.writerow(row)\n",
    "        if i in array_under_lighting_validation:\n",
    "            validation_writer.writerow(row)\n",
    "\n",
    "    for i,row in enumerate(saturated_reader):\n",
    "        if i in array_saturated_test:\n",
    "            test_writer.writerow(row)\n",
    "        if i in array_saturated_validation:\n",
    "            validation_writer.writerow(row)\n"
   ]
  }
 ],
 "metadata": {
  "kernelspec": {
   "display_name": "base",
   "language": "python",
   "name": "python3"
  },
  "language_info": {
   "codemirror_mode": {
    "name": "ipython",
    "version": 3
   },
   "file_extension": ".py",
   "mimetype": "text/x-python",
   "name": "python",
   "nbconvert_exporter": "python",
   "pygments_lexer": "ipython3",
   "version": "3.9.13"
  },
  "orig_nbformat": 4
 },
 "nbformat": 4,
 "nbformat_minor": 2
}
