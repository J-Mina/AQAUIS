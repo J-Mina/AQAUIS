{
 "cells": [
  {
   "cell_type": "code",
   "execution_count": 1,
   "metadata": {},
   "outputs": [],
   "source": [
    "from torch.utils.data import DataLoader\n",
    "from torchvision import transforms\n",
    "import torch\n",
    "from PIL import Image\n",
    "import os\n",
    "from pathlib import Path\n",
    "from utils import *\n",
    "from allResNets import *\n",
    "from engine import *\n",
    "from data_transforms import create_transform\n",
    "from dataloaders import *\n",
    "\n",
    "change_to_disk()\n",
    "data_dir = Path(\"Quality/data/single_data/split_1k_single\")\n",
    "models_path = Path('Quality/Models_test/')\n",
    "check_dir(models_path)"
   ]
  },
  {
   "cell_type": "code",
   "execution_count": 2,
   "metadata": {},
   "outputs": [],
   "source": [
    "image_shape = (1080, 1920)\n",
    "resize_factor = 0.3\n",
    "resize = np.multiply(image_shape,resize_factor)\n",
    "resize = [int(resize[0]), int(resize[1])]\n",
    "BATCH_SIZE = 16\n",
    "\n",
    "data_transform = create_transform(resize=resize, rotate=10, flip_h = True, color_dev=True, transf_tensor=True, normalize=True, sp_noise=True, gauss_noise=True)\n",
    "\n",
    "train_dl, validation_dl, test_dl, train_data, validation_data, test_data = create_dataloaders_multilabel(data_dir, transform = data_transform, batch_size=BATCH_SIZE, num_workers= NUM_WORKERS)"
   ]
  },
  {
   "cell_type": "code",
   "execution_count": 3,
   "metadata": {},
   "outputs": [],
   "source": [
    "NUM_EPOCHS = 100\n",
    "lr = 0.001\n",
    "device = get_device()\n",
    "\n",
    "resnet18 = ResNet18()\n",
    "\n",
    "#Combines the sigmoid with the BinaryCrossEntropy\n",
    "loss_fn = nn.BCEWithLogitsLoss()"
   ]
  },
  {
   "cell_type": "code",
   "execution_count": 4,
   "metadata": {},
   "outputs": [
    {
     "name": "stdout",
     "output_type": "stream",
     "text": [
      "Quality\\Models_test\\ResNet18 does not exist, creating one...\n"
     ]
    },
    {
     "data": {
      "application/vnd.jupyter.widget-view+json": {
       "model_id": "bf1dfc96acfe4538ad5e59862f9c7402",
       "version_major": 2,
       "version_minor": 0
      },
      "text/plain": [
       "  0%|          | 0/100 [00:00<?, ?it/s]"
      ]
     },
     "metadata": {},
     "output_type": "display_data"
    },
    {
     "name": "stdout",
     "output_type": "stream",
     "text": [
      "Epoch: 1 | train_loss: 0.5644 | train_acc: 0.4169 | validation_loss: 2.0659 | validation_acc: 0.3388\n",
      "Epoch: 2 | train_loss: 0.4760 | train_acc: 0.5202 | validation_loss: 0.7925 | validation_acc: 0.4901\n",
      "Epoch: 3 | train_loss: 0.4162 | train_acc: 0.6149 | validation_loss: 0.4373 | validation_acc: 0.6283\n",
      "Epoch: 4 | train_loss: 0.3726 | train_acc: 0.6716 | validation_loss: 0.4564 | validation_acc: 0.5592\n",
      "Epoch: 5 | train_loss: 0.3544 | train_acc: 0.6933 | validation_loss: 0.4681 | validation_acc: 0.5789\n",
      "Epoch: 6 | train_loss: 0.3121 | train_acc: 0.7391 | validation_loss: 0.3232 | validation_acc: 0.7697\n",
      "Epoch: 7 | train_loss: 0.2894 | train_acc: 0.7741 | validation_loss: 0.3034 | validation_acc: 0.7533\n",
      "Epoch: 8 | train_loss: 0.2805 | train_acc: 0.7846 | validation_loss: 0.3015 | validation_acc: 0.7763\n",
      "Epoch: 9 | train_loss: 0.2730 | train_acc: 0.7958 | validation_loss: 0.3534 | validation_acc: 0.7697\n",
      "Epoch: 10 | train_loss: 0.2329 | train_acc: 0.8241 | validation_loss: 0.3589 | validation_acc: 0.7880\n",
      "Epoch: 11 | train_loss: 0.2122 | train_acc: 0.8274 | validation_loss: 0.2228 | validation_acc: 0.7993\n",
      "Epoch: 12 | train_loss: 0.2022 | train_acc: 0.8274 | validation_loss: 0.2852 | validation_acc: 0.7599\n",
      "Epoch: 13 | train_loss: 0.1957 | train_acc: 0.8416 | validation_loss: 0.2401 | validation_acc: 0.8026\n",
      "Epoch: 14 | train_loss: 0.1896 | train_acc: 0.8375 | validation_loss: 0.1809 | validation_acc: 0.8257\n",
      "Epoch: 15 | train_loss: 0.1684 | train_acc: 0.8412 | validation_loss: 0.2003 | validation_acc: 0.8224\n",
      "Epoch: 16 | train_loss: 0.1498 | train_acc: 0.8587 | validation_loss: 0.1512 | validation_acc: 0.8421\n",
      "Epoch: 17 | train_loss: 0.1388 | train_acc: 0.8616 | validation_loss: 0.2206 | validation_acc: 0.7961\n",
      "Epoch: 18 | train_loss: 0.1308 | train_acc: 0.8671 | validation_loss: 0.3184 | validation_acc: 0.7748\n",
      "Epoch: 19 | train_loss: 0.1384 | train_acc: 0.8608 | validation_loss: 0.2533 | validation_acc: 0.7895\n",
      "Epoch: 20 | train_loss: 0.1289 | train_acc: 0.8679 | validation_loss: 0.1752 | validation_acc: 0.8421\n",
      "Epoch: 21 | train_loss: 0.1165 | train_acc: 0.8704 | validation_loss: 1.5998 | validation_acc: 0.4507\n",
      "Epoch: 22 | train_loss: 0.1279 | train_acc: 0.8666 | validation_loss: 0.1318 | validation_acc: 0.8553\n",
      "Epoch: 23 | train_loss: 0.1065 | train_acc: 0.8728 | validation_loss: 0.3030 | validation_acc: 0.7763\n",
      "Epoch: 24 | train_loss: 0.1082 | train_acc: 0.8716 | validation_loss: 0.3678 | validation_acc: 0.7467\n",
      "Epoch: 25 | train_loss: 0.0894 | train_acc: 0.8812 | validation_loss: 0.1291 | validation_acc: 0.8520\n",
      "Epoch: 26 | train_loss: 0.0944 | train_acc: 0.8816 | validation_loss: 0.1094 | validation_acc: 0.8618\n",
      "Epoch: 27 | train_loss: 0.0879 | train_acc: 0.8774 | validation_loss: 0.5165 | validation_acc: 0.7336\n",
      "Epoch: 28 | train_loss: 0.0846 | train_acc: 0.8824 | validation_loss: 0.4442 | validation_acc: 0.7829\n",
      "Epoch: 29 | train_loss: 0.0972 | train_acc: 0.8754 | validation_loss: 0.1595 | validation_acc: 0.8388\n",
      "Epoch: 30 | train_loss: 0.0908 | train_acc: 0.8774 | validation_loss: 0.4456 | validation_acc: 0.7452\n",
      "Epoch: 31 | train_loss: 0.0812 | train_acc: 0.8841 | validation_loss: 0.1845 | validation_acc: 0.8388\n",
      "Epoch: 32 | train_loss: 0.0744 | train_acc: 0.8837 | validation_loss: 0.2165 | validation_acc: 0.8026\n",
      "Epoch: 33 | train_loss: 0.0768 | train_acc: 0.8828 | validation_loss: 0.3202 | validation_acc: 0.7566\n",
      "Epoch: 34 | train_loss: 0.0790 | train_acc: 0.8816 | validation_loss: 0.2145 | validation_acc: 0.8257\n",
      "Epoch: 35 | train_loss: 0.0769 | train_acc: 0.8846 | validation_loss: 0.1107 | validation_acc: 0.8684\n",
      "Epoch: 36 | train_loss: 0.0683 | train_acc: 0.8911 | validation_loss: 0.1878 | validation_acc: 0.8487\n",
      "Epoch: 37 | train_loss: 0.0796 | train_acc: 0.8796 | validation_loss: 0.5476 | validation_acc: 0.7500\n",
      "Epoch: 38 | train_loss: 0.0620 | train_acc: 0.8883 | validation_loss: 0.1025 | validation_acc: 0.8651\n",
      "Epoch: 39 | train_loss: 0.0668 | train_acc: 0.8875 | validation_loss: 0.3659 | validation_acc: 0.7730\n",
      "Epoch: 40 | train_loss: 0.0624 | train_acc: 0.8904 | validation_loss: 0.3019 | validation_acc: 0.7993\n",
      "Epoch: 41 | train_loss: 0.0560 | train_acc: 0.8916 | validation_loss: 0.1106 | validation_acc: 0.8618\n",
      "Epoch: 42 | train_loss: 0.0499 | train_acc: 0.8941 | validation_loss: 0.4925 | validation_acc: 0.7533\n",
      "Epoch: 43 | train_loss: 0.0676 | train_acc: 0.8879 | validation_loss: 0.3858 | validation_acc: 0.7895\n",
      "Epoch: 44 | train_loss: 0.0596 | train_acc: 0.8875 | validation_loss: 0.4970 | validation_acc: 0.7336\n",
      "Epoch: 45 | train_loss: 0.0481 | train_acc: 0.8945 | validation_loss: 0.2903 | validation_acc: 0.7961\n",
      "Epoch: 46 | train_loss: 0.0611 | train_acc: 0.8891 | validation_loss: 0.1754 | validation_acc: 0.8487\n",
      "Epoch: 47 | train_loss: 0.0602 | train_acc: 0.8904 | validation_loss: 0.1423 | validation_acc: 0.8684\n",
      "Epoch: 48 | train_loss: 0.0534 | train_acc: 0.8912 | validation_loss: 0.1140 | validation_acc: 0.8586\n",
      "Epoch: 49 | train_loss: 0.0419 | train_acc: 0.8954 | validation_loss: 0.1132 | validation_acc: 0.8651\n",
      "Epoch: 50 | train_loss: 0.0466 | train_acc: 0.8937 | validation_loss: 0.1360 | validation_acc: 0.8520\n",
      "Epoch: 51 | train_loss: 0.0484 | train_acc: 0.8950 | validation_loss: 0.5191 | validation_acc: 0.7467\n",
      "Epoch: 52 | train_loss: 0.0523 | train_acc: 0.8937 | validation_loss: 0.1609 | validation_acc: 0.8454\n",
      "Epoch: 53 | train_loss: 0.0456 | train_acc: 0.8942 | validation_loss: 0.4449 | validation_acc: 0.7928\n",
      "Epoch: 54 | train_loss: 0.0497 | train_acc: 0.8937 | validation_loss: 0.3063 | validation_acc: 0.7862\n",
      "Epoch: 55 | train_loss: 0.0453 | train_acc: 0.8940 | validation_loss: 0.5490 | validation_acc: 0.6627\n",
      "Epoch: 56 | train_loss: 0.0475 | train_acc: 0.8949 | validation_loss: 0.2577 | validation_acc: 0.8257\n",
      "Epoch: 57 | train_loss: 0.0374 | train_acc: 0.8942 | validation_loss: 0.2562 | validation_acc: 0.8257\n",
      "Epoch: 58 | train_loss: 0.0433 | train_acc: 0.8958 | validation_loss: 0.1945 | validation_acc: 0.8355\n",
      "Epoch: 59 | train_loss: 0.0396 | train_acc: 0.8961 | validation_loss: 0.1296 | validation_acc: 0.8553\n",
      "Epoch: 60 | train_loss: 0.0481 | train_acc: 0.8904 | validation_loss: 0.2091 | validation_acc: 0.8289\n",
      "Epoch: 61 | train_loss: 0.0381 | train_acc: 0.8933 | validation_loss: 0.2233 | validation_acc: 0.8322\n",
      "Epoch: 62 | train_loss: 0.0441 | train_acc: 0.8954 | validation_loss: 0.2094 | validation_acc: 0.8289\n",
      "Epoch: 63 | train_loss: 0.0348 | train_acc: 0.8957 | validation_loss: 0.2200 | validation_acc: 0.8355\n",
      "Epoch: 64 | train_loss: 0.0317 | train_acc: 0.8979 | validation_loss: 0.3950 | validation_acc: 0.7796\n",
      "Epoch: 65 | train_loss: 0.0338 | train_acc: 0.8962 | validation_loss: 0.2824 | validation_acc: 0.8224\n",
      "Epoch: 66 | train_loss: 0.0495 | train_acc: 0.8900 | validation_loss: 0.3438 | validation_acc: 0.7697\n",
      "Epoch: 67 | train_loss: 0.0379 | train_acc: 0.8941 | validation_loss: 0.2314 | validation_acc: 0.8421\n",
      "Epoch: 68 | train_loss: 0.0408 | train_acc: 0.8962 | validation_loss: 0.2671 | validation_acc: 0.8158\n",
      "Epoch: 69 | train_loss: 0.0260 | train_acc: 0.8996 | validation_loss: 0.2845 | validation_acc: 0.8110\n",
      "Epoch: 70 | train_loss: 0.0335 | train_acc: 0.8953 | validation_loss: 0.3817 | validation_acc: 0.7928\n",
      "Epoch: 71 | train_loss: 0.0334 | train_acc: 0.8937 | validation_loss: 0.1232 | validation_acc: 0.8618\n",
      "Epoch: 72 | train_loss: 0.0301 | train_acc: 0.9004 | validation_loss: 0.8009 | validation_acc: 0.7336\n",
      "Epoch: 73 | train_loss: 0.0588 | train_acc: 0.8911 | validation_loss: 0.3882 | validation_acc: 0.7961\n",
      "Epoch: 74 | train_loss: 0.0333 | train_acc: 0.8983 | validation_loss: 0.3877 | validation_acc: 0.7697\n",
      "Epoch: 75 | train_loss: 0.0283 | train_acc: 0.9000 | validation_loss: 0.2603 | validation_acc: 0.8125\n",
      "Epoch: 76 | train_loss: 0.0247 | train_acc: 0.8996 | validation_loss: 0.2888 | validation_acc: 0.7993\n",
      "Epoch: 77 | train_loss: 0.0283 | train_acc: 0.8987 | validation_loss: 1.0749 | validation_acc: 0.6447\n",
      "Epoch: 78 | train_loss: 0.0408 | train_acc: 0.8958 | validation_loss: 0.2324 | validation_acc: 0.8388\n",
      "Epoch: 79 | train_loss: 0.0337 | train_acc: 0.8979 | validation_loss: 0.4587 | validation_acc: 0.7632\n",
      "Epoch: 80 | train_loss: 0.0376 | train_acc: 0.8962 | validation_loss: 0.4374 | validation_acc: 0.7796\n",
      "Epoch: 81 | train_loss: 0.0247 | train_acc: 0.8999 | validation_loss: 0.3815 | validation_acc: 0.7961\n",
      "Epoch: 82 | train_loss: 0.0279 | train_acc: 0.8974 | validation_loss: 0.2464 | validation_acc: 0.8125\n",
      "Epoch: 83 | train_loss: 0.0321 | train_acc: 0.8996 | validation_loss: 0.3700 | validation_acc: 0.7730\n",
      "Epoch: 84 | train_loss: 0.0370 | train_acc: 0.8946 | validation_loss: 0.5546 | validation_acc: 0.7796\n",
      "Epoch: 85 | train_loss: 0.0374 | train_acc: 0.8975 | validation_loss: 0.3215 | validation_acc: 0.8092\n",
      "Epoch: 86 | train_loss: 0.0261 | train_acc: 0.8995 | validation_loss: 0.4533 | validation_acc: 0.7895\n",
      "Epoch: 87 | train_loss: 0.0290 | train_acc: 0.8995 | validation_loss: 0.3615 | validation_acc: 0.8092\n",
      "Epoch: 88 | train_loss: 0.0415 | train_acc: 0.8946 | validation_loss: 0.6903 | validation_acc: 0.7697\n",
      "Epoch: 89 | train_loss: 0.0332 | train_acc: 0.8946 | validation_loss: 0.2161 | validation_acc: 0.8092\n",
      "Epoch: 90 | train_loss: 0.0325 | train_acc: 0.8966 | validation_loss: 0.4549 | validation_acc: 0.7566\n",
      "Epoch: 91 | train_loss: 0.0268 | train_acc: 0.8979 | validation_loss: 0.3351 | validation_acc: 0.8059\n",
      "Epoch: 92 | train_loss: 0.0221 | train_acc: 0.9000 | validation_loss: 0.2280 | validation_acc: 0.8388\n",
      "Epoch: 93 | train_loss: 0.0281 | train_acc: 0.8996 | validation_loss: 0.3543 | validation_acc: 0.7993\n",
      "Epoch: 94 | train_loss: 0.0280 | train_acc: 0.8979 | validation_loss: 0.2928 | validation_acc: 0.8158\n",
      "Epoch: 95 | train_loss: 0.0306 | train_acc: 0.8971 | validation_loss: 0.2403 | validation_acc: 0.8224\n",
      "Epoch: 96 | train_loss: 0.0277 | train_acc: 0.8991 | validation_loss: 0.1333 | validation_acc: 0.8487\n",
      "Epoch: 97 | train_loss: 0.0291 | train_acc: 0.8991 | validation_loss: 0.1750 | validation_acc: 0.8257\n",
      "Epoch: 98 | train_loss: 0.0200 | train_acc: 0.9000 | validation_loss: 0.4238 | validation_acc: 0.7895\n",
      "Epoch: 99 | train_loss: 0.0200 | train_acc: 0.9012 | validation_loss: 0.1835 | validation_acc: 0.8618\n",
      "Epoch: 100 | train_loss: 0.0292 | train_acc: 0.8991 | validation_loss: 0.4748 | validation_acc: 0.7993\n"
     ]
    }
   ],
   "source": [
    "model_name = \"ResNet18\"\n",
    "model_folder_path = models_path / model_name\n",
    "check_dir(model_folder_path)\n",
    "model_name_folder_path = model_folder_path / model_name\n",
    "\n",
    "#Train ResNet18\n",
    "resnet18.to(device)\n",
    "nadam_optim = torch.optim.NAdam(params=resnet18.parameters(), lr=lr)\n",
    "train_resnet18_results, train_time_resnet18 = train(resnet18, train_dl, validation_dl, optimizer=nadam_optim, loss_fn=loss_fn, epochs=NUM_EPOCHS, name_save=model_name_folder_path, device=device)"
   ]
  },
  {
   "cell_type": "code",
   "execution_count": 5,
   "metadata": {},
   "outputs": [
    {
     "data": {
      "application/vnd.jupyter.widget-view+json": {
       "model_id": "d19bc2483f514245a27ed1e6209e671f",
       "version_major": 2,
       "version_minor": 0
      },
      "text/plain": [
       "  0%|          | 0/19 [00:03<?, ?it/s]"
      ]
     },
     "metadata": {},
     "output_type": "display_data"
    }
   ],
   "source": [
    "eval_resnet18_results = eval_model(resnet18, test_dl, loss_fn = loss_fn, accuracy_fn=accuracy_fn, device = device, dummy_input= torch.rand(16,3,resize[0],resize[1]).to(device))\n",
    "resnet18_results = [train_resnet18_results, train_time_resnet18, eval_resnet18_results]\n",
    "final_save(model_folder_path,model_name, NUM_EPOCHS, resnet18, resnet18_results)"
   ]
  },
  {
   "cell_type": "code",
   "execution_count": 6,
   "metadata": {},
   "outputs": [
    {
     "name": "stdout",
     "output_type": "stream",
     "text": [
      "Quality\\Models_test\\ResNet50 does not exist, creating one...\n"
     ]
    },
    {
     "data": {
      "application/vnd.jupyter.widget-view+json": {
       "model_id": "37f29e050b304cea8c11900a236e6257",
       "version_major": 2,
       "version_minor": 0
      },
      "text/plain": [
       "  0%|          | 0/100 [00:00<?, ?it/s]"
      ]
     },
     "metadata": {},
     "output_type": "display_data"
    },
    {
     "name": "stdout",
     "output_type": "stream",
     "text": [
      "Epoch: 1 | train_loss: 0.6061 | train_acc: 0.3677 | validation_loss: 0.9642 | validation_acc: 0.3816\n",
      "Epoch: 2 | train_loss: 0.4989 | train_acc: 0.4665 | validation_loss: 0.7760 | validation_acc: 0.4079\n",
      "Epoch: 3 | train_loss: 0.4672 | train_acc: 0.5273 | validation_loss: 0.7949 | validation_acc: 0.4276\n",
      "Epoch: 4 | train_loss: 0.4442 | train_acc: 0.5523 | validation_loss: 0.4605 | validation_acc: 0.4901\n",
      "Epoch: 5 | train_loss: 0.4083 | train_acc: 0.5894 | validation_loss: 11.3036 | validation_acc: 0.4432\n",
      "Epoch: 6 | train_loss: 0.4123 | train_acc: 0.5986 | validation_loss: 0.5460 | validation_acc: 0.4901\n",
      "Epoch: 7 | train_loss: 0.3935 | train_acc: 0.6328 | validation_loss: 1.1681 | validation_acc: 0.4934\n",
      "Epoch: 8 | train_loss: 0.3312 | train_acc: 0.7183 | validation_loss: 8.8096 | validation_acc: 0.4145\n",
      "Epoch: 9 | train_loss: 0.3379 | train_acc: 0.7236 | validation_loss: 0.4141 | validation_acc: 0.6546\n",
      "Epoch: 10 | train_loss: 0.3136 | train_acc: 0.7641 | validation_loss: 0.4500 | validation_acc: 0.6941\n",
      "Epoch: 11 | train_loss: 0.3014 | train_acc: 0.7653 | validation_loss: 0.3800 | validation_acc: 0.6974\n",
      "Epoch: 12 | train_loss: 0.2784 | train_acc: 0.7879 | validation_loss: 0.3875 | validation_acc: 0.7057\n",
      "Epoch: 13 | train_loss: 0.2703 | train_acc: 0.7962 | validation_loss: 0.3056 | validation_acc: 0.7880\n",
      "Epoch: 14 | train_loss: 0.2575 | train_acc: 0.8120 | validation_loss: 0.3822 | validation_acc: 0.7536\n",
      "Epoch: 15 | train_loss: 0.2603 | train_acc: 0.8100 | validation_loss: 0.3433 | validation_acc: 0.7105\n",
      "Epoch: 16 | train_loss: 0.2275 | train_acc: 0.8274 | validation_loss: 0.2696 | validation_acc: 0.7829\n",
      "Epoch: 17 | train_loss: 0.2295 | train_acc: 0.8212 | validation_loss: 2.2189 | validation_acc: 0.4910\n",
      "Epoch: 18 | train_loss: 0.2300 | train_acc: 0.8224 | validation_loss: 0.3468 | validation_acc: 0.7632\n",
      "Epoch: 19 | train_loss: 0.2068 | train_acc: 0.8349 | validation_loss: 0.2423 | validation_acc: 0.8059\n",
      "Epoch: 20 | train_loss: 0.2265 | train_acc: 0.8220 | validation_loss: 0.2669 | validation_acc: 0.7928\n",
      "Epoch: 21 | train_loss: 0.2014 | train_acc: 0.8391 | validation_loss: 1.1155 | validation_acc: 0.6956\n",
      "Epoch: 22 | train_loss: 0.1998 | train_acc: 0.8366 | validation_loss: 0.5115 | validation_acc: 0.7036\n",
      "Epoch: 23 | train_loss: 0.1798 | train_acc: 0.8445 | validation_loss: 0.9171 | validation_acc: 0.5888\n",
      "Epoch: 24 | train_loss: 0.1905 | train_acc: 0.8437 | validation_loss: 0.3089 | validation_acc: 0.7718\n",
      "Epoch: 25 | train_loss: 0.1644 | train_acc: 0.8541 | validation_loss: 0.5410 | validation_acc: 0.7467\n",
      "Epoch: 26 | train_loss: 0.1801 | train_acc: 0.8458 | validation_loss: 0.2224 | validation_acc: 0.8125\n",
      "Epoch: 27 | train_loss: 0.1534 | train_acc: 0.8598 | validation_loss: 0.4076 | validation_acc: 0.7237\n",
      "Epoch: 28 | train_loss: 0.1860 | train_acc: 0.8424 | validation_loss: 0.2272 | validation_acc: 0.7993\n",
      "Epoch: 29 | train_loss: 0.1503 | train_acc: 0.8591 | validation_loss: 0.3179 | validation_acc: 0.8125\n",
      "Epoch: 30 | train_loss: 0.1587 | train_acc: 0.8517 | validation_loss: 0.2971 | validation_acc: 0.7817\n",
      "Epoch: 31 | train_loss: 0.1483 | train_acc: 0.8637 | validation_loss: 0.3608 | validation_acc: 0.7401\n",
      "Epoch: 32 | train_loss: 0.1423 | train_acc: 0.8616 | validation_loss: 1.0921 | validation_acc: 0.6316\n",
      "Epoch: 33 | train_loss: 0.1329 | train_acc: 0.8649 | validation_loss: 2.1730 | validation_acc: 0.5757\n",
      "Epoch: 34 | train_loss: 0.1370 | train_acc: 0.8633 | validation_loss: 0.2414 | validation_acc: 0.7730\n",
      "Epoch: 35 | train_loss: 0.1300 | train_acc: 0.8650 | validation_loss: 0.3303 | validation_acc: 0.8011\n",
      "Epoch: 36 | train_loss: 0.1218 | train_acc: 0.8699 | validation_loss: 0.4966 | validation_acc: 0.7533\n",
      "Epoch: 37 | train_loss: 0.1296 | train_acc: 0.8679 | validation_loss: 0.3916 | validation_acc: 0.7715\n",
      "Epoch: 38 | train_loss: 0.1269 | train_acc: 0.8687 | validation_loss: 0.2309 | validation_acc: 0.8026\n",
      "Epoch: 39 | train_loss: 0.1268 | train_acc: 0.8736 | validation_loss: 0.6169 | validation_acc: 0.7270\n",
      "Epoch: 40 | train_loss: 0.1183 | train_acc: 0.8686 | validation_loss: 0.3244 | validation_acc: 0.7928\n",
      "Epoch: 41 | train_loss: 0.1090 | train_acc: 0.8766 | validation_loss: 0.9141 | validation_acc: 0.6776\n",
      "Epoch: 42 | train_loss: 0.1152 | train_acc: 0.8716 | validation_loss: 0.6243 | validation_acc: 0.6432\n",
      "Epoch: 43 | train_loss: 0.1189 | train_acc: 0.8712 | validation_loss: 0.3225 | validation_acc: 0.7862\n",
      "Epoch: 44 | train_loss: 0.0980 | train_acc: 0.8770 | validation_loss: 0.2219 | validation_acc: 0.8143\n",
      "Epoch: 45 | train_loss: 0.1022 | train_acc: 0.8737 | validation_loss: 1.8327 | validation_acc: 0.6417\n",
      "Epoch: 46 | train_loss: 0.0974 | train_acc: 0.8758 | validation_loss: 0.1916 | validation_acc: 0.8224\n",
      "Epoch: 47 | train_loss: 0.1122 | train_acc: 0.8725 | validation_loss: 0.1554 | validation_acc: 0.8421\n",
      "Epoch: 48 | train_loss: 0.0882 | train_acc: 0.8842 | validation_loss: 0.2453 | validation_acc: 0.8191\n",
      "Epoch: 49 | train_loss: 0.0941 | train_acc: 0.8787 | validation_loss: 0.2964 | validation_acc: 0.8191\n",
      "Epoch: 50 | train_loss: 0.0881 | train_acc: 0.8787 | validation_loss: 0.1724 | validation_acc: 0.8454\n",
      "Epoch: 51 | train_loss: 0.0873 | train_acc: 0.8825 | validation_loss: 3.8954 | validation_acc: 0.5924\n",
      "Epoch: 52 | train_loss: 0.0829 | train_acc: 0.8838 | validation_loss: 0.4774 | validation_acc: 0.7697\n",
      "Epoch: 53 | train_loss: 0.0892 | train_acc: 0.8803 | validation_loss: 0.2469 | validation_acc: 0.8092\n",
      "Epoch: 54 | train_loss: 0.0799 | train_acc: 0.8841 | validation_loss: 0.1429 | validation_acc: 0.8454\n",
      "Epoch: 55 | train_loss: 0.0819 | train_acc: 0.8829 | validation_loss: 0.2894 | validation_acc: 0.8092\n",
      "Epoch: 56 | train_loss: 0.0749 | train_acc: 0.8850 | validation_loss: 0.4174 | validation_acc: 0.7895\n",
      "Epoch: 57 | train_loss: 0.0747 | train_acc: 0.8871 | validation_loss: 0.3304 | validation_acc: 0.8026\n",
      "Epoch: 58 | train_loss: 0.0686 | train_acc: 0.8849 | validation_loss: 0.5747 | validation_acc: 0.7829\n",
      "Epoch: 59 | train_loss: 0.0679 | train_acc: 0.8924 | validation_loss: 0.3267 | validation_acc: 0.8092\n",
      "Epoch: 60 | train_loss: 0.0688 | train_acc: 0.8887 | validation_loss: 0.4272 | validation_acc: 0.7862\n",
      "Epoch: 61 | train_loss: 0.0664 | train_acc: 0.8916 | validation_loss: 0.4676 | validation_acc: 0.7895\n",
      "Epoch: 62 | train_loss: 0.0634 | train_acc: 0.8912 | validation_loss: 0.4281 | validation_acc: 0.8026\n",
      "Epoch: 63 | train_loss: 0.0816 | train_acc: 0.8833 | validation_loss: 0.1772 | validation_acc: 0.8388\n",
      "Epoch: 64 | train_loss: 0.0969 | train_acc: 0.8774 | validation_loss: 0.2566 | validation_acc: 0.8289\n",
      "Epoch: 65 | train_loss: 0.0654 | train_acc: 0.8896 | validation_loss: 0.2990 | validation_acc: 0.8257\n",
      "Epoch: 66 | train_loss: 0.0559 | train_acc: 0.8925 | validation_loss: 0.4110 | validation_acc: 0.7763\n",
      "Epoch: 67 | train_loss: 0.0542 | train_acc: 0.8908 | validation_loss: 0.1690 | validation_acc: 0.8388\n",
      "Epoch: 68 | train_loss: 0.0741 | train_acc: 0.8845 | validation_loss: 0.4188 | validation_acc: 0.7928\n",
      "Epoch: 69 | train_loss: 0.0751 | train_acc: 0.8862 | validation_loss: 0.3494 | validation_acc: 0.8092\n",
      "Epoch: 70 | train_loss: 0.0866 | train_acc: 0.8824 | validation_loss: 0.2335 | validation_acc: 0.8322\n",
      "Epoch: 71 | train_loss: 0.0647 | train_acc: 0.8895 | validation_loss: 0.1871 | validation_acc: 0.8487\n",
      "Epoch: 72 | train_loss: 0.0562 | train_acc: 0.8908 | validation_loss: 0.4831 | validation_acc: 0.7961\n",
      "Epoch: 73 | train_loss: 0.0681 | train_acc: 0.8849 | validation_loss: 0.1633 | validation_acc: 0.8553\n",
      "Epoch: 74 | train_loss: 0.0741 | train_acc: 0.8849 | validation_loss: 0.2544 | validation_acc: 0.8191\n",
      "Epoch: 75 | train_loss: 0.0508 | train_acc: 0.8933 | validation_loss: 0.6327 | validation_acc: 0.7697\n",
      "Epoch: 76 | train_loss: 0.0613 | train_acc: 0.8891 | validation_loss: 0.1816 | validation_acc: 0.8322\n",
      "Epoch: 77 | train_loss: 0.0538 | train_acc: 0.8900 | validation_loss: 0.2063 | validation_acc: 0.8454\n",
      "Epoch: 78 | train_loss: 0.0523 | train_acc: 0.8921 | validation_loss: 0.1204 | validation_acc: 0.8783\n",
      "Epoch: 79 | train_loss: 0.0615 | train_acc: 0.8912 | validation_loss: 1.0062 | validation_acc: 0.6764\n",
      "Epoch: 80 | train_loss: 0.0617 | train_acc: 0.8891 | validation_loss: 0.1324 | validation_acc: 0.8651\n",
      "Epoch: 81 | train_loss: 0.0470 | train_acc: 0.8933 | validation_loss: 0.4460 | validation_acc: 0.7632\n",
      "Epoch: 82 | train_loss: 0.0513 | train_acc: 0.8899 | validation_loss: 0.1805 | validation_acc: 0.8618\n",
      "Epoch: 83 | train_loss: 0.0439 | train_acc: 0.8983 | validation_loss: 0.4974 | validation_acc: 0.7895\n",
      "Epoch: 84 | train_loss: 0.0458 | train_acc: 0.8946 | validation_loss: 0.2195 | validation_acc: 0.8289\n",
      "Epoch: 85 | train_loss: 0.0568 | train_acc: 0.8899 | validation_loss: 0.4277 | validation_acc: 0.7993\n",
      "Epoch: 86 | train_loss: 0.0479 | train_acc: 0.8941 | validation_loss: 0.2600 | validation_acc: 0.8125\n",
      "Epoch: 87 | train_loss: 0.0611 | train_acc: 0.8900 | validation_loss: 0.2579 | validation_acc: 0.8158\n",
      "Epoch: 88 | train_loss: 0.0592 | train_acc: 0.8904 | validation_loss: 0.1816 | validation_acc: 0.8158\n",
      "Epoch: 89 | train_loss: 0.0422 | train_acc: 0.8941 | validation_loss: 0.2051 | validation_acc: 0.8454\n",
      "Epoch: 90 | train_loss: 0.0341 | train_acc: 0.8962 | validation_loss: 0.1897 | validation_acc: 0.8553\n",
      "Epoch: 91 | train_loss: 0.0564 | train_acc: 0.8921 | validation_loss: 0.1548 | validation_acc: 0.8586\n",
      "Epoch: 92 | train_loss: 0.0424 | train_acc: 0.8954 | validation_loss: 0.1339 | validation_acc: 0.8553\n",
      "Epoch: 93 | train_loss: 0.0406 | train_acc: 0.8962 | validation_loss: 0.1802 | validation_acc: 0.8355\n",
      "Epoch: 94 | train_loss: 0.0480 | train_acc: 0.8946 | validation_loss: 0.2062 | validation_acc: 0.8388\n",
      "Epoch: 95 | train_loss: 0.0486 | train_acc: 0.8933 | validation_loss: 0.3345 | validation_acc: 0.8026\n",
      "Epoch: 96 | train_loss: 0.0561 | train_acc: 0.8896 | validation_loss: 0.3768 | validation_acc: 0.7883\n",
      "Epoch: 97 | train_loss: 0.0480 | train_acc: 0.8958 | validation_loss: 0.3367 | validation_acc: 0.8026\n",
      "Epoch: 98 | train_loss: 0.0403 | train_acc: 0.8937 | validation_loss: 0.1768 | validation_acc: 0.8487\n",
      "Epoch: 99 | train_loss: 0.0467 | train_acc: 0.8937 | validation_loss: 0.4586 | validation_acc: 0.8125\n",
      "Epoch: 100 | train_loss: 0.0416 | train_acc: 0.8941 | validation_loss: 0.5266 | validation_acc: 0.7928\n"
     ]
    }
   ],
   "source": [
    "resnet50 = ResNet50()\n",
    "model_name = \"ResNet50\"\n",
    "model_folder_path = models_path / model_name\n",
    "check_dir(model_folder_path)\n",
    "model_name_folder_path = model_folder_path / model_name\n",
    "\n",
    "#Train ResNet50\n",
    "resnet50.to(device)\n",
    "nadam_optim = torch.optim.NAdam(params=resnet50.parameters(), lr=lr)\n",
    "train_resnet50_results, train_time_resnet50 = train(resnet50, train_dl, validation_dl, optimizer=nadam_optim, loss_fn=loss_fn, epochs=NUM_EPOCHS, name_save=model_name_folder_path, device=device)"
   ]
  },
  {
   "cell_type": "code",
   "execution_count": 7,
   "metadata": {},
   "outputs": [
    {
     "data": {
      "application/vnd.jupyter.widget-view+json": {
       "model_id": "6b1de7128d8f4aca95700f93329e40e2",
       "version_major": 2,
       "version_minor": 0
      },
      "text/plain": [
       "  0%|          | 0/19 [00:02<?, ?it/s]"
      ]
     },
     "metadata": {},
     "output_type": "display_data"
    }
   ],
   "source": [
    "eval_resnet50_results = eval_model(resnet50, test_dl, loss_fn = loss_fn, accuracy_fn=accuracy_fn, device = device, dummy_input= torch.rand(16,3,resize[0],resize[1]).to(device))\n",
    "resnet50_results = [train_resnet50_results, train_time_resnet50, eval_resnet50_results]\n",
    "final_save(model_folder_path,model_name, NUM_EPOCHS, resnet50, resnet50_results)"
   ]
  },
  {
   "cell_type": "code",
   "execution_count": 4,
   "metadata": {},
   "outputs": [
    {
     "data": {
      "application/vnd.jupyter.widget-view+json": {
       "model_id": "869ddb2a48d8483199dbbf8a66e39c0f",
       "version_major": 2,
       "version_minor": 0
      },
      "text/plain": [
       "  0%|          | 0/100 [00:00<?, ?it/s]"
      ]
     },
     "metadata": {},
     "output_type": "display_data"
    },
    {
     "name": "stdout",
     "output_type": "stream",
     "text": [
      "Epoch: 1 | train_loss: 0.5122 | train_acc: 0.4682 | validation_loss: 0.4238 | validation_acc: 0.6217\n",
      "Epoch: 2 | train_loss: 0.4227 | train_acc: 0.6448 | validation_loss: 0.4189 | validation_acc: 0.6546\n",
      "Epoch: 3 | train_loss: 0.3457 | train_acc: 0.7299 | validation_loss: 0.3591 | validation_acc: 0.6678\n",
      "Epoch: 4 | train_loss: 0.3148 | train_acc: 0.7549 | validation_loss: 0.2932 | validation_acc: 0.7467\n",
      "Epoch: 5 | train_loss: 0.2816 | train_acc: 0.7753 | validation_loss: 0.3520 | validation_acc: 0.7434\n",
      "Epoch: 6 | train_loss: 0.2375 | train_acc: 0.8057 | validation_loss: 0.3291 | validation_acc: 0.7237\n",
      "Epoch: 7 | train_loss: 0.2272 | train_acc: 0.8045 | validation_loss: 0.2721 | validation_acc: 0.7500\n",
      "Epoch: 8 | train_loss: 0.2202 | train_acc: 0.8152 | validation_loss: 0.3317 | validation_acc: 0.7632\n",
      "Epoch: 9 | train_loss: 0.2176 | train_acc: 0.8253 | validation_loss: 0.3258 | validation_acc: 0.7467\n",
      "Epoch: 10 | train_loss: 0.1853 | train_acc: 0.8374 | validation_loss: 0.3435 | validation_acc: 0.7368\n",
      "Epoch: 11 | train_loss: 0.1568 | train_acc: 0.8503 | validation_loss: 0.2303 | validation_acc: 0.8059\n",
      "Epoch: 12 | train_loss: 0.1391 | train_acc: 0.8583 | validation_loss: 0.3492 | validation_acc: 0.7730\n",
      "Epoch: 13 | train_loss: 0.1444 | train_acc: 0.8569 | validation_loss: 0.2366 | validation_acc: 0.8125\n",
      "Epoch: 14 | train_loss: 0.0950 | train_acc: 0.8758 | validation_loss: 0.1984 | validation_acc: 0.8191\n",
      "Epoch: 15 | train_loss: 0.1109 | train_acc: 0.8716 | validation_loss: 0.4107 | validation_acc: 0.7467\n",
      "Epoch: 16 | train_loss: 0.1170 | train_acc: 0.8620 | validation_loss: 0.1807 | validation_acc: 0.8322\n",
      "Epoch: 17 | train_loss: 0.0952 | train_acc: 0.8796 | validation_loss: 0.1213 | validation_acc: 0.8618\n",
      "Epoch: 18 | train_loss: 0.0857 | train_acc: 0.8799 | validation_loss: 0.2158 | validation_acc: 0.8355\n",
      "Epoch: 19 | train_loss: 0.0675 | train_acc: 0.8841 | validation_loss: 0.1313 | validation_acc: 0.8454\n",
      "Epoch: 20 | train_loss: 0.0646 | train_acc: 0.8878 | validation_loss: 0.2300 | validation_acc: 0.7993\n",
      "Epoch: 21 | train_loss: 0.0701 | train_acc: 0.8833 | validation_loss: 0.2493 | validation_acc: 0.7961\n",
      "Epoch: 22 | train_loss: 0.0658 | train_acc: 0.8879 | validation_loss: 0.1856 | validation_acc: 0.8257\n",
      "Epoch: 23 | train_loss: 0.0697 | train_acc: 0.8833 | validation_loss: 0.1752 | validation_acc: 0.8421\n",
      "Epoch: 24 | train_loss: 0.0587 | train_acc: 0.8928 | validation_loss: 0.1610 | validation_acc: 0.8322\n",
      "Epoch: 25 | train_loss: 0.0821 | train_acc: 0.8841 | validation_loss: 0.1941 | validation_acc: 0.8257\n",
      "Epoch: 26 | train_loss: 0.0468 | train_acc: 0.8920 | validation_loss: 0.1267 | validation_acc: 0.8586\n",
      "Epoch: 27 | train_loss: 0.0417 | train_acc: 0.8950 | validation_loss: 0.1412 | validation_acc: 0.8520\n",
      "Epoch: 28 | train_loss: 0.0485 | train_acc: 0.8937 | validation_loss: 0.1536 | validation_acc: 0.8421\n",
      "Epoch: 29 | train_loss: 0.0510 | train_acc: 0.8908 | validation_loss: 0.1334 | validation_acc: 0.8520\n",
      "Epoch: 30 | train_loss: 0.0610 | train_acc: 0.8862 | validation_loss: 0.3452 | validation_acc: 0.7730\n",
      "Epoch: 31 | train_loss: 0.0648 | train_acc: 0.8900 | validation_loss: 0.1847 | validation_acc: 0.8257\n",
      "Epoch: 32 | train_loss: 0.0424 | train_acc: 0.8938 | validation_loss: 0.1153 | validation_acc: 0.8651\n",
      "Epoch: 33 | train_loss: 0.0449 | train_acc: 0.8941 | validation_loss: 0.1250 | validation_acc: 0.8586\n",
      "Epoch: 34 | train_loss: 0.0411 | train_acc: 0.8983 | validation_loss: 0.1810 | validation_acc: 0.8421\n",
      "Epoch: 35 | train_loss: 0.0314 | train_acc: 0.9012 | validation_loss: 0.2008 | validation_acc: 0.8454\n",
      "Epoch: 36 | train_loss: 0.0424 | train_acc: 0.8941 | validation_loss: 0.1256 | validation_acc: 0.8684\n",
      "Epoch: 37 | train_loss: 0.0210 | train_acc: 0.9008 | validation_loss: 0.1613 | validation_acc: 0.8355\n",
      "Epoch: 38 | train_loss: 0.0327 | train_acc: 0.8961 | validation_loss: 0.1532 | validation_acc: 0.8487\n",
      "Epoch: 39 | train_loss: 0.0611 | train_acc: 0.8908 | validation_loss: 0.1412 | validation_acc: 0.8487\n",
      "Epoch: 40 | train_loss: 0.0509 | train_acc: 0.8912 | validation_loss: 0.1676 | validation_acc: 0.8388\n",
      "Epoch: 41 | train_loss: 0.0349 | train_acc: 0.8954 | validation_loss: 0.1419 | validation_acc: 0.8388\n",
      "Epoch: 42 | train_loss: 0.0270 | train_acc: 0.8983 | validation_loss: 0.0962 | validation_acc: 0.8684\n",
      "Epoch: 43 | train_loss: 0.0598 | train_acc: 0.8879 | validation_loss: 0.1267 | validation_acc: 0.8553\n",
      "Epoch: 44 | train_loss: 0.0337 | train_acc: 0.8962 | validation_loss: 0.1534 | validation_acc: 0.8586\n",
      "Epoch: 45 | train_loss: 0.0347 | train_acc: 0.8979 | validation_loss: 0.1633 | validation_acc: 0.8421\n",
      "Epoch: 46 | train_loss: 0.0229 | train_acc: 0.8995 | validation_loss: 0.1322 | validation_acc: 0.8684\n",
      "Epoch: 47 | train_loss: 0.0419 | train_acc: 0.8958 | validation_loss: 0.0834 | validation_acc: 0.8651\n",
      "Epoch: 48 | train_loss: 0.0567 | train_acc: 0.8916 | validation_loss: 0.1931 | validation_acc: 0.8059\n",
      "Epoch: 49 | train_loss: 0.0306 | train_acc: 0.8979 | validation_loss: 0.1382 | validation_acc: 0.8618\n",
      "Epoch: 50 | train_loss: 0.0269 | train_acc: 0.8991 | validation_loss: 0.0953 | validation_acc: 0.8717\n",
      "Epoch: 51 | train_loss: 0.0190 | train_acc: 0.8999 | validation_loss: 0.1509 | validation_acc: 0.8520\n",
      "Epoch: 52 | train_loss: 0.0187 | train_acc: 0.8991 | validation_loss: 0.1077 | validation_acc: 0.8750\n",
      "Epoch: 53 | train_loss: 0.0331 | train_acc: 0.9004 | validation_loss: 0.1516 | validation_acc: 0.8388\n",
      "Epoch: 54 | train_loss: 0.0209 | train_acc: 0.9004 | validation_loss: 0.1604 | validation_acc: 0.8586\n",
      "Epoch: 55 | train_loss: 0.0321 | train_acc: 0.8996 | validation_loss: 0.1619 | validation_acc: 0.8454\n",
      "Epoch: 56 | train_loss: 0.0335 | train_acc: 0.8958 | validation_loss: 0.1676 | validation_acc: 0.8618\n",
      "Epoch: 57 | train_loss: 0.0324 | train_acc: 0.8970 | validation_loss: 0.2067 | validation_acc: 0.8224\n",
      "Epoch: 58 | train_loss: 0.0324 | train_acc: 0.8970 | validation_loss: 0.1002 | validation_acc: 0.8684\n",
      "Epoch: 59 | train_loss: 0.0228 | train_acc: 0.8999 | validation_loss: 0.1514 | validation_acc: 0.8586\n",
      "Epoch: 60 | train_loss: 0.0257 | train_acc: 0.8987 | validation_loss: 0.1596 | validation_acc: 0.8355\n",
      "Epoch: 61 | train_loss: 0.0323 | train_acc: 0.8971 | validation_loss: 0.1630 | validation_acc: 0.8553\n",
      "Epoch: 62 | train_loss: 0.0488 | train_acc: 0.8925 | validation_loss: 0.2650 | validation_acc: 0.8044\n",
      "Epoch: 63 | train_loss: 0.0544 | train_acc: 0.8912 | validation_loss: 0.1098 | validation_acc: 0.8454\n",
      "Epoch: 64 | train_loss: 0.0367 | train_acc: 0.8983 | validation_loss: 0.2104 | validation_acc: 0.8355\n",
      "Epoch: 65 | train_loss: 0.0249 | train_acc: 0.8991 | validation_loss: 0.2461 | validation_acc: 0.8257\n",
      "Epoch: 66 | train_loss: 0.0177 | train_acc: 0.9012 | validation_loss: 0.1463 | validation_acc: 0.8618\n",
      "Epoch: 67 | train_loss: 0.0494 | train_acc: 0.8925 | validation_loss: 0.2299 | validation_acc: 0.8421\n",
      "Epoch: 68 | train_loss: 0.0244 | train_acc: 0.9000 | validation_loss: 0.1665 | validation_acc: 0.8487\n",
      "Epoch: 69 | train_loss: 0.0291 | train_acc: 0.8966 | validation_loss: 0.1152 | validation_acc: 0.8388\n",
      "Epoch: 70 | train_loss: 0.0248 | train_acc: 0.8970 | validation_loss: 0.0768 | validation_acc: 0.8783\n",
      "Epoch: 71 | train_loss: 0.0193 | train_acc: 0.9012 | validation_loss: 0.1004 | validation_acc: 0.8717\n",
      "Epoch: 72 | train_loss: 0.0503 | train_acc: 0.8946 | validation_loss: 0.1189 | validation_acc: 0.8684\n",
      "Epoch: 73 | train_loss: 0.0254 | train_acc: 0.8999 | validation_loss: 0.1616 | validation_acc: 0.8487\n",
      "Epoch: 74 | train_loss: 0.0177 | train_acc: 0.9012 | validation_loss: 0.1233 | validation_acc: 0.8454\n",
      "Epoch: 75 | train_loss: 0.0143 | train_acc: 0.9021 | validation_loss: 0.1415 | validation_acc: 0.8651\n",
      "Epoch: 76 | train_loss: 0.0158 | train_acc: 0.9012 | validation_loss: 0.1771 | validation_acc: 0.8388\n",
      "Epoch: 77 | train_loss: 0.0146 | train_acc: 0.9004 | validation_loss: 0.1361 | validation_acc: 0.8487\n",
      "Epoch: 78 | train_loss: 0.0187 | train_acc: 0.9004 | validation_loss: 0.1914 | validation_acc: 0.8421\n",
      "Epoch: 79 | train_loss: 0.0168 | train_acc: 0.9003 | validation_loss: 0.1895 | validation_acc: 0.8257\n",
      "Epoch: 80 | train_loss: 0.0183 | train_acc: 0.9008 | validation_loss: 0.2508 | validation_acc: 0.8322\n",
      "Epoch: 81 | train_loss: 0.0202 | train_acc: 0.9008 | validation_loss: 0.1623 | validation_acc: 0.8257\n",
      "Epoch: 82 | train_loss: 0.0224 | train_acc: 0.8999 | validation_loss: 0.2145 | validation_acc: 0.8289\n",
      "Epoch: 83 | train_loss: 0.0155 | train_acc: 0.9012 | validation_loss: 0.2760 | validation_acc: 0.8289\n",
      "Epoch: 84 | train_loss: 0.0324 | train_acc: 0.8987 | validation_loss: 0.2788 | validation_acc: 0.8125\n",
      "Epoch: 85 | train_loss: 0.0255 | train_acc: 0.8987 | validation_loss: 0.1582 | validation_acc: 0.8454\n",
      "Epoch: 86 | train_loss: 0.0481 | train_acc: 0.8933 | validation_loss: 0.3751 | validation_acc: 0.7829\n",
      "Epoch: 87 | train_loss: 0.0410 | train_acc: 0.8958 | validation_loss: 0.1838 | validation_acc: 0.8454\n",
      "Epoch: 88 | train_loss: 0.0202 | train_acc: 0.8992 | validation_loss: 0.2042 | validation_acc: 0.8388\n",
      "Epoch: 89 | train_loss: 0.0189 | train_acc: 0.8996 | validation_loss: 0.1261 | validation_acc: 0.8520\n",
      "Epoch: 90 | train_loss: 0.0123 | train_acc: 0.9020 | validation_loss: 0.1460 | validation_acc: 0.8487\n",
      "Epoch: 91 | train_loss: 0.0184 | train_acc: 0.9008 | validation_loss: 0.1334 | validation_acc: 0.8487\n",
      "Epoch: 92 | train_loss: 0.0166 | train_acc: 0.9004 | validation_loss: 0.1310 | validation_acc: 0.8388\n",
      "Epoch: 93 | train_loss: 0.0145 | train_acc: 0.9012 | validation_loss: 0.1414 | validation_acc: 0.8454\n",
      "Epoch: 94 | train_loss: 0.0159 | train_acc: 0.9003 | validation_loss: 0.1218 | validation_acc: 0.8553\n",
      "Epoch: 95 | train_loss: 0.0370 | train_acc: 0.8975 | validation_loss: 0.2372 | validation_acc: 0.8092\n",
      "Epoch: 96 | train_loss: 0.0315 | train_acc: 0.8962 | validation_loss: 0.1661 | validation_acc: 0.8487\n",
      "Epoch: 97 | train_loss: 0.0245 | train_acc: 0.8975 | validation_loss: 0.2654 | validation_acc: 0.8125\n",
      "Epoch: 98 | train_loss: 0.0170 | train_acc: 0.9004 | validation_loss: 0.2006 | validation_acc: 0.8191\n",
      "Epoch: 99 | train_loss: 0.0108 | train_acc: 0.9012 | validation_loss: 0.1270 | validation_acc: 0.8520\n",
      "Epoch: 100 | train_loss: 0.0188 | train_acc: 0.9003 | validation_loss: 0.1626 | validation_acc: 0.8289\n"
     ]
    }
   ],
   "source": [
    "from MobileNetV3 import *\n",
    "\n",
    "mobnet_sml = MobileNetSmall()\n",
    "model_name = \"MobileNetSmall\"\n",
    "model_folder_path = models_path / model_name\n",
    "check_dir(model_folder_path)\n",
    "model_name_folder_path = model_folder_path / model_name\n",
    "\n",
    "#Train MobileNetV3 Small\n",
    "mobnet_sml.to(device)\n",
    "nadam_optim = torch.optim.NAdam(params=mobnet_sml.parameters(), lr=lr)\n",
    "train_mobnet_sml_results, train_time_mobnet_sml = train(mobnet_sml, train_dl, validation_dl, optimizer=nadam_optim, loss_fn=loss_fn, epochs=NUM_EPOCHS, name_save=model_name_folder_path, device=device)"
   ]
  },
  {
   "cell_type": "code",
   "execution_count": 5,
   "metadata": {},
   "outputs": [
    {
     "data": {
      "application/vnd.jupyter.widget-view+json": {
       "model_id": "aefee2f3c1d24546855a0adda01d8e74",
       "version_major": 2,
       "version_minor": 0
      },
      "text/plain": [
       "  0%|          | 0/19 [00:02<?, ?it/s]"
      ]
     },
     "metadata": {},
     "output_type": "display_data"
    }
   ],
   "source": [
    "eval_mobnet_sml_results = eval_model(mobnet_sml, test_dl, loss_fn = loss_fn, accuracy_fn=accuracy_fn, device = device, dummy_input= torch.rand(32,3,224,224).to(device))\n",
    "mobnet_sml_results = [train_mobnet_sml_results, train_time_mobnet_sml, eval_mobnet_sml_results]\n",
    "final_save(model_folder_path,model_name, NUM_EPOCHS, mobnet_sml, mobnet_sml_results)"
   ]
  },
  {
   "cell_type": "code",
   "execution_count": 6,
   "metadata": {},
   "outputs": [
    {
     "name": "stdout",
     "output_type": "stream",
     "text": [
      "Quality\\Models_test\\MobileNetLarge does not exist, creating one...\n"
     ]
    },
    {
     "data": {
      "application/vnd.jupyter.widget-view+json": {
       "model_id": "434cccc69e634e1aabc5748056c03703",
       "version_major": 2,
       "version_minor": 0
      },
      "text/plain": [
       "  0%|          | 0/100 [00:00<?, ?it/s]"
      ]
     },
     "metadata": {},
     "output_type": "display_data"
    },
    {
     "name": "stdout",
     "output_type": "stream",
     "text": [
      "Epoch: 1 | train_loss: 0.6063 | train_acc: 0.3493 | validation_loss: 0.5601 | validation_acc: 0.5395\n",
      "Epoch: 2 | train_loss: 0.4715 | train_acc: 0.5569 | validation_loss: 0.3450 | validation_acc: 0.7237\n",
      "Epoch: 3 | train_loss: 0.3563 | train_acc: 0.7087 | validation_loss: 0.3895 | validation_acc: 0.7237\n",
      "Epoch: 4 | train_loss: 0.3158 | train_acc: 0.7495 | validation_loss: 0.2723 | validation_acc: 0.7829\n",
      "Epoch: 5 | train_loss: 0.2697 | train_acc: 0.7899 | validation_loss: 0.4833 | validation_acc: 0.6974\n",
      "Epoch: 6 | train_loss: 0.2124 | train_acc: 0.8233 | validation_loss: 0.2487 | validation_acc: 0.7796\n",
      "Epoch: 7 | train_loss: 0.2138 | train_acc: 0.8208 | validation_loss: 0.4535 | validation_acc: 0.7270\n",
      "Epoch: 8 | train_loss: 0.1697 | train_acc: 0.8424 | validation_loss: 0.3790 | validation_acc: 0.7566\n",
      "Epoch: 9 | train_loss: 0.1529 | train_acc: 0.8541 | validation_loss: 0.3524 | validation_acc: 0.7928\n",
      "Epoch: 10 | train_loss: 0.1302 | train_acc: 0.8587 | validation_loss: 0.3659 | validation_acc: 0.7632\n",
      "Epoch: 11 | train_loss: 0.1391 | train_acc: 0.8612 | validation_loss: 0.2254 | validation_acc: 0.7730\n",
      "Epoch: 12 | train_loss: 0.0985 | train_acc: 0.8754 | validation_loss: 0.1917 | validation_acc: 0.8289\n",
      "Epoch: 13 | train_loss: 0.1004 | train_acc: 0.8750 | validation_loss: 0.3132 | validation_acc: 0.7862\n",
      "Epoch: 14 | train_loss: 0.0902 | train_acc: 0.8803 | validation_loss: 0.2501 | validation_acc: 0.7895\n",
      "Epoch: 15 | train_loss: 0.0842 | train_acc: 0.8837 | validation_loss: 0.2397 | validation_acc: 0.8257\n",
      "Epoch: 16 | train_loss: 0.0702 | train_acc: 0.8879 | validation_loss: 0.2426 | validation_acc: 0.8026\n",
      "Epoch: 17 | train_loss: 0.0794 | train_acc: 0.8845 | validation_loss: 0.3665 | validation_acc: 0.7796\n",
      "Epoch: 18 | train_loss: 0.0660 | train_acc: 0.8858 | validation_loss: 0.2262 | validation_acc: 0.8454\n",
      "Epoch: 19 | train_loss: 0.0753 | train_acc: 0.8804 | validation_loss: 0.5087 | validation_acc: 0.7401\n",
      "Epoch: 20 | train_loss: 0.0611 | train_acc: 0.8904 | validation_loss: 0.1713 | validation_acc: 0.8487\n",
      "Epoch: 21 | train_loss: 0.0495 | train_acc: 0.8929 | validation_loss: 0.4014 | validation_acc: 0.7895\n",
      "Epoch: 22 | train_loss: 0.0606 | train_acc: 0.8883 | validation_loss: 0.2723 | validation_acc: 0.8388\n",
      "Epoch: 23 | train_loss: 0.0621 | train_acc: 0.8879 | validation_loss: 0.2099 | validation_acc: 0.8092\n",
      "Epoch: 24 | train_loss: 0.0600 | train_acc: 0.8920 | validation_loss: 0.3018 | validation_acc: 0.8026\n",
      "Epoch: 25 | train_loss: 0.0490 | train_acc: 0.8916 | validation_loss: 0.4350 | validation_acc: 0.7730\n",
      "Epoch: 26 | train_loss: 0.0464 | train_acc: 0.8946 | validation_loss: 0.3147 | validation_acc: 0.7862\n",
      "Epoch: 27 | train_loss: 0.0353 | train_acc: 0.8979 | validation_loss: 0.4721 | validation_acc: 0.7632\n",
      "Epoch: 28 | train_loss: 0.0486 | train_acc: 0.8912 | validation_loss: 0.2673 | validation_acc: 0.8026\n",
      "Epoch: 29 | train_loss: 0.0450 | train_acc: 0.8916 | validation_loss: 0.2677 | validation_acc: 0.7928\n",
      "Epoch: 30 | train_loss: 0.0394 | train_acc: 0.8958 | validation_loss: 0.2360 | validation_acc: 0.8026\n",
      "Epoch: 31 | train_loss: 0.0369 | train_acc: 0.8982 | validation_loss: 0.3205 | validation_acc: 0.7993\n",
      "Epoch: 32 | train_loss: 0.0411 | train_acc: 0.8941 | validation_loss: 0.5561 | validation_acc: 0.7829\n",
      "Epoch: 33 | train_loss: 0.0401 | train_acc: 0.8950 | validation_loss: 0.3489 | validation_acc: 0.7829\n",
      "Epoch: 34 | train_loss: 0.0505 | train_acc: 0.8912 | validation_loss: 0.3744 | validation_acc: 0.7928\n",
      "Epoch: 35 | train_loss: 0.0372 | train_acc: 0.8941 | validation_loss: 0.1566 | validation_acc: 0.8487\n",
      "Epoch: 36 | train_loss: 0.0354 | train_acc: 0.8971 | validation_loss: 0.3588 | validation_acc: 0.7993\n",
      "Epoch: 37 | train_loss: 0.0303 | train_acc: 0.8970 | validation_loss: 0.4054 | validation_acc: 0.7796\n",
      "Epoch: 38 | train_loss: 0.0328 | train_acc: 0.8958 | validation_loss: 0.2117 | validation_acc: 0.7961\n",
      "Epoch: 39 | train_loss: 0.0356 | train_acc: 0.8954 | validation_loss: 0.4703 | validation_acc: 0.7796\n",
      "Epoch: 40 | train_loss: 0.0390 | train_acc: 0.8962 | validation_loss: 0.2756 | validation_acc: 0.8125\n",
      "Epoch: 41 | train_loss: 0.0396 | train_acc: 0.8962 | validation_loss: 0.4242 | validation_acc: 0.7763\n",
      "Epoch: 42 | train_loss: 0.0554 | train_acc: 0.8916 | validation_loss: 0.4830 | validation_acc: 0.7730\n",
      "Epoch: 43 | train_loss: 0.0239 | train_acc: 0.9007 | validation_loss: 0.4861 | validation_acc: 0.7763\n",
      "Epoch: 44 | train_loss: 0.0390 | train_acc: 0.8949 | validation_loss: 0.3600 | validation_acc: 0.7796\n",
      "Epoch: 45 | train_loss: 0.0285 | train_acc: 0.8988 | validation_loss: 0.4769 | validation_acc: 0.7796\n",
      "Epoch: 46 | train_loss: 0.0663 | train_acc: 0.8854 | validation_loss: 0.4133 | validation_acc: 0.7730\n",
      "Epoch: 47 | train_loss: 0.0393 | train_acc: 0.8962 | validation_loss: 0.3702 | validation_acc: 0.7993\n",
      "Epoch: 48 | train_loss: 0.0488 | train_acc: 0.8937 | validation_loss: 0.2203 | validation_acc: 0.8388\n",
      "Epoch: 49 | train_loss: 0.0344 | train_acc: 0.8967 | validation_loss: 0.3377 | validation_acc: 0.8158\n",
      "Epoch: 50 | train_loss: 0.0390 | train_acc: 0.8949 | validation_loss: 0.4691 | validation_acc: 0.7664\n",
      "Epoch: 51 | train_loss: 0.0249 | train_acc: 0.8996 | validation_loss: 0.2743 | validation_acc: 0.8092\n",
      "Epoch: 52 | train_loss: 0.0326 | train_acc: 0.8946 | validation_loss: 0.3969 | validation_acc: 0.8059\n",
      "Epoch: 53 | train_loss: 0.0293 | train_acc: 0.8987 | validation_loss: 0.4439 | validation_acc: 0.7829\n",
      "Epoch: 54 | train_loss: 0.0192 | train_acc: 0.8991 | validation_loss: 0.3567 | validation_acc: 0.8059\n",
      "Epoch: 55 | train_loss: 0.0244 | train_acc: 0.9000 | validation_loss: 0.4297 | validation_acc: 0.7993\n",
      "Epoch: 56 | train_loss: 0.0377 | train_acc: 0.8971 | validation_loss: 0.5222 | validation_acc: 0.7862\n",
      "Epoch: 57 | train_loss: 0.0398 | train_acc: 0.8954 | validation_loss: 0.4680 | validation_acc: 0.7829\n",
      "Epoch: 58 | train_loss: 0.0294 | train_acc: 0.9003 | validation_loss: 0.4821 | validation_acc: 0.7829\n",
      "Epoch: 59 | train_loss: 0.0499 | train_acc: 0.8932 | validation_loss: 0.4070 | validation_acc: 0.7961\n",
      "Epoch: 60 | train_loss: 0.0308 | train_acc: 0.8979 | validation_loss: 0.4946 | validation_acc: 0.7829\n",
      "Epoch: 61 | train_loss: 0.0271 | train_acc: 0.8991 | validation_loss: 0.2072 | validation_acc: 0.8224\n",
      "Epoch: 62 | train_loss: 0.0220 | train_acc: 0.9003 | validation_loss: 0.3584 | validation_acc: 0.8059\n",
      "Epoch: 63 | train_loss: 0.0304 | train_acc: 0.8974 | validation_loss: 0.4333 | validation_acc: 0.7928\n",
      "Epoch: 64 | train_loss: 0.0758 | train_acc: 0.8883 | validation_loss: 0.3726 | validation_acc: 0.8026\n",
      "Epoch: 65 | train_loss: 0.0343 | train_acc: 0.8975 | validation_loss: 0.2792 | validation_acc: 0.8026\n",
      "Epoch: 66 | train_loss: 0.0344 | train_acc: 0.8987 | validation_loss: 0.3725 | validation_acc: 0.8158\n",
      "Epoch: 67 | train_loss: 0.0244 | train_acc: 0.8979 | validation_loss: 0.2419 | validation_acc: 0.8191\n",
      "Epoch: 68 | train_loss: 0.0238 | train_acc: 0.8992 | validation_loss: 0.5853 | validation_acc: 0.7664\n",
      "Epoch: 69 | train_loss: 0.0322 | train_acc: 0.8971 | validation_loss: 0.5891 | validation_acc: 0.7730\n",
      "Epoch: 70 | train_loss: 0.0291 | train_acc: 0.8978 | validation_loss: 0.3518 | validation_acc: 0.8158\n",
      "Epoch: 71 | train_loss: 0.0282 | train_acc: 0.8979 | validation_loss: 0.2690 | validation_acc: 0.8158\n",
      "Epoch: 72 | train_loss: 0.0332 | train_acc: 0.8970 | validation_loss: 0.2819 | validation_acc: 0.8191\n",
      "Epoch: 73 | train_loss: 0.0262 | train_acc: 0.8978 | validation_loss: 0.2795 | validation_acc: 0.8191\n",
      "Epoch: 74 | train_loss: 0.0244 | train_acc: 0.9000 | validation_loss: 0.4380 | validation_acc: 0.7961\n",
      "Epoch: 75 | train_loss: 0.0279 | train_acc: 0.8958 | validation_loss: 0.5610 | validation_acc: 0.7697\n",
      "Epoch: 76 | train_loss: 0.0267 | train_acc: 0.9004 | validation_loss: 0.2449 | validation_acc: 0.8191\n",
      "Epoch: 77 | train_loss: 0.0226 | train_acc: 0.8971 | validation_loss: 0.2402 | validation_acc: 0.8355\n",
      "Epoch: 78 | train_loss: 0.0135 | train_acc: 0.9012 | validation_loss: 0.2777 | validation_acc: 0.8355\n",
      "Epoch: 79 | train_loss: 0.0188 | train_acc: 0.9008 | validation_loss: 0.3138 | validation_acc: 0.8026\n",
      "Epoch: 80 | train_loss: 0.0235 | train_acc: 0.9000 | validation_loss: 0.2949 | validation_acc: 0.8026\n",
      "Epoch: 81 | train_loss: 0.0173 | train_acc: 0.9016 | validation_loss: 0.1897 | validation_acc: 0.8454\n",
      "Epoch: 82 | train_loss: 0.0191 | train_acc: 0.9004 | validation_loss: 0.4270 | validation_acc: 0.8059\n",
      "Epoch: 83 | train_loss: 0.0223 | train_acc: 0.8995 | validation_loss: 0.3728 | validation_acc: 0.8059\n",
      "Epoch: 84 | train_loss: 0.0189 | train_acc: 0.9008 | validation_loss: 0.2405 | validation_acc: 0.8125\n",
      "Epoch: 85 | train_loss: 0.0209 | train_acc: 0.8986 | validation_loss: 0.3303 | validation_acc: 0.8257\n",
      "Epoch: 86 | train_loss: 0.0276 | train_acc: 0.8991 | validation_loss: 0.3340 | validation_acc: 0.8191\n",
      "Epoch: 87 | train_loss: 0.0316 | train_acc: 0.8983 | validation_loss: 0.2876 | validation_acc: 0.8289\n",
      "Epoch: 88 | train_loss: 0.0168 | train_acc: 0.9012 | validation_loss: 0.2887 | validation_acc: 0.8421\n",
      "Epoch: 89 | train_loss: 0.0365 | train_acc: 0.8962 | validation_loss: 0.1962 | validation_acc: 0.8454\n",
      "Epoch: 90 | train_loss: 0.0375 | train_acc: 0.8946 | validation_loss: 0.4447 | validation_acc: 0.7862\n",
      "Epoch: 91 | train_loss: 0.0306 | train_acc: 0.8987 | validation_loss: 0.2954 | validation_acc: 0.8092\n",
      "Epoch: 92 | train_loss: 0.0157 | train_acc: 0.9004 | validation_loss: 0.3369 | validation_acc: 0.8059\n",
      "Epoch: 93 | train_loss: 0.0175 | train_acc: 0.9008 | validation_loss: 0.3539 | validation_acc: 0.8092\n",
      "Epoch: 94 | train_loss: 0.0264 | train_acc: 0.9008 | validation_loss: 0.1662 | validation_acc: 0.8684\n",
      "Epoch: 95 | train_loss: 0.0323 | train_acc: 0.8983 | validation_loss: 0.2458 | validation_acc: 0.8191\n",
      "Epoch: 96 | train_loss: 0.0252 | train_acc: 0.9000 | validation_loss: 0.2785 | validation_acc: 0.8257\n",
      "Epoch: 97 | train_loss: 0.0291 | train_acc: 0.8979 | validation_loss: 0.2186 | validation_acc: 0.8289\n",
      "Epoch: 98 | train_loss: 0.0202 | train_acc: 0.9008 | validation_loss: 0.3037 | validation_acc: 0.8224\n",
      "Epoch: 99 | train_loss: 0.0272 | train_acc: 0.8971 | validation_loss: 0.4424 | validation_acc: 0.7829\n",
      "Epoch: 100 | train_loss: 0.0175 | train_acc: 0.9008 | validation_loss: 0.4869 | validation_acc: 0.7928\n"
     ]
    }
   ],
   "source": [
    "mobnet_lrg = MobileNetLarge()\n",
    "model_name = \"MobileNetLarge\"\n",
    "model_folder_path = models_path / model_name\n",
    "check_dir(model_folder_path)\n",
    "model_name_folder_path = model_folder_path / model_name\n",
    "\n",
    "#Train MobileNetV3 Large\n",
    "mobnet_lrg.to(device)\n",
    "nadam_optim = torch.optim.NAdam(params=mobnet_lrg.parameters(), lr=lr)\n",
    "train_mobnet_lrg_results, train_time_mobnet_lrg = train(mobnet_lrg, train_dl, validation_dl, optimizer=nadam_optim, loss_fn=loss_fn, epochs=NUM_EPOCHS, name_save=model_name_folder_path, device=device)"
   ]
  },
  {
   "cell_type": "code",
   "execution_count": 7,
   "metadata": {},
   "outputs": [
    {
     "data": {
      "application/vnd.jupyter.widget-view+json": {
       "model_id": "612986c5040746e2a5a3049845739d8f",
       "version_major": 2,
       "version_minor": 0
      },
      "text/plain": [
       "  0%|          | 0/19 [00:02<?, ?it/s]"
      ]
     },
     "metadata": {},
     "output_type": "display_data"
    }
   ],
   "source": [
    "eval_mobnet_lrg_results = eval_model(mobnet_lrg, test_dl, loss_fn = loss_fn, accuracy_fn=accuracy_fn, device = device, dummy_input= torch.rand(32,3,224,224).to(device))\n",
    "mobnet_lrg_results = [train_mobnet_lrg_results, train_time_mobnet_lrg, eval_mobnet_lrg_results]\n",
    "final_save(model_folder_path, model_name, NUM_EPOCHS, mobnet_lrg, mobnet_lrg_results)"
   ]
  },
  {
   "cell_type": "code",
   "execution_count": 8,
   "metadata": {},
   "outputs": [
    {
     "name": "stdout",
     "output_type": "stream",
     "text": [
      "Quality\\Models_test\\EfficientNetB0 does not exist, creating one...\n"
     ]
    },
    {
     "data": {
      "application/vnd.jupyter.widget-view+json": {
       "model_id": "eadd57da865e40158720974acfda387f",
       "version_major": 2,
       "version_minor": 0
      },
      "text/plain": [
       "  0%|          | 0/100 [00:00<?, ?it/s]"
      ]
     },
     "metadata": {},
     "output_type": "display_data"
    },
    {
     "name": "stdout",
     "output_type": "stream",
     "text": [
      "Epoch: 1 | train_loss: 0.6069 | train_acc: 0.2961 | validation_loss: 0.6214 | validation_acc: 0.3882\n",
      "Epoch: 2 | train_loss: 0.4780 | train_acc: 0.5361 | validation_loss: 0.4388 | validation_acc: 0.6842\n",
      "Epoch: 3 | train_loss: 0.4049 | train_acc: 0.6590 | validation_loss: 0.3605 | validation_acc: 0.6974\n",
      "Epoch: 4 | train_loss: 0.3363 | train_acc: 0.7266 | validation_loss: 0.3825 | validation_acc: 0.7072\n",
      "Epoch: 5 | train_loss: 0.2855 | train_acc: 0.7806 | validation_loss: 0.3316 | validation_acc: 0.7204\n",
      "Epoch: 6 | train_loss: 0.2623 | train_acc: 0.8020 | validation_loss: 0.2593 | validation_acc: 0.8257\n",
      "Epoch: 7 | train_loss: 0.2267 | train_acc: 0.8212 | validation_loss: 0.2289 | validation_acc: 0.7862\n",
      "Epoch: 8 | train_loss: 0.1986 | train_acc: 0.8274 | validation_loss: 0.2801 | validation_acc: 0.7730\n",
      "Epoch: 9 | train_loss: 0.1792 | train_acc: 0.8358 | validation_loss: 0.1847 | validation_acc: 0.8224\n",
      "Epoch: 10 | train_loss: 0.1794 | train_acc: 0.8375 | validation_loss: 0.2257 | validation_acc: 0.7895\n",
      "Epoch: 11 | train_loss: 0.1431 | train_acc: 0.8541 | validation_loss: 0.1693 | validation_acc: 0.8355\n",
      "Epoch: 12 | train_loss: 0.1508 | train_acc: 0.8533 | validation_loss: 0.1275 | validation_acc: 0.8487\n",
      "Epoch: 13 | train_loss: 0.1418 | train_acc: 0.8566 | validation_loss: 0.1282 | validation_acc: 0.8355\n",
      "Epoch: 14 | train_loss: 0.1173 | train_acc: 0.8682 | validation_loss: 0.1108 | validation_acc: 0.8553\n",
      "Epoch: 15 | train_loss: 0.1216 | train_acc: 0.8629 | validation_loss: 0.1810 | validation_acc: 0.8158\n",
      "Epoch: 16 | train_loss: 0.0936 | train_acc: 0.8777 | validation_loss: 0.1168 | validation_acc: 0.8421\n",
      "Epoch: 17 | train_loss: 0.1033 | train_acc: 0.8712 | validation_loss: 0.1006 | validation_acc: 0.8586\n",
      "Epoch: 18 | train_loss: 0.0807 | train_acc: 0.8820 | validation_loss: 0.1569 | validation_acc: 0.8388\n",
      "Epoch: 19 | train_loss: 0.0830 | train_acc: 0.8829 | validation_loss: 0.1005 | validation_acc: 0.8520\n",
      "Epoch: 20 | train_loss: 0.0813 | train_acc: 0.8833 | validation_loss: 0.0961 | validation_acc: 0.8684\n",
      "Epoch: 21 | train_loss: 0.0854 | train_acc: 0.8816 | validation_loss: 0.1248 | validation_acc: 0.8586\n",
      "Epoch: 22 | train_loss: 0.0606 | train_acc: 0.8887 | validation_loss: 0.0935 | validation_acc: 0.8651\n",
      "Epoch: 23 | train_loss: 0.0562 | train_acc: 0.8899 | validation_loss: 0.0838 | validation_acc: 0.8717\n",
      "Epoch: 24 | train_loss: 0.0590 | train_acc: 0.8883 | validation_loss: 0.1055 | validation_acc: 0.8520\n",
      "Epoch: 25 | train_loss: 0.0518 | train_acc: 0.8962 | validation_loss: 0.1062 | validation_acc: 0.8750\n",
      "Epoch: 26 | train_loss: 0.0563 | train_acc: 0.8883 | validation_loss: 0.1037 | validation_acc: 0.8487\n",
      "Epoch: 27 | train_loss: 0.0458 | train_acc: 0.8946 | validation_loss: 0.0892 | validation_acc: 0.8750\n",
      "Epoch: 28 | train_loss: 0.0626 | train_acc: 0.8871 | validation_loss: 0.1405 | validation_acc: 0.8421\n",
      "Epoch: 29 | train_loss: 0.0388 | train_acc: 0.8962 | validation_loss: 0.1072 | validation_acc: 0.8454\n",
      "Epoch: 30 | train_loss: 0.0373 | train_acc: 0.8962 | validation_loss: 0.1271 | validation_acc: 0.8421\n",
      "Epoch: 31 | train_loss: 0.0340 | train_acc: 0.8945 | validation_loss: 0.0701 | validation_acc: 0.8849\n",
      "Epoch: 32 | train_loss: 0.0624 | train_acc: 0.8866 | validation_loss: 0.1447 | validation_acc: 0.8454\n",
      "Epoch: 33 | train_loss: 0.0523 | train_acc: 0.8887 | validation_loss: 0.0641 | validation_acc: 0.8783\n",
      "Epoch: 34 | train_loss: 0.0446 | train_acc: 0.8962 | validation_loss: 0.0991 | validation_acc: 0.8553\n",
      "Epoch: 35 | train_loss: 0.0532 | train_acc: 0.8924 | validation_loss: 0.1112 | validation_acc: 0.8651\n",
      "Epoch: 36 | train_loss: 0.0382 | train_acc: 0.8975 | validation_loss: 0.0773 | validation_acc: 0.8849\n",
      "Epoch: 37 | train_loss: 0.0463 | train_acc: 0.8899 | validation_loss: 0.0716 | validation_acc: 0.8783\n",
      "Epoch: 38 | train_loss: 0.0313 | train_acc: 0.8983 | validation_loss: 0.1029 | validation_acc: 0.8717\n",
      "Epoch: 39 | train_loss: 0.0264 | train_acc: 0.8996 | validation_loss: 0.0508 | validation_acc: 0.8849\n",
      "Epoch: 40 | train_loss: 0.0303 | train_acc: 0.8971 | validation_loss: 0.0981 | validation_acc: 0.8586\n",
      "Epoch: 41 | train_loss: 0.0302 | train_acc: 0.8986 | validation_loss: 0.1346 | validation_acc: 0.8520\n",
      "Epoch: 42 | train_loss: 0.0269 | train_acc: 0.8999 | validation_loss: 0.0896 | validation_acc: 0.8717\n",
      "Epoch: 43 | train_loss: 0.0229 | train_acc: 0.9003 | validation_loss: 0.0778 | validation_acc: 0.8651\n",
      "Epoch: 44 | train_loss: 0.0269 | train_acc: 0.8991 | validation_loss: 0.1028 | validation_acc: 0.8586\n",
      "Epoch: 45 | train_loss: 0.0444 | train_acc: 0.8945 | validation_loss: 0.1162 | validation_acc: 0.8651\n",
      "Epoch: 46 | train_loss: 0.0326 | train_acc: 0.8946 | validation_loss: 0.0827 | validation_acc: 0.8783\n",
      "Epoch: 47 | train_loss: 0.0280 | train_acc: 0.8975 | validation_loss: 0.0759 | validation_acc: 0.8783\n",
      "Epoch: 48 | train_loss: 0.0243 | train_acc: 0.8996 | validation_loss: 0.0845 | validation_acc: 0.8684\n",
      "Epoch: 49 | train_loss: 0.0207 | train_acc: 0.9004 | validation_loss: 0.0799 | validation_acc: 0.8849\n",
      "Epoch: 50 | train_loss: 0.0229 | train_acc: 0.8999 | validation_loss: 0.1038 | validation_acc: 0.8586\n",
      "Epoch: 51 | train_loss: 0.0460 | train_acc: 0.8921 | validation_loss: 0.0749 | validation_acc: 0.8750\n",
      "Epoch: 52 | train_loss: 0.0210 | train_acc: 0.9004 | validation_loss: 0.2153 | validation_acc: 0.8289\n",
      "Epoch: 53 | train_loss: 0.0184 | train_acc: 0.9008 | validation_loss: 0.1667 | validation_acc: 0.8454\n",
      "Epoch: 54 | train_loss: 0.0187 | train_acc: 0.9008 | validation_loss: 0.1271 | validation_acc: 0.8553\n",
      "Epoch: 55 | train_loss: 0.0271 | train_acc: 0.8983 | validation_loss: 0.0917 | validation_acc: 0.8750\n",
      "Epoch: 56 | train_loss: 0.0198 | train_acc: 0.8996 | validation_loss: 0.1007 | validation_acc: 0.8750\n",
      "Epoch: 57 | train_loss: 0.0218 | train_acc: 0.8988 | validation_loss: 0.2022 | validation_acc: 0.8257\n",
      "Epoch: 58 | train_loss: 0.0222 | train_acc: 0.8995 | validation_loss: 0.0898 | validation_acc: 0.8717\n",
      "Epoch: 59 | train_loss: 0.0154 | train_acc: 0.9016 | validation_loss: 0.1225 | validation_acc: 0.8651\n",
      "Epoch: 60 | train_loss: 0.0178 | train_acc: 0.9012 | validation_loss: 0.0634 | validation_acc: 0.8849\n",
      "Epoch: 61 | train_loss: 0.0354 | train_acc: 0.8945 | validation_loss: 0.1101 | validation_acc: 0.8487\n",
      "Epoch: 62 | train_loss: 0.0300 | train_acc: 0.8957 | validation_loss: 0.1883 | validation_acc: 0.8454\n",
      "Epoch: 63 | train_loss: 0.0337 | train_acc: 0.8954 | validation_loss: 0.0900 | validation_acc: 0.8717\n",
      "Epoch: 64 | train_loss: 0.0159 | train_acc: 0.9016 | validation_loss: 0.0844 | validation_acc: 0.8717\n",
      "Epoch: 65 | train_loss: 0.0181 | train_acc: 0.9008 | validation_loss: 0.1243 | validation_acc: 0.8618\n",
      "Epoch: 66 | train_loss: 0.0173 | train_acc: 0.9012 | validation_loss: 0.1293 | validation_acc: 0.8520\n",
      "Epoch: 67 | train_loss: 0.0155 | train_acc: 0.9012 | validation_loss: 0.0788 | validation_acc: 0.8783\n",
      "Epoch: 68 | train_loss: 0.0201 | train_acc: 0.9008 | validation_loss: 0.1075 | validation_acc: 0.8586\n",
      "Epoch: 69 | train_loss: 0.0136 | train_acc: 0.9020 | validation_loss: 0.0898 | validation_acc: 0.8684\n",
      "Epoch: 70 | train_loss: 0.0396 | train_acc: 0.8933 | validation_loss: 0.1217 | validation_acc: 0.8553\n",
      "Epoch: 71 | train_loss: 0.0295 | train_acc: 0.8987 | validation_loss: 0.1139 | validation_acc: 0.8618\n",
      "Epoch: 72 | train_loss: 0.0183 | train_acc: 0.8996 | validation_loss: 0.1057 | validation_acc: 0.8553\n",
      "Epoch: 73 | train_loss: 0.0109 | train_acc: 0.9012 | validation_loss: 0.1287 | validation_acc: 0.8586\n",
      "Epoch: 74 | train_loss: 0.0157 | train_acc: 0.9011 | validation_loss: 0.0740 | validation_acc: 0.8783\n",
      "Epoch: 75 | train_loss: 0.0150 | train_acc: 0.9025 | validation_loss: 0.1486 | validation_acc: 0.8553\n",
      "Epoch: 76 | train_loss: 0.0135 | train_acc: 0.9008 | validation_loss: 0.0966 | validation_acc: 0.8816\n",
      "Epoch: 77 | train_loss: 0.0145 | train_acc: 0.9004 | validation_loss: 0.0735 | validation_acc: 0.8849\n",
      "Epoch: 78 | train_loss: 0.0239 | train_acc: 0.8996 | validation_loss: 0.2820 | validation_acc: 0.7961\n",
      "Epoch: 79 | train_loss: 0.0306 | train_acc: 0.8983 | validation_loss: 0.1209 | validation_acc: 0.8520\n",
      "Epoch: 80 | train_loss: 0.0164 | train_acc: 0.9012 | validation_loss: 0.1079 | validation_acc: 0.8618\n",
      "Epoch: 81 | train_loss: 0.0149 | train_acc: 0.9004 | validation_loss: 0.1438 | validation_acc: 0.8454\n",
      "Epoch: 82 | train_loss: 0.0109 | train_acc: 0.9017 | validation_loss: 0.1030 | validation_acc: 0.8684\n",
      "Epoch: 83 | train_loss: 0.0171 | train_acc: 0.9008 | validation_loss: 0.1305 | validation_acc: 0.8618\n",
      "Epoch: 84 | train_loss: 0.0200 | train_acc: 0.8979 | validation_loss: 0.1610 | validation_acc: 0.8289\n",
      "Epoch: 85 | train_loss: 0.0172 | train_acc: 0.9020 | validation_loss: 0.1776 | validation_acc: 0.8388\n",
      "Epoch: 86 | train_loss: 0.0196 | train_acc: 0.8992 | validation_loss: 0.1313 | validation_acc: 0.8553\n",
      "Epoch: 87 | train_loss: 0.0128 | train_acc: 0.9012 | validation_loss: 0.1592 | validation_acc: 0.8421\n",
      "Epoch: 88 | train_loss: 0.0090 | train_acc: 0.9020 | validation_loss: 0.1729 | validation_acc: 0.8421\n",
      "Epoch: 89 | train_loss: 0.0147 | train_acc: 0.9004 | validation_loss: 0.1519 | validation_acc: 0.8586\n",
      "Epoch: 90 | train_loss: 0.0120 | train_acc: 0.9016 | validation_loss: 0.2017 | validation_acc: 0.8191\n",
      "Epoch: 91 | train_loss: 0.0111 | train_acc: 0.9021 | validation_loss: 0.1122 | validation_acc: 0.8553\n",
      "Epoch: 92 | train_loss: 0.0116 | train_acc: 0.9015 | validation_loss: 0.1131 | validation_acc: 0.8783\n",
      "Epoch: 93 | train_loss: 0.0115 | train_acc: 0.9020 | validation_loss: 0.1582 | validation_acc: 0.8355\n",
      "Epoch: 94 | train_loss: 0.0105 | train_acc: 0.9024 | validation_loss: 0.1081 | validation_acc: 0.8618\n",
      "Epoch: 95 | train_loss: 0.0109 | train_acc: 0.9016 | validation_loss: 0.1737 | validation_acc: 0.8520\n",
      "Epoch: 96 | train_loss: 0.0090 | train_acc: 0.9021 | validation_loss: 0.1349 | validation_acc: 0.8586\n",
      "Epoch: 97 | train_loss: 0.0144 | train_acc: 0.9016 | validation_loss: 0.1612 | validation_acc: 0.8454\n",
      "Epoch: 98 | train_loss: 0.0311 | train_acc: 0.8966 | validation_loss: 0.2217 | validation_acc: 0.8092\n",
      "Epoch: 99 | train_loss: 0.0157 | train_acc: 0.9016 | validation_loss: 0.0970 | validation_acc: 0.8684\n",
      "Epoch: 100 | train_loss: 0.0094 | train_acc: 0.9024 | validation_loss: 0.0716 | validation_acc: 0.8882\n"
     ]
    }
   ],
   "source": [
    "from efficientNet import *\n",
    "\n",
    "effnetb0 = EfficientNetB0()\n",
    "model_name = \"EfficientNetB0\"\n",
    "model_folder_path = models_path / model_name\n",
    "check_dir(model_folder_path)\n",
    "model_name_folder_path = model_folder_path / model_name\n",
    "\n",
    "#Train EfficientNet B0\n",
    "effnetb0.to(device)\n",
    "nadam_optim = torch.optim.NAdam(params=effnetb0.parameters(), lr=lr)\n",
    "train_effnetb0_results, train_time_effnetb0 = train(effnetb0, train_dl, validation_dl, optimizer=nadam_optim, loss_fn=loss_fn, epochs=NUM_EPOCHS, name_save=model_name_folder_path, device=device)"
   ]
  },
  {
   "cell_type": "code",
   "execution_count": 9,
   "metadata": {},
   "outputs": [
    {
     "data": {
      "application/vnd.jupyter.widget-view+json": {
       "model_id": "4475d074b6cf401e899dbe89ae8c0134",
       "version_major": 2,
       "version_minor": 0
      },
      "text/plain": [
       "  0%|          | 0/19 [00:02<?, ?it/s]"
      ]
     },
     "metadata": {},
     "output_type": "display_data"
    }
   ],
   "source": [
    "eval_effnetb0_results = eval_model(effnetb0, test_dl, loss_fn = loss_fn, accuracy_fn=accuracy_fn, device = device, dummy_input= torch.rand(32,3,224,224).to(device))\n",
    "effnetb0_results = [train_effnetb0_results, train_time_effnetb0, eval_effnetb0_results]\n",
    "final_save(model_folder_path, model_name, NUM_EPOCHS, effnetb0, effnetb0_results)"
   ]
  }
 ],
 "metadata": {
  "kernelspec": {
   "display_name": "base",
   "language": "python",
   "name": "python3"
  },
  "language_info": {
   "codemirror_mode": {
    "name": "ipython",
    "version": 3
   },
   "file_extension": ".py",
   "mimetype": "text/x-python",
   "name": "python",
   "nbconvert_exporter": "python",
   "pygments_lexer": "ipython3",
   "version": "3.9.13"
  },
  "orig_nbformat": 4,
  "vscode": {
   "interpreter": {
    "hash": "15b211d7ad94b52292045efb4f8f9084eab8b035832c108b93ce5f33d27f5980"
   }
  }
 },
 "nbformat": 4,
 "nbformat_minor": 2
}
