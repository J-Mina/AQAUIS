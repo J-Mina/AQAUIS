{
 "cells": [
  {
   "cell_type": "code",
   "execution_count": 1,
   "metadata": {},
   "outputs": [],
   "source": [
    "from torch.utils.data import DataLoader\n",
    "from torchvision import transforms\n",
    "import torch\n",
    "from PIL import Image\n",
    "import os\n",
    "from pathlib import Path\n",
    "from utils import *\n",
    "from allResNets import *\n",
    "from engine import *\n",
    "from data_transforms import create_transform\n",
    "from dataloaders import *\n",
    "\n",
    "change_to_disk()\n",
    "data_dir = Path(\"Quality/data/split_1k\")\n",
    "models_path = Path('Quality/Models_test/')\n",
    "check_dir(models_path)"
   ]
  },
  {
   "cell_type": "code",
   "execution_count": 2,
   "metadata": {},
   "outputs": [],
   "source": [
    "image_shape = (1080, 1920)\n",
    "resize_factor = 0.3\n",
    "resize = np.multiply(image_shape,resize_factor)\n",
    "resize = [int(resize[0]), int(resize[1])]\n",
    "BATCH_SIZE = 16\n",
    "\n",
    "data_transform = create_transform(resize=resize, rotate=10, flip_h = True, color_dev=True, transf_tensor=True, normalize=True, sp_noise=True, gauss_noise=True)\n",
    "\n",
    "train_dl, validation_dl, test_dl, train_data, validation_data, test_data = create_dataloaders_multilabel(data_dir, transform = data_transform, batch_size=BATCH_SIZE, num_workers= NUM_WORKERS)"
   ]
  },
  {
   "cell_type": "code",
   "execution_count": 3,
   "metadata": {},
   "outputs": [],
   "source": [
    "NUM_EPOCHS = 100\n",
    "lr = 0.001\n",
    "device = get_device()\n",
    "\n",
    "resnet18 = ResNet18()\n",
    "\n",
    "#Combines the sigmoid with the BinaryCrossEntropy\n",
    "loss_fn = nn.BCEWithLogitsLoss()"
   ]
  },
  {
   "cell_type": "code",
   "execution_count": 4,
   "metadata": {},
   "outputs": [
    {
     "data": {
      "application/vnd.jupyter.widget-view+json": {
       "model_id": "76aed906b9664cd5b901453233f80de9",
       "version_major": 2,
       "version_minor": 0
      },
      "text/plain": [
       "  0%|          | 0/100 [00:00<?, ?it/s]"
      ]
     },
     "metadata": {},
     "output_type": "display_data"
    },
    {
     "name": "stdout",
     "output_type": "stream",
     "text": [
      "Epoch: 1 | train_loss: 0.3364 | train_acc: 0.5144 | validation_loss: 0.6066 | validation_acc: 0.4264\n",
      "Epoch: 2 | train_loss: 0.2818 | train_acc: 0.6124 | validation_loss: 0.3508 | validation_acc: 0.5234\n",
      "Epoch: 3 | train_loss: 0.2442 | train_acc: 0.6824 | validation_loss: 0.6468 | validation_acc: 0.5339\n",
      "Epoch: 4 | train_loss: 0.2018 | train_acc: 0.7462 | validation_loss: 0.3402 | validation_acc: 0.6868\n",
      "Epoch: 5 | train_loss: 0.1715 | train_acc: 0.7887 | validation_loss: 0.1459 | validation_acc: 0.8366\n",
      "Epoch: 6 | train_loss: 0.1497 | train_acc: 0.8200 | validation_loss: 0.1635 | validation_acc: 0.8496\n",
      "Epoch: 7 | train_loss: 0.1354 | train_acc: 0.8397 | validation_loss: 1.8396 | validation_acc: 0.3008\n",
      "Epoch: 8 | train_loss: 0.1235 | train_acc: 0.8497 | validation_loss: 0.1498 | validation_acc: 0.8320\n",
      "Epoch: 9 | train_loss: 0.1087 | train_acc: 0.8622 | validation_loss: 0.7110 | validation_acc: 0.5391\n",
      "Epoch: 10 | train_loss: 0.1051 | train_acc: 0.8687 | validation_loss: 0.2538 | validation_acc: 0.7786\n",
      "Epoch: 11 | train_loss: 0.0884 | train_acc: 0.8807 | validation_loss: 0.1096 | validation_acc: 0.8926\n",
      "Epoch: 12 | train_loss: 0.0889 | train_acc: 0.8782 | validation_loss: 0.1154 | validation_acc: 0.8698\n",
      "Epoch: 13 | train_loss: 0.0800 | train_acc: 0.8835 | validation_loss: 0.1594 | validation_acc: 0.8418\n",
      "Epoch: 14 | train_loss: 0.0712 | train_acc: 0.8962 | validation_loss: 0.1132 | validation_acc: 0.8750\n",
      "Epoch: 15 | train_loss: 0.0663 | train_acc: 0.8972 | validation_loss: 1.0887 | validation_acc: 0.5176\n",
      "Epoch: 16 | train_loss: 0.0652 | train_acc: 0.9015 | validation_loss: 0.4932 | validation_acc: 0.6966\n",
      "Epoch: 17 | train_loss: 0.0606 | train_acc: 0.9025 | validation_loss: 0.1109 | validation_acc: 0.8770\n",
      "Epoch: 18 | train_loss: 0.0584 | train_acc: 0.9042 | validation_loss: 0.6855 | validation_acc: 0.5872\n",
      "Epoch: 19 | train_loss: 0.0521 | train_acc: 0.9115 | validation_loss: 0.0897 | validation_acc: 0.8939\n",
      "Epoch: 20 | train_loss: 0.0522 | train_acc: 0.9090 | validation_loss: 0.0688 | validation_acc: 0.9160\n",
      "Epoch: 21 | train_loss: 0.0443 | train_acc: 0.9163 | validation_loss: 0.1430 | validation_acc: 0.8789\n",
      "Epoch: 22 | train_loss: 0.0472 | train_acc: 0.9147 | validation_loss: 0.1475 | validation_acc: 0.8223\n",
      "Epoch: 23 | train_loss: 0.0482 | train_acc: 0.9097 | validation_loss: 0.9728 | validation_acc: 0.5775\n",
      "Epoch: 24 | train_loss: 0.0428 | train_acc: 0.9133 | validation_loss: 0.4344 | validation_acc: 0.7956\n",
      "Epoch: 25 | train_loss: 0.0385 | train_acc: 0.9195 | validation_loss: 0.1038 | validation_acc: 0.8633\n",
      "Epoch: 26 | train_loss: 0.0414 | train_acc: 0.9185 | validation_loss: 1.8738 | validation_acc: 0.4297\n",
      "Epoch: 27 | train_loss: 0.0348 | train_acc: 0.9230 | validation_loss: 0.2763 | validation_acc: 0.7949\n",
      "Epoch: 28 | train_loss: 0.0363 | train_acc: 0.9230 | validation_loss: 0.2305 | validation_acc: 0.7988\n",
      "Epoch: 29 | train_loss: 0.0346 | train_acc: 0.9190 | validation_loss: 0.2204 | validation_acc: 0.7754\n",
      "Epoch: 30 | train_loss: 0.0332 | train_acc: 0.9220 | validation_loss: 0.8070 | validation_acc: 0.6159\n",
      "Epoch: 31 | train_loss: 0.0361 | train_acc: 0.9177 | validation_loss: 0.3088 | validation_acc: 0.8737\n",
      "Epoch: 32 | train_loss: 0.0322 | train_acc: 0.9244 | validation_loss: 1.3051 | validation_acc: 0.5957\n",
      "Epoch: 33 | train_loss: 0.0272 | train_acc: 0.9275 | validation_loss: 0.8862 | validation_acc: 0.7324\n",
      "Epoch: 34 | train_loss: 0.0297 | train_acc: 0.9230 | validation_loss: 0.1182 | validation_acc: 0.8600\n",
      "Epoch: 35 | train_loss: 0.0259 | train_acc: 0.9260 | validation_loss: 0.0993 | validation_acc: 0.8997\n",
      "Epoch: 36 | train_loss: 0.0269 | train_acc: 0.9252 | validation_loss: 0.1167 | validation_acc: 0.8809\n",
      "Epoch: 37 | train_loss: 0.0287 | train_acc: 0.9242 | validation_loss: 0.1514 | validation_acc: 0.8262\n",
      "Epoch: 38 | train_loss: 0.0287 | train_acc: 0.9262 | validation_loss: 0.1688 | validation_acc: 0.8444\n",
      "Epoch: 39 | train_loss: 0.0250 | train_acc: 0.9275 | validation_loss: 0.1119 | validation_acc: 0.8691\n",
      "Epoch: 40 | train_loss: 0.0300 | train_acc: 0.9252 | validation_loss: 0.2833 | validation_acc: 0.7760\n",
      "Epoch: 41 | train_loss: 0.0261 | train_acc: 0.9292 | validation_loss: 0.1320 | validation_acc: 0.8613\n",
      "Epoch: 42 | train_loss: 0.0254 | train_acc: 0.9280 | validation_loss: 0.9923 | validation_acc: 0.5566\n",
      "Epoch: 43 | train_loss: 0.0270 | train_acc: 0.9250 | validation_loss: 0.6150 | validation_acc: 0.6816\n",
      "Epoch: 44 | train_loss: 0.0270 | train_acc: 0.9275 | validation_loss: 0.1536 | validation_acc: 0.8359\n",
      "Epoch: 45 | train_loss: 0.0179 | train_acc: 0.9342 | validation_loss: 0.6137 | validation_acc: 0.6523\n",
      "Epoch: 46 | train_loss: 0.0204 | train_acc: 0.9310 | validation_loss: 0.2172 | validation_acc: 0.8125\n",
      "Epoch: 47 | train_loss: 0.0241 | train_acc: 0.9280 | validation_loss: 0.3237 | validation_acc: 0.7383\n",
      "Epoch: 48 | train_loss: 0.0248 | train_acc: 0.9292 | validation_loss: 0.3017 | validation_acc: 0.7969\n",
      "Epoch: 49 | train_loss: 0.0192 | train_acc: 0.9307 | validation_loss: 0.7370 | validation_acc: 0.6335\n",
      "Epoch: 50 | train_loss: 0.0231 | train_acc: 0.9287 | validation_loss: 0.4130 | validation_acc: 0.8574\n",
      "Epoch: 51 | train_loss: 0.0246 | train_acc: 0.9265 | validation_loss: 0.0715 | validation_acc: 0.9199\n",
      "Epoch: 52 | train_loss: 0.0222 | train_acc: 0.9295 | validation_loss: 0.5171 | validation_acc: 0.7773\n",
      "Epoch: 53 | train_loss: 0.0199 | train_acc: 0.9315 | validation_loss: 0.2186 | validation_acc: 0.8184\n",
      "Epoch: 54 | train_loss: 0.0190 | train_acc: 0.9325 | validation_loss: 0.1982 | validation_acc: 0.8281\n",
      "Epoch: 55 | train_loss: 0.0161 | train_acc: 0.9330 | validation_loss: 0.2112 | validation_acc: 0.8301\n",
      "Epoch: 56 | train_loss: 0.0166 | train_acc: 0.9332 | validation_loss: 0.3278 | validation_acc: 0.7969\n",
      "Epoch: 57 | train_loss: 0.0220 | train_acc: 0.9287 | validation_loss: 0.1592 | validation_acc: 0.8444\n",
      "Epoch: 58 | train_loss: 0.0179 | train_acc: 0.9295 | validation_loss: 0.8002 | validation_acc: 0.6426\n",
      "Epoch: 59 | train_loss: 0.0178 | train_acc: 0.9302 | validation_loss: 0.3359 | validation_acc: 0.7402\n",
      "Epoch: 60 | train_loss: 0.0167 | train_acc: 0.9317 | validation_loss: 0.1431 | validation_acc: 0.8607\n",
      "Epoch: 61 | train_loss: 0.0180 | train_acc: 0.9307 | validation_loss: 0.2790 | validation_acc: 0.8125\n",
      "Epoch: 62 | train_loss: 0.0149 | train_acc: 0.9325 | validation_loss: 0.5159 | validation_acc: 0.7878\n",
      "Epoch: 63 | train_loss: 0.0170 | train_acc: 0.9310 | validation_loss: 0.2399 | validation_acc: 0.7656\n",
      "Epoch: 64 | train_loss: 0.0159 | train_acc: 0.9332 | validation_loss: 0.2490 | validation_acc: 0.8379\n",
      "Epoch: 65 | train_loss: 0.0148 | train_acc: 0.9330 | validation_loss: 0.1082 | validation_acc: 0.8835\n",
      "Epoch: 66 | train_loss: 0.0121 | train_acc: 0.9337 | validation_loss: 0.2065 | validation_acc: 0.8548\n",
      "Epoch: 67 | train_loss: 0.0158 | train_acc: 0.9312 | validation_loss: 1.1658 | validation_acc: 0.6465\n",
      "Epoch: 68 | train_loss: 0.0139 | train_acc: 0.9342 | validation_loss: 0.7258 | validation_acc: 0.6504\n",
      "Epoch: 69 | train_loss: 0.0122 | train_acc: 0.9335 | validation_loss: 0.2807 | validation_acc: 0.8008\n",
      "Epoch: 70 | train_loss: 0.0185 | train_acc: 0.9295 | validation_loss: 0.1434 | validation_acc: 0.8613\n",
      "Epoch: 71 | train_loss: 0.0167 | train_acc: 0.9305 | validation_loss: 0.1786 | validation_acc: 0.8600\n",
      "Epoch: 72 | train_loss: 0.0224 | train_acc: 0.9300 | validation_loss: 0.2327 | validation_acc: 0.8086\n",
      "Epoch: 73 | train_loss: 0.0140 | train_acc: 0.9330 | validation_loss: 0.1809 | validation_acc: 0.8496\n",
      "Epoch: 74 | train_loss: 0.0131 | train_acc: 0.9333 | validation_loss: 0.1442 | validation_acc: 0.8691\n",
      "Epoch: 75 | train_loss: 0.0130 | train_acc: 0.9340 | validation_loss: 1.2956 | validation_acc: 0.6009\n",
      "Epoch: 76 | train_loss: 0.0150 | train_acc: 0.9320 | validation_loss: 0.2694 | validation_acc: 0.8307\n",
      "Epoch: 77 | train_loss: 0.0125 | train_acc: 0.9357 | validation_loss: 0.1460 | validation_acc: 0.8874\n",
      "Epoch: 78 | train_loss: 0.0119 | train_acc: 0.9340 | validation_loss: 0.9981 | validation_acc: 0.6445\n",
      "Epoch: 79 | train_loss: 0.0131 | train_acc: 0.9337 | validation_loss: 0.1202 | validation_acc: 0.8893\n",
      "Epoch: 80 | train_loss: 0.0127 | train_acc: 0.9347 | validation_loss: 0.2827 | validation_acc: 0.8047\n",
      "Epoch: 81 | train_loss: 0.0142 | train_acc: 0.9305 | validation_loss: 0.1541 | validation_acc: 0.8757\n",
      "Epoch: 82 | train_loss: 0.0102 | train_acc: 0.9340 | validation_loss: 0.3243 | validation_acc: 0.8014\n",
      "Epoch: 83 | train_loss: 0.0102 | train_acc: 0.9342 | validation_loss: 0.1933 | validation_acc: 0.8385\n",
      "Epoch: 84 | train_loss: 0.0103 | train_acc: 0.9347 | validation_loss: 0.2257 | validation_acc: 0.7871\n",
      "Epoch: 85 | train_loss: 0.0112 | train_acc: 0.9340 | validation_loss: 0.1492 | validation_acc: 0.8717\n",
      "Epoch: 86 | train_loss: 0.0141 | train_acc: 0.9335 | validation_loss: 0.1154 | validation_acc: 0.8984\n",
      "Epoch: 87 | train_loss: 0.0109 | train_acc: 0.9347 | validation_loss: 0.2249 | validation_acc: 0.8477\n",
      "Epoch: 88 | train_loss: 0.0114 | train_acc: 0.9350 | validation_loss: 0.5277 | validation_acc: 0.7253\n",
      "Epoch: 89 | train_loss: 0.0100 | train_acc: 0.9357 | validation_loss: 0.5324 | validation_acc: 0.7057\n",
      "Epoch: 90 | train_loss: 0.0122 | train_acc: 0.9335 | validation_loss: 0.6526 | validation_acc: 0.7044\n",
      "Epoch: 91 | train_loss: 0.0097 | train_acc: 0.9355 | validation_loss: 0.0967 | validation_acc: 0.9062\n",
      "Epoch: 92 | train_loss: 0.0115 | train_acc: 0.9350 | validation_loss: 0.3278 | validation_acc: 0.8105\n",
      "Epoch: 93 | train_loss: 0.0145 | train_acc: 0.9317 | validation_loss: 0.1329 | validation_acc: 0.8770\n",
      "Epoch: 94 | train_loss: 0.0118 | train_acc: 0.9335 | validation_loss: 0.7233 | validation_acc: 0.6569\n",
      "Epoch: 95 | train_loss: 0.0099 | train_acc: 0.9345 | validation_loss: 0.1895 | validation_acc: 0.8457\n",
      "Epoch: 96 | train_loss: 0.0114 | train_acc: 0.9327 | validation_loss: 0.3862 | validation_acc: 0.7383\n",
      "Epoch: 97 | train_loss: 0.0107 | train_acc: 0.9343 | validation_loss: 0.1615 | validation_acc: 0.8652\n",
      "Epoch: 98 | train_loss: 0.0125 | train_acc: 0.9335 | validation_loss: 0.1197 | validation_acc: 0.8835\n",
      "Epoch: 99 | train_loss: 0.0071 | train_acc: 0.9370 | validation_loss: 0.1378 | validation_acc: 0.8770\n",
      "Epoch: 100 | train_loss: 0.0100 | train_acc: 0.9352 | validation_loss: 0.4955 | validation_acc: 0.7057\n"
     ]
    }
   ],
   "source": [
    "model_name = \"ResNet18\"\n",
    "model_folder_path = models_path / model_name\n",
    "check_dir(model_folder_path)\n",
    "model_name_folder_path = model_folder_path / model_name\n",
    "\n",
    "#Train ResNet18\n",
    "resnet18.to(device)\n",
    "nadam_optim = torch.optim.NAdam(params=resnet18.parameters(), lr=lr)\n",
    "train_resnet18_results, train_time_resnet18 = train(resnet18, train_dl, validation_dl, optimizer=nadam_optim, loss_fn=loss_fn, epochs=NUM_EPOCHS, name_save=model_name_folder_path, device=device)"
   ]
  },
  {
   "cell_type": "code",
   "execution_count": 6,
   "metadata": {},
   "outputs": [],
   "source": [
    "eval_resnet18_results = eval_model(resnet18, test_dl, loss_fn = loss_fn, accuracy_fn=accuracy_fn, device = device, dummy_input= torch.rand(16,3,resize[0],resize[1]).to(device))\n",
    "resnet18_results = [train_resnet18_results, train_time_resnet18, eval_resnet18_results]\n",
    "final_save(model_folder_path,model_name, NUM_EPOCHS, resnet18, resnet18_results)"
   ]
  }
 ],
 "metadata": {
  "kernelspec": {
   "display_name": "base",
   "language": "python",
   "name": "python3"
  },
  "language_info": {
   "codemirror_mode": {
    "name": "ipython",
    "version": 3
   },
   "file_extension": ".py",
   "mimetype": "text/x-python",
   "name": "python",
   "nbconvert_exporter": "python",
   "pygments_lexer": "ipython3",
   "version": "3.9.13"
  },
  "orig_nbformat": 4
 },
 "nbformat": 4,
 "nbformat_minor": 2
}
