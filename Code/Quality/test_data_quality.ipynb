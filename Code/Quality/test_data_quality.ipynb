{
 "cells": [
  {
   "cell_type": "code",
   "execution_count": 1,
   "metadata": {},
   "outputs": [],
   "source": [
    "from torch.utils.data import DataLoader\n",
    "from torchvision import transforms\n",
    "import torch\n",
    "from PIL import Image\n",
    "import os\n",
    "from pathlib import Path\n",
    "from utils import *\n",
    "from allResNets import *\n",
    "from engine import *\n",
    "from data_transforms import create_transform\n",
    "from dataloaders import *\n",
    "\n",
    "change_to_disk()\n",
    "data_dir = Path(\"Quality/data/single_data/split_1k_single\")\n",
    "models_path = Path('Quality/Models_test/')\n",
    "check_dir(models_path)"
   ]
  },
  {
   "cell_type": "code",
   "execution_count": 2,
   "metadata": {},
   "outputs": [],
   "source": [
    "image_shape = (1080, 1920)\n",
    "resize_factor = 0.3\n",
    "resize = np.multiply(image_shape,resize_factor)\n",
    "resize = [int(resize[0]), int(resize[1])]\n",
    "BATCH_SIZE = 16\n",
    "\n",
    "data_transform = create_transform(resize=resize, rotate=10, flip_h = True, color_dev=True, transf_tensor=True, normalize=True, sp_noise=True, gauss_noise=True)\n",
    "\n",
    "train_dl, validation_dl, test_dl, train_data, validation_data, test_data = create_dataloaders_multilabel(data_dir, transform = data_transform, batch_size=BATCH_SIZE, num_workers= NUM_WORKERS)"
   ]
  },
  {
   "cell_type": "code",
   "execution_count": 3,
   "metadata": {},
   "outputs": [],
   "source": [
    "NUM_EPOCHS = 100\n",
    "lr = 0.001\n",
    "device = get_device()\n",
    "\n",
    "resnet18 = ResNet18()\n",
    "\n",
    "#Combines the sigmoid with the BinaryCrossEntropy\n",
    "loss_fn = nn.BCEWithLogitsLoss()"
   ]
  },
  {
   "cell_type": "code",
   "execution_count": 4,
   "metadata": {},
   "outputs": [
    {
     "name": "stdout",
     "output_type": "stream",
     "text": [
      "Quality\\Models_test\\ResNet18 does not exist, creating one...\n"
     ]
    },
    {
     "data": {
      "application/vnd.jupyter.widget-view+json": {
       "model_id": "bf1dfc96acfe4538ad5e59862f9c7402",
       "version_major": 2,
       "version_minor": 0
      },
      "text/plain": [
       "  0%|          | 0/100 [00:00<?, ?it/s]"
      ]
     },
     "metadata": {},
     "output_type": "display_data"
    },
    {
     "name": "stdout",
     "output_type": "stream",
     "text": [
      "Epoch: 1 | train_loss: 0.5644 | train_acc: 0.4169 | validation_loss: 2.0659 | validation_acc: 0.3388\n",
      "Epoch: 2 | train_loss: 0.4760 | train_acc: 0.5202 | validation_loss: 0.7925 | validation_acc: 0.4901\n",
      "Epoch: 3 | train_loss: 0.4162 | train_acc: 0.6149 | validation_loss: 0.4373 | validation_acc: 0.6283\n",
      "Epoch: 4 | train_loss: 0.3726 | train_acc: 0.6716 | validation_loss: 0.4564 | validation_acc: 0.5592\n",
      "Epoch: 5 | train_loss: 0.3544 | train_acc: 0.6933 | validation_loss: 0.4681 | validation_acc: 0.5789\n",
      "Epoch: 6 | train_loss: 0.3121 | train_acc: 0.7391 | validation_loss: 0.3232 | validation_acc: 0.7697\n",
      "Epoch: 7 | train_loss: 0.2894 | train_acc: 0.7741 | validation_loss: 0.3034 | validation_acc: 0.7533\n",
      "Epoch: 8 | train_loss: 0.2805 | train_acc: 0.7846 | validation_loss: 0.3015 | validation_acc: 0.7763\n",
      "Epoch: 9 | train_loss: 0.2730 | train_acc: 0.7958 | validation_loss: 0.3534 | validation_acc: 0.7697\n",
      "Epoch: 10 | train_loss: 0.2329 | train_acc: 0.8241 | validation_loss: 0.3589 | validation_acc: 0.7880\n",
      "Epoch: 11 | train_loss: 0.2122 | train_acc: 0.8274 | validation_loss: 0.2228 | validation_acc: 0.7993\n",
      "Epoch: 12 | train_loss: 0.2022 | train_acc: 0.8274 | validation_loss: 0.2852 | validation_acc: 0.7599\n",
      "Epoch: 13 | train_loss: 0.1957 | train_acc: 0.8416 | validation_loss: 0.2401 | validation_acc: 0.8026\n",
      "Epoch: 14 | train_loss: 0.1896 | train_acc: 0.8375 | validation_loss: 0.1809 | validation_acc: 0.8257\n",
      "Epoch: 15 | train_loss: 0.1684 | train_acc: 0.8412 | validation_loss: 0.2003 | validation_acc: 0.8224\n",
      "Epoch: 16 | train_loss: 0.1498 | train_acc: 0.8587 | validation_loss: 0.1512 | validation_acc: 0.8421\n",
      "Epoch: 17 | train_loss: 0.1388 | train_acc: 0.8616 | validation_loss: 0.2206 | validation_acc: 0.7961\n",
      "Epoch: 18 | train_loss: 0.1308 | train_acc: 0.8671 | validation_loss: 0.3184 | validation_acc: 0.7748\n",
      "Epoch: 19 | train_loss: 0.1384 | train_acc: 0.8608 | validation_loss: 0.2533 | validation_acc: 0.7895\n",
      "Epoch: 20 | train_loss: 0.1289 | train_acc: 0.8679 | validation_loss: 0.1752 | validation_acc: 0.8421\n",
      "Epoch: 21 | train_loss: 0.1165 | train_acc: 0.8704 | validation_loss: 1.5998 | validation_acc: 0.4507\n",
      "Epoch: 22 | train_loss: 0.1279 | train_acc: 0.8666 | validation_loss: 0.1318 | validation_acc: 0.8553\n",
      "Epoch: 23 | train_loss: 0.1065 | train_acc: 0.8728 | validation_loss: 0.3030 | validation_acc: 0.7763\n",
      "Epoch: 24 | train_loss: 0.1082 | train_acc: 0.8716 | validation_loss: 0.3678 | validation_acc: 0.7467\n",
      "Epoch: 25 | train_loss: 0.0894 | train_acc: 0.8812 | validation_loss: 0.1291 | validation_acc: 0.8520\n",
      "Epoch: 26 | train_loss: 0.0944 | train_acc: 0.8816 | validation_loss: 0.1094 | validation_acc: 0.8618\n",
      "Epoch: 27 | train_loss: 0.0879 | train_acc: 0.8774 | validation_loss: 0.5165 | validation_acc: 0.7336\n",
      "Epoch: 28 | train_loss: 0.0846 | train_acc: 0.8824 | validation_loss: 0.4442 | validation_acc: 0.7829\n",
      "Epoch: 29 | train_loss: 0.0972 | train_acc: 0.8754 | validation_loss: 0.1595 | validation_acc: 0.8388\n",
      "Epoch: 30 | train_loss: 0.0908 | train_acc: 0.8774 | validation_loss: 0.4456 | validation_acc: 0.7452\n",
      "Epoch: 31 | train_loss: 0.0812 | train_acc: 0.8841 | validation_loss: 0.1845 | validation_acc: 0.8388\n",
      "Epoch: 32 | train_loss: 0.0744 | train_acc: 0.8837 | validation_loss: 0.2165 | validation_acc: 0.8026\n",
      "Epoch: 33 | train_loss: 0.0768 | train_acc: 0.8828 | validation_loss: 0.3202 | validation_acc: 0.7566\n",
      "Epoch: 34 | train_loss: 0.0790 | train_acc: 0.8816 | validation_loss: 0.2145 | validation_acc: 0.8257\n",
      "Epoch: 35 | train_loss: 0.0769 | train_acc: 0.8846 | validation_loss: 0.1107 | validation_acc: 0.8684\n",
      "Epoch: 36 | train_loss: 0.0683 | train_acc: 0.8911 | validation_loss: 0.1878 | validation_acc: 0.8487\n",
      "Epoch: 37 | train_loss: 0.0796 | train_acc: 0.8796 | validation_loss: 0.5476 | validation_acc: 0.7500\n",
      "Epoch: 38 | train_loss: 0.0620 | train_acc: 0.8883 | validation_loss: 0.1025 | validation_acc: 0.8651\n",
      "Epoch: 39 | train_loss: 0.0668 | train_acc: 0.8875 | validation_loss: 0.3659 | validation_acc: 0.7730\n",
      "Epoch: 40 | train_loss: 0.0624 | train_acc: 0.8904 | validation_loss: 0.3019 | validation_acc: 0.7993\n",
      "Epoch: 41 | train_loss: 0.0560 | train_acc: 0.8916 | validation_loss: 0.1106 | validation_acc: 0.8618\n",
      "Epoch: 42 | train_loss: 0.0499 | train_acc: 0.8941 | validation_loss: 0.4925 | validation_acc: 0.7533\n",
      "Epoch: 43 | train_loss: 0.0676 | train_acc: 0.8879 | validation_loss: 0.3858 | validation_acc: 0.7895\n",
      "Epoch: 44 | train_loss: 0.0596 | train_acc: 0.8875 | validation_loss: 0.4970 | validation_acc: 0.7336\n",
      "Epoch: 45 | train_loss: 0.0481 | train_acc: 0.8945 | validation_loss: 0.2903 | validation_acc: 0.7961\n",
      "Epoch: 46 | train_loss: 0.0611 | train_acc: 0.8891 | validation_loss: 0.1754 | validation_acc: 0.8487\n",
      "Epoch: 47 | train_loss: 0.0602 | train_acc: 0.8904 | validation_loss: 0.1423 | validation_acc: 0.8684\n",
      "Epoch: 48 | train_loss: 0.0534 | train_acc: 0.8912 | validation_loss: 0.1140 | validation_acc: 0.8586\n",
      "Epoch: 49 | train_loss: 0.0419 | train_acc: 0.8954 | validation_loss: 0.1132 | validation_acc: 0.8651\n",
      "Epoch: 50 | train_loss: 0.0466 | train_acc: 0.8937 | validation_loss: 0.1360 | validation_acc: 0.8520\n",
      "Epoch: 51 | train_loss: 0.0484 | train_acc: 0.8950 | validation_loss: 0.5191 | validation_acc: 0.7467\n",
      "Epoch: 52 | train_loss: 0.0523 | train_acc: 0.8937 | validation_loss: 0.1609 | validation_acc: 0.8454\n",
      "Epoch: 53 | train_loss: 0.0456 | train_acc: 0.8942 | validation_loss: 0.4449 | validation_acc: 0.7928\n",
      "Epoch: 54 | train_loss: 0.0497 | train_acc: 0.8937 | validation_loss: 0.3063 | validation_acc: 0.7862\n",
      "Epoch: 55 | train_loss: 0.0453 | train_acc: 0.8940 | validation_loss: 0.5490 | validation_acc: 0.6627\n",
      "Epoch: 56 | train_loss: 0.0475 | train_acc: 0.8949 | validation_loss: 0.2577 | validation_acc: 0.8257\n",
      "Epoch: 57 | train_loss: 0.0374 | train_acc: 0.8942 | validation_loss: 0.2562 | validation_acc: 0.8257\n",
      "Epoch: 58 | train_loss: 0.0433 | train_acc: 0.8958 | validation_loss: 0.1945 | validation_acc: 0.8355\n",
      "Epoch: 59 | train_loss: 0.0396 | train_acc: 0.8961 | validation_loss: 0.1296 | validation_acc: 0.8553\n",
      "Epoch: 60 | train_loss: 0.0481 | train_acc: 0.8904 | validation_loss: 0.2091 | validation_acc: 0.8289\n",
      "Epoch: 61 | train_loss: 0.0381 | train_acc: 0.8933 | validation_loss: 0.2233 | validation_acc: 0.8322\n",
      "Epoch: 62 | train_loss: 0.0441 | train_acc: 0.8954 | validation_loss: 0.2094 | validation_acc: 0.8289\n",
      "Epoch: 63 | train_loss: 0.0348 | train_acc: 0.8957 | validation_loss: 0.2200 | validation_acc: 0.8355\n",
      "Epoch: 64 | train_loss: 0.0317 | train_acc: 0.8979 | validation_loss: 0.3950 | validation_acc: 0.7796\n",
      "Epoch: 65 | train_loss: 0.0338 | train_acc: 0.8962 | validation_loss: 0.2824 | validation_acc: 0.8224\n",
      "Epoch: 66 | train_loss: 0.0495 | train_acc: 0.8900 | validation_loss: 0.3438 | validation_acc: 0.7697\n",
      "Epoch: 67 | train_loss: 0.0379 | train_acc: 0.8941 | validation_loss: 0.2314 | validation_acc: 0.8421\n",
      "Epoch: 68 | train_loss: 0.0408 | train_acc: 0.8962 | validation_loss: 0.2671 | validation_acc: 0.8158\n",
      "Epoch: 69 | train_loss: 0.0260 | train_acc: 0.8996 | validation_loss: 0.2845 | validation_acc: 0.8110\n",
      "Epoch: 70 | train_loss: 0.0335 | train_acc: 0.8953 | validation_loss: 0.3817 | validation_acc: 0.7928\n",
      "Epoch: 71 | train_loss: 0.0334 | train_acc: 0.8937 | validation_loss: 0.1232 | validation_acc: 0.8618\n",
      "Epoch: 72 | train_loss: 0.0301 | train_acc: 0.9004 | validation_loss: 0.8009 | validation_acc: 0.7336\n",
      "Epoch: 73 | train_loss: 0.0588 | train_acc: 0.8911 | validation_loss: 0.3882 | validation_acc: 0.7961\n",
      "Epoch: 74 | train_loss: 0.0333 | train_acc: 0.8983 | validation_loss: 0.3877 | validation_acc: 0.7697\n",
      "Epoch: 75 | train_loss: 0.0283 | train_acc: 0.9000 | validation_loss: 0.2603 | validation_acc: 0.8125\n",
      "Epoch: 76 | train_loss: 0.0247 | train_acc: 0.8996 | validation_loss: 0.2888 | validation_acc: 0.7993\n",
      "Epoch: 77 | train_loss: 0.0283 | train_acc: 0.8987 | validation_loss: 1.0749 | validation_acc: 0.6447\n",
      "Epoch: 78 | train_loss: 0.0408 | train_acc: 0.8958 | validation_loss: 0.2324 | validation_acc: 0.8388\n",
      "Epoch: 79 | train_loss: 0.0337 | train_acc: 0.8979 | validation_loss: 0.4587 | validation_acc: 0.7632\n",
      "Epoch: 80 | train_loss: 0.0376 | train_acc: 0.8962 | validation_loss: 0.4374 | validation_acc: 0.7796\n",
      "Epoch: 81 | train_loss: 0.0247 | train_acc: 0.8999 | validation_loss: 0.3815 | validation_acc: 0.7961\n",
      "Epoch: 82 | train_loss: 0.0279 | train_acc: 0.8974 | validation_loss: 0.2464 | validation_acc: 0.8125\n",
      "Epoch: 83 | train_loss: 0.0321 | train_acc: 0.8996 | validation_loss: 0.3700 | validation_acc: 0.7730\n",
      "Epoch: 84 | train_loss: 0.0370 | train_acc: 0.8946 | validation_loss: 0.5546 | validation_acc: 0.7796\n",
      "Epoch: 85 | train_loss: 0.0374 | train_acc: 0.8975 | validation_loss: 0.3215 | validation_acc: 0.8092\n",
      "Epoch: 86 | train_loss: 0.0261 | train_acc: 0.8995 | validation_loss: 0.4533 | validation_acc: 0.7895\n",
      "Epoch: 87 | train_loss: 0.0290 | train_acc: 0.8995 | validation_loss: 0.3615 | validation_acc: 0.8092\n",
      "Epoch: 88 | train_loss: 0.0415 | train_acc: 0.8946 | validation_loss: 0.6903 | validation_acc: 0.7697\n",
      "Epoch: 89 | train_loss: 0.0332 | train_acc: 0.8946 | validation_loss: 0.2161 | validation_acc: 0.8092\n",
      "Epoch: 90 | train_loss: 0.0325 | train_acc: 0.8966 | validation_loss: 0.4549 | validation_acc: 0.7566\n",
      "Epoch: 91 | train_loss: 0.0268 | train_acc: 0.8979 | validation_loss: 0.3351 | validation_acc: 0.8059\n",
      "Epoch: 92 | train_loss: 0.0221 | train_acc: 0.9000 | validation_loss: 0.2280 | validation_acc: 0.8388\n",
      "Epoch: 93 | train_loss: 0.0281 | train_acc: 0.8996 | validation_loss: 0.3543 | validation_acc: 0.7993\n",
      "Epoch: 94 | train_loss: 0.0280 | train_acc: 0.8979 | validation_loss: 0.2928 | validation_acc: 0.8158\n",
      "Epoch: 95 | train_loss: 0.0306 | train_acc: 0.8971 | validation_loss: 0.2403 | validation_acc: 0.8224\n",
      "Epoch: 96 | train_loss: 0.0277 | train_acc: 0.8991 | validation_loss: 0.1333 | validation_acc: 0.8487\n",
      "Epoch: 97 | train_loss: 0.0291 | train_acc: 0.8991 | validation_loss: 0.1750 | validation_acc: 0.8257\n",
      "Epoch: 98 | train_loss: 0.0200 | train_acc: 0.9000 | validation_loss: 0.4238 | validation_acc: 0.7895\n",
      "Epoch: 99 | train_loss: 0.0200 | train_acc: 0.9012 | validation_loss: 0.1835 | validation_acc: 0.8618\n",
      "Epoch: 100 | train_loss: 0.0292 | train_acc: 0.8991 | validation_loss: 0.4748 | validation_acc: 0.7993\n"
     ]
    }
   ],
   "source": [
    "model_name = \"ResNet18\"\n",
    "model_folder_path = models_path / model_name\n",
    "check_dir(model_folder_path)\n",
    "model_name_folder_path = model_folder_path / model_name\n",
    "\n",
    "#Train ResNet18\n",
    "resnet18.to(device)\n",
    "nadam_optim = torch.optim.NAdam(params=resnet18.parameters(), lr=lr)\n",
    "train_resnet18_results, train_time_resnet18 = train(resnet18, train_dl, validation_dl, optimizer=nadam_optim, loss_fn=loss_fn, epochs=NUM_EPOCHS, name_save=model_name_folder_path, device=device)"
   ]
  },
  {
   "cell_type": "code",
   "execution_count": 5,
   "metadata": {},
   "outputs": [
    {
     "data": {
      "application/vnd.jupyter.widget-view+json": {
       "model_id": "d19bc2483f514245a27ed1e6209e671f",
       "version_major": 2,
       "version_minor": 0
      },
      "text/plain": [
       "  0%|          | 0/19 [00:03<?, ?it/s]"
      ]
     },
     "metadata": {},
     "output_type": "display_data"
    }
   ],
   "source": [
    "eval_resnet18_results = eval_model(resnet18, test_dl, loss_fn = loss_fn, accuracy_fn=accuracy_fn, device = device, dummy_input= torch.rand(16,3,resize[0],resize[1]).to(device))\n",
    "resnet18_results = [train_resnet18_results, train_time_resnet18, eval_resnet18_results]\n",
    "final_save(model_folder_path,model_name, NUM_EPOCHS, resnet18, resnet18_results)"
   ]
  },
  {
   "cell_type": "code",
   "execution_count": 6,
   "metadata": {},
   "outputs": [
    {
     "name": "stdout",
     "output_type": "stream",
     "text": [
      "Quality\\Models_test\\ResNet50 does not exist, creating one...\n"
     ]
    },
    {
     "data": {
      "application/vnd.jupyter.widget-view+json": {
       "model_id": "37f29e050b304cea8c11900a236e6257",
       "version_major": 2,
       "version_minor": 0
      },
      "text/plain": [
       "  0%|          | 0/100 [00:00<?, ?it/s]"
      ]
     },
     "metadata": {},
     "output_type": "display_data"
    },
    {
     "name": "stdout",
     "output_type": "stream",
     "text": [
      "Epoch: 1 | train_loss: 0.6061 | train_acc: 0.3677 | validation_loss: 0.9642 | validation_acc: 0.3816\n",
      "Epoch: 2 | train_loss: 0.4989 | train_acc: 0.4665 | validation_loss: 0.7760 | validation_acc: 0.4079\n",
      "Epoch: 3 | train_loss: 0.4672 | train_acc: 0.5273 | validation_loss: 0.7949 | validation_acc: 0.4276\n",
      "Epoch: 4 | train_loss: 0.4442 | train_acc: 0.5523 | validation_loss: 0.4605 | validation_acc: 0.4901\n",
      "Epoch: 5 | train_loss: 0.4083 | train_acc: 0.5894 | validation_loss: 11.3036 | validation_acc: 0.4432\n",
      "Epoch: 6 | train_loss: 0.4123 | train_acc: 0.5986 | validation_loss: 0.5460 | validation_acc: 0.4901\n",
      "Epoch: 7 | train_loss: 0.3935 | train_acc: 0.6328 | validation_loss: 1.1681 | validation_acc: 0.4934\n",
      "Epoch: 8 | train_loss: 0.3312 | train_acc: 0.7183 | validation_loss: 8.8096 | validation_acc: 0.4145\n",
      "Epoch: 9 | train_loss: 0.3379 | train_acc: 0.7236 | validation_loss: 0.4141 | validation_acc: 0.6546\n",
      "Epoch: 10 | train_loss: 0.3136 | train_acc: 0.7641 | validation_loss: 0.4500 | validation_acc: 0.6941\n",
      "Epoch: 11 | train_loss: 0.3014 | train_acc: 0.7653 | validation_loss: 0.3800 | validation_acc: 0.6974\n",
      "Epoch: 12 | train_loss: 0.2784 | train_acc: 0.7879 | validation_loss: 0.3875 | validation_acc: 0.7057\n",
      "Epoch: 13 | train_loss: 0.2703 | train_acc: 0.7962 | validation_loss: 0.3056 | validation_acc: 0.7880\n",
      "Epoch: 14 | train_loss: 0.2575 | train_acc: 0.8120 | validation_loss: 0.3822 | validation_acc: 0.7536\n",
      "Epoch: 15 | train_loss: 0.2603 | train_acc: 0.8100 | validation_loss: 0.3433 | validation_acc: 0.7105\n",
      "Epoch: 16 | train_loss: 0.2275 | train_acc: 0.8274 | validation_loss: 0.2696 | validation_acc: 0.7829\n",
      "Epoch: 17 | train_loss: 0.2295 | train_acc: 0.8212 | validation_loss: 2.2189 | validation_acc: 0.4910\n",
      "Epoch: 18 | train_loss: 0.2300 | train_acc: 0.8224 | validation_loss: 0.3468 | validation_acc: 0.7632\n",
      "Epoch: 19 | train_loss: 0.2068 | train_acc: 0.8349 | validation_loss: 0.2423 | validation_acc: 0.8059\n",
      "Epoch: 20 | train_loss: 0.2265 | train_acc: 0.8220 | validation_loss: 0.2669 | validation_acc: 0.7928\n",
      "Epoch: 21 | train_loss: 0.2014 | train_acc: 0.8391 | validation_loss: 1.1155 | validation_acc: 0.6956\n",
      "Epoch: 22 | train_loss: 0.1998 | train_acc: 0.8366 | validation_loss: 0.5115 | validation_acc: 0.7036\n",
      "Epoch: 23 | train_loss: 0.1798 | train_acc: 0.8445 | validation_loss: 0.9171 | validation_acc: 0.5888\n",
      "Epoch: 24 | train_loss: 0.1905 | train_acc: 0.8437 | validation_loss: 0.3089 | validation_acc: 0.7718\n",
      "Epoch: 25 | train_loss: 0.1644 | train_acc: 0.8541 | validation_loss: 0.5410 | validation_acc: 0.7467\n",
      "Epoch: 26 | train_loss: 0.1801 | train_acc: 0.8458 | validation_loss: 0.2224 | validation_acc: 0.8125\n",
      "Epoch: 27 | train_loss: 0.1534 | train_acc: 0.8598 | validation_loss: 0.4076 | validation_acc: 0.7237\n",
      "Epoch: 28 | train_loss: 0.1860 | train_acc: 0.8424 | validation_loss: 0.2272 | validation_acc: 0.7993\n",
      "Epoch: 29 | train_loss: 0.1503 | train_acc: 0.8591 | validation_loss: 0.3179 | validation_acc: 0.8125\n",
      "Epoch: 30 | train_loss: 0.1587 | train_acc: 0.8517 | validation_loss: 0.2971 | validation_acc: 0.7817\n",
      "Epoch: 31 | train_loss: 0.1483 | train_acc: 0.8637 | validation_loss: 0.3608 | validation_acc: 0.7401\n",
      "Epoch: 32 | train_loss: 0.1423 | train_acc: 0.8616 | validation_loss: 1.0921 | validation_acc: 0.6316\n",
      "Epoch: 33 | train_loss: 0.1329 | train_acc: 0.8649 | validation_loss: 2.1730 | validation_acc: 0.5757\n",
      "Epoch: 34 | train_loss: 0.1370 | train_acc: 0.8633 | validation_loss: 0.2414 | validation_acc: 0.7730\n",
      "Epoch: 35 | train_loss: 0.1300 | train_acc: 0.8650 | validation_loss: 0.3303 | validation_acc: 0.8011\n",
      "Epoch: 36 | train_loss: 0.1218 | train_acc: 0.8699 | validation_loss: 0.4966 | validation_acc: 0.7533\n",
      "Epoch: 37 | train_loss: 0.1296 | train_acc: 0.8679 | validation_loss: 0.3916 | validation_acc: 0.7715\n",
      "Epoch: 38 | train_loss: 0.1269 | train_acc: 0.8687 | validation_loss: 0.2309 | validation_acc: 0.8026\n",
      "Epoch: 39 | train_loss: 0.1268 | train_acc: 0.8736 | validation_loss: 0.6169 | validation_acc: 0.7270\n",
      "Epoch: 40 | train_loss: 0.1183 | train_acc: 0.8686 | validation_loss: 0.3244 | validation_acc: 0.7928\n"
     ]
    }
   ],
   "source": [
    "resnet50 = ResNet50()\n",
    "model_name = \"ResNet50\"\n",
    "model_folder_path = models_path / model_name\n",
    "check_dir(model_folder_path)\n",
    "model_name_folder_path = model_folder_path / model_name\n",
    "\n",
    "#Train ResNet50\n",
    "resnet50.to(device)\n",
    "nadam_optim = torch.optim.NAdam(params=resnet50.parameters(), lr=lr)\n",
    "train_resnet50_results, train_time_resnet50 = train(resnet50, train_dl, validation_dl, optimizer=nadam_optim, loss_fn=loss_fn, epochs=NUM_EPOCHS, name_save=model_name_folder_path, device=device)"
   ]
  },
  {
   "cell_type": "code",
   "execution_count": null,
   "metadata": {},
   "outputs": [],
   "source": [
    "eval_resnet50_results = eval_model(resnet50, test_dl, loss_fn = loss_fn, accuracy_fn=accuracy_fn, device = device, dummy_input= torch.rand(16,3,resize[0],resize[1]).to(device))\n",
    "resnet50_results = [train_resnet50_results, train_time_resnet50, eval_resnet50_results]\n",
    "final_save(model_folder_path,model_name, NUM_EPOCHS, resnet50, resnet50_results)"
   ]
  },
  {
   "cell_type": "code",
   "execution_count": null,
   "metadata": {},
   "outputs": [],
   "source": [
    "from MobileNetV3 import *\n",
    "\n",
    "mobnet_sml = MobileNetSmall()\n",
    "model_name = \"MobileNetSmall\"\n",
    "model_folder_path = models_path / model_name\n",
    "check_dir(model_folder_path)\n",
    "model_name_folder_path = model_folder_path / model_name\n",
    "\n",
    "#Train MobileNetV3 Small\n",
    "mobnet_sml.to(device)\n",
    "nadam_optim = torch.optim.NAdam(params=mobnet_sml.parameters(), lr=lr)\n",
    "train_mobnet_sml_results, train_time_mobnet_sml = train(mobnet_sml, train_dl, validation_dl, optimizer=nadam_optim, loss_fn=loss_fn, epochs=NUM_EPOCHS, name_save=model_name_folder_path, device=device)"
   ]
  },
  {
   "cell_type": "code",
   "execution_count": null,
   "metadata": {},
   "outputs": [],
   "source": []
  }
 ],
 "metadata": {
  "kernelspec": {
   "display_name": "base",
   "language": "python",
   "name": "python3"
  },
  "language_info": {
   "codemirror_mode": {
    "name": "ipython",
    "version": 3
   },
   "file_extension": ".py",
   "mimetype": "text/x-python",
   "name": "python",
   "nbconvert_exporter": "python",
   "pygments_lexer": "ipython3",
   "version": "3.9.13"
  },
  "orig_nbformat": 4,
  "vscode": {
   "interpreter": {
    "hash": "15b211d7ad94b52292045efb4f8f9084eab8b035832c108b93ce5f33d27f5980"
   }
  }
 },
 "nbformat": 4,
 "nbformat_minor": 2
}
