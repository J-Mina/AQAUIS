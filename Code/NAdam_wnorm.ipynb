{
 "cells": [
  {
   "cell_type": "code",
   "execution_count": 1,
   "metadata": {},
   "outputs": [],
   "source": [
    "from pathlib import Path\n",
    "import pandas as pd\n",
    "\n",
    "from utils import *\n",
    "from dataloaders import *\n",
    "from data_preparation import *\n",
    "from allResNets import *\n",
    "from MobileNetV3 import *\n",
    "from engine import *\n",
    "from efficientNet import *\n",
    "from data_transforms import *\n",
    "\n",
    "change_to_disk()\n",
    "data_dir = Path(\"clean_split_1k/\")\n",
    "models_path = Path('Models/')\n",
    "saves = Path('Trainning_results_saves/')"
   ]
  },
  {
   "cell_type": "code",
   "execution_count": 2,
   "metadata": {},
   "outputs": [],
   "source": [
    "image_shape = (1920, 1080)\n",
    "resize_factor = 0.2\n",
    "resize = np.multiply(image_shape,resize_factor)\n",
    "resize = [int(resize[1]), int(resize[0])]\n",
    "\n",
    "data_transform = create_transform(resize=resize, rotate=180, color_dev=True, transf_tensor=True, normalize=True, sp_noise=True, gauss_noise=True)\n",
    "\n",
    "BATCH_SIZE = 16\n",
    "train_dl, validation_dl, test_dl, train_data, validation_data, test_data, class_names = create_dataloaders(data_dir, data_transform, batch_size = BATCH_SIZE)"
   ]
  },
  {
   "cell_type": "code",
   "execution_count": 3,
   "metadata": {},
   "outputs": [],
   "source": [
    "NUM_EPOCHS = 50\n",
    "lr = 0.001\n",
    "device = get_device()\n",
    "\n",
    "resnet18 = ResNet18()\n",
    "resnet50 = ResNet50()\n",
    "mobnet_sml = MobileNetV3(\"small\")\n",
    "mobnet_lrg = MobileNetV3(\"large\")\n",
    "effnetb0 = EfficientNetB0()\n",
    "effnetb5 = EfficientNetB5()\n",
    "\n",
    "loss_fn = nn.CrossEntropyLoss()"
   ]
  },
  {
   "cell_type": "code",
   "execution_count": 4,
   "metadata": {},
   "outputs": [
    {
     "data": {
      "application/vnd.jupyter.widget-view+json": {
       "model_id": "bb7117388e2c4d56b22853912db9dec4",
       "version_major": 2,
       "version_minor": 0
      },
      "text/plain": [
       "  0%|          | 0/50 [00:00<?, ?it/s]"
      ]
     },
     "metadata": {},
     "output_type": "display_data"
    },
    {
     "name": "stdout",
     "output_type": "stream",
     "text": [
      "Epoch: 1 | train_loss: 1.1542 | train_acc: 0.4650 | validation_loss: 1.2770 | validation_acc: 0.4453\n",
      "Epoch: 2 | train_loss: 0.9013 | train_acc: 0.5820 | validation_loss: 0.8339 | validation_acc: 0.6445\n",
      "Epoch: 3 | train_loss: 0.7892 | train_acc: 0.6372 | validation_loss: 1.3526 | validation_acc: 0.5332\n",
      "Epoch: 4 | train_loss: 0.7336 | train_acc: 0.6627 | validation_loss: 0.7674 | validation_acc: 0.6113\n",
      "Epoch: 5 | train_loss: 0.6691 | train_acc: 0.6983 | validation_loss: 0.7448 | validation_acc: 0.6465\n",
      "Epoch: 6 | train_loss: 0.6672 | train_acc: 0.6917 | validation_loss: 0.8111 | validation_acc: 0.6484\n",
      "Epoch: 7 | train_loss: 0.6118 | train_acc: 0.7173 | validation_loss: 0.8694 | validation_acc: 0.6465\n",
      "Epoch: 8 | train_loss: 0.6010 | train_acc: 0.7220 | validation_loss: 0.8636 | validation_acc: 0.6367\n",
      "Epoch: 9 | train_loss: 0.5506 | train_acc: 0.7425 | validation_loss: 0.8701 | validation_acc: 0.5586\n",
      "Epoch: 10 | train_loss: 0.5604 | train_acc: 0.7482 | validation_loss: 0.6594 | validation_acc: 0.7051\n",
      "Epoch: 11 | train_loss: 0.5261 | train_acc: 0.7598 | validation_loss: 0.9346 | validation_acc: 0.6484\n",
      "Epoch: 12 | train_loss: 0.5207 | train_acc: 0.7650 | validation_loss: 1.2248 | validation_acc: 0.6191\n",
      "Epoch: 13 | train_loss: 0.5000 | train_acc: 0.7645 | validation_loss: 0.8305 | validation_acc: 0.6543\n",
      "Epoch: 14 | train_loss: 0.5302 | train_acc: 0.7625 | validation_loss: 0.7676 | validation_acc: 0.6816\n",
      "Epoch: 15 | train_loss: 0.4937 | train_acc: 0.7725 | validation_loss: 0.9027 | validation_acc: 0.6621\n",
      "Epoch: 16 | train_loss: 0.4968 | train_acc: 0.7762 | validation_loss: 1.6677 | validation_acc: 0.5625\n",
      "Epoch: 17 | train_loss: 0.4673 | train_acc: 0.7935 | validation_loss: 1.0966 | validation_acc: 0.6387\n",
      "Epoch: 18 | train_loss: 0.4594 | train_acc: 0.7880 | validation_loss: 0.7684 | validation_acc: 0.7090\n",
      "Epoch: 19 | train_loss: 0.4487 | train_acc: 0.8015 | validation_loss: 2.5309 | validation_acc: 0.4473\n",
      "Epoch: 20 | train_loss: 0.4424 | train_acc: 0.7937 | validation_loss: 0.8184 | validation_acc: 0.7070\n",
      "Epoch: 21 | train_loss: 0.4288 | train_acc: 0.8030 | validation_loss: 1.0841 | validation_acc: 0.6172\n",
      "Epoch: 22 | train_loss: 0.4527 | train_acc: 0.7960 | validation_loss: 0.8023 | validation_acc: 0.7188\n",
      "Epoch: 23 | train_loss: 0.4388 | train_acc: 0.8053 | validation_loss: 1.2178 | validation_acc: 0.5879\n",
      "Epoch: 24 | train_loss: 0.4130 | train_acc: 0.8140 | validation_loss: 1.1603 | validation_acc: 0.6504\n",
      "Epoch: 25 | train_loss: 0.4258 | train_acc: 0.8073 | validation_loss: 1.0570 | validation_acc: 0.6426\n",
      "Epoch: 26 | train_loss: 0.4367 | train_acc: 0.8100 | validation_loss: 1.1080 | validation_acc: 0.6465\n",
      "Epoch: 27 | train_loss: 0.3884 | train_acc: 0.8235 | validation_loss: 0.9745 | validation_acc: 0.6484\n",
      "Epoch: 28 | train_loss: 0.3974 | train_acc: 0.8230 | validation_loss: 1.0915 | validation_acc: 0.6621\n",
      "Epoch: 29 | train_loss: 0.3883 | train_acc: 0.8297 | validation_loss: 1.0637 | validation_acc: 0.6953\n",
      "Epoch: 30 | train_loss: 0.3794 | train_acc: 0.8300 | validation_loss: 0.8074 | validation_acc: 0.7168\n",
      "Epoch: 31 | train_loss: 0.3896 | train_acc: 0.8285 | validation_loss: 1.0549 | validation_acc: 0.6875\n",
      "Epoch: 32 | train_loss: 0.3839 | train_acc: 0.8307 | validation_loss: 1.0718 | validation_acc: 0.6621\n",
      "Epoch: 33 | train_loss: 0.3622 | train_acc: 0.8420 | validation_loss: 1.1244 | validation_acc: 0.6328\n",
      "Epoch: 34 | train_loss: 0.3764 | train_acc: 0.8343 | validation_loss: 1.1562 | validation_acc: 0.6738\n",
      "Epoch: 35 | train_loss: 0.3697 | train_acc: 0.8300 | validation_loss: 1.2008 | validation_acc: 0.6543\n",
      "Epoch: 36 | train_loss: 0.3781 | train_acc: 0.8383 | validation_loss: 1.0568 | validation_acc: 0.6172\n",
      "Epoch: 37 | train_loss: 0.3467 | train_acc: 0.8472 | validation_loss: 1.2029 | validation_acc: 0.6621\n",
      "Epoch: 38 | train_loss: 0.3529 | train_acc: 0.8470 | validation_loss: 1.4417 | validation_acc: 0.6406\n",
      "Epoch: 39 | train_loss: 0.3470 | train_acc: 0.8478 | validation_loss: 0.9295 | validation_acc: 0.6934\n",
      "Epoch: 40 | train_loss: 0.3506 | train_acc: 0.8420 | validation_loss: 1.5033 | validation_acc: 0.5840\n",
      "Epoch: 41 | train_loss: 0.3402 | train_acc: 0.8462 | validation_loss: 0.9942 | validation_acc: 0.6895\n",
      "Epoch: 42 | train_loss: 0.3402 | train_acc: 0.8488 | validation_loss: 0.9280 | validation_acc: 0.7363\n",
      "Epoch: 43 | train_loss: 0.3218 | train_acc: 0.8600 | validation_loss: 1.1515 | validation_acc: 0.6562\n",
      "Epoch: 44 | train_loss: 0.3449 | train_acc: 0.8468 | validation_loss: 0.9252 | validation_acc: 0.6738\n",
      "Epoch: 45 | train_loss: 0.3448 | train_acc: 0.8532 | validation_loss: 1.0193 | validation_acc: 0.6445\n",
      "Epoch: 46 | train_loss: 0.3280 | train_acc: 0.8542 | validation_loss: 1.1428 | validation_acc: 0.6816\n",
      "Epoch: 47 | train_loss: 0.3123 | train_acc: 0.8608 | validation_loss: 1.1445 | validation_acc: 0.6973\n",
      "Epoch: 48 | train_loss: 0.3223 | train_acc: 0.8585 | validation_loss: 1.0497 | validation_acc: 0.6855\n",
      "Epoch: 49 | train_loss: 0.3148 | train_acc: 0.8575 | validation_loss: 0.8634 | validation_acc: 0.7188\n",
      "Epoch: 50 | train_loss: 0.3071 | train_acc: 0.8622 | validation_loss: 1.4710 | validation_acc: 0.6777\n"
     ]
    }
   ],
   "source": [
    "model_name = \"ResNet18_Noise\"\n",
    "model_folder_path = models_path / model_name\n",
    "model_folder_path = models_path / model_name\n",
    "model_name_folder_path = model_folder_path / model_name\n",
    "\n",
    "#Train ResNet18\n",
    "resnet18.to(device)\n",
    "nadam_optim = torch.optim.NAdam(params=resnet18.parameters(), lr=lr)\n",
    "train_resnet18_results, train_time_resnet18 = train(resnet18, train_dl, validation_dl, optimizer=nadam_optim, loss_fn=loss_fn, epochs=NUM_EPOCHS, name_save=model_name_folder_path, device=device)"
   ]
  },
  {
   "cell_type": "code",
   "execution_count": null,
   "metadata": {},
   "outputs": [],
   "source": [
    "model_name = \"ResNet50_Noise\"\n",
    "model_folder_path = models_path / model_name\n",
    "check_dir(model_folder_path)\n",
    "model_name_folder_path = model_folder_path / model_name\n",
    "\n",
    "#Train ResNet50\n",
    "resnet50.to(device)\n",
    "nadam_optim = torch.optim.NAdam(params=resnet50.parameters(), lr=lr)\n",
    "train_resnet50_results, train_time_resnet50 = train(resnet50, train_dl, validation_dl, optimizer=nadam_optim, loss_fn=loss_fn, epochs=NUM_EPOCHS, name_save=model_name_folder_path, device=device)"
   ]
  },
  {
   "cell_type": "code",
   "execution_count": null,
   "metadata": {},
   "outputs": [],
   "source": [
    "model_name = \"MobileNetSmall_Noise\"\n",
    "model_folder_path = models_path / model_name\n",
    "check_dir(model_folder_path)\n",
    "model_name_folder_path = model_folder_path / model_name\n",
    "\n",
    "#Train MobileNetV3 Small\n",
    "mobnet_sml.to(device)\n",
    "nadam_optim = torch.optim.NAdam(params=mobnet_sml.parameters(), lr=lr)\n",
    "train_mobnet_sml_results, train_time_mobnet_sml = train(mobnet_sml, train_dl, validation_dl, optimizer=nadam_optim, loss_fn=loss_fn, epochs=NUM_EPOCHS, name_save=model_name_folder_path, device=device)"
   ]
  },
  {
   "cell_type": "code",
   "execution_count": null,
   "metadata": {},
   "outputs": [],
   "source": [
    "model_name = \"MobileNetLarge_Noise\"\n",
    "model_folder_path = models_path / model_name\n",
    "check_dir(model_folder_path)\n",
    "model_name_folder_path = model_folder_path / model_name\n",
    "\n",
    "#Train MobileNetV3 Large\n",
    "mobnet_lrg.to(device)\n",
    "nadam_optim = torch.optim.NAdam(params=mobnet_lrg.parameters(), lr=lr)\n",
    "train_mobnet_lrg_results, train_time_mobnet_lrg = train(mobnet_lrg, train_dl, validation_dl, optimizer=nadam_optim, loss_fn=loss_fn, epochs=NUM_EPOCHS, name_save=model_name_folder_path, device=device)"
   ]
  },
  {
   "cell_type": "code",
   "execution_count": null,
   "metadata": {},
   "outputs": [],
   "source": [
    "model_name = \"EfficientNetB0_Noise\"\n",
    "model_folder_path = models_path / model_name\n",
    "check_dir(model_folder_path)\n",
    "model_name_folder_path = model_folder_path / model_name\n",
    "\n",
    "#Train EfficientNet B0\n",
    "effnetb0.to(device)\n",
    "nadam_optim = torch.optim.NAdam(params=effnetb0.parameters(), lr=lr)\n",
    "train_effnetb0_results, train_time_effnetb0 = train(effnetb0, train_dl, validation_dl, optimizer=nadam_optim, loss_fn=loss_fn, epochs=NUM_EPOCHS, name_save=model_name_folder_path, device=device)"
   ]
  },
  {
   "cell_type": "code",
   "execution_count": null,
   "metadata": {},
   "outputs": [],
   "source": [
    "model_name = \"EfficientNetB5_Noise\"\n",
    "model_folder_path = models_path / model_name\n",
    "check_dir(model_folder_path)\n",
    "model_name_folder_path = model_folder_path / model_name\n",
    "\n",
    "#Train EfficientNet B5\n",
    "effnetb5.to(device)\n",
    "nadam_optim = torch.optim.NAdam(params=effnetb5.parameters(), lr=lr)\n",
    "train_effnetb5_results, train_time_effnetb5 = train(effnetb5, train_dl, validation_dl, optimizer=nadam_optim, loss_fn=loss_fn, epochs=NUM_EPOCHS, name_save=model_name_folder_path, device=device)"
   ]
  }
 ],
 "metadata": {
  "kernelspec": {
   "display_name": "base",
   "language": "python",
   "name": "python3"
  },
  "language_info": {
   "codemirror_mode": {
    "name": "ipython",
    "version": 3
   },
   "file_extension": ".py",
   "mimetype": "text/x-python",
   "name": "python",
   "nbconvert_exporter": "python",
   "pygments_lexer": "ipython3",
   "version": "3.9.13"
  },
  "orig_nbformat": 4
 },
 "nbformat": 4,
 "nbformat_minor": 2
}
