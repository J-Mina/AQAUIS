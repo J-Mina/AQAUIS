{
 "cells": [
  {
   "attachments": {},
   "cell_type": "markdown",
   "metadata": {},
   "source": [
    "# Compare the performance of models (loss/accuracy, latency)\n",
    "\n",
    "The models to compare will  be:\n",
    "* ResNet18\n",
    "* ResNet50\n",
    "* VGG16\n",
    "* MobileNetV3 - small\n",
    "* MobileNetV3 - large\n",
    "* EfficientNet"
   ]
  },
  {
   "cell_type": "code",
   "execution_count": 6,
   "metadata": {},
   "outputs": [],
   "source": [
    "import torch\n",
    "from pathlib import Path\n",
    "from utils import *\n",
    "from dataloaders import *\n",
    "from data_preparation import *\n",
    "from allResNets import *\n",
    "from VGGs import *\n",
    "from MobileNetV3 import *\n",
    "from engine import *\n",
    "\n",
    "change_to_disk()\n",
    "data_dir = Path(\"split_1k/\")"
   ]
  },
  {
   "cell_type": "code",
   "execution_count": 7,
   "metadata": {},
   "outputs": [],
   "source": [
    "data_transform = transforms.Compose([\n",
    "    # Resize our images to 224x224\n",
    "    transforms.Resize(size=(224, 224)),\n",
    "    # Flip the images randomly on the horizontal (just to make it as independent from the position of the pipeline)\n",
    "    transforms.RandomHorizontalFlip(p=0.5),\n",
    "    transforms.RandomVerticalFlip(p=0.5),\n",
    "    # Turn the image into a torch.Tensor\n",
    "    transforms.ToTensor(),\n",
    "    #Normalize\n",
    "    transforms.Normalize(mean=(0.5, 0.5, 0.5), std=(0.5, 0.5, 0.5))\n",
    "])\n",
    "\n",
    "BATCH_SIZE = 32\n",
    "train_dl, validation_dl, test_dl, train_data, validation_data, test_data, class_names = create_dataloaders(data_dir, data_transform, batch_size=BATCH_SIZE)"
   ]
  },
  {
   "cell_type": "code",
   "execution_count": 8,
   "metadata": {},
   "outputs": [],
   "source": [
    "# Things to play with\n",
    "# Hyperparameters -> NUM_EPOCHS - 100 | Learning_rate - 0.01 \n",
    "# Functions -> Optimizer - Rprop | Loss Function - Cross Entropy Loss\n",
    "\n",
    "NUM_EPOCHS = 35\n",
    "device = get_device()\n",
    "\n",
    "resnet18 = ResNet18()\n",
    "resnet50 = ResNet50()\n",
    "vgg16 = VGG16()\n",
    "mobnet_sml = MobileNetV3(\"small\")\n",
    "mobnet_lrg = MobileNetV3(\"large\")\n",
    "\n",
    "loss_fn = nn.CrossEntropyLoss()"
   ]
  },
  {
   "cell_type": "code",
   "execution_count": 9,
   "metadata": {},
   "outputs": [
    {
     "data": {
      "application/vnd.jupyter.widget-view+json": {
       "model_id": "7143fb8a8ed1452283f6be7b659917ef",
       "version_major": 2,
       "version_minor": 0
      },
      "text/plain": [
       "  0%|          | 0/35 [00:00<?, ?it/s]"
      ]
     },
     "metadata": {},
     "output_type": "display_data"
    },
    {
     "name": "stdout",
     "output_type": "stream",
     "text": [
      "Epoch: 1 | train_loss: 0.4552 | train_acc: 0.7970 | validation_loss: 0.3252 | validation_acc: 0.8445\n",
      "Epoch: 2 | train_loss: 0.3619 | train_acc: 0.8515 | validation_loss: 0.3253 | validation_acc: 0.8523\n",
      "Epoch: 3 | train_loss: 0.3608 | train_acc: 0.8500 | validation_loss: 0.3091 | validation_acc: 0.8680\n",
      "Epoch: 4 | train_loss: 0.3568 | train_acc: 0.8535 | validation_loss: 0.3002 | validation_acc: 0.8738\n",
      "Epoch: 5 | train_loss: 0.3431 | train_acc: 0.8525 | validation_loss: 0.3023 | validation_acc: 0.8641\n",
      "Epoch: 6 | train_loss: 0.3325 | train_acc: 0.8608 | validation_loss: 0.2907 | validation_acc: 0.8680\n",
      "Epoch: 7 | train_loss: 0.3391 | train_acc: 0.8535 | validation_loss: 0.2810 | validation_acc: 0.8777\n"
     ]
    }
   ],
   "source": [
    "#Train ResNet18\n",
    "resnet18.to(device)\n",
    "rprop_optim = torch.optim.Rprop(params=resnet18.parameters(), lr=0.001)\n",
    "resnet18_results = train(resnet18, train_dl, validation_dl, optimizer=rprop_optim, loss_fn=loss_fn, epochs=NUM_EPOCHS, device=device)"
   ]
  },
  {
   "cell_type": "code",
   "execution_count": null,
   "metadata": {},
   "outputs": [],
   "source": [
    "images, labels, probs = get_predictions(resnet18_results,test_dl,device)\n",
    "pred_labels = torch.argmax(probs, 1)\n",
    "plot_confusion_matrix(labels, pred_labels, class_names)\n",
    "\n",
    "plot_loss_curves(resnet18_results), plot_confusion_matrix, cal_inference_time(resnet18, device, dummy_input=torch.rand(32, 3, 224, 224, dtype=torch.float))"
   ]
  },
  {
   "cell_type": "code",
   "execution_count": null,
   "metadata": {},
   "outputs": [],
   "source": [
    "#Train ResNet50\n",
    "resnet50.to(device)\n",
    "rprop_optim = torch.optim.Rprop(params=resnet50.parameters(), lr=0.001)\n",
    "resnet50_results = train(resnet50, train_dl, validation_dl, optimizer=rprop_optim, loss_fn=loss_fn, epochs=NUM_EPOCHS, device=device)"
   ]
  },
  {
   "cell_type": "code",
   "execution_count": null,
   "metadata": {},
   "outputs": [],
   "source": [
    "#Train VGG16\n",
    "vgg16.to(device)\n",
    "rprop_optim = torch.optim.Rprop(params=vgg16.parameters(), lr=0.001)\n",
    "vgg16_results = train(vgg16, train_dl, validation_dl, optimizer=rprop_optim, loss_fn=loss_fn, epochs=NUM_EPOCHS, device=device)"
   ]
  },
  {
   "cell_type": "code",
   "execution_count": null,
   "metadata": {},
   "outputs": [],
   "source": [
    "#Train MobileNet Large\n",
    "mobnet_lrg.to(device)\n",
    "rprop_optim = torch.optim.Rprop(params=mobnet_lrg.parameters(), lr=0.001)\n",
    "mobnet_lrg_results = train(mobnet_lrg, train_dl, validation_dl, optimizer=rprop_optim, loss_fn=loss_fn, epochs=NUM_EPOCHS, device=device)"
   ]
  },
  {
   "cell_type": "code",
   "execution_count": null,
   "metadata": {},
   "outputs": [],
   "source": [
    "#Train MobileNet Small\n",
    "mobnet_sml.to(device)\n",
    "rprop_optim = torch.optim.Rprop(params=mobnet_sml.parameters(), lr=0.001)\n",
    "mobnet_sml_results = train(mobnet_sml, train_dl, validation_dl, optimizer=rprop_optim, loss_fn=loss_fn, epochs=NUM_EPOCHS, device=device)"
   ]
  },
  {
   "cell_type": "code",
   "execution_count": null,
   "metadata": {},
   "outputs": [],
   "source": [
    "#Train EfficientNet ..."
   ]
  }
 ],
 "metadata": {
  "kernelspec": {
   "display_name": "base",
   "language": "python",
   "name": "python3"
  },
  "language_info": {
   "codemirror_mode": {
    "name": "ipython",
    "version": 3
   },
   "file_extension": ".py",
   "mimetype": "text/x-python",
   "name": "python",
   "nbconvert_exporter": "python",
   "pygments_lexer": "ipython3",
   "version": "3.9.13"
  },
  "orig_nbformat": 4,
  "vscode": {
   "interpreter": {
    "hash": "15b211d7ad94b52292045efb4f8f9084eab8b035832c108b93ce5f33d27f5980"
   }
  }
 },
 "nbformat": 4,
 "nbformat_minor": 2
}
