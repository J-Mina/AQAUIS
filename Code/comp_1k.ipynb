{
 "cells": [
  {
   "attachments": {},
   "cell_type": "markdown",
   "metadata": {},
   "source": [
    "# Compare the performance of models (loss/accuracy, latency)\n",
    "\n",
    "The models to compare will  be:\n",
    "* ResNet18\n",
    "* ResNet50\n",
    "* VGG16\n",
    "* MobileNetV3 - small\n",
    "* MobileNetV3 - large\n",
    "* EfficientNet"
   ]
  },
  {
   "cell_type": "code",
   "execution_count": 11,
   "metadata": {},
   "outputs": [],
   "source": [
    "from pathlib import Path\n",
    "import pandas as pd\n",
    "from timeit import default_timer as timer\n",
    "from utils import *\n",
    "from dataloaders import *\n",
    "from data_preparation import *\n",
    "from allResNets import *\n",
    "from VGGs import *\n",
    "from MobileNetV3 import *\n",
    "from engine import *\n",
    "\n",
    "change_to_disk()\n",
    "data_dir = Path(\"split_1k/\")"
   ]
  },
  {
   "cell_type": "code",
   "execution_count": 2,
   "metadata": {},
   "outputs": [],
   "source": [
    "data_transform = transforms.Compose([\n",
    "    # Resize our images to 224x224\n",
    "    transforms.Resize(size=(224, 224)),\n",
    "    # Flip the images randomly on the horizontal and vertical (just to make it as independent from the position of the pipeline)\n",
    "    transforms.RandomHorizontalFlip(p=0.5),\n",
    "    transforms.RandomVerticalFlip(p=0.5),\n",
    "    # Turn the image into a torch.Tensor\n",
    "    transforms.ToTensor(),\n",
    "    # Normalize\n",
    "    transforms.Normalize(mean=(0.5, 0.5, 0.5), std=(0.5, 0.5, 0.5))\n",
    "])\n",
    "\n",
    "BATCH_SIZE = 32\n",
    "train_dl, validation_dl, test_dl, train_data, validation_data, test_data, class_names = create_dataloaders(data_dir, data_transform, batch_size=BATCH_SIZE)"
   ]
  },
  {
   "cell_type": "code",
   "execution_count": 3,
   "metadata": {},
   "outputs": [],
   "source": [
    "# Things to play with\n",
    "# Hyperparameters -> NUM_EPOCHS - 100 | Learning_rate - 0.01 \n",
    "# Functions -> Optimizer - Rprop | Loss Function - Cross Entropy Loss\n",
    "\n",
    "NUM_EPOCHS = 2\n",
    "device = get_device()\n",
    "\n",
    "resnet18 = ResNet18()\n",
    "resnet50 = ResNet50()\n",
    "vgg16 = VGG16()\n",
    "mobnet_sml = MobileNetV3(\"small\")\n",
    "mobnet_lrg = MobileNetV3(\"large\")\n",
    "\n",
    "loss_fn = nn.CrossEntropyLoss()"
   ]
  },
  {
   "cell_type": "code",
   "execution_count": 4,
   "metadata": {},
   "outputs": [
    {
     "data": {
      "application/vnd.jupyter.widget-view+json": {
       "model_id": "ef593b85d81548abac98e10e940211a3",
       "version_major": 2,
       "version_minor": 0
      },
      "text/plain": [
       "  0%|          | 0/2 [00:00<?, ?it/s]"
      ]
     },
     "metadata": {},
     "output_type": "display_data"
    },
    {
     "name": "stdout",
     "output_type": "stream",
     "text": [
      "Epoch: 1 | train_loss: 0.4370 | train_acc: 0.8023 | validation_loss: 0.3323 | validation_acc: 0.8535\n",
      "Epoch: 2 | train_loss: 0.3506 | train_acc: 0.8475 | validation_loss: 0.3100 | validation_acc: 0.8602\n"
     ]
    }
   ],
   "source": [
    "#Train ResNet18\n",
    "resnet18.to(device)\n",
    "rprop_optim = torch.optim.Rprop(params=resnet18.parameters(), lr=0.001)\n",
    "train_resnet18_results, train_time_resnet18 = train(resnet18, train_dl, validation_dl, optimizer=rprop_optim, loss_fn=loss_fn, epochs=NUM_EPOCHS, device=device)\n",
    "\n",
    "plot_confusion_matrix(resnet18, test_dl, device, class_names)\n",
    "print(f\"ResNet18 Results\")\n",
    "plot_loss_curves(train_resnet18_results), plot_confusion_matrix"
   ]
  },
  {
   "cell_type": "code",
   "execution_count": null,
   "metadata": {},
   "outputs": [],
   "source": [
    "#Train ResNet50\n",
    "resnet50.to(device)\n",
    "rprop_optim = torch.optim.Rprop(params=resnet50.parameters(), lr=0.001)\n",
    "train_resnet50_results, train_time_resnet50 = train(resnet50, train_dl, validation_dl, optimizer=rprop_optim, loss_fn=loss_fn, epochs=NUM_EPOCHS, device=device)\n",
    "\n",
    "plot_confusion_matrix(resnet50, test_dl, device, class_names)\n",
    "print(f\"ResNet50 Results\")\n",
    "plot_loss_curves(train_resnet50_results), plot_confusion_matrix"
   ]
  },
  {
   "cell_type": "code",
   "execution_count": null,
   "metadata": {},
   "outputs": [],
   "source": [
    "#Train VGG16\n",
    "vgg16.to(device)\n",
    "rprop_optim = torch.optim.Rprop(params=vgg16.parameters(), lr=0.001)\n",
    "train_vgg16_results = train(vgg16, train_dl, validation_dl, optimizer=rprop_optim, loss_fn=loss_fn, epochs=NUM_EPOCHS, device=device)\n",
    "\n",
    "plot_confusion_matrix(vgg16, test_dl, device, class_names)\n",
    "print(f\"VGG16 Results\")\n",
    "plot_loss_curves(train_vgg16_results), plot_confusion_matrix"
   ]
  },
  {
   "cell_type": "code",
   "execution_count": null,
   "metadata": {},
   "outputs": [],
   "source": [
    "#Train MobileNet Large\n",
    "mobnet_lrg.to(device)\n",
    "rprop_optim = torch.optim.Rprop(params=mobnet_lrg.parameters(), lr=0.001)\n",
    "train_mobnet_lrg_results = train(mobnet_lrg, train_dl, validation_dl, optimizer=rprop_optim, loss_fn=loss_fn, epochs=NUM_EPOCHS, device=device)\n",
    "\n",
    "plot_confusion_matrix(mobnet_lrg, test_dl, device, class_names)\n",
    "print(f\"MobileNetV3 (Large) Results\")\n",
    "plot_loss_curves(train_mobnet_lrg_results), plot_confusion_matrix"
   ]
  },
  {
   "cell_type": "code",
   "execution_count": null,
   "metadata": {},
   "outputs": [],
   "source": [
    "#Train MobileNet Small\n",
    "mobnet_sml.to(device)\n",
    "rprop_optim = torch.optim.Rprop(params=mobnet_sml.parameters(), lr=0.001)\n",
    "train_mobnet_sml_results = train(mobnet_sml, train_dl, validation_dl, optimizer=rprop_optim, loss_fn=loss_fn, epochs=NUM_EPOCHS, device=device)\n",
    "\n",
    "\n",
    "plot_confusion_matrix(mobnet_sml, test_dl, device, class_names)\n",
    "print(f\"MobileNetV3 (Small) Results\")\n",
    "plot_loss_curves(train_mobnet_sml_results), plot_confusion_matrix"
   ]
  },
  {
   "cell_type": "code",
   "execution_count": null,
   "metadata": {},
   "outputs": [],
   "source": [
    "#Train EfficientNet ..."
   ]
  },
  {
   "cell_type": "code",
   "execution_count": null,
   "metadata": {},
   "outputs": [],
   "source": [
    "results_resnet18 = eval_model(model = resnet18, data_loader = test_dl, loss_fn = loss_fn, accuracy_fn = accuracy_fn, device = device, dummy_input = torch.rand(32,3,224,224).to(device))\n",
    "results_resnet50 = eval_model(model = resnet50, data_loader = test_dl, loss_fn = loss_fn, accuracy_fn = accuracy_fn, device = device, dummy_input = torch.rand(32,3,224,224).to(device))\n",
    "results_vgg16 = eval_model(model = vgg16, data_loader = test_dl, loss_fn = loss_fn, accuracy_fn = accuracy_fn, device = device, dummy_input = torch.rand(32,3,224,224).to(device))\n",
    "results_mobnet_lrg = eval_model(model = mobnet_lrg, data_loader = test_dl, loss_fn = loss_fn, accuracy_fn = accuracy_fn, device = device, dummy_input = torch.rand(32,3,224,224).to(device))\n",
    "results_mobnet_sml = eval_model(model = mobnet_sml, data_loader = test_dl, loss_fn = loss_fn, accuracy_fn = accuracy_fn, device = device, dummy_input = torch.rand(32,3,224,224).to(device))\n",
    "\n",
    "all_results = pd.DataFrame([\n",
    "    results_resnet18,\n",
    "    results_resnet50,\n",
    "    results_vgg16,\n",
    "    results_mobnet_sml,\n",
    "    results_mobnet_lrg])"
   ]
  }
 ],
 "metadata": {
  "kernelspec": {
   "display_name": "base",
   "language": "python",
   "name": "python3"
  },
  "language_info": {
   "codemirror_mode": {
    "name": "ipython",
    "version": 3
   },
   "file_extension": ".py",
   "mimetype": "text/x-python",
   "name": "python",
   "nbconvert_exporter": "python",
   "pygments_lexer": "ipython3",
   "version": "3.9.13"
  },
  "orig_nbformat": 4,
  "vscode": {
   "interpreter": {
    "hash": "15b211d7ad94b52292045efb4f8f9084eab8b035832c108b93ce5f33d27f5980"
   }
  }
 },
 "nbformat": 4,
 "nbformat_minor": 2
}
