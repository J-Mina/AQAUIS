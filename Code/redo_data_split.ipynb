{
 "cells": [
  {
   "cell_type": "code",
   "execution_count": 5,
   "metadata": {},
   "outputs": [],
   "source": [
    "import cv2\n",
    "from pathlib import Path\n",
    "from data_preparation import *\n",
    "from utils import *\n",
    "from shutil import copy"
   ]
  },
  {
   "cell_type": "code",
   "execution_count": 6,
   "metadata": {},
   "outputs": [
    {
     "name": "stdout",
     "output_type": "stream",
     "text": [
      "There are 5 directories and 0 frames in 'dataset'.\n",
      "There are 0 directories and 22440 frames in 'dataset\\1_Very_Good'.\n",
      "There are 0 directories and 22486 frames in 'dataset\\2_Good'.\n",
      "There are 0 directories and 44942 frames in 'dataset\\3_Moderate'.\n",
      "There are 0 directories and 44930 frames in 'dataset\\4_Poor'.\n",
      "There are 0 directories and 22450 frames in 'dataset\\5_Very_Poor'.\n"
     ]
    }
   ],
   "source": [
    "change_to_disk()\n",
    "\n",
    "dataset_frames = Path(\"dataset/\")\n",
    "\n",
    "walk_through_dir(dataset_frames)"
   ]
  },
  {
   "cell_type": "code",
   "execution_count": 8,
   "metadata": {},
   "outputs": [],
   "source": [
    "# dir_val_test = Path(\"split_train_val_test_1/val_test/\")\n",
    "# dir_train = Path(\"split_train_val_test_1/train/\")\n",
    "\n",
    "# for dir in dataset_frames.iterdir():\n",
    "#     vis = Path(dir.parts[1] + \"/\")\n",
    "#     dir = str(dir)\n",
    "    \n",
    "#     frames_1k_100_999 = glob.glob(dir + \"/*frame[0-9][0-9][0-9].png\")\n",
    "#     frames_1k_10_99 = glob.glob(dir + \"/*frame[0-9][0-9].png\")\n",
    "#     frames_1k_0_9 = glob.glob(dir + \"/*frame[0-9].png\")\n",
    "#     frames_val_test = frames_1k_0_9 + frames_1k_10_99 + frames_1k_100_999\n",
    "#     frames_train = glob.glob(dir + \"/*frame[2-9][0-9][0-9][0-9].png\")\n",
    "\n",
    "#     inp = dir_train / vis\n",
    "\n",
    "#     inp = str(inp)\n",
    "#     for frame in frames_train:\n",
    "#         copy(frame, inp)\n",
    "\n",
    "#     inp = dir_val_test / vis\n",
    "#     inp = str(inp)\n",
    "#     for frame in frames_val_test:\n",
    "#         copy(frame, inp)\n",
    "\n",
    "    "
   ]
  }
 ],
 "metadata": {
  "kernelspec": {
   "display_name": "base",
   "language": "python",
   "name": "python3"
  },
  "language_info": {
   "codemirror_mode": {
    "name": "ipython",
    "version": 3
   },
   "file_extension": ".py",
   "mimetype": "text/x-python",
   "name": "python",
   "nbconvert_exporter": "python",
   "pygments_lexer": "ipython3",
   "version": "3.9.13"
  },
  "orig_nbformat": 4,
  "vscode": {
   "interpreter": {
    "hash": "15b211d7ad94b52292045efb4f8f9084eab8b035832c108b93ce5f33d27f5980"
   }
  }
 },
 "nbformat": 4,
 "nbformat_minor": 2
}
