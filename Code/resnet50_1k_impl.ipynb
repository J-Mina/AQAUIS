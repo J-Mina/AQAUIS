{
 "cells": [
  {
   "cell_type": "code",
   "execution_count": 1,
   "metadata": {},
   "outputs": [],
   "source": [
    "import os\n",
    "import cv2\n",
    "from pathlib import Path\n",
    "import random\n",
    "import torch\n",
    "import glob\n",
    "from shutil import copyfile"
   ]
  },
  {
   "cell_type": "code",
   "execution_count": 2,
   "metadata": {},
   "outputs": [],
   "source": [
    "#Change disk directory\n",
    "base_path = Path(\"G:/Dissertation/\")\n",
    "if(Path().cwd() != Path(r\"G:\\Dissertation\")):\n",
    "    os.chdir(base_path)"
   ]
  },
  {
   "cell_type": "code",
   "execution_count": 3,
   "metadata": {},
   "outputs": [],
   "source": [
    "#Define data_paths\n",
    "# raw_data_path = Path(\"raw_data/Data examples/\")\n",
    "# raw_visibility_path = raw_data_path / Path(\"1_Visibility/\")\n",
    "# raw_quality_path = raw_data_path/ Path(\"2_Quality/\")\n",
    "dataset_path = Path('dataset/')"
   ]
  },
  {
   "cell_type": "code",
   "execution_count": 4,
   "metadata": {},
   "outputs": [],
   "source": [
    "from data_preparation import split_data\n",
    "\n",
    "data_dir = Path(\"split_1k/\")\n",
    "split_size = [0.8,0.1,0.1]\n",
    "\n",
    "#split_data(dataset_path, data_dir, split_size, num_img_class=1000)"
   ]
  },
  {
   "cell_type": "code",
   "execution_count": 5,
   "metadata": {},
   "outputs": [
    {
     "data": {
      "text/plain": [
       "'cuda'"
      ]
     },
     "execution_count": 5,
     "metadata": {},
     "output_type": "execute_result"
    }
   ],
   "source": [
    "# Setup device-agnostic code\n",
    "device = \"cuda\" if torch.cuda.is_available() else \"cpu\"\n",
    "device"
   ]
  },
  {
   "cell_type": "code",
   "execution_count": 6,
   "metadata": {},
   "outputs": [],
   "source": [
    "from torchvision import transforms\n",
    "#Create transform (in this case for the ResNet images are resized to 224x224 and transformed into Tensors)\n",
    "data_transform = transforms.Compose([\n",
    "  # Resize our images to 64x64\n",
    "  transforms.Resize(size=(224, 224)),\n",
    "  # Flip the images randomly on the horizontal (just to make it as independent from the position of the pipeline)\n",
    "  transforms.RandomHorizontalFlip(p=0.5),\n",
    "  transforms.RandomVerticalFlip(p=0.5),\n",
    "  # Turn the image into a torch.Tensor\n",
    "  transforms.ToTensor() \n",
    "])"
   ]
  },
  {
   "cell_type": "code",
   "execution_count": 7,
   "metadata": {},
   "outputs": [],
   "source": [
    "from dataloaders import create_dataloaders\n",
    "\n",
    "#Paths criados pelo split_data\n",
    "train_dir = data_dir / Path('train/')\n",
    "validation_dir = data_dir / Path('validation/')\n",
    "test_dir = data_dir / Path('test/')\n",
    "\n",
    "BATCH_SIZE = 128 # in the ResNet is 128 but my GPU doesn't have enough memory for that\n",
    "\n",
    "train_dataloader, validation_dataloader, test_dataloader, class_names, train_data, validation_data, test_data = create_dataloaders(train_dir,test_dir,validation_dir,data_transform, 32)"
   ]
  },
  {
   "cell_type": "code",
   "execution_count": 8,
   "metadata": {},
   "outputs": [],
   "source": [
    "torch.cuda.empty_cache()"
   ]
  },
  {
   "cell_type": "code",
   "execution_count": 9,
   "metadata": {},
   "outputs": [
    {
     "name": "stdout",
     "output_type": "stream",
     "text": [
      "Thu Feb 16 18:09:33 2023       \n",
      "+-----------------------------------------------------------------------------+\n",
      "| NVIDIA-SMI 516.01       Driver Version: 516.01       CUDA Version: 11.7     |\n",
      "|-------------------------------+----------------------+----------------------+\n",
      "| GPU  Name            TCC/WDDM | Bus-Id        Disp.A | Volatile Uncorr. ECC |\n",
      "| Fan  Temp  Perf  Pwr:Usage/Cap|         Memory-Usage | GPU-Util  Compute M. |\n",
      "|                               |                      |               MIG M. |\n",
      "|===============================+======================+======================|\n",
      "|   0  NVIDIA GeForce ... WDDM  | 00000000:01:00.0  On |                  N/A |\n",
      "| N/A   58C    P8     5W /  N/A |    142MiB /  8192MiB |      0%      Default |\n",
      "|                               |                      |                  N/A |\n",
      "+-------------------------------+----------------------+----------------------+\n",
      "                                                                               \n",
      "+-----------------------------------------------------------------------------+\n",
      "| Processes:                                                                  |\n",
      "|  GPU   GI   CI        PID   Type   Process name                  GPU Memory |\n",
      "|        ID   ID                                                   Usage      |\n",
      "|=============================================================================|\n",
      "+-----------------------------------------------------------------------------+\n"
     ]
    }
   ],
   "source": [
    "!nvidia-smi"
   ]
  },
  {
   "cell_type": "code",
   "execution_count": 10,
   "metadata": {},
   "outputs": [
    {
     "data": {
      "application/vnd.jupyter.widget-view+json": {
       "model_id": "7cafa43d786b4fc09355f3397a627d35",
       "version_major": 2,
       "version_minor": 0
      },
      "text/plain": [
       "  0%|          | 0/5 [00:00<?, ?it/s]"
      ]
     },
     "metadata": {},
     "output_type": "display_data"
    },
    {
     "name": "stdout",
     "output_type": "stream",
     "text": [
      "Epoch: 1 | train_loss: 0.7213 | train_acc: 0.6777 | validation_loss: 1.1498 | validation_acc: 0.5605\n",
      "Epoch: 2 | train_loss: 0.6214 | train_acc: 0.7130 | validation_loss: 6.3068 | validation_acc: 0.3906\n",
      "Epoch: 3 | train_loss: 0.5743 | train_acc: 0.7358 | validation_loss: 0.4817 | validation_acc: 0.7812\n",
      "Epoch: 4 | train_loss: 0.4835 | train_acc: 0.7815 | validation_loss: 0.4316 | validation_acc: 0.8039\n",
      "Epoch: 5 | train_loss: 0.4741 | train_acc: 0.7873 | validation_loss: 2.7702 | validation_acc: 0.4727\n",
      "Total training time: 534.898 seconds\n"
     ]
    }
   ],
   "source": [
    "from engine import train\n",
    "from ResNet50 import ResNet50\n",
    "import torch.nn as nn\n",
    "\n",
    "# Set number of epochs\n",
    "NUM_EPOCHS = 5\n",
    "\n",
    "model_1 = ResNet50().to(device)\n",
    "\n",
    "# Setup loss function and optimizer \n",
    "loss_fn = nn.CrossEntropyLoss() \n",
    "optimizer = torch.optim.Adam(params=model_1.parameters(),\n",
    "                             lr=0.001)\n",
    "\n",
    "# Start the timer\n",
    "from timeit import default_timer as timer\n",
    "start_time = timer() \n",
    "\n",
    "# Train model\n",
    "model_results = train(model=model_1,\n",
    "                    train_dataloader=train_dataloader,\n",
    "                    validation_dataloader=validation_dataloader,\n",
    "                    optimizer=optimizer,\n",
    "                    loss_fn=loss_fn,\n",
    "                    epochs=NUM_EPOCHS,\n",
    "                    device=device)\n",
    "\n",
    "# End the timer and print out how long it took\n",
    "end_time = timer()\n",
    "print(f\"Total training time: {end_time-start_time:.3f} seconds\")"
   ]
  },
  {
   "cell_type": "code",
   "execution_count": 11,
   "metadata": {},
   "outputs": [
    {
     "data": {
      "text/plain": [
       "{'train_loss': [0.721318784236908,\n",
       "  0.6214409379959106,\n",
       "  0.5742763068675995,\n",
       "  0.4835220581293106,\n",
       "  0.4741460396051407],\n",
       " 'train_acc': [0.67775, 0.713, 0.73575, 0.7815, 0.78725],\n",
       " 'validation_loss': [1.1497944984585047,\n",
       "  6.306786358324189,\n",
       "  0.48171052418183535,\n",
       "  0.43158896472687047,\n",
       "  2.770189244237372],\n",
       " 'validation_acc': [0.560546875, 0.390625, 0.78125, 0.80390625, 0.47265625]}"
      ]
     },
     "execution_count": 11,
     "metadata": {},
     "output_type": "execute_result"
    }
   ],
   "source": [
    "model_results"
   ]
  },
  {
   "cell_type": "code",
   "execution_count": 12,
   "metadata": {},
   "outputs": [],
   "source": [
    "from utils import save_model, eval_model, accuracy_fn"
   ]
  },
  {
   "cell_type": "code",
   "execution_count": 13,
   "metadata": {},
   "outputs": [
    {
     "name": "stdout",
     "output_type": "stream",
     "text": [
      "Saving the model to: Models\\ResNet50_1000_class_5_epoch.pth\n"
     ]
    },
    {
     "data": {
      "text/plain": [
       "<All keys matched successfully>"
      ]
     },
     "execution_count": 13,
     "metadata": {},
     "output_type": "execute_result"
    }
   ],
   "source": [
    "\n",
    "\n",
    "models_path = Path('Models/')\n",
    "model_name = 'ResNet50_1000_class_5_epoch.pth'\n",
    "\n",
    "save_model(models_path, model_name, model_1)\n",
    "\n",
    "\n",
    "model_path = models_path / model_name\n",
    "loaded_model = ResNet50()\n",
    "loaded_model.load_state_dict(torch.load(model_path))"
   ]
  },
  {
   "cell_type": "code",
   "execution_count": 14,
   "metadata": {},
   "outputs": [
    {
     "data": {
      "application/vnd.jupyter.widget-view+json": {
       "model_id": "2ba81911cb5641a9adeb8a5eb24b0b3f",
       "version_major": 2,
       "version_minor": 0
      },
      "text/plain": [
       "  0%|          | 0/16 [00:01<?, ?it/s]"
      ]
     },
     "metadata": {},
     "output_type": "display_data"
    },
    {
     "data": {
      "text/plain": [
       "{'model_name': 'ResNet',\n",
       " 'model_loss': 2.7696633338928223,\n",
       " 'model_acc': 47.4609375}"
      ]
     },
     "execution_count": 14,
     "metadata": {},
     "output_type": "execute_result"
    }
   ],
   "source": [
    "loaded_model.to(device)\n",
    "\n",
    "loaded_model_results = eval_model(  model=loaded_model,\n",
    "                                    data_loader=validation_dataloader,\n",
    "                                    loss_fn=loss_fn,\n",
    "                                    accuracy_fn=accuracy_fn,\n",
    "                                    device = device)\n",
    "loaded_model_results\n",
    "\n"
   ]
  },
  {
   "cell_type": "code",
   "execution_count": 15,
   "metadata": {},
   "outputs": [
    {
     "data": {
      "text/plain": [
       "==========================================================================================\n",
       "Layer (type:depth-idx)                   Output Shape              Param #\n",
       "==========================================================================================\n",
       "ResNet                                   [128, 5]                  --\n",
       "├─Sequential: 1-1                        [128, 64, 56, 56]         --\n",
       "│    └─Conv2d: 2-1                       [128, 64, 112, 112]       9,472\n",
       "│    └─BatchNorm2d: 2-2                  [128, 64, 112, 112]       128\n",
       "│    └─ReLU: 2-3                         [128, 64, 112, 112]       --\n",
       "│    └─MaxPool2d: 2-4                    [128, 64, 56, 56]         --\n",
       "├─Sequential: 1-2                        [128, 256, 56, 56]        --\n",
       "│    └─ResBlock: 2-5                     [128, 256, 56, 56]        --\n",
       "│    │    └─Sequential: 3-1              [128, 64, 56, 56]         4,288\n",
       "│    │    └─Sequential: 3-2              [128, 64, 56, 56]         37,056\n",
       "│    │    └─Sequential: 3-3              [128, 256, 56, 56]        17,152\n",
       "│    │    └─ReLU: 3-4                    [128, 256, 56, 56]        --\n",
       "│    │    └─Sequential: 3-5              [128, 256, 56, 56]        17,152\n",
       "│    │    └─ReLU: 3-6                    [128, 256, 56, 56]        --\n",
       "│    └─ResBlock: 2-6                     [128, 256, 56, 56]        --\n",
       "│    │    └─Sequential: 3-7              [128, 64, 56, 56]         16,576\n",
       "│    │    └─Sequential: 3-8              [128, 64, 56, 56]         37,056\n",
       "│    │    └─Sequential: 3-9              [128, 256, 56, 56]        17,152\n",
       "│    │    └─ReLU: 3-10                   [128, 256, 56, 56]        --\n",
       "│    │    └─ReLU: 3-11                   [128, 256, 56, 56]        --\n",
       "│    └─ResBlock: 2-7                     [128, 256, 56, 56]        --\n",
       "│    │    └─Sequential: 3-12             [128, 64, 56, 56]         16,576\n",
       "│    │    └─Sequential: 3-13             [128, 64, 56, 56]         37,056\n",
       "│    │    └─Sequential: 3-14             [128, 256, 56, 56]        17,152\n",
       "│    │    └─ReLU: 3-15                   [128, 256, 56, 56]        --\n",
       "│    │    └─ReLU: 3-16                   [128, 256, 56, 56]        --\n",
       "├─Sequential: 1-3                        [128, 512, 28, 28]        --\n",
       "│    └─ResBlock: 2-8                     [128, 512, 28, 28]        --\n",
       "│    │    └─Sequential: 3-17             [128, 128, 56, 56]        33,152\n",
       "│    │    └─Sequential: 3-18             [128, 128, 28, 28]        147,840\n",
       "│    │    └─Sequential: 3-19             [128, 512, 28, 28]        67,072\n",
       "│    │    └─ReLU: 3-20                   [128, 512, 28, 28]        --\n",
       "│    │    └─Sequential: 3-21             [128, 512, 28, 28]        132,608\n",
       "│    │    └─ReLU: 3-22                   [128, 512, 28, 28]        --\n",
       "│    └─ResBlock: 2-9                     [128, 512, 28, 28]        --\n",
       "│    │    └─Sequential: 3-23             [128, 128, 28, 28]        65,920\n",
       "│    │    └─Sequential: 3-24             [128, 128, 28, 28]        147,840\n",
       "│    │    └─Sequential: 3-25             [128, 512, 28, 28]        67,072\n",
       "│    │    └─ReLU: 3-26                   [128, 512, 28, 28]        --\n",
       "│    │    └─ReLU: 3-27                   [128, 512, 28, 28]        --\n",
       "│    └─ResBlock: 2-10                    [128, 512, 28, 28]        --\n",
       "│    │    └─Sequential: 3-28             [128, 128, 28, 28]        65,920\n",
       "│    │    └─Sequential: 3-29             [128, 128, 28, 28]        147,840\n",
       "│    │    └─Sequential: 3-30             [128, 512, 28, 28]        67,072\n",
       "│    │    └─ReLU: 3-31                   [128, 512, 28, 28]        --\n",
       "│    │    └─ReLU: 3-32                   [128, 512, 28, 28]        --\n",
       "│    └─ResBlock: 2-11                    [128, 512, 28, 28]        --\n",
       "│    │    └─Sequential: 3-33             [128, 128, 28, 28]        65,920\n",
       "│    │    └─Sequential: 3-34             [128, 128, 28, 28]        147,840\n",
       "│    │    └─Sequential: 3-35             [128, 512, 28, 28]        67,072\n",
       "│    │    └─ReLU: 3-36                   [128, 512, 28, 28]        --\n",
       "│    │    └─ReLU: 3-37                   [128, 512, 28, 28]        --\n",
       "├─Sequential: 1-4                        [128, 1024, 14, 14]       --\n",
       "│    └─ResBlock: 2-12                    [128, 1024, 14, 14]       --\n",
       "│    │    └─Sequential: 3-38             [128, 256, 28, 28]        131,840\n",
       "│    │    └─Sequential: 3-39             [128, 256, 14, 14]        590,592\n",
       "│    │    └─Sequential: 3-40             [128, 1024, 14, 14]       265,216\n",
       "│    │    └─ReLU: 3-41                   [128, 1024, 14, 14]       --\n",
       "│    │    └─Sequential: 3-42             [128, 1024, 14, 14]       527,360\n",
       "│    │    └─ReLU: 3-43                   [128, 1024, 14, 14]       --\n",
       "│    └─ResBlock: 2-13                    [128, 1024, 14, 14]       --\n",
       "│    │    └─Sequential: 3-44             [128, 256, 14, 14]        262,912\n",
       "│    │    └─Sequential: 3-45             [128, 256, 14, 14]        590,592\n",
       "│    │    └─Sequential: 3-46             [128, 1024, 14, 14]       265,216\n",
       "│    │    └─ReLU: 3-47                   [128, 1024, 14, 14]       --\n",
       "│    │    └─ReLU: 3-48                   [128, 1024, 14, 14]       --\n",
       "│    └─ResBlock: 2-14                    [128, 1024, 14, 14]       --\n",
       "│    │    └─Sequential: 3-49             [128, 256, 14, 14]        262,912\n",
       "│    │    └─Sequential: 3-50             [128, 256, 14, 14]        590,592\n",
       "│    │    └─Sequential: 3-51             [128, 1024, 14, 14]       265,216\n",
       "│    │    └─ReLU: 3-52                   [128, 1024, 14, 14]       --\n",
       "│    │    └─ReLU: 3-53                   [128, 1024, 14, 14]       --\n",
       "│    └─ResBlock: 2-15                    [128, 1024, 14, 14]       --\n",
       "│    │    └─Sequential: 3-54             [128, 256, 14, 14]        262,912\n",
       "│    │    └─Sequential: 3-55             [128, 256, 14, 14]        590,592\n",
       "│    │    └─Sequential: 3-56             [128, 1024, 14, 14]       265,216\n",
       "│    │    └─ReLU: 3-57                   [128, 1024, 14, 14]       --\n",
       "│    │    └─ReLU: 3-58                   [128, 1024, 14, 14]       --\n",
       "│    └─ResBlock: 2-16                    [128, 1024, 14, 14]       --\n",
       "│    │    └─Sequential: 3-59             [128, 256, 14, 14]        262,912\n",
       "│    │    └─Sequential: 3-60             [128, 256, 14, 14]        590,592\n",
       "│    │    └─Sequential: 3-61             [128, 1024, 14, 14]       265,216\n",
       "│    │    └─ReLU: 3-62                   [128, 1024, 14, 14]       --\n",
       "│    │    └─ReLU: 3-63                   [128, 1024, 14, 14]       --\n",
       "│    └─ResBlock: 2-17                    [128, 1024, 14, 14]       --\n",
       "│    │    └─Sequential: 3-64             [128, 256, 14, 14]        262,912\n",
       "│    │    └─Sequential: 3-65             [128, 256, 14, 14]        590,592\n",
       "│    │    └─Sequential: 3-66             [128, 1024, 14, 14]       265,216\n",
       "│    │    └─ReLU: 3-67                   [128, 1024, 14, 14]       --\n",
       "│    │    └─ReLU: 3-68                   [128, 1024, 14, 14]       --\n",
       "├─Sequential: 1-5                        [128, 2048, 7, 7]         --\n",
       "│    └─ResBlock: 2-18                    [128, 2048, 7, 7]         --\n",
       "│    │    └─Sequential: 3-69             [128, 512, 14, 14]        525,824\n",
       "│    │    └─Sequential: 3-70             [128, 512, 7, 7]          2,360,832\n",
       "│    │    └─Sequential: 3-71             [128, 2048, 7, 7]         1,054,720\n",
       "│    │    └─ReLU: 3-72                   [128, 2048, 7, 7]         --\n",
       "│    │    └─Sequential: 3-73             [128, 2048, 7, 7]         2,103,296\n",
       "│    │    └─ReLU: 3-74                   [128, 2048, 7, 7]         --\n",
       "│    └─ResBlock: 2-19                    [128, 2048, 7, 7]         --\n",
       "│    │    └─Sequential: 3-75             [128, 512, 7, 7]          1,050,112\n",
       "│    │    └─Sequential: 3-76             [128, 512, 7, 7]          2,360,832\n",
       "│    │    └─Sequential: 3-77             [128, 2048, 7, 7]         1,054,720\n",
       "│    │    └─ReLU: 3-78                   [128, 2048, 7, 7]         --\n",
       "│    │    └─ReLU: 3-79                   [128, 2048, 7, 7]         --\n",
       "│    └─ResBlock: 2-20                    [128, 2048, 7, 7]         --\n",
       "│    │    └─Sequential: 3-80             [128, 512, 7, 7]          1,050,112\n",
       "│    │    └─Sequential: 3-81             [128, 512, 7, 7]          2,360,832\n",
       "│    │    └─Sequential: 3-82             [128, 2048, 7, 7]         1,054,720\n",
       "│    │    └─ReLU: 3-83                   [128, 2048, 7, 7]         --\n",
       "│    │    └─ReLU: 3-84                   [128, 2048, 7, 7]         --\n",
       "├─AdaptiveAvgPool2d: 1-6                 [128, 2048, 1, 1]         --\n",
       "├─Linear: 1-7                            [128, 5]                  10,245\n",
       "==========================================================================================\n",
       "Total params: 23,544,837\n",
       "Trainable params: 23,544,837\n",
       "Non-trainable params: 0\n",
       "Total mult-adds (G): 524.58\n",
       "==========================================================================================\n",
       "Input size (MB): 77.07\n",
       "Forward/backward pass size (MB): 22761.44\n",
       "Params size (MB): 94.18\n",
       "Estimated Total Size (MB): 22932.69\n",
       "=========================================================================================="
      ]
     },
     "execution_count": 15,
     "metadata": {},
     "output_type": "execute_result"
    }
   ],
   "source": [
    "import torchinfo\n",
    "from torchinfo import summary\n",
    "\n",
    "summary(model_1, input_size=[128, 3, 224, 224])"
   ]
  },
  {
   "cell_type": "code",
   "execution_count": 16,
   "metadata": {},
   "outputs": [
    {
     "data": {
      "image/png": "[encoded data removed]",
      "text/plain": [
       "<Figure size 1000x500 with 2 Axes>"
      ]
     },
     "metadata": {},
     "output_type": "display_data"
    }
   ],
   "source": [
    "from utils import plot_loss_curves\n",
    "plot_loss_curves(model_results)"
   ]
  },
  {
   "cell_type": "code",
   "execution_count": 17,
   "metadata": {},
   "outputs": [
    {
     "data": {
      "application/vnd.jupyter.widget-view+json": {
       "model_id": "c9ec92825556412a859f477cceaf6680",
       "version_major": 2,
       "version_minor": 0
      },
      "text/plain": [
       "Making predictions:   0%|          | 0/16 [00:01<?, ?it/s]"
      ]
     },
     "metadata": {},
     "output_type": "display_data"
    }
   ],
   "source": [
    "# Import tqdm for progress bar\n",
    "from tqdm.auto import tqdm\n",
    "\n",
    "# 1. Make predictions with trained model\n",
    "y_preds = []\n",
    "model_1.eval()\n",
    "with torch.inference_mode():\n",
    "  for X, y in tqdm(test_dataloader, desc=\"Making predictions\"):\n",
    "    # Send data and targets to target device\n",
    "    X, y = X.to(device), y.to(device)\n",
    "    # Do the forward pass\n",
    "    y_logit = model_1(X)\n",
    "    # Turn predictions from logits -> prediction probabilities -> predictions labels\n",
    "    y_pred = torch.softmax(y_logit, dim=1).argmax(dim=1)\n",
    "    # Put predictions on CPU for evaluation\n",
    "    y_preds.append(y_pred.cpu())\n",
    "# Concatenate list of predictions into a tensor\n",
    "y_pred_tensor = torch.cat(y_preds)"
   ]
  },
  {
   "cell_type": "code",
   "execution_count": 22,
   "metadata": {},
   "outputs": [
    {
     "ename": "AttributeError",
     "evalue": "'list' object has no attribute 'ndim'",
     "output_type": "error",
     "traceback": [
      "\u001b[1;31m---------------------------------------------------------------------------\u001b[0m",
      "\u001b[1;31mAttributeError\u001b[0m                            Traceback (most recent call last)",
      "\u001b[1;32m~\\AppData\\Local\\Temp\\ipykernel_17240\\458780008.py\u001b[0m in \u001b[0;36m<module>\u001b[1;34m\u001b[0m\n\u001b[0;32m      4\u001b[0m \u001b[1;31m# 2. Setup confusion matrix instance and compare predictions to targets\u001b[0m\u001b[1;33m\u001b[0m\u001b[1;33m\u001b[0m\u001b[0m\n\u001b[0;32m      5\u001b[0m \u001b[0mconfmat\u001b[0m \u001b[1;33m=\u001b[0m \u001b[0mConfusionMatrix\u001b[0m\u001b[1;33m(\u001b[0m\u001b[0mnum_classes\u001b[0m\u001b[1;33m=\u001b[0m\u001b[0mlen\u001b[0m\u001b[1;33m(\u001b[0m\u001b[0mclass_names\u001b[0m\u001b[1;33m)\u001b[0m\u001b[1;33m,\u001b[0m \u001b[0mtask\u001b[0m\u001b[1;33m=\u001b[0m\u001b[1;34m'multiclass'\u001b[0m\u001b[1;33m)\u001b[0m\u001b[1;33m\u001b[0m\u001b[1;33m\u001b[0m\u001b[0m\n\u001b[1;32m----> 6\u001b[1;33m confmat_tensor = confmat(preds=y_pred_tensor,\n\u001b[0m\u001b[0;32m      7\u001b[0m                          target=test_data.targets)\n\u001b[0;32m      8\u001b[0m \u001b[1;33m\u001b[0m\u001b[0m\n",
      "\u001b[1;32mc:\\Users\\joaor\\anaconda3\\lib\\site-packages\\torch\\nn\\modules\\module.py\u001b[0m in \u001b[0;36m_call_impl\u001b[1;34m(self, *input, **kwargs)\u001b[0m\n\u001b[0;32m   1192\u001b[0m         if not (self._backward_hooks or self._forward_hooks or self._forward_pre_hooks or _global_backward_hooks\n\u001b[0;32m   1193\u001b[0m                 or _global_forward_hooks or _global_forward_pre_hooks):\n\u001b[1;32m-> 1194\u001b[1;33m             \u001b[1;32mreturn\u001b[0m \u001b[0mforward_call\u001b[0m\u001b[1;33m(\u001b[0m\u001b[1;33m*\u001b[0m\u001b[0minput\u001b[0m\u001b[1;33m,\u001b[0m \u001b[1;33m**\u001b[0m\u001b[0mkwargs\u001b[0m\u001b[1;33m)\u001b[0m\u001b[1;33m\u001b[0m\u001b[1;33m\u001b[0m\u001b[0m\n\u001b[0m\u001b[0;32m   1195\u001b[0m         \u001b[1;31m# Do not call functions when jit is used\u001b[0m\u001b[1;33m\u001b[0m\u001b[1;33m\u001b[0m\u001b[0m\n\u001b[0;32m   1196\u001b[0m         \u001b[0mfull_backward_hooks\u001b[0m\u001b[1;33m,\u001b[0m \u001b[0mnon_full_backward_hooks\u001b[0m \u001b[1;33m=\u001b[0m \u001b[1;33m[\u001b[0m\u001b[1;33m]\u001b[0m\u001b[1;33m,\u001b[0m \u001b[1;33m[\u001b[0m\u001b[1;33m]\u001b[0m\u001b[1;33m\u001b[0m\u001b[1;33m\u001b[0m\u001b[0m\n",
      "\u001b[1;32mc:\\Users\\joaor\\anaconda3\\lib\\site-packages\\torchmetrics\\metric.py\u001b[0m in \u001b[0;36mforward\u001b[1;34m(self, *args, **kwargs)\u001b[0m\n\u001b[0;32m    233\u001b[0m             \u001b[0mself\u001b[0m\u001b[1;33m.\u001b[0m\u001b[0m_forward_cache\u001b[0m \u001b[1;33m=\u001b[0m \u001b[0mself\u001b[0m\u001b[1;33m.\u001b[0m\u001b[0m_forward_full_state_update\u001b[0m\u001b[1;33m(\u001b[0m\u001b[1;33m*\u001b[0m\u001b[0margs\u001b[0m\u001b[1;33m,\u001b[0m \u001b[1;33m**\u001b[0m\u001b[0mkwargs\u001b[0m\u001b[1;33m)\u001b[0m\u001b[1;33m\u001b[0m\u001b[1;33m\u001b[0m\u001b[0m\n\u001b[0;32m    234\u001b[0m         \u001b[1;32melse\u001b[0m\u001b[1;33m:\u001b[0m\u001b[1;33m\u001b[0m\u001b[1;33m\u001b[0m\u001b[0m\n\u001b[1;32m--> 235\u001b[1;33m             \u001b[0mself\u001b[0m\u001b[1;33m.\u001b[0m\u001b[0m_forward_cache\u001b[0m \u001b[1;33m=\u001b[0m \u001b[0mself\u001b[0m\u001b[1;33m.\u001b[0m\u001b[0m_forward_reduce_state_update\u001b[0m\u001b[1;33m(\u001b[0m\u001b[1;33m*\u001b[0m\u001b[0margs\u001b[0m\u001b[1;33m,\u001b[0m \u001b[1;33m**\u001b[0m\u001b[0mkwargs\u001b[0m\u001b[1;33m)\u001b[0m\u001b[1;33m\u001b[0m\u001b[1;33m\u001b[0m\u001b[0m\n\u001b[0m\u001b[0;32m    236\u001b[0m \u001b[1;33m\u001b[0m\u001b[0m\n\u001b[0;32m    237\u001b[0m         \u001b[1;32mreturn\u001b[0m \u001b[0mself\u001b[0m\u001b[1;33m.\u001b[0m\u001b[0m_forward_cache\u001b[0m\u001b[1;33m\u001b[0m\u001b[1;33m\u001b[0m\u001b[0m\n",
      "\u001b[1;32mc:\\Users\\joaor\\anaconda3\\lib\\site-packages\\torchmetrics\\metric.py\u001b[0m in \u001b[0;36m_forward_reduce_state_update\u001b[1;34m(self, *args, **kwargs)\u001b[0m\n\u001b[0;32m    299\u001b[0m \u001b[1;33m\u001b[0m\u001b[0m\n\u001b[0;32m    300\u001b[0m         \u001b[1;31m# calculate batch state and compute batch value\u001b[0m\u001b[1;33m\u001b[0m\u001b[1;33m\u001b[0m\u001b[0m\n\u001b[1;32m--> 301\u001b[1;33m         \u001b[0mself\u001b[0m\u001b[1;33m.\u001b[0m\u001b[0mupdate\u001b[0m\u001b[1;33m(\u001b[0m\u001b[1;33m*\u001b[0m\u001b[0margs\u001b[0m\u001b[1;33m,\u001b[0m \u001b[1;33m**\u001b[0m\u001b[0mkwargs\u001b[0m\u001b[1;33m)\u001b[0m\u001b[1;33m\u001b[0m\u001b[1;33m\u001b[0m\u001b[0m\n\u001b[0m\u001b[0;32m    302\u001b[0m         \u001b[0mbatch_val\u001b[0m \u001b[1;33m=\u001b[0m \u001b[0mself\u001b[0m\u001b[1;33m.\u001b[0m\u001b[0mcompute\u001b[0m\u001b[1;33m(\u001b[0m\u001b[1;33m)\u001b[0m\u001b[1;33m\u001b[0m\u001b[1;33m\u001b[0m\u001b[0m\n\u001b[0;32m    303\u001b[0m \u001b[1;33m\u001b[0m\u001b[0m\n",
      "\u001b[1;32mc:\\Users\\joaor\\anaconda3\\lib\\site-packages\\torchmetrics\\metric.py\u001b[0m in \u001b[0;36mwrapped_func\u001b[1;34m(*args, **kwargs)\u001b[0m\n\u001b[0;32m    387\u001b[0m             \u001b[1;32mwith\u001b[0m \u001b[0mtorch\u001b[0m\u001b[1;33m.\u001b[0m\u001b[0mset_grad_enabled\u001b[0m\u001b[1;33m(\u001b[0m\u001b[0mself\u001b[0m\u001b[1;33m.\u001b[0m\u001b[0m_enable_grad\u001b[0m\u001b[1;33m)\u001b[0m\u001b[1;33m:\u001b[0m\u001b[1;33m\u001b[0m\u001b[1;33m\u001b[0m\u001b[0m\n\u001b[0;32m    388\u001b[0m                 \u001b[1;32mtry\u001b[0m\u001b[1;33m:\u001b[0m\u001b[1;33m\u001b[0m\u001b[1;33m\u001b[0m\u001b[0m\n\u001b[1;32m--> 389\u001b[1;33m                     \u001b[0mupdate\u001b[0m\u001b[1;33m(\u001b[0m\u001b[1;33m*\u001b[0m\u001b[0margs\u001b[0m\u001b[1;33m,\u001b[0m \u001b[1;33m**\u001b[0m\u001b[0mkwargs\u001b[0m\u001b[1;33m)\u001b[0m\u001b[1;33m\u001b[0m\u001b[1;33m\u001b[0m\u001b[0m\n\u001b[0m\u001b[0;32m    390\u001b[0m                 \u001b[1;32mexcept\u001b[0m \u001b[0mRuntimeError\u001b[0m \u001b[1;32mas\u001b[0m \u001b[0merr\u001b[0m\u001b[1;33m:\u001b[0m\u001b[1;33m\u001b[0m\u001b[1;33m\u001b[0m\u001b[0m\n\u001b[0;32m    391\u001b[0m                     \u001b[1;32mif\u001b[0m \u001b[1;34m\"Expected all tensors to be on\"\u001b[0m \u001b[1;32min\u001b[0m \u001b[0mstr\u001b[0m\u001b[1;33m(\u001b[0m\u001b[0merr\u001b[0m\u001b[1;33m)\u001b[0m\u001b[1;33m:\u001b[0m\u001b[1;33m\u001b[0m\u001b[1;33m\u001b[0m\u001b[0m\n",
      "\u001b[1;32mc:\\Users\\joaor\\anaconda3\\lib\\site-packages\\torchmetrics\\classification\\confusion_matrix.py\u001b[0m in \u001b[0;36mupdate\u001b[1;34m(self, preds, target)\u001b[0m\n\u001b[0;32m    218\u001b[0m         \u001b[1;34m\"\"\"Update state with predictions and targets.\"\"\"\u001b[0m\u001b[1;33m\u001b[0m\u001b[1;33m\u001b[0m\u001b[0m\n\u001b[0;32m    219\u001b[0m         \u001b[1;32mif\u001b[0m \u001b[0mself\u001b[0m\u001b[1;33m.\u001b[0m\u001b[0mvalidate_args\u001b[0m\u001b[1;33m:\u001b[0m\u001b[1;33m\u001b[0m\u001b[1;33m\u001b[0m\u001b[0m\n\u001b[1;32m--> 220\u001b[1;33m             \u001b[0m_multiclass_confusion_matrix_tensor_validation\u001b[0m\u001b[1;33m(\u001b[0m\u001b[0mpreds\u001b[0m\u001b[1;33m,\u001b[0m \u001b[0mtarget\u001b[0m\u001b[1;33m,\u001b[0m \u001b[0mself\u001b[0m\u001b[1;33m.\u001b[0m\u001b[0mnum_classes\u001b[0m\u001b[1;33m,\u001b[0m \u001b[0mself\u001b[0m\u001b[1;33m.\u001b[0m\u001b[0mignore_index\u001b[0m\u001b[1;33m)\u001b[0m\u001b[1;33m\u001b[0m\u001b[1;33m\u001b[0m\u001b[0m\n\u001b[0m\u001b[0;32m    221\u001b[0m         \u001b[0mpreds\u001b[0m\u001b[1;33m,\u001b[0m \u001b[0mtarget\u001b[0m \u001b[1;33m=\u001b[0m \u001b[0m_multiclass_confusion_matrix_format\u001b[0m\u001b[1;33m(\u001b[0m\u001b[0mpreds\u001b[0m\u001b[1;33m,\u001b[0m \u001b[0mtarget\u001b[0m\u001b[1;33m,\u001b[0m \u001b[0mself\u001b[0m\u001b[1;33m.\u001b[0m\u001b[0mignore_index\u001b[0m\u001b[1;33m)\u001b[0m\u001b[1;33m\u001b[0m\u001b[1;33m\u001b[0m\u001b[0m\n\u001b[0;32m    222\u001b[0m         \u001b[0mconfmat\u001b[0m \u001b[1;33m=\u001b[0m \u001b[0m_multiclass_confusion_matrix_update\u001b[0m\u001b[1;33m(\u001b[0m\u001b[0mpreds\u001b[0m\u001b[1;33m,\u001b[0m \u001b[0mtarget\u001b[0m\u001b[1;33m,\u001b[0m \u001b[0mself\u001b[0m\u001b[1;33m.\u001b[0m\u001b[0mnum_classes\u001b[0m\u001b[1;33m)\u001b[0m\u001b[1;33m\u001b[0m\u001b[1;33m\u001b[0m\u001b[0m\n",
      "\u001b[1;32mc:\\Users\\joaor\\anaconda3\\lib\\site-packages\\torchmetrics\\functional\\classification\\confusion_matrix.py\u001b[0m in \u001b[0;36m_multiclass_confusion_matrix_tensor_validation\u001b[1;34m(preds, target, num_classes, ignore_index)\u001b[0m\n\u001b[0;32m    250\u001b[0m     \u001b[1;33m-\u001b[0m \u001b[1;32mif\u001b[0m \u001b[0mpred\u001b[0m \u001b[0mtensor\u001b[0m \u001b[1;32mis\u001b[0m \u001b[1;32mnot\u001b[0m \u001b[0mfloating\u001b[0m \u001b[0mpoint\u001b[0m\u001b[1;33m,\u001b[0m \u001b[0mthen\u001b[0m \u001b[0mall\u001b[0m \u001b[0mvalues\u001b[0m \u001b[0malso\u001b[0m \u001b[0mhave\u001b[0m \u001b[0mto\u001b[0m \u001b[0mbe\u001b[0m \u001b[1;32min\u001b[0m \u001b[1;33m{\u001b[0m\u001b[1;36m0\u001b[0m\u001b[1;33m,\u001b[0m \u001b[1;33m...\u001b[0m\u001b[1;33m,\u001b[0m \u001b[0mnum_classes\u001b[0m \u001b[1;33m-\u001b[0m \u001b[1;36m1\u001b[0m\u001b[1;33m}\u001b[0m\u001b[1;33m\u001b[0m\u001b[1;33m\u001b[0m\u001b[0m\n\u001b[0;32m    251\u001b[0m     \"\"\"\n\u001b[1;32m--> 252\u001b[1;33m     \u001b[1;32mif\u001b[0m \u001b[0mpreds\u001b[0m\u001b[1;33m.\u001b[0m\u001b[0mndim\u001b[0m \u001b[1;33m==\u001b[0m \u001b[0mtarget\u001b[0m\u001b[1;33m.\u001b[0m\u001b[0mndim\u001b[0m \u001b[1;33m+\u001b[0m \u001b[1;36m1\u001b[0m\u001b[1;33m:\u001b[0m\u001b[1;33m\u001b[0m\u001b[1;33m\u001b[0m\u001b[0m\n\u001b[0m\u001b[0;32m    253\u001b[0m         \u001b[1;32mif\u001b[0m \u001b[1;32mnot\u001b[0m \u001b[0mpreds\u001b[0m\u001b[1;33m.\u001b[0m\u001b[0mis_floating_point\u001b[0m\u001b[1;33m(\u001b[0m\u001b[1;33m)\u001b[0m\u001b[1;33m:\u001b[0m\u001b[1;33m\u001b[0m\u001b[1;33m\u001b[0m\u001b[0m\n\u001b[0;32m    254\u001b[0m             \u001b[1;32mraise\u001b[0m \u001b[0mValueError\u001b[0m\u001b[1;33m(\u001b[0m\u001b[1;34m\"If `preds` have one dimension more than `target`, `preds` should be a float tensor.\"\u001b[0m\u001b[1;33m)\u001b[0m\u001b[1;33m\u001b[0m\u001b[1;33m\u001b[0m\u001b[0m\n",
      "\u001b[1;31mAttributeError\u001b[0m: 'list' object has no attribute 'ndim'"
     ]
    }
   ],
   "source": [
    "from torchmetrics import ConfusionMatrix\n",
    "from mlxtend.plotting import plot_confusion_matrix\n",
    "\n",
    "# 2. Setup confusion matrix instance and compare predictions to targets\n",
    "confmat = ConfusionMatrix(num_classes=len(class_names), task='multiclass')\n",
    "confmat_tensor = confmat(preds=y_pred_tensor,\n",
    "                         target=test_data.targets)\n",
    "\n",
    "# 3. Plot the confusion matrix\n",
    "fig, ax = plot_confusion_matrix(\n",
    "    conf_mat=confmat_tensor.numpy(), # matplotlib likes working with NumPy \n",
    "    class_names=class_names, # turn the row and column labels into class names\n",
    "    figsize=(10, 7)\n",
    ");\n"
   ]
  }
 ],
 "metadata": {
  "kernelspec": {
   "display_name": "base",
   "language": "python",
   "name": "python3"
  },
  "language_info": {
   "codemirror_mode": {
    "name": "ipython",
    "version": 3
   },
   "file_extension": ".py",
   "mimetype": "text/x-python",
   "name": "python",
   "nbconvert_exporter": "python",
   "pygments_lexer": "ipython3",
   "version": "3.9.13"
  },
  "orig_nbformat": 4,
  "vscode": {
   "interpreter": {
    "hash": "15b211d7ad94b52292045efb4f8f9084eab8b035832c108b93ce5f33d27f5980"
   }
  }
 },
 "nbformat": 4,
 "nbformat_minor": 2
}
